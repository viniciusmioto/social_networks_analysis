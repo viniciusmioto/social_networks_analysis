{
 "cells": [
  {
   "cell_type": "code",
   "execution_count": 1,
   "metadata": {},
   "outputs": [],
   "source": [
    "import networkx as nx\n",
    "import matplotlib.pyplot as plt\n",
    "import plotly.graph_objects as go\n",
    "import statistics as sts\n",
    "from scipy.io import mmread"
   ]
  },
  {
   "cell_type": "code",
   "execution_count": 30,
   "metadata": {},
   "outputs": [],
   "source": [
    "def show_graph_stats(G):\n",
    "    triangles = nx.triangles(G).values()\n",
    "    degrees = dict(nx.degree(G)).values()\n",
    "    number_of_nodes = G.number_of_nodes()\n",
    "\n",
    "    try:\n",
    "        average_clustering = nx.average_clustering(G)\n",
    "    except:\n",
    "        average_clustering = 0\n",
    "\n",
    "    print(\"Nodes: \", \n",
    "          number_of_nodes)\n",
    "    print(\"Edges: \", \n",
    "          G.number_of_edges())\n",
    "    print(\"Density: \", \n",
    "          nx.density(G))\n",
    "    print(\"Max degree: \", \n",
    "          max(degrees))\n",
    "    print(\"Min degree: \", \n",
    "          min(degrees))\n",
    "    print(\"Average degree: \", \n",
    "          sts.mean(degrees))\n",
    "    print(\"Assortativity: \", \n",
    "          nx.degree_assortativity_coefficient(G))\n",
    "    print(\"Number of triangles: \", \n",
    "          sum(triangles) / 3)\n",
    "    print(\"Average number of triangles: \", \n",
    "          average_clustering * number_of_nodes)\n",
    "    print(\"Average clustering: \", \n",
    "          average_clustering)\n",
    "    print(\"Maximum number of triangles: \", \n",
    "          max(triangles))\n",
    "    print(\"Average clustering coefficient: \", \n",
    "          average_clustering)\n",
    "    print(\"Fraction of closed triangles: \", \n",
    "          nx.transitivity(G))\n",
    "    print(\"Maximum k-core: \", \n",
    "          max(nx.core_number(G).values()))"
   ]
  },
  {
   "cell_type": "code",
   "execution_count": 24,
   "metadata": {},
   "outputs": [],
   "source": [
    "graph_file = open(\"../data/rt_obama/rt_obama.edges\", \"r\")\n",
    "graph = nx.read_weighted_edgelist(graph_file, nodetype=int)\n",
    "graph.remove_edges_from(list(nx.selfloop_edges(graph)))\n",
    "graph_file.close()"
   ]
  },
  {
   "cell_type": "code",
   "execution_count": 35,
   "metadata": {},
   "outputs": [],
   "source": [
    "random_graph = nx.configuration_model(\n",
    "    [graph.degree(node) for node in graph.nodes], create_using=nx.Graph(), seed=42\n",
    ")\n",
    "random_graph.remove_edges_from(list(nx.selfloop_edges(random_graph)))"
   ]
  },
  {
   "cell_type": "code",
   "execution_count": 31,
   "metadata": {},
   "outputs": [
    {
     "name": "stdout",
     "output_type": "stream",
     "text": [
      "Nodes:  3212\n",
      "Edges:  3422\n",
      "Density:  0.0006635813302110236\n",
      "Max degree:  267\n",
      "Min degree:  1\n",
      "Average degree:  2.1307596513075966\n",
      "Assortativity:  -0.27678735538540555\n",
      "Number of triangles:  14.0\n",
      "Average number of triangles:  11.858052000004067\n",
      "Average clustering:  0.0036917970112092364\n",
      "Maximum number of triangles:  8\n",
      "Average clustering coefficient:  0.0036917970112092364\n",
      "Fraction of closed triangles:  0.00030805565538840685\n",
      "Maximum k-core:  3\n"
     ]
    }
   ],
   "source": [
    "show_graph_stats(graph)"
   ]
  },
  {
   "cell_type": "code",
   "execution_count": 36,
   "metadata": {},
   "outputs": [
    {
     "name": "stdout",
     "output_type": "stream",
     "text": [
      "Nodes:  3212\n",
      "Edges:  3234\n",
      "Density:  0.0006271250794571742\n",
      "Max degree:  202\n",
      "Min degree:  1\n",
      "Average degree:  2.0136986301369864\n",
      "Assortativity:  -0.13476192185142488\n",
      "Number of triangles:  589.0\n",
      "Average number of triangles:  42.3722324219438\n",
      "Average clustering:  0.013191853182423349\n",
      "Maximum number of triangles:  185\n",
      "Average clustering coefficient:  0.013191853182423349\n",
      "Fraction of closed triangles:  0.02026631799883013\n",
      "Maximum k-core:  7\n"
     ]
    }
   ],
   "source": [
    "show_graph_stats(random_graph)"
   ]
  },
  {
   "cell_type": "code",
   "execution_count": null,
   "metadata": {},
   "outputs": [],
   "source": []
  }
 ],
 "metadata": {
  "kernelspec": {
   "display_name": "venv",
   "language": "python",
   "name": "python3"
  },
  "language_info": {
   "codemirror_mode": {
    "name": "ipython",
    "version": 3
   },
   "file_extension": ".py",
   "mimetype": "text/x-python",
   "name": "python",
   "nbconvert_exporter": "python",
   "pygments_lexer": "ipython3",
   "version": "3.10.12"
  }
 },
 "nbformat": 4,
 "nbformat_minor": 2
}
