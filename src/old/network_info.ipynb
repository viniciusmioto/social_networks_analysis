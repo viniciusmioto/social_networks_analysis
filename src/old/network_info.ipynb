{
 "cells": [
  {
   "cell_type": "code",
   "execution_count": 1,
   "metadata": {},
   "outputs": [
    {
     "name": "stdout",
     "output_type": "stream",
     "text": [
      "Graph: 111213696402662884531\n",
      "Graph: 117798157258572080176\n",
      "Graph: 113455290791279442483\n",
      "Graph: 117503822947457399073\n",
      "Graph: 113597493946570654755\n"
     ]
    },
    {
     "name": "stderr",
     "output_type": "stream",
     "text": [
      "/var/folders/zh/rwkwxcd54wz4bgdkytcrldvh0000gn/T/ipykernel_59991/2119303794.py:32: FutureWarning: The behavior of DataFrame concatenation with empty or all-NA entries is deprecated. In a future version, this will no longer exclude empty or all-NA columns when determining the result dtypes. To retain the old behavior, exclude the relevant entries before the concat operation.\n",
      "  graph_info_df = graph_info_df._append(\n"
     ]
    }
   ],
   "source": [
    "import sys\n",
    "import os\n",
    "import pandas as pd\n",
    "\n",
    "# Get the absolute path to the src directory\n",
    "src_path = os.path.abspath(os.path.join(os.getcwd(), \"../\"))\n",
    "\n",
    "# Add src_path to the system path\n",
    "sys.path.insert(0, src_path)\n",
    "\n",
    "# Now you can import your module\n",
    "import scripts.graph_utils as gru\n",
    "\n",
    "\n",
    "GRAPH_FILES_DIRECTORY = \"../../data/gplus/\"\n",
    "FILE_EXTENSION = \".edges\"\n",
    "OUTPUT_FILE = \"../../results/gplus_info.csv\"\n",
    "\n",
    "\n",
    "\n",
    "graph_info_df = pd.DataFrame(\n",
    "    columns=[\"graph\", \"nodes\", \"edges\", \"max_degree\", \"avg_degree\"]\n",
    ")\n",
    "\n",
    "graphs = gru.read_graphs_from_directory(GRAPH_FILES_DIRECTORY, FILE_EXTENSION)\n",
    "\n",
    "for graph_name, graph in graphs.items():\n",
    "    info = gru.get_graph_info(graph)\n",
    "    print(f\"Graph: {graph_name}\")\n",
    "\n",
    "    # save info to the dataframe\n",
    "    graph_info_df = graph_info_df._append(\n",
    "        {\n",
    "            \"graph\": graph_name,\n",
    "            \"nodes\": info[\"nodes\"],\n",
    "            \"edges\": info[\"edges\"],\n",
    "            \"max_degree\": info[\"max_degree\"],\n",
    "            \"avg_degree\": info[\"avg_degree\"],\n",
    "        },\n",
    "        ignore_index=True,\n",
    "    )"
   ]
  },
  {
   "cell_type": "code",
   "execution_count": 2,
   "metadata": {},
   "outputs": [
    {
     "name": "stdout",
     "output_type": "stream",
     "text": [
      "Results saved to ../../results/gplus_info.csv\n"
     ]
    }
   ],
   "source": [
    "# save the results to a csv file\n",
    "graph_info_df.to_csv(OUTPUT_FILE, index=False)\n",
    "print(f\"Results saved to {OUTPUT_FILE}\")"
   ]
  },
  {
   "cell_type": "code",
   "execution_count": 3,
   "metadata": {},
   "outputs": [
    {
     "data": {
      "text/html": [
       "<div>\n",
       "<style scoped>\n",
       "    .dataframe tbody tr th:only-of-type {\n",
       "        vertical-align: middle;\n",
       "    }\n",
       "\n",
       "    .dataframe tbody tr th {\n",
       "        vertical-align: top;\n",
       "    }\n",
       "\n",
       "    .dataframe thead th {\n",
       "        text-align: right;\n",
       "    }\n",
       "</style>\n",
       "<table border=\"1\" class=\"dataframe\">\n",
       "  <thead>\n",
       "    <tr style=\"text-align: right;\">\n",
       "      <th></th>\n",
       "      <th>graph</th>\n",
       "      <th>nodes</th>\n",
       "      <th>edges</th>\n",
       "      <th>max_degree</th>\n",
       "      <th>avg_degree</th>\n",
       "    </tr>\n",
       "  </thead>\n",
       "  <tbody>\n",
       "    <tr>\n",
       "      <th>0</th>\n",
       "      <td>111213696402662884531</td>\n",
       "      <td>258</td>\n",
       "      <td>9214</td>\n",
       "      <td>137.0</td>\n",
       "      <td>71.426357</td>\n",
       "    </tr>\n",
       "    <tr>\n",
       "      <th>1</th>\n",
       "      <td>117798157258572080176</td>\n",
       "      <td>168</td>\n",
       "      <td>1411</td>\n",
       "      <td>70.5</td>\n",
       "      <td>16.797619</td>\n",
       "    </tr>\n",
       "    <tr>\n",
       "      <th>2</th>\n",
       "      <td>113455290791279442483</td>\n",
       "      <td>108</td>\n",
       "      <td>2884</td>\n",
       "      <td>70.0</td>\n",
       "      <td>53.407407</td>\n",
       "    </tr>\n",
       "    <tr>\n",
       "      <th>3</th>\n",
       "      <td>117503822947457399073</td>\n",
       "      <td>307</td>\n",
       "      <td>13800</td>\n",
       "      <td>195.5</td>\n",
       "      <td>89.902280</td>\n",
       "    </tr>\n",
       "    <tr>\n",
       "      <th>4</th>\n",
       "      <td>113597493946570654755</td>\n",
       "      <td>321</td>\n",
       "      <td>8558</td>\n",
       "      <td>116.0</td>\n",
       "      <td>53.320872</td>\n",
       "    </tr>\n",
       "  </tbody>\n",
       "</table>\n",
       "</div>"
      ],
      "text/plain": [
       "                   graph nodes  edges  max_degree  avg_degree\n",
       "0  111213696402662884531   258   9214       137.0   71.426357\n",
       "1  117798157258572080176   168   1411        70.5   16.797619\n",
       "2  113455290791279442483   108   2884        70.0   53.407407\n",
       "3  117503822947457399073   307  13800       195.5   89.902280\n",
       "4  113597493946570654755   321   8558       116.0   53.320872"
      ]
     },
     "execution_count": 3,
     "metadata": {},
     "output_type": "execute_result"
    }
   ],
   "source": [
    "graph_info_df"
   ]
  }
 ],
 "metadata": {
  "kernelspec": {
   "display_name": ".venv",
   "language": "python",
   "name": "python3"
  },
  "language_info": {
   "codemirror_mode": {
    "name": "ipython",
    "version": 3
   },
   "file_extension": ".py",
   "mimetype": "text/x-python",
   "name": "python",
   "nbconvert_exporter": "python",
   "pygments_lexer": "ipython3",
   "version": "3.12.4"
  }
 },
 "nbformat": 4,
 "nbformat_minor": 2
}
