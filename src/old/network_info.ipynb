{
 "cells": [
  {
   "cell_type": "code",
   "execution_count": 1,
   "metadata": {},
   "outputs": [
    {
     "name": "stdout",
     "output_type": "stream",
     "text": [
      "Graph: 86775971\n",
      "Graph: 7861312\n",
      "Graph: 256497288\n",
      "Graph: 14203895\n",
      "Graph: 14338082\n"
     ]
    },
    {
     "name": "stderr",
     "output_type": "stream",
     "text": [
      "/var/folders/zh/rwkwxcd54wz4bgdkytcrldvh0000gn/T/ipykernel_8467/2244520780.py:32: FutureWarning: The behavior of DataFrame concatenation with empty or all-NA entries is deprecated. In a future version, this will no longer exclude empty or all-NA columns when determining the result dtypes. To retain the old behavior, exclude the relevant entries before the concat operation.\n",
      "  graph_info_df = graph_info_df._append(\n"
     ]
    }
   ],
   "source": [
    "import sys\n",
    "import os\n",
    "import pandas as pd\n",
    "\n",
    "# Get the absolute path to the src directory\n",
    "src_path = os.path.abspath(os.path.join(os.getcwd(), \"../\"))\n",
    "\n",
    "# Add src_path to the system path\n",
    "sys.path.insert(0, src_path)\n",
    "\n",
    "# Now you can import your module\n",
    "import scripts.graph_utils as gru\n",
    "\n",
    "\n",
    "GRAPH_FILES_DIRECTORY = \"../../data/twitter/\"\n",
    "FILE_EXTENSION = \".edges\"\n",
    "OUTPUT_FILE = \"../../results/twitter_info.csv\"\n",
    "\n",
    "\n",
    "\n",
    "graph_info_df = pd.DataFrame(\n",
    "    columns=[\"graph\", \"nodes\", \"edges\", \"max_degree\", \"avg_degree\"]\n",
    ")\n",
    "\n",
    "graphs = gru.read_graphs_from_directory(GRAPH_FILES_DIRECTORY, FILE_EXTENSION)\n",
    "\n",
    "for graph_name, graph in graphs.items():\n",
    "    info = gru.get_graph_info(graph)\n",
    "    print(f\"Graph: {graph_name}\")\n",
    "\n",
    "    # save info to the dataframe\n",
    "    graph_info_df = graph_info_df._append(\n",
    "        {\n",
    "            \"graph\": graph_name,\n",
    "            \"nodes\": info[\"nodes\"],\n",
    "            \"edges\": info[\"edges\"],\n",
    "            \"max_degree\": info[\"max_degree\"],\n",
    "            \"avg_degree\": info[\"avg_degree\"],\n",
    "        },\n",
    "        ignore_index=True,\n",
    "    )"
   ]
  },
  {
   "cell_type": "code",
   "execution_count": 2,
   "metadata": {},
   "outputs": [
    {
     "name": "stdout",
     "output_type": "stream",
     "text": [
      "Results saved to ../../results/twitter_info.csv\n"
     ]
    }
   ],
   "source": [
    "# save the results to a csv file\n",
    "graph_info_df.to_csv(OUTPUT_FILE, index=False)\n",
    "print(f\"Results saved to {OUTPUT_FILE}\")"
   ]
  },
  {
   "cell_type": "code",
   "execution_count": 3,
   "metadata": {},
   "outputs": [
    {
     "data": {
      "text/html": [
       "<div>\n",
       "<style scoped>\n",
       "    .dataframe tbody tr th:only-of-type {\n",
       "        vertical-align: middle;\n",
       "    }\n",
       "\n",
       "    .dataframe tbody tr th {\n",
       "        vertical-align: top;\n",
       "    }\n",
       "\n",
       "    .dataframe thead th {\n",
       "        text-align: right;\n",
       "    }\n",
       "</style>\n",
       "<table border=\"1\" class=\"dataframe\">\n",
       "  <thead>\n",
       "    <tr style=\"text-align: right;\">\n",
       "      <th></th>\n",
       "      <th>graph</th>\n",
       "      <th>nodes</th>\n",
       "      <th>edges</th>\n",
       "      <th>max_degree</th>\n",
       "      <th>avg_degree</th>\n",
       "    </tr>\n",
       "  </thead>\n",
       "  <tbody>\n",
       "    <tr>\n",
       "      <th>0</th>\n",
       "      <td>86775971</td>\n",
       "      <td>154</td>\n",
       "      <td>5811</td>\n",
       "      <td>96.5</td>\n",
       "      <td>75.467532</td>\n",
       "    </tr>\n",
       "    <tr>\n",
       "      <th>1</th>\n",
       "      <td>7861312</td>\n",
       "      <td>220</td>\n",
       "      <td>4740</td>\n",
       "      <td>78.5</td>\n",
       "      <td>43.090909</td>\n",
       "    </tr>\n",
       "    <tr>\n",
       "      <th>2</th>\n",
       "      <td>256497288</td>\n",
       "      <td>213</td>\n",
       "      <td>17930</td>\n",
       "      <td>177.5</td>\n",
       "      <td>168.356808</td>\n",
       "    </tr>\n",
       "    <tr>\n",
       "      <th>3</th>\n",
       "      <td>14203895</td>\n",
       "      <td>215</td>\n",
       "      <td>3640</td>\n",
       "      <td>85.0</td>\n",
       "      <td>33.860465</td>\n",
       "    </tr>\n",
       "    <tr>\n",
       "      <th>4</th>\n",
       "      <td>14338082</td>\n",
       "      <td>215</td>\n",
       "      <td>3237</td>\n",
       "      <td>135.5</td>\n",
       "      <td>30.111628</td>\n",
       "    </tr>\n",
       "  </tbody>\n",
       "</table>\n",
       "</div>"
      ],
      "text/plain": [
       "       graph nodes  edges  max_degree  avg_degree\n",
       "0   86775971   154   5811        96.5   75.467532\n",
       "1    7861312   220   4740        78.5   43.090909\n",
       "2  256497288   213  17930       177.5  168.356808\n",
       "3   14203895   215   3640        85.0   33.860465\n",
       "4   14338082   215   3237       135.5   30.111628"
      ]
     },
     "execution_count": 3,
     "metadata": {},
     "output_type": "execute_result"
    }
   ],
   "source": [
    "graph_info_df"
   ]
  }
 ],
 "metadata": {
  "kernelspec": {
   "display_name": ".venv",
   "language": "python",
   "name": "python3"
  },
  "language_info": {
   "codemirror_mode": {
    "name": "ipython",
    "version": 3
   },
   "file_extension": ".py",
   "mimetype": "text/x-python",
   "name": "python",
   "nbconvert_exporter": "python",
   "pygments_lexer": "ipython3",
   "version": "3.12.4"
  }
 },
 "nbformat": 4,
 "nbformat_minor": 2
}
