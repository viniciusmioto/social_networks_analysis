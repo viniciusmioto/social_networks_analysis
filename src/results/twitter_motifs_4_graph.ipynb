{
 "cells": [
  {
   "cell_type": "markdown",
   "metadata": {},
   "source": [
    "# Result Analysis"
   ]
  },
  {
   "cell_type": "code",
   "execution_count": 1,
   "metadata": {},
   "outputs": [],
   "source": [
    "import os\n",
    "import sys\n",
    "import pandas as pd\n",
    "\n",
    "# Get the absolute path to the src directory\n",
    "src_path = os.path.abspath(os.path.join(os.getcwd(), \"../\"))\n",
    "\n",
    "# Add src_path to the system path\n",
    "sys.path.insert(0, src_path)\n",
    "\n",
    "# Now you can import your module\n",
    "import scripts.graph_utils as gru"
   ]
  },
  {
   "cell_type": "markdown",
   "metadata": {},
   "source": [
    "### Load Data"
   ]
  },
  {
   "cell_type": "code",
   "execution_count": 2,
   "metadata": {},
   "outputs": [],
   "source": [
    "# Data path directory\n",
    "RESULTS_PATH = \"../../results/\"\n",
    "NETWORKS_PATH = \"../../data/\"\n",
    "IMAGES_PATH = \"../../img/motifs_4/\""
   ]
  },
  {
   "cell_type": "code",
   "execution_count": 3,
   "metadata": {},
   "outputs": [],
   "source": [
    "# Load data\n",
    "def load_data(file):\n",
    "    data = pd.read_csv(RESULTS_PATH + file)\n",
    "    return data"
   ]
  },
  {
   "cell_type": "markdown",
   "metadata": {},
   "source": [
    "## Twitter Egonets"
   ]
  },
  {
   "cell_type": "code",
   "execution_count": 4,
   "metadata": {},
   "outputs": [],
   "source": [
    "# Load the Twitter data\n",
    "file_name = \"twitter_motifs_4_graph.csv\"\n",
    "motif_twitter = load_data(file_name)\n",
    "# cast graph_name as string\n",
    "motif_twitter[\"graph_name\"] = motif_twitter[\"graph_name\"].astype(str)"
   ]
  },
  {
   "cell_type": "code",
   "execution_count": 5,
   "metadata": {},
   "outputs": [
    {
     "data": {
      "text/html": [
       "<div>\n",
       "<style scoped>\n",
       "    .dataframe tbody tr th:only-of-type {\n",
       "        vertical-align: middle;\n",
       "    }\n",
       "\n",
       "    .dataframe tbody tr th {\n",
       "        vertical-align: top;\n",
       "    }\n",
       "\n",
       "    .dataframe thead th {\n",
       "        text-align: right;\n",
       "    }\n",
       "</style>\n",
       "<table border=\"1\" class=\"dataframe\">\n",
       "  <thead>\n",
       "    <tr style=\"text-align: right;\">\n",
       "      <th></th>\n",
       "      <th>graph_name</th>\n",
       "      <th>motif</th>\n",
       "      <th>average_count</th>\n",
       "      <th>standard_deviation</th>\n",
       "      <th>z_score</th>\n",
       "      <th>significance_profile</th>\n",
       "      <th>nodes</th>\n",
       "      <th>edges</th>\n",
       "      <th>max_degree</th>\n",
       "      <th>avg_degree</th>\n",
       "    </tr>\n",
       "  </thead>\n",
       "  <tbody>\n",
       "    <tr>\n",
       "      <th>0</th>\n",
       "      <td>14338082_sample_sff_15</td>\n",
       "      <td>claw1</td>\n",
       "      <td>106.12</td>\n",
       "      <td>29.216605</td>\n",
       "      <td>3.829329</td>\n",
       "      <td>0.068822</td>\n",
       "      <td>32.0</td>\n",
       "      <td>397.0</td>\n",
       "      <td>24.0</td>\n",
       "      <td>24.812500</td>\n",
       "    </tr>\n",
       "    <tr>\n",
       "      <th>1</th>\n",
       "      <td>14338082_sample_sff_15</td>\n",
       "      <td>claw2</td>\n",
       "      <td>236.00</td>\n",
       "      <td>53.909647</td>\n",
       "      <td>-1.966253</td>\n",
       "      <td>-0.035338</td>\n",
       "      <td>32.0</td>\n",
       "      <td>397.0</td>\n",
       "      <td>24.0</td>\n",
       "      <td>24.812500</td>\n",
       "    </tr>\n",
       "    <tr>\n",
       "      <th>2</th>\n",
       "      <td>14338082_sample_sff_15</td>\n",
       "      <td>claw3</td>\n",
       "      <td>172.12</td>\n",
       "      <td>44.531188</td>\n",
       "      <td>-0.676380</td>\n",
       "      <td>-0.012156</td>\n",
       "      <td>32.0</td>\n",
       "      <td>397.0</td>\n",
       "      <td>24.0</td>\n",
       "      <td>24.812500</td>\n",
       "    </tr>\n",
       "    <tr>\n",
       "      <th>3</th>\n",
       "      <td>14338082_sample_sff_15</td>\n",
       "      <td>claw4</td>\n",
       "      <td>47.20</td>\n",
       "      <td>13.859413</td>\n",
       "      <td>0.995713</td>\n",
       "      <td>0.017895</td>\n",
       "      <td>32.0</td>\n",
       "      <td>397.0</td>\n",
       "      <td>24.0</td>\n",
       "      <td>24.812500</td>\n",
       "    </tr>\n",
       "    <tr>\n",
       "      <th>4</th>\n",
       "      <td>14338082_sample_sff_15</td>\n",
       "      <td>claw5</td>\n",
       "      <td>105.72</td>\n",
       "      <td>34.458332</td>\n",
       "      <td>12.138719</td>\n",
       "      <td>0.218162</td>\n",
       "      <td>32.0</td>\n",
       "      <td>397.0</td>\n",
       "      <td>24.0</td>\n",
       "      <td>24.812500</td>\n",
       "    </tr>\n",
       "    <tr>\n",
       "      <th>...</th>\n",
       "      <td>...</td>\n",
       "      <td>...</td>\n",
       "      <td>...</td>\n",
       "      <td>...</td>\n",
       "      <td>...</td>\n",
       "      <td>...</td>\n",
       "      <td>...</td>\n",
       "      <td>...</td>\n",
       "      <td>...</td>\n",
       "      <td>...</td>\n",
       "    </tr>\n",
       "    <tr>\n",
       "      <th>535</th>\n",
       "      <td>100318079_sample_rpn_15</td>\n",
       "      <td>claw5</td>\n",
       "      <td>7.20</td>\n",
       "      <td>4.000000</td>\n",
       "      <td>3.950000</td>\n",
       "      <td>0.401217</td>\n",
       "      <td>23.0</td>\n",
       "      <td>274.0</td>\n",
       "      <td>17.0</td>\n",
       "      <td>23.826087</td>\n",
       "    </tr>\n",
       "    <tr>\n",
       "      <th>536</th>\n",
       "      <td>100318079_sample_rpn_15</td>\n",
       "      <td>claw6</td>\n",
       "      <td>11.80</td>\n",
       "      <td>3.905125</td>\n",
       "      <td>3.380174</td>\n",
       "      <td>0.343338</td>\n",
       "      <td>23.0</td>\n",
       "      <td>274.0</td>\n",
       "      <td>17.0</td>\n",
       "      <td>23.826087</td>\n",
       "    </tr>\n",
       "    <tr>\n",
       "      <th>537</th>\n",
       "      <td>100318079_sample_rpn_15</td>\n",
       "      <td>claw7</td>\n",
       "      <td>5.16</td>\n",
       "      <td>4.561433</td>\n",
       "      <td>3.691823</td>\n",
       "      <td>0.374993</td>\n",
       "      <td>23.0</td>\n",
       "      <td>274.0</td>\n",
       "      <td>17.0</td>\n",
       "      <td>23.826087</td>\n",
       "    </tr>\n",
       "    <tr>\n",
       "      <th>538</th>\n",
       "      <td>100318079_sample_rpn_15</td>\n",
       "      <td>claw8</td>\n",
       "      <td>3.48</td>\n",
       "      <td>2.485290</td>\n",
       "      <td>5.037641</td>\n",
       "      <td>0.511694</td>\n",
       "      <td>23.0</td>\n",
       "      <td>274.0</td>\n",
       "      <td>17.0</td>\n",
       "      <td>23.826087</td>\n",
       "    </tr>\n",
       "    <tr>\n",
       "      <th>539</th>\n",
       "      <td>100318079_sample_rpn_15</td>\n",
       "      <td>claw9</td>\n",
       "      <td>0.68</td>\n",
       "      <td>1.180395</td>\n",
       "      <td>2.812617</td>\n",
       "      <td>0.285689</td>\n",
       "      <td>23.0</td>\n",
       "      <td>274.0</td>\n",
       "      <td>17.0</td>\n",
       "      <td>23.826087</td>\n",
       "    </tr>\n",
       "  </tbody>\n",
       "</table>\n",
       "<p>540 rows × 10 columns</p>\n",
       "</div>"
      ],
      "text/plain": [
       "                  graph_name  motif  average_count  standard_deviation  \\\n",
       "0     14338082_sample_sff_15  claw1         106.12           29.216605   \n",
       "1     14338082_sample_sff_15  claw2         236.00           53.909647   \n",
       "2     14338082_sample_sff_15  claw3         172.12           44.531188   \n",
       "3     14338082_sample_sff_15  claw4          47.20           13.859413   \n",
       "4     14338082_sample_sff_15  claw5         105.72           34.458332   \n",
       "..                       ...    ...            ...                 ...   \n",
       "535  100318079_sample_rpn_15  claw5           7.20            4.000000   \n",
       "536  100318079_sample_rpn_15  claw6          11.80            3.905125   \n",
       "537  100318079_sample_rpn_15  claw7           5.16            4.561433   \n",
       "538  100318079_sample_rpn_15  claw8           3.48            2.485290   \n",
       "539  100318079_sample_rpn_15  claw9           0.68            1.180395   \n",
       "\n",
       "       z_score  significance_profile  nodes  edges  max_degree  avg_degree  \n",
       "0     3.829329              0.068822   32.0  397.0        24.0   24.812500  \n",
       "1    -1.966253             -0.035338   32.0  397.0        24.0   24.812500  \n",
       "2    -0.676380             -0.012156   32.0  397.0        24.0   24.812500  \n",
       "3     0.995713              0.017895   32.0  397.0        24.0   24.812500  \n",
       "4    12.138719              0.218162   32.0  397.0        24.0   24.812500  \n",
       "..         ...                   ...    ...    ...         ...         ...  \n",
       "535   3.950000              0.401217   23.0  274.0        17.0   23.826087  \n",
       "536   3.380174              0.343338   23.0  274.0        17.0   23.826087  \n",
       "537   3.691823              0.374993   23.0  274.0        17.0   23.826087  \n",
       "538   5.037641              0.511694   23.0  274.0        17.0   23.826087  \n",
       "539   2.812617              0.285689   23.0  274.0        17.0   23.826087  \n",
       "\n",
       "[540 rows x 10 columns]"
      ]
     },
     "execution_count": 5,
     "metadata": {},
     "output_type": "execute_result"
    }
   ],
   "source": [
    "motif_twitter"
   ]
  },
  {
   "cell_type": "markdown",
   "metadata": {},
   "source": [
    "### Twitter Original Egonets"
   ]
  },
  {
   "cell_type": "code",
   "execution_count": 6,
   "metadata": {},
   "outputs": [],
   "source": [
    "# # Plot only the original graphs of Twitter\n",
    "# gru.plot_line_chart_with_images(\n",
    "#     motif_twitter[~motif_twitter[\"graph_name\"].str.contains(\"sample\")],\n",
    "#     f\"Z-scores for Twitter Original Graphs from {file_name}\",\n",
    "#     \"motif\",\n",
    "#     \"significance_profile\",\n",
    "#     IMAGES_PATH\n",
    "# )"
   ]
  },
  {
   "cell_type": "code",
   "execution_count": 7,
   "metadata": {},
   "outputs": [
    {
     "data": {
      "text/html": [
       "<div>\n",
       "<style scoped>\n",
       "    .dataframe tbody tr th:only-of-type {\n",
       "        vertical-align: middle;\n",
       "    }\n",
       "\n",
       "    .dataframe tbody tr th {\n",
       "        vertical-align: top;\n",
       "    }\n",
       "\n",
       "    .dataframe thead th {\n",
       "        text-align: right;\n",
       "    }\n",
       "</style>\n",
       "<table border=\"1\" class=\"dataframe\">\n",
       "  <thead>\n",
       "    <tr style=\"text-align: right;\">\n",
       "      <th></th>\n",
       "      <th>graph_name</th>\n",
       "      <th>nodes</th>\n",
       "      <th>edges</th>\n",
       "      <th>max_degree</th>\n",
       "      <th>avg_degree</th>\n",
       "    </tr>\n",
       "  </thead>\n",
       "  <tbody>\n",
       "  </tbody>\n",
       "</table>\n",
       "</div>"
      ],
      "text/plain": [
       "Empty DataFrame\n",
       "Columns: [graph_name, nodes, edges, max_degree, avg_degree]\n",
       "Index: []"
      ]
     },
     "execution_count": 7,
     "metadata": {},
     "output_type": "execute_result"
    }
   ],
   "source": [
    "motif_twitter.query(\n",
    "    \"graph_name.str.contains('sample') == False and motif == 'motif_1'\"\n",
    ")[[\"graph_name\", \"nodes\", \"edges\", \"max_degree\", \"avg_degree\"]].sort_values(\"nodes\")"
   ]
  },
  {
   "cell_type": "markdown",
   "metadata": {},
   "source": [
    "## Twitter Samples"
   ]
  },
  {
   "cell_type": "code",
   "execution_count": 8,
   "metadata": {},
   "outputs": [
    {
     "data": {
      "application/vnd.plotly.v1+json": {
       "config": {
        "plotlyServerURL": "https://plot.ly"
       },
       "data": [
        {
         "mode": "lines+markers",
         "name": "7861312_sample_sff_20",
         "type": "scatter",
         "x": [
          "claw1",
          "claw2",
          "claw3",
          "claw4",
          "claw5",
          "claw6",
          "claw7",
          "claw8",
          "claw9"
         ],
         "y": [
          -0.0157916132763044,
          -0.0266680632630111,
          -0.0297194236012386,
          0.0716440488562464,
          0.0565679474552632,
          0.2328705871482627,
          0.2718670171951559,
          0.2515908077509862,
          0.8935239632235739
         ]
        },
        {
         "mode": "lines+markers",
         "name": "7861312_sample_rpn_20",
         "type": "scatter",
         "x": [
          "claw1",
          "claw2",
          "claw3",
          "claw4",
          "claw5",
          "claw6",
          "claw7",
          "claw8",
          "claw9"
         ],
         "y": [
          0.0217659150286781,
          -0.0504096620425198,
          -0.0536709341655193,
          0.0007654380261352,
          0.0778187927830008,
          0.053662576182374,
          0.2646276706157062,
          0.1757750421571803,
          0.9403424109081574
         ]
        },
        {
         "mode": "lines+markers",
         "name": "7861312_sample_rw_20",
         "type": "scatter",
         "x": [
          "claw1",
          "claw2",
          "claw3",
          "claw4",
          "claw5",
          "claw6",
          "claw7",
          "claw8",
          "claw9"
         ],
         "y": [
          0.0054703897162653,
          -0.0386038784380817,
          -0.0321386733266711,
          0.0176140731320039,
          0.0354216590540791,
          0.1143176343947149,
          0.2836868376186086,
          0.143528542173411,
          0.9390073406476508
         ]
        },
        {
         "mode": "lines+markers",
         "name": "7861312_sample_rn_20",
         "type": "scatter",
         "x": [
          "claw1",
          "claw2",
          "claw3",
          "claw4",
          "claw5",
          "claw6",
          "claw7",
          "claw8",
          "claw9"
         ],
         "y": [
          0.1144057487065601,
          -0.081731782234772,
          -0.0889779355701144,
          -0.0540981195964779,
          0.188499532266415,
          0.0820073304272031,
          0.3223003367243841,
          0.2687067227899448,
          0.8666311066652337
         ]
        }
       ],
       "layout": {
        "images": [
         {
          "sizex": 0.5,
          "sizey": 0.5,
          "source": "data:image/png;base64,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",
          "x": "claw1",
          "xanchor": "center",
          "xref": "x",
          "y": -0.07,
          "yanchor": "top",
          "yref": "paper"
         },
         {
          "sizex": 0.5,
          "sizey": 0.5,
          "source": "data:image/png;base64,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",
          "x": "claw2",
          "xanchor": "center",
          "xref": "x",
          "y": -0.07,
          "yanchor": "top",
          "yref": "paper"
         },
         {
          "sizex": 0.5,
          "sizey": 0.5,
          "source": "data:image/png;base64,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",
          "x": "claw3",
          "xanchor": "center",
          "xref": "x",
          "y": -0.07,
          "yanchor": "top",
          "yref": "paper"
         },
         {
          "sizex": 0.5,
          "sizey": 0.5,
          "source": "data:image/png;base64,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",
          "x": "claw4",
          "xanchor": "center",
          "xref": "x",
          "y": -0.07,
          "yanchor": "top",
          "yref": "paper"
         },
         {
          "sizex": 0.5,
          "sizey": 0.5,
          "source": "data:image/png;base64,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",
          "x": "claw5",
          "xanchor": "center",
          "xref": "x",
          "y": -0.07,
          "yanchor": "top",
          "yref": "paper"
         },
         {
          "sizex": 0.5,
          "sizey": 0.5,
          "source": "data:image/png;base64,iVBORw0KGgoAAAANSUhEUgAAAPoAAAD6CAMAAAC/MqoPAAACT1BMVEVHcExzc3Nzc3Nzc3Nzc3Nzc3Nzc3Nzc3OMUv9zc3Nzc3Nzc3Nzc3OMUv9zc3Nzc3OMUv+MUv9zc3Nzc3Nzc3Nzc3Nzc3OMUv+MUv9zc3OMUv+MUv9zc3OMUv+MUv+MUv+MUv9zc3Nzc3Nzc3OMUv+MUv+MUv9zc3Nzc3Nzc3OMUv+MUv+MUv+MUv9zc3OMUv+MUv+MUv+MUv+MUv+MUv+MUv+MUv9zc3Nzc3OMUv+MUv+MUv+MUv+MUv+MUv+MUv9zc3OMUv+MUv+MUv+MUv+MUv+MUv+MUv+MUv+MUv+MUv+MUv+MUv+MUv+MUv9zc3Nzc3OMUv+MUv+MUv+MUv+MUv+MUv+MUv+MUv+MUv+MUv+MUv+MUv9zc3Nzc3OMUv+MUv+MUv+MUv+MUv+MUv+MUv+MUv+MUv+MUv+MUv+MUv+MUv+MUv+MUv+MUv9zc3Nzc3Nzc3OMUv+MUv+MUv+MUv+MUv+MUv+MUv+MUv+MUv+MUv+MUv+MUv9zc3Nzc3Nzc3NzcnVzc3Nzc3OMUv+MUv+MUv+MUv+MUv+MUv+MUv+MUv+MUv+MUv+MUv+MUv+MUv+MUv+MUv+MUv+MUv9zc3Nzc3Nzc3N1cXxzc3Nzc3RzcnZzc3Nzc3Nzc3Nzc3Nzc3N0cnd0cnd0cnh4bY54bI95a5V1cIB9Za13bol+ZbB+ZbB3bYx9Zqp/Y7Z/Y7aMUv+MUv+MUv+MUv+MUv+MUv+MUv+MUv+MUv+CX8iFW9mKVPWEXdKEXNOMUv+MUv+MUv+AYrqBYb+MUv9zc3PEHvEsAAAAxXRSTlMArvBSD4BQoANAXxD48EUBDukwBGz7k/t5YGiYwAcIF/ng77BIBOFwv5AKDar2IFgYKN7IifX8n9Am0qC4VyztzzETHWAlfkOp78DngNmQft9TIAEafMXqsNDi5cw/80dwTjY4FEQvayoRO6bam9c7uo9KXB9Bwp66pJ3OtrJkfAe9y4Nfbj9tUEx7jMaH3a/zi6KXgm9aT2e9u76o9/T9nbW/lhR4fTWNmJ2fnJKqrFVjWzQ8ZHRzdyg7SpWXtI6Ss6///zPOkHUAAAuSSURBVHic7Z33YxRlGseHcEl2syzMBjS9koSQBNIDGEwIJYWeREgwKIhSQtNTmgLq6alwNk69qnde1euX673O/mG3s7PT2/u8877vzsy9n1+AJDvf55N93ynvDPsIAofD4XA4HA6Hw+FwOBwOh8PhhJSu3rd73umQJGngxqWh54tdjZH7Q5duDOQK6zje83ZvF+mtN8xOD0tGZm6eSpAOwSHRdnPGVNjw9GwDwe03nF6Q7Ay8UHT5xJc7HApbeIOUfLvj9mUeuU8oApOnHnEpjNC70rffZfsyPd0kIvDo7vEobH9f8IDnD3gESNLlM8Ej8Dhz2bOwA28G3H7iXc/t52h+i4gImDeafQobqQ406D0Hu0oxBr3nYFcJNOhRAiRpiJQQOkNIhU3jB1QjBUjSo+Sc0FhBLKwaN+DUCGLClgmSXv5MbEEsbATzrFPMIAbkDvBOe5TUE5WBBF1JuB3O7WRErAS0+aRQa395WWs2uysVTNKZWkBhWPuhOdRRlf/tNlpendqWlekkYGoFMBpzc7EJI2EUEGDboVTuyipQGPMHQYXVwQPGUPdxCmnTb7emtWCe3URKWKMpDSpsZAycUAcKML3thcGeZytBaQXUI64K+G2fXwImDGov1QZ7jhqi1nkGgYV1QAOeBgZIklh4pT7YsyUUzPvAhfUDE2D7Epne/OuMg307jeM65MimAD2lGwQn5E+YjYO9nMpBfRFc2KD/Ro0kqsAJ8pyiPNhl3FaM3GmGXbx2gQOkZtNgL/nWKioc8btMd8B6uuXNbniA9CPDYKfGtzEK2w1S34OR8E0G5tkvYRS2B6S+AyPh+yzUf4BR2A6Q+hxGwg9ZqH+MUdg1kHoTRsLnLNRx5jrs4q0bHlA1X8pA/Tn4UVeCLZsm4AEZQUiW6DV+spoKz0Iu1hWqgIvSsCtDmRO5V6XqdfdOKidzwglwYRlgwk5wgnJxaBj0rUny4vCLaUnaCUyAXyW0KS80DvojxMUFoQ1cmMO6oSePQQPS6o1dyoO+AXwm2weNgM6pRf2lhkG/i5yzCnQqAi/cBNhStIxxWBkGPfnrN+hUhN+BAa7+DZguj/RBT169cQBUWBpjNRq2TrPX8urCoC8hvywp7AUVhnPbDbTSb7/zpAx6GusVgPtODvdGkDgNSGizvzxVXtJCZ6XmHqAw6JFNoR19X3qTsJwPV5ALu9WOlyAeQgx4BzMAl/bjiIVdFnEjdqDt5S8/Q1ALiWceRypsYR9+xCmUS8R0gAAolU8c+WLn0ezRz1DelKqng0Sd9Y9YYvJIRcFZ46f+N8bSZ4NF9l/1CTj+GBk3V7ZWmJzVy8K/+M33q9AbTjbEW54BL5J8FteJslabdp5kw4uehd0Sg2cn9rqf27x3L/j2fWhxNs8mBWHFfWeX+Q2ZR5e7Dzvv7YYnab/lOVzMs/L3uo4NOxZWdZjcU4z979u3v2UUtrSPiYt5i/LdPaMOT/y8H3iWmxB/2/PAOKBeegrr5BjORmf1evX7jbOj44bC0pceFSlUce5s7/nJrx6rXZm6QGHrLlQq1/4l9eXbvmNQ32z8mQtTP/nZr/7z65//8m/n2BXGgFRNaVJe4Fz7pPFdLzX/UGFt5AtFqZA2a9dYd/BG4qxuMbc+jxdjdat51vL9+Krr5q+Zjm0asVXXzVe9bDm2FYirusF8fanjDj6u6kZz9QzH+uhtPNVN5kK947Etnupmc/WU3rq8H0d1i3nK+dgWR3WLuZBU/rHd+nPxU19tMVfVN1p/MHbqqx+ymKuOtrs6cVN3MFdu5dne9LipO5nnqEw6PGYfL3XdvHy97w/HSt1gvs7/p+OkDjOPkzrQPEbqUPP4qIPNY6MON4+LegXcPCbqFZ/CzeOhjmUeC3U88zioY5rHQF03fxhkHn11gznwlVFXxzePunoA84irBzGPtnog80irBzOPsvqGYOYRVt+QDWYeXfXA5pFVD24eVXXd/HXsbURTXTe3PioBIJLqRMwjqU7GPIrqhMwjqE7KPHrqxMwjp/4KMfOoqZeSM4+YOknzaKkTNY+UOlnzKKnr5q8Q2V501HXzDWQ2GBl14uaRUSdvHhV1CuYRUadhHg11KuaRUH+dinkU1B+mYx4BdVrm4VenZh56dc38U9LmYVfXzSuIbzvc6jTNw61O1TzU6nTNw6xO2TzE6rTNQ6u+jrp5WNXXlVM3D6k6C/NwqjMxD6U6G/MwquvmD9E0D6G6wXw11aDQqTMzD506O/OwqTM0D5k6C/NkZ+fX8n8xqpd1dlLdpfrCwjwfsU3+m0F9k/bFIrGegXmZEiB/MpGuXvgipW5yCKxfxWCeq3czKg3qWwsfO2v9fC5mMDFXhnaOoyldfXvha5v9X06ISlPraTbmQkrttrFKU9+sBlNoxOCM/HlgenMf3XwN3aNamZqzqaD+de0LVHMN1OTjWgv/MpivpRysvcnfVf5Qh4H9g2toUfgQOOVtZ2guaFNb+68zeVrodNbyKCCvztRc2FqSdYBSy3snCony75qtuWG6G2A20XO/+kKkwN7cMN012E107ZPQ6othrk/3Ikx07dRio/BqEcxt053hRNfGXOmrzxXB3DrdGU50QfuUz5eLY26e7iwnuqC1a3itSOZCSp/uTCe6YOtZwNpc+/h81hM9F2w2f5K5uXomzXqia8c21fxZxvF5yosx0U1dKgvmyW8cqWA76fIdE7fTyzx3yrENhnEHu+Z72zqVdZJWhtPuwtRK7d//+4/zvWdptMEQXzA1PxkfndWan9RnHWE0+rpmPzA3P1kRiW5/YtGh5c0HhZbujhdPWfvnOtNgn1Ojp8Xfkdt+j8P2c1TV5bt6uZgzUO+74tJvrmcH3e3L7/y7y5YdvI61XQNxloccmhyZ35VgnJlx3b5Mxz4X9RIqfbgN7PNuYjgTqIWfzPUHngGSlPmrfa631G+uob0kOubXRvbBVLCA+/59r2d+YXIudfpIZ/L4DEaZ5kDN5i4ita38cQtDZwWkXqJVvw8QsIAQIEmH2DcrResgu4DdcQ65Re2NsLaovS3iBSTQGxPXETXzpQ65sDt4LRwhPd4d2lHTow1QmLU5OhKNoCbkpPW8gDQhH8Dps1gNCJCkXuKCrvSCCsNoPd+E1opaZYBMX1QEGgdAhaVFcMJhUABuj3cMYKNRkobACYPAhEUKlo6gH3cUBqEBfcAAKc2gU69Mg/+ptQXoNRzkyKbA6PgGObIpQKcidFgxO61BP51R2QlMgO3fZU5QMbVxAlxYBhaQAAdAE3CBnGgpVMGOu91w9ap5SrIm5lEuoy3AOpI3wQMkJrv4RozCmkAJcxgJ5Nq9eyBiFHYNlDCGkbCbkq0JnOEI60S/ByOhi5KtiS6MwvpACbsxEpgs1bRjFLYMSsD45aYpyVoAn8dC978J+DHkECVXCx3gwpqBCYPghGkaonamwYVBL92gV8XM1mlgazQy0HWafmhAs0hD1A78wA47tgnwObWfhqcTg8DC4Psg6MUhxvIfHtCpeBicMDYCCkjDTpQDAFwvHRmDR4yCEg6Sd3TjIKiwUYyEOfdnFuxkRNKC7oiQS/YtczgRkOXo04T1PDkNKAw+02WWryIH7Gd6q7X9JHJhV0W8iP5hxIAMs32cwjXUIT8MPqar7EULGHmTpBcK1xEPP1j3WRXQ9vLMDuk6aHv5IOvjXSiz6p/EhNBJ3EUo7HagPVDiQ9+ASVI6IOaP+RZ2JejN31rvtYH0fSImGNzz3gk3/yF4xMVxj4AOMg+jYjHhdaN9PPDDkjLLH7mdNR/4I5OlSDe6/nTAbSx+BFuPc0f8itM7//hbOM+pEKXxvNODsuPHRIIZDW0fLpk2/96/rjN7hMSLxNS/zSsLS3Vt5G8DXZy8cud2Rlo6ebfuzxhXgvSYqK67e3JJyty+89LkxWIXw+FwOBwOh8PhcDgcDofD4XA4HA7n/5z/AWiHVrb3VZlmAAAAAElFTkSuQmCC",
          "x": "claw6",
          "xanchor": "center",
          "xref": "x",
          "y": -0.07,
          "yanchor": "top",
          "yref": "paper"
         },
         {
          "sizex": 0.5,
          "sizey": 0.5,
          "source": "data:image/png;base64,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",
          "x": "claw7",
          "xanchor": "center",
          "xref": "x",
          "y": -0.07,
          "yanchor": "top",
          "yref": "paper"
         },
         {
          "sizex": 0.5,
          "sizey": 0.5,
          "source": "data:image/png;base64,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",
          "x": "claw8",
          "xanchor": "center",
          "xref": "x",
          "y": -0.07,
          "yanchor": "top",
          "yref": "paper"
         },
         {
          "sizex": 0.5,
          "sizey": 0.5,
          "source": "data:image/png;base64,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",
          "x": "claw9",
          "xanchor": "center",
          "xref": "x",
          "y": -0.07,
          "yanchor": "top",
          "yref": "paper"
         }
        ],
        "template": {
         "data": {
          "bar": [
           {
            "error_x": {
             "color": "#2a3f5f"
            },
            "error_y": {
             "color": "#2a3f5f"
            },
            "marker": {
             "line": {
              "color": "#E5ECF6",
              "width": 0.5
             },
             "pattern": {
              "fillmode": "overlay",
              "size": 10,
              "solidity": 0.2
             }
            },
            "type": "bar"
           }
          ],
          "barpolar": [
           {
            "marker": {
             "line": {
              "color": "#E5ECF6",
              "width": 0.5
             },
             "pattern": {
              "fillmode": "overlay",
              "size": 10,
              "solidity": 0.2
             }
            },
            "type": "barpolar"
           }
          ],
          "carpet": [
           {
            "aaxis": {
             "endlinecolor": "#2a3f5f",
             "gridcolor": "white",
             "linecolor": "white",
             "minorgridcolor": "white",
             "startlinecolor": "#2a3f5f"
            },
            "baxis": {
             "endlinecolor": "#2a3f5f",
             "gridcolor": "white",
             "linecolor": "white",
             "minorgridcolor": "white",
             "startlinecolor": "#2a3f5f"
            },
            "type": "carpet"
           }
          ],
          "choropleth": [
           {
            "colorbar": {
             "outlinewidth": 0,
             "ticks": ""
            },
            "type": "choropleth"
           }
          ],
          "contour": [
           {
            "colorbar": {
             "outlinewidth": 0,
             "ticks": ""
            },
            "colorscale": [
             [
              0,
              "#0d0887"
             ],
             [
              0.1111111111111111,
              "#46039f"
             ],
             [
              0.2222222222222222,
              "#7201a8"
             ],
             [
              0.3333333333333333,
              "#9c179e"
             ],
             [
              0.4444444444444444,
              "#bd3786"
             ],
             [
              0.5555555555555556,
              "#d8576b"
             ],
             [
              0.6666666666666666,
              "#ed7953"
             ],
             [
              0.7777777777777778,
              "#fb9f3a"
             ],
             [
              0.8888888888888888,
              "#fdca26"
             ],
             [
              1,
              "#f0f921"
             ]
            ],
            "type": "contour"
           }
          ],
          "contourcarpet": [
           {
            "colorbar": {
             "outlinewidth": 0,
             "ticks": ""
            },
            "type": "contourcarpet"
           }
          ],
          "heatmap": [
           {
            "colorbar": {
             "outlinewidth": 0,
             "ticks": ""
            },
            "colorscale": [
             [
              0,
              "#0d0887"
             ],
             [
              0.1111111111111111,
              "#46039f"
             ],
             [
              0.2222222222222222,
              "#7201a8"
             ],
             [
              0.3333333333333333,
              "#9c179e"
             ],
             [
              0.4444444444444444,
              "#bd3786"
             ],
             [
              0.5555555555555556,
              "#d8576b"
             ],
             [
              0.6666666666666666,
              "#ed7953"
             ],
             [
              0.7777777777777778,
              "#fb9f3a"
             ],
             [
              0.8888888888888888,
              "#fdca26"
             ],
             [
              1,
              "#f0f921"
             ]
            ],
            "type": "heatmap"
           }
          ],
          "heatmapgl": [
           {
            "colorbar": {
             "outlinewidth": 0,
             "ticks": ""
            },
            "colorscale": [
             [
              0,
              "#0d0887"
             ],
             [
              0.1111111111111111,
              "#46039f"
             ],
             [
              0.2222222222222222,
              "#7201a8"
             ],
             [
              0.3333333333333333,
              "#9c179e"
             ],
             [
              0.4444444444444444,
              "#bd3786"
             ],
             [
              0.5555555555555556,
              "#d8576b"
             ],
             [
              0.6666666666666666,
              "#ed7953"
             ],
             [
              0.7777777777777778,
              "#fb9f3a"
             ],
             [
              0.8888888888888888,
              "#fdca26"
             ],
             [
              1,
              "#f0f921"
             ]
            ],
            "type": "heatmapgl"
           }
          ],
          "histogram": [
           {
            "marker": {
             "pattern": {
              "fillmode": "overlay",
              "size": 10,
              "solidity": 0.2
             }
            },
            "type": "histogram"
           }
          ],
          "histogram2d": [
           {
            "colorbar": {
             "outlinewidth": 0,
             "ticks": ""
            },
            "colorscale": [
             [
              0,
              "#0d0887"
             ],
             [
              0.1111111111111111,
              "#46039f"
             ],
             [
              0.2222222222222222,
              "#7201a8"
             ],
             [
              0.3333333333333333,
              "#9c179e"
             ],
             [
              0.4444444444444444,
              "#bd3786"
             ],
             [
              0.5555555555555556,
              "#d8576b"
             ],
             [
              0.6666666666666666,
              "#ed7953"
             ],
             [
              0.7777777777777778,
              "#fb9f3a"
             ],
             [
              0.8888888888888888,
              "#fdca26"
             ],
             [
              1,
              "#f0f921"
             ]
            ],
            "type": "histogram2d"
           }
          ],
          "histogram2dcontour": [
           {
            "colorbar": {
             "outlinewidth": 0,
             "ticks": ""
            },
            "colorscale": [
             [
              0,
              "#0d0887"
             ],
             [
              0.1111111111111111,
              "#46039f"
             ],
             [
              0.2222222222222222,
              "#7201a8"
             ],
             [
              0.3333333333333333,
              "#9c179e"
             ],
             [
              0.4444444444444444,
              "#bd3786"
             ],
             [
              0.5555555555555556,
              "#d8576b"
             ],
             [
              0.6666666666666666,
              "#ed7953"
             ],
             [
              0.7777777777777778,
              "#fb9f3a"
             ],
             [
              0.8888888888888888,
              "#fdca26"
             ],
             [
              1,
              "#f0f921"
             ]
            ],
            "type": "histogram2dcontour"
           }
          ],
          "mesh3d": [
           {
            "colorbar": {
             "outlinewidth": 0,
             "ticks": ""
            },
            "type": "mesh3d"
           }
          ],
          "parcoords": [
           {
            "line": {
             "colorbar": {
              "outlinewidth": 0,
              "ticks": ""
             }
            },
            "type": "parcoords"
           }
          ],
          "pie": [
           {
            "automargin": true,
            "type": "pie"
           }
          ],
          "scatter": [
           {
            "fillpattern": {
             "fillmode": "overlay",
             "size": 10,
             "solidity": 0.2
            },
            "type": "scatter"
           }
          ],
          "scatter3d": [
           {
            "line": {
             "colorbar": {
              "outlinewidth": 0,
              "ticks": ""
             }
            },
            "marker": {
             "colorbar": {
              "outlinewidth": 0,
              "ticks": ""
             }
            },
            "type": "scatter3d"
           }
          ],
          "scattercarpet": [
           {
            "marker": {
             "colorbar": {
              "outlinewidth": 0,
              "ticks": ""
             }
            },
            "type": "scattercarpet"
           }
          ],
          "scattergeo": [
           {
            "marker": {
             "colorbar": {
              "outlinewidth": 0,
              "ticks": ""
             }
            },
            "type": "scattergeo"
           }
          ],
          "scattergl": [
           {
            "marker": {
             "colorbar": {
              "outlinewidth": 0,
              "ticks": ""
             }
            },
            "type": "scattergl"
           }
          ],
          "scattermapbox": [
           {
            "marker": {
             "colorbar": {
              "outlinewidth": 0,
              "ticks": ""
             }
            },
            "type": "scattermapbox"
           }
          ],
          "scatterpolar": [
           {
            "marker": {
             "colorbar": {
              "outlinewidth": 0,
              "ticks": ""
             }
            },
            "type": "scatterpolar"
           }
          ],
          "scatterpolargl": [
           {
            "marker": {
             "colorbar": {
              "outlinewidth": 0,
              "ticks": ""
             }
            },
            "type": "scatterpolargl"
           }
          ],
          "scatterternary": [
           {
            "marker": {
             "colorbar": {
              "outlinewidth": 0,
              "ticks": ""
             }
            },
            "type": "scatterternary"
           }
          ],
          "surface": [
           {
            "colorbar": {
             "outlinewidth": 0,
             "ticks": ""
            },
            "colorscale": [
             [
              0,
              "#0d0887"
             ],
             [
              0.1111111111111111,
              "#46039f"
             ],
             [
              0.2222222222222222,
              "#7201a8"
             ],
             [
              0.3333333333333333,
              "#9c179e"
             ],
             [
              0.4444444444444444,
              "#bd3786"
             ],
             [
              0.5555555555555556,
              "#d8576b"
             ],
             [
              0.6666666666666666,
              "#ed7953"
             ],
             [
              0.7777777777777778,
              "#fb9f3a"
             ],
             [
              0.8888888888888888,
              "#fdca26"
             ],
             [
              1,
              "#f0f921"
             ]
            ],
            "type": "surface"
           }
          ],
          "table": [
           {
            "cells": {
             "fill": {
              "color": "#EBF0F8"
             },
             "line": {
              "color": "white"
             }
            },
            "header": {
             "fill": {
              "color": "#C8D4E3"
             },
             "line": {
              "color": "white"
             }
            },
            "type": "table"
           }
          ]
         },
         "layout": {
          "annotationdefaults": {
           "arrowcolor": "#2a3f5f",
           "arrowhead": 0,
           "arrowwidth": 1
          },
          "autotypenumbers": "strict",
          "coloraxis": {
           "colorbar": {
            "outlinewidth": 0,
            "ticks": ""
           }
          },
          "colorscale": {
           "diverging": [
            [
             0,
             "#8e0152"
            ],
            [
             0.1,
             "#c51b7d"
            ],
            [
             0.2,
             "#de77ae"
            ],
            [
             0.3,
             "#f1b6da"
            ],
            [
             0.4,
             "#fde0ef"
            ],
            [
             0.5,
             "#f7f7f7"
            ],
            [
             0.6,
             "#e6f5d0"
            ],
            [
             0.7,
             "#b8e186"
            ],
            [
             0.8,
             "#7fbc41"
            ],
            [
             0.9,
             "#4d9221"
            ],
            [
             1,
             "#276419"
            ]
           ],
           "sequential": [
            [
             0,
             "#0d0887"
            ],
            [
             0.1111111111111111,
             "#46039f"
            ],
            [
             0.2222222222222222,
             "#7201a8"
            ],
            [
             0.3333333333333333,
             "#9c179e"
            ],
            [
             0.4444444444444444,
             "#bd3786"
            ],
            [
             0.5555555555555556,
             "#d8576b"
            ],
            [
             0.6666666666666666,
             "#ed7953"
            ],
            [
             0.7777777777777778,
             "#fb9f3a"
            ],
            [
             0.8888888888888888,
             "#fdca26"
            ],
            [
             1,
             "#f0f921"
            ]
           ],
           "sequentialminus": [
            [
             0,
             "#0d0887"
            ],
            [
             0.1111111111111111,
             "#46039f"
            ],
            [
             0.2222222222222222,
             "#7201a8"
            ],
            [
             0.3333333333333333,
             "#9c179e"
            ],
            [
             0.4444444444444444,
             "#bd3786"
            ],
            [
             0.5555555555555556,
             "#d8576b"
            ],
            [
             0.6666666666666666,
             "#ed7953"
            ],
            [
             0.7777777777777778,
             "#fb9f3a"
            ],
            [
             0.8888888888888888,
             "#fdca26"
            ],
            [
             1,
             "#f0f921"
            ]
           ]
          },
          "colorway": [
           "#636efa",
           "#EF553B",
           "#00cc96",
           "#ab63fa",
           "#FFA15A",
           "#19d3f3",
           "#FF6692",
           "#B6E880",
           "#FF97FF",
           "#FECB52"
          ],
          "font": {
           "color": "#2a3f5f"
          },
          "geo": {
           "bgcolor": "white",
           "lakecolor": "white",
           "landcolor": "#E5ECF6",
           "showlakes": true,
           "showland": true,
           "subunitcolor": "white"
          },
          "hoverlabel": {
           "align": "left"
          },
          "hovermode": "closest",
          "mapbox": {
           "style": "light"
          },
          "paper_bgcolor": "white",
          "plot_bgcolor": "#E5ECF6",
          "polar": {
           "angularaxis": {
            "gridcolor": "white",
            "linecolor": "white",
            "ticks": ""
           },
           "bgcolor": "#E5ECF6",
           "radialaxis": {
            "gridcolor": "white",
            "linecolor": "white",
            "ticks": ""
           }
          },
          "scene": {
           "xaxis": {
            "backgroundcolor": "#E5ECF6",
            "gridcolor": "white",
            "gridwidth": 2,
            "linecolor": "white",
            "showbackground": true,
            "ticks": "",
            "zerolinecolor": "white"
           },
           "yaxis": {
            "backgroundcolor": "#E5ECF6",
            "gridcolor": "white",
            "gridwidth": 2,
            "linecolor": "white",
            "showbackground": true,
            "ticks": "",
            "zerolinecolor": "white"
           },
           "zaxis": {
            "backgroundcolor": "#E5ECF6",
            "gridcolor": "white",
            "gridwidth": 2,
            "linecolor": "white",
            "showbackground": true,
            "ticks": "",
            "zerolinecolor": "white"
           }
          },
          "shapedefaults": {
           "line": {
            "color": "#2a3f5f"
           }
          },
          "ternary": {
           "aaxis": {
            "gridcolor": "white",
            "linecolor": "white",
            "ticks": ""
           },
           "baxis": {
            "gridcolor": "white",
            "linecolor": "white",
            "ticks": ""
           },
           "bgcolor": "#E5ECF6",
           "caxis": {
            "gridcolor": "white",
            "linecolor": "white",
            "ticks": ""
           }
          },
          "title": {
           "x": 0.05
          },
          "xaxis": {
           "automargin": true,
           "gridcolor": "white",
           "linecolor": "white",
           "ticks": "",
           "title": {
            "standoff": 15
           },
           "zerolinecolor": "white",
           "zerolinewidth": 2
          },
          "yaxis": {
           "automargin": true,
           "gridcolor": "white",
           "linecolor": "white",
           "ticks": "",
           "title": {
            "standoff": 15
           },
           "zerolinecolor": "white",
           "zerolinewidth": 2
          }
         }
        },
        "title": {
         "text": "Z-scores for Twitter Generated Samples of 7861312"
        },
        "xaxis": {
         "showticklabels": true,
         "tickvals": [
          "claw1",
          "claw2",
          "claw3",
          "claw4",
          "claw5",
          "claw6",
          "claw7",
          "claw8",
          "claw9"
         ],
         "title": {}
        },
        "yaxis": {
         "title": {
          "text": "significance_profile"
         }
        }
       }
      }
     },
     "metadata": {},
     "output_type": "display_data"
    },
    {
     "name": "stdout",
     "output_type": "stream",
     "text": [
      "                graph_name  motif  nodes  edges\n",
      "27   7861312_sample_sff_20  claw1   44.0  415.0\n",
      "36   7861312_sample_rpn_20  claw1   37.0  289.0\n",
      "63    7861312_sample_rw_20  claw1   44.0  407.0\n",
      "189   7861312_sample_rn_20  claw1   39.0  178.0\n"
     ]
    },
    {
     "data": {
      "application/vnd.plotly.v1+json": {
       "config": {
        "plotlyServerURL": "https://plot.ly"
       },
       "data": [
        {
         "mode": "lines+markers",
         "name": "7861312_sample_rn_15",
         "type": "scatter",
         "x": [
          "claw1",
          "claw2",
          "claw3",
          "claw4",
          "claw5",
          "claw6",
          "claw7",
          "claw8",
          "claw9"
         ],
         "y": [
          0.0391316323619836,
          -0.0283225108507179,
          -0.0345632412551928,
          -0.0158549025253424,
          0.1077087116274384,
          0.0216045426006143,
          0.0850188991398459,
          0.2130664741052947,
          0.9651565141092956
         ]
        },
        {
         "mode": "lines+markers",
         "name": "7861312_sample_rw_15",
         "type": "scatter",
         "x": [
          "claw1",
          "claw2",
          "claw3",
          "claw4",
          "claw5",
          "claw6",
          "claw7",
          "claw8",
          "claw9"
         ],
         "y": [
          0.0974487740104329,
          -0.0789786021098438,
          -0.1184381635398272,
          -0.0079448892897325,
          0.100171294126556,
          0.1096246407382129,
          0.3036734764503309,
          0.25407783029149,
          0.8895787895600329
         ]
        },
        {
         "mode": "lines+markers",
         "name": "7861312_sample_sff_15",
         "type": "scatter",
         "x": [
          "claw1",
          "claw2",
          "claw3",
          "claw4",
          "claw5",
          "claw6",
          "claw7",
          "claw8",
          "claw9"
         ],
         "y": [
          -0.0045047205996809,
          -0.030652337590244,
          -0.0286365879489912,
          0.0328839731045967,
          0.0397149212078701,
          0.077231053559173,
          0.2179358889837428,
          0.1634794185115204,
          0.9567524493052848
         ]
        },
        {
         "mode": "lines+markers",
         "name": "7861312_sample_rpn_15",
         "type": "scatter",
         "x": [
          "claw1",
          "claw2",
          "claw3",
          "claw4",
          "claw5",
          "claw6",
          "claw7",
          "claw8",
          "claw9"
         ],
         "y": [
          0.1592392405028407,
          -0.1349915175898857,
          -0.1356529690812158,
          -0.1089444483955768,
          0.052391978505548,
          -0.0293308478844265,
          0.412541299847037,
          0.5993728253088647,
          0.6269818241053988
         ]
        }
       ],
       "layout": {
        "images": [
         {
          "sizex": 0.5,
          "sizey": 0.5,
          "source": "data:image/png;base64,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",
          "x": "claw1",
          "xanchor": "center",
          "xref": "x",
          "y": -0.07,
          "yanchor": "top",
          "yref": "paper"
         },
         {
          "sizex": 0.5,
          "sizey": 0.5,
          "source": "data:image/png;base64,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",
          "x": "claw2",
          "xanchor": "center",
          "xref": "x",
          "y": -0.07,
          "yanchor": "top",
          "yref": "paper"
         },
         {
          "sizex": 0.5,
          "sizey": 0.5,
          "source": "data:image/png;base64,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",
          "x": "claw3",
          "xanchor": "center",
          "xref": "x",
          "y": -0.07,
          "yanchor": "top",
          "yref": "paper"
         },
         {
          "sizex": 0.5,
          "sizey": 0.5,
          "source": "data:image/png;base64,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",
          "x": "claw4",
          "xanchor": "center",
          "xref": "x",
          "y": -0.07,
          "yanchor": "top",
          "yref": "paper"
         },
         {
          "sizex": 0.5,
          "sizey": 0.5,
          "source": "data:image/png;base64,iVBORw0KGgoAAAANSUhEUgAAAPoAAAD6CAMAAAC/MqoPAAAB11BMVEVHcExzc3N0dHRycnJtbW1ycnJycnJycnJycnJycnJycnJzc3NycnKMUf9ycnJVVVVxcXGzAP+KRf+MUv+AgIB0dHSRSf+MUv+MUv+OVf+MUv+LUf+MUv9ycnJzc3OMUf+OUf+MUv9zc3OJUv+ZM/+OUf+LUv+NUv+LUf9ycnKMUf+SVf+LTv9ycnKLUv+MUv+LUv+MUf+OUf+LUf+MUP+LUf+MUf9zc3SSSf9zc3N0dHSMUf+MUv+MUf+MUv+MUv9ycnKMUf+NUf+LUf+LUv+OU/+MUv9vb2+KUP+LUv+LUv+LUv+MUf+LUP+MUf+MU/+LUv+MUv+MUv9ra2uMUf9xcXFwcHBycnJycnKLUf+MUP9ycnJxcXGLUf9zc3NycnKKUP+LUv9zc3Nzc3OLUv+MUf9ycnJzc3OMUf+MUf+KT/9paWmNUv90dHRzc3NxcXGMUv9zc3NxcXFwcHBycnJycnJzc3OAgIBxcXFycnJwcHCLUf9ycnJvb29zc3NycnJycnJycnJwcHCMUf9ycnJ1b4OMUv+NUv+NUf90bYJ5aZxycnJxcXGLU/WMUf+LUf92ao2JVfN+Yb57aKBycnKMUf+DXsh0cH1zc3N8ZKx1cIKMUv9zc3NsUehEAAAAm3RSTlMAv0DxDvhr+1yToVCAoK4DRAED/QdWCh+vCe3A9J/0hw/behwFDIBg8dTwFQb8RjVwIj/TSfyOuw7uC2ddPLjOlslrWLsr9icw65je+BH+KJz6dhOkPRnoiE8k3UapZ5xT4SrYeZDDsujDGQU4S3M0x8okIOSEWgNjjjvlrBfGbbjQQkUvz4N+Yr2ppVJLitdB93mb7bNvxH6Ki0lulL0AAAtvSURBVHic7Z35QxNJFoAbFcTRcATkMChBQCQcRgVkFRC5hkMOZxA5dAHFFRGVWXXU1fGYGZWd0XGv2dndzh+7SbqTPtJHveqq6q5MfT+FdNLvfemq7q7qokqSBAKBQCAQCAQCgUAgEAgEAoEgoNT2x+cvvZBleX1nbmjb72z0bA/N7awnE3txaT7eX0t679GNs7KRnSHiQXCoHbpkSuziRpTg/pcnx+RcjtRvEYyBxVZPzCKxscllQvvfrqmw2H+KK6FRQjGwGA1dsUmsooZIjTzVYLP/dOki9ftisHzRIbGGU94DtNj9sgonu7yHwKPrpGNiYy0e918bctx/kpn3YSImQMLvZ9wyC7V7CdA74rZ/zyHwqKpBSGwgih8gPIAQQJYniRkhM4mU2K/4BbIeKYAsXyAohcQFxMRO4AZYQwwgX+kn6eVOv/OpV6MC8yQ8bnUfY81EI1k3laf3//i1xduNE8iJxWaxAqNVdIXb3hytOf8qkdj7be77aBVdoQYncBcggDxW7dXTgjeJFEcrTW+P2t1cWoJTFyOQAHKIhKuRsoRC65fG911vNQwMwANvgwLI3eRre5GqnjhmKPRb3aDEZuB3tLDf1sN1xJabiSz6Qn8CmBi4PDbXASNMlZPUTlOkud/KFvryKWBidc3AsC3AALJ8hrB4kut/yLoXHlbfOwNODNqOuQ2OECfsnWLhVU6hj4MTg154ndrC1mBdQd0oXewwFXqUdouRi8CYoGtnmnUK5lJuoV8HJ1YBC9gODiBXPC+gwqu9+kJfDj8mMqxR3QwPIJ9L0OdtJUZisFN8b0DVE8cxEusFqUeDqv4WI7Fofhz1VxiJwY56UOt64iNGYrC6XhVM9cKPYYzEYE/IMCLU/biHBt//rN3UrCRvaqBtiyTAzkmrZ1nOQG+a0Mi5lYXfZsaAISPgCBQ6KyRpT04DBtqYluUIMCa0VQxvICGQeweP06SE9iT0gyOQ76b5+k+mwp6iEZwYtHcO3COA0QfmQuUtrbAXa29HgImdBfehbAAjrBGUVvg2p7CnGQYmFgcHnoad4xvIP299llPY04Q/gxKLReGRUR+4KVA4yS0U6s/sGhdAieF0l/aiP95JVigaD9mfpMzNvfCS1G4e0eTEBLRTMg3k16UztmLx2rUn5mcvEuy5EOZDYPOwLHuo9MvZg94/dwkzQjXqmW4qSlLMnegUYmIx7EeBiCXryDhJLxTGnYcQZRjrxA8xjPJ8q47AOC1EKm/ef7Ba8Djxr7/+HSGxbk9noCV39xiL8bL3ks6D5x5nb+k7fnNvvF5e8hZzyW1oxQTt0n6+ePDcitaMyfDJ7dpb56G0K4w6X0Xv0hlKoqFrthq4Wu18ATpLYBxnlcNt3dhX3vfvwopNX1XyTucrhxJZX0Uk+uwNm/3P0T7kyeJuY95RmtzYOGeT2I3TxBKothh8vfmhjdj+7bmXW8vTrCib2z5s5iQW6yE7sKd2d14/QvpsaJjo7u0psFZ/k/3AcEh/NmqY36XxLwrt1duda31rnacamyjs3YaHx5T22607L/fr1J/rP9PUeKrz3z/9o3O72ofhuhT57tmhorJHT6WyQv1RLzJ+qHIw+d433/mTIW2M5oky49aj6TcLyI/nCQAm88Qjw9bD6rvHfcqOJmbzQsPWL49lLnlXfcqPHpq52j/dqt9a2Zr9Sa5ZDSfmGc28RO2rLNFvXtUVh3P5Vd115qWLyotF3ebDCT15Vd315lKJ8uqZtvnPxwzqib/4lylpDurNJbVaa6ez861G88TjvKnuB/frzSX1d1jIbl9NmMmXq7vJ/JHyWru2Hc4xz5fqbjKXHip/vM1sN1f0/KnuZvOM+lF1e/aKbmza5sHVXTP/QjGX7l1L/3lf/cBRdfN+9eBnxpRyX9115tn3HqaO8wH1j2xFL1I78D7mSXW3Mk9y8+o+9dVC5iC/lFT1fc8zX7npQ8LEsDHX8R91+8q+rPrTzICrQZapEsbdXDqgbC/8UcqqS4/UklBi96Xgg2Au7VEruqRTl+4rryz+KZITUMwl6Xi2aGvquje5BM1ckooL7jxIX8d06tKzOwWvub24oZpr6NV5phhsni/qxR1g8zxRxzHPD3Us87xQxzPPB3XN/ID7h3Xwr45rzr86tjn36vjmvKt7MOdc3Ys53+qezLlW92bOs3qRN3OO1bVpWPDM+VX3bM6tundzXtUJmHOqrpk/wd8Jl+qa+SEPe+FRnYw5j+qEzDlUJ2XOnzoxc+7UyZnzpk7QnDN1kuZ8qR8nac6V+iGi5jypEzbnSJ20OT/qxM25UdfMiQ1v40RdMy9y/zAifKjTMOdDnYo5F+p0zHlQp2TOgTot8+CrUzMPvDo986CrP6FnHnD1AxTNg61O1TzQ6nTNg6xO2TzA6lnzDjrmwVXXzIvdP4xFUNXpmwdVnYF5QNVZmAdTnYl5INXZmAdRnZF5ANVZmQdPnZl54NS/YGYeNHUG5lcHf1amadGrP1xdvU4rIBr0zctTk8wpExPp1F+nXry0mGWbGQyOuTpfg/GfuK8rr17TCupO1nw/vXru9K/7L6lFdUMzP0gvyAM1hn7Chm/U9xbdv04HJubS+cw0HSU503QULrh/nQpszHVrhGQmZ8nO1uLX5CyszIM3JQ8786BNxMTQPGDTbzE1D9Ska4zNtequ4U9FL2VuHpQJFktLmJsHZFpNX8wDMZmqT+bGmTXf+FHRfTP3feJkzbyQsbnf02XrzMvYR/dzknR/zf2cGt9vc6nyTTJ2K7UFEdqXx/u7Ustg9I+bVhfx2byperz/039/+uen/vHTFBbo2Boa0a+tUlezO53d5qv59O6vhkV/Boa2iO6/b8diSZ0RdeUsP82XRiwS2+kjtfvpjRc26wk1DFX5aV411GCT2IuNafevu9Nst5BSkor3TZW+mTfVV9hnNom1UqcRl0XNIv/L3kkxfuTR6LwcufdFzfrclrI78s6fY97ptqbmSW+r5pb/4rL/JN3v/DDfdSjsKjMfvNzhoK1J/Y69+RpSYnH8AD+4/7Qpxn7bW0bKCY1xt2qoUIG9fCPyErXrfyOohQD1JWqb8mFhYrwF3iCLz7Na0y8NZPH5OE6A5SuACBNE7p7QmD4CSKwO5/IeAgTAW+EdkxOgxELwAMsoyzFrxJgd9ijqyVehG37YHRamtQRzjXc4cWBi9dAA5VPACBEamlZYtZ+daIDe050BBpBnyPYQ2HJ6BpoZdKVw2LkkhbfWAjIt4MSgZ+AIOALGqRQH2IUnBbQquq/sbuYiFdMcPoMTi8ECNIEDyHV0VM2gtagMhEEBquABgBEwCWMkBlufujmf1GHddL35pN4LihDFiMBkZXKMk5AcBUX4HR/133Fdb8eIwOQJbzlGYrCemjD88rlJSdbEJjixCmBxtHuaZc8IHVUzVs8XnWkARoDfKjPqp4G3q6CNC3gD6QwV0xzArWlwk7IN0imZYoLJZT15YZ8AJlbXBg2B3tetAO4HwuU2MDF4YxpasE5TsLRkGZhYPzxEBBSAUUdFihugxHD6DH8ARfD8IB+dcVBiWGffAUCASdJ+TkwCEhvAijCLHiAGPot6oQ3wEGIWLwR6Z/8SWTc3lpATi+OGQL3A9RDUQqIHMTH8h9+1EaQAN5g0V/WE55ESi8B65Qw0ozzlYTyuQAGlQN71NHau2b2hNM/8mKcIu7evRjyOGqx1C8HsBtaM26PgkIfSrtLi9CBmE3uMkne6nBoyHgcMqjSG7B5udt8mMBIVn+keu+EPMyFSNxqjc5etftgezKFZ5KjuOWmR2OW5UYIx2jbWTfv/POTrEc/QHDd3pa1vEL+1nO3ruav8xhMD9Wu+H3CN5eFfRpRBVbFIzzDDdpRAIBAIBAKBQCAQCAQCgUAgEAgEAkEu/wcLeuFIhVqJggAAAABJRU5ErkJggg==",
          "x": "claw5",
          "xanchor": "center",
          "xref": "x",
          "y": -0.07,
          "yanchor": "top",
          "yref": "paper"
         },
         {
          "sizex": 0.5,
          "sizey": 0.5,
          "source": "data:image/png;base64,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",
          "x": "claw6",
          "xanchor": "center",
          "xref": "x",
          "y": -0.07,
          "yanchor": "top",
          "yref": "paper"
         },
         {
          "sizex": 0.5,
          "sizey": 0.5,
          "source": "data:image/png;base64,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",
          "x": "claw7",
          "xanchor": "center",
          "xref": "x",
          "y": -0.07,
          "yanchor": "top",
          "yref": "paper"
         },
         {
          "sizex": 0.5,
          "sizey": 0.5,
          "source": "data:image/png;base64,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",
          "x": "claw8",
          "xanchor": "center",
          "xref": "x",
          "y": -0.07,
          "yanchor": "top",
          "yref": "paper"
         },
         {
          "sizex": 0.5,
          "sizey": 0.5,
          "source": "data:image/png;base64,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",
          "x": "claw9",
          "xanchor": "center",
          "xref": "x",
          "y": -0.07,
          "yanchor": "top",
          "yref": "paper"
         }
        ],
        "template": {
         "data": {
          "bar": [
           {
            "error_x": {
             "color": "#2a3f5f"
            },
            "error_y": {
             "color": "#2a3f5f"
            },
            "marker": {
             "line": {
              "color": "#E5ECF6",
              "width": 0.5
             },
             "pattern": {
              "fillmode": "overlay",
              "size": 10,
              "solidity": 0.2
             }
            },
            "type": "bar"
           }
          ],
          "barpolar": [
           {
            "marker": {
             "line": {
              "color": "#E5ECF6",
              "width": 0.5
             },
             "pattern": {
              "fillmode": "overlay",
              "size": 10,
              "solidity": 0.2
             }
            },
            "type": "barpolar"
           }
          ],
          "carpet": [
           {
            "aaxis": {
             "endlinecolor": "#2a3f5f",
             "gridcolor": "white",
             "linecolor": "white",
             "minorgridcolor": "white",
             "startlinecolor": "#2a3f5f"
            },
            "baxis": {
             "endlinecolor": "#2a3f5f",
             "gridcolor": "white",
             "linecolor": "white",
             "minorgridcolor": "white",
             "startlinecolor": "#2a3f5f"
            },
            "type": "carpet"
           }
          ],
          "choropleth": [
           {
            "colorbar": {
             "outlinewidth": 0,
             "ticks": ""
            },
            "type": "choropleth"
           }
          ],
          "contour": [
           {
            "colorbar": {
             "outlinewidth": 0,
             "ticks": ""
            },
            "colorscale": [
             [
              0,
              "#0d0887"
             ],
             [
              0.1111111111111111,
              "#46039f"
             ],
             [
              0.2222222222222222,
              "#7201a8"
             ],
             [
              0.3333333333333333,
              "#9c179e"
             ],
             [
              0.4444444444444444,
              "#bd3786"
             ],
             [
              0.5555555555555556,
              "#d8576b"
             ],
             [
              0.6666666666666666,
              "#ed7953"
             ],
             [
              0.7777777777777778,
              "#fb9f3a"
             ],
             [
              0.8888888888888888,
              "#fdca26"
             ],
             [
              1,
              "#f0f921"
             ]
            ],
            "type": "contour"
           }
          ],
          "contourcarpet": [
           {
            "colorbar": {
             "outlinewidth": 0,
             "ticks": ""
            },
            "type": "contourcarpet"
           }
          ],
          "heatmap": [
           {
            "colorbar": {
             "outlinewidth": 0,
             "ticks": ""
            },
            "colorscale": [
             [
              0,
              "#0d0887"
             ],
             [
              0.1111111111111111,
              "#46039f"
             ],
             [
              0.2222222222222222,
              "#7201a8"
             ],
             [
              0.3333333333333333,
              "#9c179e"
             ],
             [
              0.4444444444444444,
              "#bd3786"
             ],
             [
              0.5555555555555556,
              "#d8576b"
             ],
             [
              0.6666666666666666,
              "#ed7953"
             ],
             [
              0.7777777777777778,
              "#fb9f3a"
             ],
             [
              0.8888888888888888,
              "#fdca26"
             ],
             [
              1,
              "#f0f921"
             ]
            ],
            "type": "heatmap"
           }
          ],
          "heatmapgl": [
           {
            "colorbar": {
             "outlinewidth": 0,
             "ticks": ""
            },
            "colorscale": [
             [
              0,
              "#0d0887"
             ],
             [
              0.1111111111111111,
              "#46039f"
             ],
             [
              0.2222222222222222,
              "#7201a8"
             ],
             [
              0.3333333333333333,
              "#9c179e"
             ],
             [
              0.4444444444444444,
              "#bd3786"
             ],
             [
              0.5555555555555556,
              "#d8576b"
             ],
             [
              0.6666666666666666,
              "#ed7953"
             ],
             [
              0.7777777777777778,
              "#fb9f3a"
             ],
             [
              0.8888888888888888,
              "#fdca26"
             ],
             [
              1,
              "#f0f921"
             ]
            ],
            "type": "heatmapgl"
           }
          ],
          "histogram": [
           {
            "marker": {
             "pattern": {
              "fillmode": "overlay",
              "size": 10,
              "solidity": 0.2
             }
            },
            "type": "histogram"
           }
          ],
          "histogram2d": [
           {
            "colorbar": {
             "outlinewidth": 0,
             "ticks": ""
            },
            "colorscale": [
             [
              0,
              "#0d0887"
             ],
             [
              0.1111111111111111,
              "#46039f"
             ],
             [
              0.2222222222222222,
              "#7201a8"
             ],
             [
              0.3333333333333333,
              "#9c179e"
             ],
             [
              0.4444444444444444,
              "#bd3786"
             ],
             [
              0.5555555555555556,
              "#d8576b"
             ],
             [
              0.6666666666666666,
              "#ed7953"
             ],
             [
              0.7777777777777778,
              "#fb9f3a"
             ],
             [
              0.8888888888888888,
              "#fdca26"
             ],
             [
              1,
              "#f0f921"
             ]
            ],
            "type": "histogram2d"
           }
          ],
          "histogram2dcontour": [
           {
            "colorbar": {
             "outlinewidth": 0,
             "ticks": ""
            },
            "colorscale": [
             [
              0,
              "#0d0887"
             ],
             [
              0.1111111111111111,
              "#46039f"
             ],
             [
              0.2222222222222222,
              "#7201a8"
             ],
             [
              0.3333333333333333,
              "#9c179e"
             ],
             [
              0.4444444444444444,
              "#bd3786"
             ],
             [
              0.5555555555555556,
              "#d8576b"
             ],
             [
              0.6666666666666666,
              "#ed7953"
             ],
             [
              0.7777777777777778,
              "#fb9f3a"
             ],
             [
              0.8888888888888888,
              "#fdca26"
             ],
             [
              1,
              "#f0f921"
             ]
            ],
            "type": "histogram2dcontour"
           }
          ],
          "mesh3d": [
           {
            "colorbar": {
             "outlinewidth": 0,
             "ticks": ""
            },
            "type": "mesh3d"
           }
          ],
          "parcoords": [
           {
            "line": {
             "colorbar": {
              "outlinewidth": 0,
              "ticks": ""
             }
            },
            "type": "parcoords"
           }
          ],
          "pie": [
           {
            "automargin": true,
            "type": "pie"
           }
          ],
          "scatter": [
           {
            "fillpattern": {
             "fillmode": "overlay",
             "size": 10,
             "solidity": 0.2
            },
            "type": "scatter"
           }
          ],
          "scatter3d": [
           {
            "line": {
             "colorbar": {
              "outlinewidth": 0,
              "ticks": ""
             }
            },
            "marker": {
             "colorbar": {
              "outlinewidth": 0,
              "ticks": ""
             }
            },
            "type": "scatter3d"
           }
          ],
          "scattercarpet": [
           {
            "marker": {
             "colorbar": {
              "outlinewidth": 0,
              "ticks": ""
             }
            },
            "type": "scattercarpet"
           }
          ],
          "scattergeo": [
           {
            "marker": {
             "colorbar": {
              "outlinewidth": 0,
              "ticks": ""
             }
            },
            "type": "scattergeo"
           }
          ],
          "scattergl": [
           {
            "marker": {
             "colorbar": {
              "outlinewidth": 0,
              "ticks": ""
             }
            },
            "type": "scattergl"
           }
          ],
          "scattermapbox": [
           {
            "marker": {
             "colorbar": {
              "outlinewidth": 0,
              "ticks": ""
             }
            },
            "type": "scattermapbox"
           }
          ],
          "scatterpolar": [
           {
            "marker": {
             "colorbar": {
              "outlinewidth": 0,
              "ticks": ""
             }
            },
            "type": "scatterpolar"
           }
          ],
          "scatterpolargl": [
           {
            "marker": {
             "colorbar": {
              "outlinewidth": 0,
              "ticks": ""
             }
            },
            "type": "scatterpolargl"
           }
          ],
          "scatterternary": [
           {
            "marker": {
             "colorbar": {
              "outlinewidth": 0,
              "ticks": ""
             }
            },
            "type": "scatterternary"
           }
          ],
          "surface": [
           {
            "colorbar": {
             "outlinewidth": 0,
             "ticks": ""
            },
            "colorscale": [
             [
              0,
              "#0d0887"
             ],
             [
              0.1111111111111111,
              "#46039f"
             ],
             [
              0.2222222222222222,
              "#7201a8"
             ],
             [
              0.3333333333333333,
              "#9c179e"
             ],
             [
              0.4444444444444444,
              "#bd3786"
             ],
             [
              0.5555555555555556,
              "#d8576b"
             ],
             [
              0.6666666666666666,
              "#ed7953"
             ],
             [
              0.7777777777777778,
              "#fb9f3a"
             ],
             [
              0.8888888888888888,
              "#fdca26"
             ],
             [
              1,
              "#f0f921"
             ]
            ],
            "type": "surface"
           }
          ],
          "table": [
           {
            "cells": {
             "fill": {
              "color": "#EBF0F8"
             },
             "line": {
              "color": "white"
             }
            },
            "header": {
             "fill": {
              "color": "#C8D4E3"
             },
             "line": {
              "color": "white"
             }
            },
            "type": "table"
           }
          ]
         },
         "layout": {
          "annotationdefaults": {
           "arrowcolor": "#2a3f5f",
           "arrowhead": 0,
           "arrowwidth": 1
          },
          "autotypenumbers": "strict",
          "coloraxis": {
           "colorbar": {
            "outlinewidth": 0,
            "ticks": ""
           }
          },
          "colorscale": {
           "diverging": [
            [
             0,
             "#8e0152"
            ],
            [
             0.1,
             "#c51b7d"
            ],
            [
             0.2,
             "#de77ae"
            ],
            [
             0.3,
             "#f1b6da"
            ],
            [
             0.4,
             "#fde0ef"
            ],
            [
             0.5,
             "#f7f7f7"
            ],
            [
             0.6,
             "#e6f5d0"
            ],
            [
             0.7,
             "#b8e186"
            ],
            [
             0.8,
             "#7fbc41"
            ],
            [
             0.9,
             "#4d9221"
            ],
            [
             1,
             "#276419"
            ]
           ],
           "sequential": [
            [
             0,
             "#0d0887"
            ],
            [
             0.1111111111111111,
             "#46039f"
            ],
            [
             0.2222222222222222,
             "#7201a8"
            ],
            [
             0.3333333333333333,
             "#9c179e"
            ],
            [
             0.4444444444444444,
             "#bd3786"
            ],
            [
             0.5555555555555556,
             "#d8576b"
            ],
            [
             0.6666666666666666,
             "#ed7953"
            ],
            [
             0.7777777777777778,
             "#fb9f3a"
            ],
            [
             0.8888888888888888,
             "#fdca26"
            ],
            [
             1,
             "#f0f921"
            ]
           ],
           "sequentialminus": [
            [
             0,
             "#0d0887"
            ],
            [
             0.1111111111111111,
             "#46039f"
            ],
            [
             0.2222222222222222,
             "#7201a8"
            ],
            [
             0.3333333333333333,
             "#9c179e"
            ],
            [
             0.4444444444444444,
             "#bd3786"
            ],
            [
             0.5555555555555556,
             "#d8576b"
            ],
            [
             0.6666666666666666,
             "#ed7953"
            ],
            [
             0.7777777777777778,
             "#fb9f3a"
            ],
            [
             0.8888888888888888,
             "#fdca26"
            ],
            [
             1,
             "#f0f921"
            ]
           ]
          },
          "colorway": [
           "#636efa",
           "#EF553B",
           "#00cc96",
           "#ab63fa",
           "#FFA15A",
           "#19d3f3",
           "#FF6692",
           "#B6E880",
           "#FF97FF",
           "#FECB52"
          ],
          "font": {
           "color": "#2a3f5f"
          },
          "geo": {
           "bgcolor": "white",
           "lakecolor": "white",
           "landcolor": "#E5ECF6",
           "showlakes": true,
           "showland": true,
           "subunitcolor": "white"
          },
          "hoverlabel": {
           "align": "left"
          },
          "hovermode": "closest",
          "mapbox": {
           "style": "light"
          },
          "paper_bgcolor": "white",
          "plot_bgcolor": "#E5ECF6",
          "polar": {
           "angularaxis": {
            "gridcolor": "white",
            "linecolor": "white",
            "ticks": ""
           },
           "bgcolor": "#E5ECF6",
           "radialaxis": {
            "gridcolor": "white",
            "linecolor": "white",
            "ticks": ""
           }
          },
          "scene": {
           "xaxis": {
            "backgroundcolor": "#E5ECF6",
            "gridcolor": "white",
            "gridwidth": 2,
            "linecolor": "white",
            "showbackground": true,
            "ticks": "",
            "zerolinecolor": "white"
           },
           "yaxis": {
            "backgroundcolor": "#E5ECF6",
            "gridcolor": "white",
            "gridwidth": 2,
            "linecolor": "white",
            "showbackground": true,
            "ticks": "",
            "zerolinecolor": "white"
           },
           "zaxis": {
            "backgroundcolor": "#E5ECF6",
            "gridcolor": "white",
            "gridwidth": 2,
            "linecolor": "white",
            "showbackground": true,
            "ticks": "",
            "zerolinecolor": "white"
           }
          },
          "shapedefaults": {
           "line": {
            "color": "#2a3f5f"
           }
          },
          "ternary": {
           "aaxis": {
            "gridcolor": "white",
            "linecolor": "white",
            "ticks": ""
           },
           "baxis": {
            "gridcolor": "white",
            "linecolor": "white",
            "ticks": ""
           },
           "bgcolor": "#E5ECF6",
           "caxis": {
            "gridcolor": "white",
            "linecolor": "white",
            "ticks": ""
           }
          },
          "title": {
           "x": 0.05
          },
          "xaxis": {
           "automargin": true,
           "gridcolor": "white",
           "linecolor": "white",
           "ticks": "",
           "title": {
            "standoff": 15
           },
           "zerolinecolor": "white",
           "zerolinewidth": 2
          },
          "yaxis": {
           "automargin": true,
           "gridcolor": "white",
           "linecolor": "white",
           "ticks": "",
           "title": {
            "standoff": 15
           },
           "zerolinecolor": "white",
           "zerolinewidth": 2
          }
         }
        },
        "title": {
         "text": "Z-scores for Twitter Generated Samples of 7861312"
        },
        "xaxis": {
         "showticklabels": true,
         "tickvals": [
          "claw1",
          "claw2",
          "claw3",
          "claw4",
          "claw5",
          "claw6",
          "claw7",
          "claw8",
          "claw9"
         ],
         "title": {}
        },
        "yaxis": {
         "title": {
          "text": "significance_profile"
         }
        }
       }
      }
     },
     "metadata": {},
     "output_type": "display_data"
    },
    {
     "name": "stdout",
     "output_type": "stream",
     "text": [
      "                graph_name  motif  nodes  edges\n",
      "144   7861312_sample_rn_15  claw1   32.0   89.0\n",
      "216   7861312_sample_rw_15  claw1   33.0  215.0\n",
      "252  7861312_sample_sff_15  claw1   33.0  364.0\n",
      "405  7861312_sample_rpn_15  claw1   25.0  101.0\n"
     ]
    },
    {
     "data": {
      "application/vnd.plotly.v1+json": {
       "config": {
        "plotlyServerURL": "https://plot.ly"
       },
       "data": [
        {
         "mode": "lines+markers",
         "name": "7861312_sample_rpn_10",
         "type": "scatter",
         "x": [
          "claw1",
          "claw2",
          "claw3",
          "claw4",
          "claw5",
          "claw6",
          "claw7",
          "claw8",
          "claw9"
         ],
         "y": [
          -0.0308737612201291,
          -0.1805898459803794,
          -0.1874180312899448,
          -0.0454713414173841,
          0.2570882537640715,
          0.1721223499779131,
          0.5552113116368935,
          0.391470388578013,
          0.6099277151971789
         ]
        },
        {
         "mode": "lines+markers",
         "name": "7861312_sample_sff_10",
         "type": "scatter",
         "x": [
          "claw1",
          "claw2",
          "claw3",
          "claw4",
          "claw5",
          "claw6",
          "claw7",
          "claw8",
          "claw9"
         ],
         "y": [
          -0.0227334876882617,
          -0.0494353828337543,
          0.0289332483265858,
          0.0930424629950549,
          0.0691008980644931,
          0.5178109208556091,
          0.7102824971562365,
          0.3012452279646264,
          0.3455319112239586
         ]
        },
        {
         "mode": "lines+markers",
         "name": "7861312_sample_rw_10",
         "type": "scatter",
         "x": [
          "claw1",
          "claw2",
          "claw3",
          "claw4",
          "claw5",
          "claw6",
          "claw7",
          "claw8",
          "claw9"
         ],
         "y": [
          0.0354569415077697,
          -0.0546951660629127,
          -0.0578831806881611,
          0.0787195965579117,
          0.1181083990975862,
          -0.0385776225205346,
          0.230033464369637,
          0.2208974351789829,
          0.9322312524927302
         ]
        },
        {
         "mode": "lines+markers",
         "name": "7861312_sample_rn_10",
         "type": "scatter",
         "x": [
          "claw1",
          "claw2",
          "claw3",
          "claw4",
          "claw5",
          "claw6",
          "claw7",
          "claw8",
          "claw9"
         ],
         "y": [
          0.0106888578306324,
          -0.0121581102779397,
          -0.0165871061556569,
          0.0144216194197282,
          0.0068715951909277,
          0.019109684059138,
          0.0765490504525638,
          0.2961014452813085,
          0.9514760068479196
         ]
        }
       ],
       "layout": {
        "images": [
         {
          "sizex": 0.5,
          "sizey": 0.5,
          "source": "data:image/png;base64,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",
          "x": "claw1",
          "xanchor": "center",
          "xref": "x",
          "y": -0.07,
          "yanchor": "top",
          "yref": "paper"
         },
         {
          "sizex": 0.5,
          "sizey": 0.5,
          "source": "data:image/png;base64,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",
          "x": "claw2",
          "xanchor": "center",
          "xref": "x",
          "y": -0.07,
          "yanchor": "top",
          "yref": "paper"
         },
         {
          "sizex": 0.5,
          "sizey": 0.5,
          "source": "data:image/png;base64,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",
          "x": "claw3",
          "xanchor": "center",
          "xref": "x",
          "y": -0.07,
          "yanchor": "top",
          "yref": "paper"
         },
         {
          "sizex": 0.5,
          "sizey": 0.5,
          "source": "data:image/png;base64,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",
          "x": "claw4",
          "xanchor": "center",
          "xref": "x",
          "y": -0.07,
          "yanchor": "top",
          "yref": "paper"
         },
         {
          "sizex": 0.5,
          "sizey": 0.5,
          "source": "data:image/png;base64,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",
          "x": "claw5",
          "xanchor": "center",
          "xref": "x",
          "y": -0.07,
          "yanchor": "top",
          "yref": "paper"
         },
         {
          "sizex": 0.5,
          "sizey": 0.5,
          "source": "data:image/png;base64,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",
          "x": "claw6",
          "xanchor": "center",
          "xref": "x",
          "y": -0.07,
          "yanchor": "top",
          "yref": "paper"
         },
         {
          "sizex": 0.5,
          "sizey": 0.5,
          "source": "data:image/png;base64,iVBORw0KGgoAAAANSUhEUgAAAPoAAAD6CAMAAAC/MqoPAAACPVBMVEVHcExzc3Nzc3Nzc3Nzc3Nzc3Nzc3Nzc3Nzc3Nzc3Nzc3OMUv9zc3Nzc3OMUv9zc3Nzc3OMUv+MUv9zc3Nzc3Nzc3Nzc3Nzc3Nzc3Nzc3OMUv+MUv+MUv9zc3OMUv9zc3OMUv9zc3OMUv+MUv+MUv9zc3Nzc3Nzc3OMUv+MUv+MUv+MUv+MUv+MUv+MUv+MUv9zc3OMUv+MUv+MUv+MUv9zc3OMUv+MUv+MUv9zc3Nzc3OMUv+MUv+MUv+MUv+MUv+MUv+MUv+MUv+MUv+MUv+MUv+MUv+MUv+MUv+MUv+MUv+MUv+MUv+MUv+MUv+MUv9zc3OMUv+MUv+MUv+MUv+MUv+MUv+MUv+MUv+MUv+MUv+MUv+MUv+MUv+MUv9zc3Nzc3OMUv+MUv+MUv+MUv+MUv+MUv+MUv+MUv+MUv+MUv+MUv+MUv+MUv+MUv9zc3Nzc3Nzc3OMUv+MUv+MUv+MUv+MUv+MUv+MUv+MUv+MUv+MUv+MUv+MUv9zc3Nzc3Nzc3Nzc3NzcnVzc3Nzc3Nzc3Nzc3OMUv+MUv+MUv+MUv+MUv+MUv+MUv+EXdKMUv+MUv+MUv+MUv+MUv+MUv+MUv+MUv+MUv+MUv9zc3Nzc3N1cXxzc3Nzc3RzcnZzc3Nzc3Nzc3N0cnd0cnd0cnh4bY54bI95a5V1cIB3bol3bYx/Y7aMUv+MUv+MUv+MUv+MUv+MUv+MUv+MUv+MUv+CX8iFW9mEXNOMUv+MUv+MUv+CX8eBYb+MUv9zc3MV+1bJAAAAv3RSTlMArvBSD4BQEKBAMANf+PBFAQ7pBGz7k2DAcPt5aO+YkAfgCBf5IL+wSAThClgNqvbQGCjeyN+J9fzPn1cm0qC4LO0xEx1gJX5Dqe/A54DZkH5TRyABGnxrxeqw0OLlzD/zcE42OBRELyoRO6bam9c7uo9KXB9Bwp66pJ3OtrJkWnwHvcv99INfbj9tUEx7lYzGh92v84uil4JvT2e9u76o9521v5YUeH01mJy2VWNbNDxkdHN3KDuXtI6Sn6///5E16LYAAAv4SURBVHic7Z33Y9RGFoCFObNer1nwQuLFjXXvxg3bEDC2KcYGAy4BbGISQgIxLbmElgApFy6XBC6VlCu53s/Xe9H+bbdada3KvNHMSNqb7xeM19J7nzUz0oxkPUHgcDgcDofD4XA4HA6Hw+FwOJyQ0tX9Ye9HnaIoDt68PPxy0NkYeTh8+eZgLrHO070fdneR3ntmbnpENDJzaz5BOggOifZbM6bERqbnMgT3nzm3JBYy+Erg8olvddoktvRuhtD+O2z3L7H3IaEQmDy71yExQkel/4jD/iV6e0iEwKOn1yWxI/3+A7x81CWAKF457z8EHuevuCZ29D2f+0987Lr/HM3vExEB826zR2KjNb4avWtjVwmi0bs2dhVfjR4lgCgOEzNCZhgpsWn8ADVIAUTxCXJOaKwhJlaDG2B+FDHCjkmSXt5M7kBMbBTzqrMyhRggd4K3G1FiT5f7EnQksRc5sVQlVgS0/iRTW7j5hrpsdlfMp6UttYDEsMahBdRWlf/tNlq2ju3OSrQSMLUCaI25vtiEEWEMEKBgQCnflZWh0OZnQYnVwwOMo45xMknTb7eqTjHPbiMlrNGUBCU2Og6OUA8KYDrsSmPP00LOWQH1jKsCPuyLK8AIQ9qmWmPPUUXUOs8QMLFOaIDngAFEUT2N6I09W0LBvB+c2AAwwiw4Qnd+O2Nj76NxXoec2WSgl3TQZqVcMBsbexmVk/oyOLEh750aSVSDI0h9inJjl3BaMXKmGTZ57QIHEJtNjb3k++uocMJrmm6D9XLLnf3wAOLPDY2dGl9hJLYfpH4AI8L3GJhnv4GR2AGQ+h6MCD9hof5TjMT2gNQXMCL8jIX6DzASuw5Sb8KI8CsW6l9hJAabvPXAA1QvljJQfwl+1hVhy6YJeICUIMRL9Bx/uJ4KL0Im6zLVwEVp2MxQ4kxuq1had2+lcjEnnAEnlgJG2AeOIE8ODY2+Lk5eHD6ZFsV9wAjwWUK7vKGx0Z8g7Z2jHZyYzbqhK09CAyQzypaUG30GfCULvgcD7VPL+qaGRr+LpLUMtCsCJ24CbClawtisDI2e/PwN2hXhd2CAq3+DpumR3ujJqzcOghJLYqxGz4IiHLRsrTT6EvLLksJBUGI4t91AK/2Fd57kRk9jvQJw38nm3ggS5wAR2gs3j5WVNNBZqXkASAx6ZpPpQB9LbxGW8+AqcmK3O/AiVB5DDPARZgBcOk4jJnYF70Zrjj1oo/yV50l6ofD8U0iJLR3CDzGPMkVM+ggApfzpE19v3Znd+UuUg1L9nJ9QF7xDrDB5pEJx1vj1ivchueAv5MA1jwCnnyTj5khLhclZnRb+zau/X4PecCqg8rZrgFczBOzc2FBXoJ0nnnnVNbHb2COcTuKg87XNJw/879+DBnvzbFwQ1pwHu9TvyDy63HPcfrQbmcoQ2b8rDuZZ6bOukyO2iVUfJ/cU48CnhfvfMQZb2sfEwbxB/vTAmM0TP5/67uUmKn/f+8jYoF57FuviGE6bvXpa/bxxbmzCkFjy8hMEOnkBFy90n5r67GTt2uEXKOzdgXJ57l+SLtv9I4P6duPPvHB4rfaD3/7nVPf8RXaJMSBWVRqXFjg3PWM86qWWH2rNfW8nnTXgwNm00TrAGynLf5PGU3rBYzG3PI9XZd8WigKredb0abl22UNl6T9QdPO3Tec2mZj+TEPRdXfdfN3rlnObRJmhNawLKkc6GMy3lBZ26qqsEfJPpgaI0Vy9wjEIllvmN5Qewg8Ck7mQtg5nMevDS8XT3c3m6iW9vry/PWulWLq7xTym/Ef7fEOBebF0d4u5EJf/06d+3mK7kFEM3X29xVxVb1N/oE/5+H6xdff1j1nMBUGex6l3dbSO/k35H/UOb+S7u425fCtPPehaR9+mOL9RJN3dzjxHeVztyjG1o7cpjSH7Na0ZULjDyw7dvGyL/U9sUz5viGnqWuffbr9JJDCYb3b4EfXBlXJBV29Rvko7bBMBEMzV4V7q15q62v8p/SECA1DMlYlLmfSVrm74ZiRBM88d93RaHssN6sKGdHoD/RQpgWquY1SPMnDzYlGvgJsXiXrFfbh5cahjmReFOp55MahjmheBum7++GbQhpFXN5gDt4y6Or551NV9mEdc3Y95tNV9mUda3Z95lNW3+jOPsPrWrD/z6Kr7No+sun/zqKrr5u9g7yOa6rq5j+efIqlOxDyS6mTMo6hOyDyC6qTMo6dOzDxy6m8SM4+aeik584ipkzSPljpR80ipkzWPkrpu/iaR/UVHXTffSmaHkVEnbh4ZdfLmUVGnYB4RdRrm0VCnYh4J9XeomEdB/XE65hFQp2UefnVq5qFX18zvkzYPu7puXkF83+FWp2kebnWq5qFWp2seZnXK5iFWp20eWvXN1M3Dqr65jLp5SNVZmIdTnYl5KNXZmIdRXTd/jKZ5CNUN5uupBgqdOjPz0KmzMw+bOkPzkKmzMI+3tn4n/4XpDztbW6kOqZ6wMM+H2C19ZVDfpn0zILYwMFf+Xjtkf8S9ZR2Dfm77p/vKSxwC+9N9JubaCxt2BvrChnJT6Wk25kJMfxdLcK/pkN4Hphf30c030j2rheDlLPIb3+qU/xnMN1EO7PRKnjbvTQmhvAROPuwMzZ1exNTA7kVMfQZ1pubau1jMMHz9lhJR+l2zNQ/8pWstSkiBvbndq/bYdXTt1TjpIMz17h5AR9cuLdqEtwIwL+juTN+zp7S50rdeCsDc2t3Zvm5Necvn68GYm7s7y44uaOUa3g7IXIjp3Z1pRxcKahawNtden8+6o+cCm82fYW6uvzuZ9XsV42bzFxmHz1MWREc3ValUzOPfPVHBttPlKyb20Yt5cd62DIZxgN34492t8jpJHcNuly+D8d9/nOq+QKMMRuUrpuInE2NzWvGTdNYWRq2va+5zc/GTNbLFTyaXbUrefK6UdLedPGUtNQsocciu0NPyH8jtv9e2nJBYXZ+v6uVgzkC9/6pDvbnePXT3Lx35j1ctA7xOg/eu/bE6bFPkyHxU/HF+xnH/Ep2HHNRLaBfjOORexHDGVwk/iRuPXAOIYurvhX29Ib29ivaS6LhXGdlHh/0FeOhd93rmNybn0jiTs5pHY5Ro9lVs7hJS2cpfNDB0lkGqJVr9Rx8BlhACiOIx9sVK0SrILmFXnEMuUXszrCVq72Be3iTQCxPXk1Xzoh45sbt4JRwhNd5tylHTox2QmLU4OhKNoCLkpPXc2AtIbBCnzmINIIAodhMXdKQblBhG6fkmtFLUKoNk6qIi0DgISiwJH+mOgwLg1njHANYaRXEYHGEIGGGZgqUt6OcdmSFogH5gADGZoaBpQ8b70toCdA4HObPJMDq/Qc5sMtCuCG1WzC5r0C9nVPYBI8DGd4kzVEwLOANOLAULkAAHgEbABXKhJVMNO+/2wNWrFynJmlhEmUZbgFUkb4IHEDN0ZM00YiTWBIqwgBGBXLl3FyoxErsOijCOEWE/JVsTOM0RVon+AEaELkq2JrowEusHRdiPEYHJUk0HRmKroAgYv9wkJVkL4OtY6PibgJ9DjtFRtdIJTqwZGAE6cRPFaSqmBUyDE4NO3aCzYmbrNLA1GgnoOs0ANEAz2dvajsBP7LBzmwDvU0doeNoB7YrwMQg6OcRY/sMD2hWPgyOMj4ICJGEXyj4ArpeOjsNDjIEizBJXdGQWlNgYRoQF52cWCkkxGuQkKiFT9h0LOCEgy9HnSPu5cQ6QGLynS6xeQw5whOmt1o6zyIldw2yNAyOIAVLMxjiZ66hNfgR8Tlc5iBZg9D2SXijcQDz9YN1nlUEb5Zmd0nVmkRLzsz7ehdKr/klMCJ3EPYTE7vgagRJfeAaYIqUDYvGkZ2JX/d78rXVfG0g+JGKCwQP3Qbj5T/5DXJpwCdBJ5mFULCbdbrRP+H5YUmL1S6er5qN/ZrIU6UTXX446tcUvYetxzlR+2+7IP/U+znMqRGk8Zfeg7MRJkpfVmfYvVky7/+RfN5g9QuJG4vC/zSsLK/XtGeJRLk1dvXsnJa6cvVf/13Hie/fBZE39vbMrYurO3demLgWdDIfD4XA4HA6Hw+FwOBwOh8PhcDic/3P+B7Sl3vOHzsmTAAAAAElFTkSuQmCC",
          "x": "claw7",
          "xanchor": "center",
          "xref": "x",
          "y": -0.07,
          "yanchor": "top",
          "yref": "paper"
         },
         {
          "sizex": 0.5,
          "sizey": 0.5,
          "source": "data:image/png;base64,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",
          "x": "claw8",
          "xanchor": "center",
          "xref": "x",
          "y": -0.07,
          "yanchor": "top",
          "yref": "paper"
         },
         {
          "sizex": 0.5,
          "sizey": 0.5,
          "source": "data:image/png;base64,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",
          "x": "claw9",
          "xanchor": "center",
          "xref": "x",
          "y": -0.07,
          "yanchor": "top",
          "yref": "paper"
         }
        ],
        "template": {
         "data": {
          "bar": [
           {
            "error_x": {
             "color": "#2a3f5f"
            },
            "error_y": {
             "color": "#2a3f5f"
            },
            "marker": {
             "line": {
              "color": "#E5ECF6",
              "width": 0.5
             },
             "pattern": {
              "fillmode": "overlay",
              "size": 10,
              "solidity": 0.2
             }
            },
            "type": "bar"
           }
          ],
          "barpolar": [
           {
            "marker": {
             "line": {
              "color": "#E5ECF6",
              "width": 0.5
             },
             "pattern": {
              "fillmode": "overlay",
              "size": 10,
              "solidity": 0.2
             }
            },
            "type": "barpolar"
           }
          ],
          "carpet": [
           {
            "aaxis": {
             "endlinecolor": "#2a3f5f",
             "gridcolor": "white",
             "linecolor": "white",
             "minorgridcolor": "white",
             "startlinecolor": "#2a3f5f"
            },
            "baxis": {
             "endlinecolor": "#2a3f5f",
             "gridcolor": "white",
             "linecolor": "white",
             "minorgridcolor": "white",
             "startlinecolor": "#2a3f5f"
            },
            "type": "carpet"
           }
          ],
          "choropleth": [
           {
            "colorbar": {
             "outlinewidth": 0,
             "ticks": ""
            },
            "type": "choropleth"
           }
          ],
          "contour": [
           {
            "colorbar": {
             "outlinewidth": 0,
             "ticks": ""
            },
            "colorscale": [
             [
              0,
              "#0d0887"
             ],
             [
              0.1111111111111111,
              "#46039f"
             ],
             [
              0.2222222222222222,
              "#7201a8"
             ],
             [
              0.3333333333333333,
              "#9c179e"
             ],
             [
              0.4444444444444444,
              "#bd3786"
             ],
             [
              0.5555555555555556,
              "#d8576b"
             ],
             [
              0.6666666666666666,
              "#ed7953"
             ],
             [
              0.7777777777777778,
              "#fb9f3a"
             ],
             [
              0.8888888888888888,
              "#fdca26"
             ],
             [
              1,
              "#f0f921"
             ]
            ],
            "type": "contour"
           }
          ],
          "contourcarpet": [
           {
            "colorbar": {
             "outlinewidth": 0,
             "ticks": ""
            },
            "type": "contourcarpet"
           }
          ],
          "heatmap": [
           {
            "colorbar": {
             "outlinewidth": 0,
             "ticks": ""
            },
            "colorscale": [
             [
              0,
              "#0d0887"
             ],
             [
              0.1111111111111111,
              "#46039f"
             ],
             [
              0.2222222222222222,
              "#7201a8"
             ],
             [
              0.3333333333333333,
              "#9c179e"
             ],
             [
              0.4444444444444444,
              "#bd3786"
             ],
             [
              0.5555555555555556,
              "#d8576b"
             ],
             [
              0.6666666666666666,
              "#ed7953"
             ],
             [
              0.7777777777777778,
              "#fb9f3a"
             ],
             [
              0.8888888888888888,
              "#fdca26"
             ],
             [
              1,
              "#f0f921"
             ]
            ],
            "type": "heatmap"
           }
          ],
          "heatmapgl": [
           {
            "colorbar": {
             "outlinewidth": 0,
             "ticks": ""
            },
            "colorscale": [
             [
              0,
              "#0d0887"
             ],
             [
              0.1111111111111111,
              "#46039f"
             ],
             [
              0.2222222222222222,
              "#7201a8"
             ],
             [
              0.3333333333333333,
              "#9c179e"
             ],
             [
              0.4444444444444444,
              "#bd3786"
             ],
             [
              0.5555555555555556,
              "#d8576b"
             ],
             [
              0.6666666666666666,
              "#ed7953"
             ],
             [
              0.7777777777777778,
              "#fb9f3a"
             ],
             [
              0.8888888888888888,
              "#fdca26"
             ],
             [
              1,
              "#f0f921"
             ]
            ],
            "type": "heatmapgl"
           }
          ],
          "histogram": [
           {
            "marker": {
             "pattern": {
              "fillmode": "overlay",
              "size": 10,
              "solidity": 0.2
             }
            },
            "type": "histogram"
           }
          ],
          "histogram2d": [
           {
            "colorbar": {
             "outlinewidth": 0,
             "ticks": ""
            },
            "colorscale": [
             [
              0,
              "#0d0887"
             ],
             [
              0.1111111111111111,
              "#46039f"
             ],
             [
              0.2222222222222222,
              "#7201a8"
             ],
             [
              0.3333333333333333,
              "#9c179e"
             ],
             [
              0.4444444444444444,
              "#bd3786"
             ],
             [
              0.5555555555555556,
              "#d8576b"
             ],
             [
              0.6666666666666666,
              "#ed7953"
             ],
             [
              0.7777777777777778,
              "#fb9f3a"
             ],
             [
              0.8888888888888888,
              "#fdca26"
             ],
             [
              1,
              "#f0f921"
             ]
            ],
            "type": "histogram2d"
           }
          ],
          "histogram2dcontour": [
           {
            "colorbar": {
             "outlinewidth": 0,
             "ticks": ""
            },
            "colorscale": [
             [
              0,
              "#0d0887"
             ],
             [
              0.1111111111111111,
              "#46039f"
             ],
             [
              0.2222222222222222,
              "#7201a8"
             ],
             [
              0.3333333333333333,
              "#9c179e"
             ],
             [
              0.4444444444444444,
              "#bd3786"
             ],
             [
              0.5555555555555556,
              "#d8576b"
             ],
             [
              0.6666666666666666,
              "#ed7953"
             ],
             [
              0.7777777777777778,
              "#fb9f3a"
             ],
             [
              0.8888888888888888,
              "#fdca26"
             ],
             [
              1,
              "#f0f921"
             ]
            ],
            "type": "histogram2dcontour"
           }
          ],
          "mesh3d": [
           {
            "colorbar": {
             "outlinewidth": 0,
             "ticks": ""
            },
            "type": "mesh3d"
           }
          ],
          "parcoords": [
           {
            "line": {
             "colorbar": {
              "outlinewidth": 0,
              "ticks": ""
             }
            },
            "type": "parcoords"
           }
          ],
          "pie": [
           {
            "automargin": true,
            "type": "pie"
           }
          ],
          "scatter": [
           {
            "fillpattern": {
             "fillmode": "overlay",
             "size": 10,
             "solidity": 0.2
            },
            "type": "scatter"
           }
          ],
          "scatter3d": [
           {
            "line": {
             "colorbar": {
              "outlinewidth": 0,
              "ticks": ""
             }
            },
            "marker": {
             "colorbar": {
              "outlinewidth": 0,
              "ticks": ""
             }
            },
            "type": "scatter3d"
           }
          ],
          "scattercarpet": [
           {
            "marker": {
             "colorbar": {
              "outlinewidth": 0,
              "ticks": ""
             }
            },
            "type": "scattercarpet"
           }
          ],
          "scattergeo": [
           {
            "marker": {
             "colorbar": {
              "outlinewidth": 0,
              "ticks": ""
             }
            },
            "type": "scattergeo"
           }
          ],
          "scattergl": [
           {
            "marker": {
             "colorbar": {
              "outlinewidth": 0,
              "ticks": ""
             }
            },
            "type": "scattergl"
           }
          ],
          "scattermapbox": [
           {
            "marker": {
             "colorbar": {
              "outlinewidth": 0,
              "ticks": ""
             }
            },
            "type": "scattermapbox"
           }
          ],
          "scatterpolar": [
           {
            "marker": {
             "colorbar": {
              "outlinewidth": 0,
              "ticks": ""
             }
            },
            "type": "scatterpolar"
           }
          ],
          "scatterpolargl": [
           {
            "marker": {
             "colorbar": {
              "outlinewidth": 0,
              "ticks": ""
             }
            },
            "type": "scatterpolargl"
           }
          ],
          "scatterternary": [
           {
            "marker": {
             "colorbar": {
              "outlinewidth": 0,
              "ticks": ""
             }
            },
            "type": "scatterternary"
           }
          ],
          "surface": [
           {
            "colorbar": {
             "outlinewidth": 0,
             "ticks": ""
            },
            "colorscale": [
             [
              0,
              "#0d0887"
             ],
             [
              0.1111111111111111,
              "#46039f"
             ],
             [
              0.2222222222222222,
              "#7201a8"
             ],
             [
              0.3333333333333333,
              "#9c179e"
             ],
             [
              0.4444444444444444,
              "#bd3786"
             ],
             [
              0.5555555555555556,
              "#d8576b"
             ],
             [
              0.6666666666666666,
              "#ed7953"
             ],
             [
              0.7777777777777778,
              "#fb9f3a"
             ],
             [
              0.8888888888888888,
              "#fdca26"
             ],
             [
              1,
              "#f0f921"
             ]
            ],
            "type": "surface"
           }
          ],
          "table": [
           {
            "cells": {
             "fill": {
              "color": "#EBF0F8"
             },
             "line": {
              "color": "white"
             }
            },
            "header": {
             "fill": {
              "color": "#C8D4E3"
             },
             "line": {
              "color": "white"
             }
            },
            "type": "table"
           }
          ]
         },
         "layout": {
          "annotationdefaults": {
           "arrowcolor": "#2a3f5f",
           "arrowhead": 0,
           "arrowwidth": 1
          },
          "autotypenumbers": "strict",
          "coloraxis": {
           "colorbar": {
            "outlinewidth": 0,
            "ticks": ""
           }
          },
          "colorscale": {
           "diverging": [
            [
             0,
             "#8e0152"
            ],
            [
             0.1,
             "#c51b7d"
            ],
            [
             0.2,
             "#de77ae"
            ],
            [
             0.3,
             "#f1b6da"
            ],
            [
             0.4,
             "#fde0ef"
            ],
            [
             0.5,
             "#f7f7f7"
            ],
            [
             0.6,
             "#e6f5d0"
            ],
            [
             0.7,
             "#b8e186"
            ],
            [
             0.8,
             "#7fbc41"
            ],
            [
             0.9,
             "#4d9221"
            ],
            [
             1,
             "#276419"
            ]
           ],
           "sequential": [
            [
             0,
             "#0d0887"
            ],
            [
             0.1111111111111111,
             "#46039f"
            ],
            [
             0.2222222222222222,
             "#7201a8"
            ],
            [
             0.3333333333333333,
             "#9c179e"
            ],
            [
             0.4444444444444444,
             "#bd3786"
            ],
            [
             0.5555555555555556,
             "#d8576b"
            ],
            [
             0.6666666666666666,
             "#ed7953"
            ],
            [
             0.7777777777777778,
             "#fb9f3a"
            ],
            [
             0.8888888888888888,
             "#fdca26"
            ],
            [
             1,
             "#f0f921"
            ]
           ],
           "sequentialminus": [
            [
             0,
             "#0d0887"
            ],
            [
             0.1111111111111111,
             "#46039f"
            ],
            [
             0.2222222222222222,
             "#7201a8"
            ],
            [
             0.3333333333333333,
             "#9c179e"
            ],
            [
             0.4444444444444444,
             "#bd3786"
            ],
            [
             0.5555555555555556,
             "#d8576b"
            ],
            [
             0.6666666666666666,
             "#ed7953"
            ],
            [
             0.7777777777777778,
             "#fb9f3a"
            ],
            [
             0.8888888888888888,
             "#fdca26"
            ],
            [
             1,
             "#f0f921"
            ]
           ]
          },
          "colorway": [
           "#636efa",
           "#EF553B",
           "#00cc96",
           "#ab63fa",
           "#FFA15A",
           "#19d3f3",
           "#FF6692",
           "#B6E880",
           "#FF97FF",
           "#FECB52"
          ],
          "font": {
           "color": "#2a3f5f"
          },
          "geo": {
           "bgcolor": "white",
           "lakecolor": "white",
           "landcolor": "#E5ECF6",
           "showlakes": true,
           "showland": true,
           "subunitcolor": "white"
          },
          "hoverlabel": {
           "align": "left"
          },
          "hovermode": "closest",
          "mapbox": {
           "style": "light"
          },
          "paper_bgcolor": "white",
          "plot_bgcolor": "#E5ECF6",
          "polar": {
           "angularaxis": {
            "gridcolor": "white",
            "linecolor": "white",
            "ticks": ""
           },
           "bgcolor": "#E5ECF6",
           "radialaxis": {
            "gridcolor": "white",
            "linecolor": "white",
            "ticks": ""
           }
          },
          "scene": {
           "xaxis": {
            "backgroundcolor": "#E5ECF6",
            "gridcolor": "white",
            "gridwidth": 2,
            "linecolor": "white",
            "showbackground": true,
            "ticks": "",
            "zerolinecolor": "white"
           },
           "yaxis": {
            "backgroundcolor": "#E5ECF6",
            "gridcolor": "white",
            "gridwidth": 2,
            "linecolor": "white",
            "showbackground": true,
            "ticks": "",
            "zerolinecolor": "white"
           },
           "zaxis": {
            "backgroundcolor": "#E5ECF6",
            "gridcolor": "white",
            "gridwidth": 2,
            "linecolor": "white",
            "showbackground": true,
            "ticks": "",
            "zerolinecolor": "white"
           }
          },
          "shapedefaults": {
           "line": {
            "color": "#2a3f5f"
           }
          },
          "ternary": {
           "aaxis": {
            "gridcolor": "white",
            "linecolor": "white",
            "ticks": ""
           },
           "baxis": {
            "gridcolor": "white",
            "linecolor": "white",
            "ticks": ""
           },
           "bgcolor": "#E5ECF6",
           "caxis": {
            "gridcolor": "white",
            "linecolor": "white",
            "ticks": ""
           }
          },
          "title": {
           "x": 0.05
          },
          "xaxis": {
           "automargin": true,
           "gridcolor": "white",
           "linecolor": "white",
           "ticks": "",
           "title": {
            "standoff": 15
           },
           "zerolinecolor": "white",
           "zerolinewidth": 2
          },
          "yaxis": {
           "automargin": true,
           "gridcolor": "white",
           "linecolor": "white",
           "ticks": "",
           "title": {
            "standoff": 15
           },
           "zerolinecolor": "white",
           "zerolinewidth": 2
          }
         }
        },
        "title": {
         "text": "Z-scores for Twitter Generated Samples of 7861312"
        },
        "xaxis": {
         "showticklabels": true,
         "tickvals": [
          "claw1",
          "claw2",
          "claw3",
          "claw4",
          "claw5",
          "claw6",
          "claw7",
          "claw8",
          "claw9"
         ],
         "title": {}
        },
        "yaxis": {
         "title": {
          "text": "significance_profile"
         }
        }
       }
      }
     },
     "metadata": {},
     "output_type": "display_data"
    },
    {
     "name": "stdout",
     "output_type": "stream",
     "text": [
      "                graph_name  motif  nodes  edges\n",
      "9    7861312_sample_rpn_10  claw1   18.0   80.0\n",
      "54   7861312_sample_sff_10  claw1   22.0   88.0\n",
      "261   7861312_sample_rw_10  claw1   22.0  127.0\n",
      "414   7861312_sample_rn_10  claw1   20.0   81.0\n"
     ]
    }
   ],
   "source": [
    "sample_percents = [\"20\", \"15\", \"10\"]\n",
    "\n",
    "selected_graph = \"7861312\"\n",
    "\n",
    "for sp in sample_percents:\n",
    "    # Query data\n",
    "    query_df = motif_twitter.query(\n",
    "        \"graph_name == @selected_graph or (graph_name.str.startswith(@selected_graph) and graph_name.str.endswith(@sp))\",\n",
    "    )\n",
    "\n",
    "    gru.plot_line_chart_with_images(\n",
    "        query_df,\n",
    "        f\"Z-scores for Twitter Generated Samples of {selected_graph}\",\n",
    "        \"motif\",\n",
    "        \"significance_profile\",\n",
    "        IMAGES_PATH\n",
    "    )\n",
    "\n",
    "    print(\n",
    "        query_df[[\"graph_name\", \"motif\", \"nodes\", \"edges\"]].query(\"motif == 'claw1'\")\n",
    "    )"
   ]
  },
  {
   "cell_type": "code",
   "execution_count": 9,
   "metadata": {},
   "outputs": [
    {
     "data": {
      "application/vnd.plotly.v1+json": {
       "config": {
        "plotlyServerURL": "https://plot.ly"
       },
       "data": [
        {
         "mode": "lines+markers",
         "name": "14203895_sample_rw_20",
         "type": "scatter",
         "x": [
          "claw1",
          "claw2",
          "claw3",
          "claw4",
          "claw5",
          "claw6",
          "claw7",
          "claw8",
          "claw9"
         ],
         "y": [
          -0.0259715657043411,
          -0.0440684077058857,
          -0.0490166595759155,
          -0.019383183653915,
          0.026624844874304,
          0.1136549257594851,
          0.3828510639471162,
          0.2024960170067677,
          0.890729596403741
         ]
        },
        {
         "mode": "lines+markers",
         "name": "14203895_sample_rn_20",
         "type": "scatter",
         "x": [
          "claw1",
          "claw2",
          "claw3",
          "claw4",
          "claw5",
          "claw6",
          "claw7",
          "claw8",
          "claw9"
         ],
         "y": [
          -0.0175926589331355,
          -0.0677965709631696,
          -0.0793667511999497,
          -0.0699630312947013,
          0.034904670480784,
          -0.0033657218653228,
          0.1532093318432023,
          0.2380366595504111,
          0.9500189480292036
         ]
        },
        {
         "mode": "lines+markers",
         "name": "14203895_sample_rpn_20",
         "type": "scatter",
         "x": [
          "claw1",
          "claw2",
          "claw3",
          "claw4",
          "claw5",
          "claw6",
          "claw7",
          "claw8",
          "claw9"
         ],
         "y": [
          -0.0118244473461291,
          -0.0275465563901533,
          -0.018715454352214,
          -0.0042327244757394,
          0.0746327605708892,
          0.0477217972665791,
          0.160528909468702,
          0.2805456660307587,
          0.9414936882949712
         ]
        },
        {
         "mode": "lines+markers",
         "name": "14203895_sample_sff_20",
         "type": "scatter",
         "x": [
          "claw1",
          "claw2",
          "claw3",
          "claw4",
          "claw5",
          "claw6",
          "claw7",
          "claw8",
          "claw9"
         ],
         "y": [
          0.0588454024514426,
          -0.025334506047254,
          -0.035834389688829,
          -0.029012917001296,
          0.2005955514674349,
          0.0464238433342801,
          0.3358293480170196,
          0.3494805144640992,
          0.8464383020033394
         ]
        }
       ],
       "layout": {
        "images": [
         {
          "sizex": 0.5,
          "sizey": 0.5,
          "source": "data:image/png;base64,iVBORw0KGgoAAAANSUhEUgAAAPoAAAD6CAMAAAC/MqoPAAABzlBMVEVHcExzc3NycnJ0dHRtbW1ycnJycnJycnJycnJzc3NycnJycnJycnJycnJVVVVxcXGzAP+KRf+MUf+PUP+MUv+RSf+ITP+MUf+OVf+LUf+NUP+LUf+MUf+AgICNUv+MTf+LUv+LUv+ZM/+LUv+LUf+MUf+LTv+MUv9ycnKLUv+KU/+MUv+LUv+OUf9zc3Nvb2+LUf9zc3SMUP9ycnKSSf+MUv+LUf+OTP+LUP+JUf+NUf+MUf+MUf+LUf9zc3OMUf+LUP+MUf+LUv+LUv90dHSLUf9zc3OMUf+LUv9zc3OLUv+MUv+PUP9ycnKMUf9zc3OLUf+MUf+MUf90dHSMUP9zc3NwcHCLUv9xcXGMUf+MUf+MUf+MUf+LUf+MUf+NUv9xcXFzc3OMUf9ycnKMUf9ycnKMUf9ycnKLUf+MUv9ycnJycXVzc3NwcHByb3V0dHRycnKLUP9zc3NoaGh0dHRycnJycnJ1b4OLUv6MUf9zc3NwcHBycnKOUf+LUf+AgIBwcHBycnJycnJ8ZaV6Z6GMUf97ZqZxcXFycnKQUP+NUv98ZKqLUf+JVfODXsh2ao11boB0bYR1cIJxcXGLU/qLU/t+Yb6MUv9zc3OMUf/o+HROAAAAl3RSTlMAv/FADvz4a1xQoYCTrgNEAQOgEP0KHusJ+wzA7wdgFN6ABffx8wav1HklNUY/eiaNu0mfDriIG1wpLyKeT/SFU7zacFb12sysFJjGIJamxtM80AtZ7hnhPcnoamihYzhjR5uIkOnWj+VzhMJzKVVNzWxoBSy3Ns/6RVog5Su0A0Kc34V7wpyoshh/jRb3b0HCuIs09u15573KJwAACvRJREFUeJztnftDE0cewBcfgFUgIUAgPEQIBBBtRBDlIS8fCIigVAQKWMVHPd/aSqtobXtXW3vX9u56G/7bS7Kb7CP7mO/szO5MOp9fGnfjfr+f7MzOzsOOJAkEAoFAIBAIBAKBQCAQCAQCAaPUL07Nr9yXZXl5dmRtM+hs9GyujcwupxO7vzI/tVhP+uqR7quykdlnxIPgUP9sxZTYxe4Iwev3zLTLhURPDRKMgcVgsskisfaZHkLX30zUWFw/w3b1DqEYWOysb9skVpMgUiOPttpcP1u6hkmEwGP4okNirUe9B2ix+2UV4n3eQ+DRF3dMrL3F4/XrRxyvn2Z3LEzEBEh4bNcts5FOLwH6J9yun2bdUwg8ahMIiQ14eNSH3yIEkOUZckqozCAl9ha/QJ5CCiDLnxOUQuJzxMSO4AYYRwwgby+S9HJn0fnRq1GD+RAesnqPsSZaR9ZN5d2T55csDtdFkROLn8EKPIAcQJa3vDlac+1KKrXn28LjaBVdIYETuA8QQG6f8+ppwVepDCebTYd37F4uLcGpi42QAHI1CVcjVSmFrk+Nx6tBiQ3AA2+CAsgN5Lsyz1X11FlDof+5AZTYLvyNFvbbemhHbHmUyqMv9EeAiYHLY+w8MEJriKC1wnPN/UK+0IecelNWdMSAYVuAAWT5GGHxNF98lncvPaceOwZODNqP2QJHmCItnub6lYJCPwVODNrwmsej3MFqQd2ovL3fVOgT4MSuAmOC2s4syxTMpcJCvwxOrAYWsBMcQK65V0KFK3v0hT4EvycyrFMdgweQT6To87QZIzHYI76fUfXUcYzE+kHqEVbVn2IkBhusYfauX8FIDHbXWa3rqccYicHqei2b6qWPwxiJwWbIMCKcf7mXBt/9ZHyp6YBnBhycdB7ftwL60oRGwass/DUzDgwJG6jIQGGwQpL2FnRgoJ1pWW4ExoT2iuEdJAQK3+BxupTQkYRFcATyg7KXCvttklQHTgw6OgceEcAYA3Oh+YJW2Mu1w9CquBCCBu4GRhgn56zybUFhz7IETOxLcOCI1XoFeybJz7feLCjsWcKToMSaMOYcUSfcFCg85K6X6p/sGqgTbgo4w6X9UUCAuzQm2R9kzM2j8JLUeReQWBQ6KJkF8uvSWVtx+82dB+a5Fwk2L4Q5CWxelmXPtDdFKNPIia1gRphDfdK1klyphkAEteVtwp4KRCxZ0SGSXigMoXUx2nvxQyyhzG91EFinhUjzyycP35e8SX32xz8REmvw9AQadXdv8mO97ItHTx5ePvG99kr/u3vntX3UW8xRt7k36qX9WrnBOUffny6JdXgo7QpDC44B/k5nKYmGrttq4EadcwO0QGAdZ63Da915+AsylAvW5qn0m86XDiXyVC2R6Gfs2tFb9JdGX7Mx31+ZPjl4yyaxaXJLd+eSha3J6i+HiV3fnheFtVzpzCmnD/+yWpBYPEl2YU/9xry+x7RQvUT08vaUWKt/lf/C0oj+aTQ5v0Hjnyh0zm32jp8e7z062Ebh6jZ8fTarWnrhw0/6AnBP/522waO9//rH/3o35wJYrkuRSzcPllW9fidVlervepnxS82X08eeXg8mQ9oYzVNVxrMnswdLQoGkRhmTeeq14ew59ejxgLKjidm81HD20dlck3cjoPzooZn/TflPl/5sc1f+J7ljtZyYZzTzCnWsskJ/+r2uOJwIBZQjHXTmlbeVD7d1p8+l9BRVddebSxXKp5va6U/PGtRTRVTdD+jNpS6z37Uuo3nqTdFU9wP79eaS+jtoLy/vU2aKpXU3mb9WPmtt27kC82Kp7iZz6WvlD09z580VvXiqu9k8p35SPZ9v0Y1d2yJo3TXzTxRz6cWd7B+/UL9wUj1dqt783JpS7qu7zjx/7D+Z+5zrseYrepk6gPe4SKq7lXmalzf2qZ+u525yhaSq77uX+yuPAkiYGDbmOg6q57/fl1d/l1uDctnXXMnibi4dUiv6SymvLr3ekysI3IJgLu1VvvBc0qlLT5RPFv8okhNQzCXpeL5oa+q6g1yCZi5J5SUfHoYyH3Tq0s0PJWUh6ilSAtVcQ6/OM+Vg82JRxzAvEnUc8+JQxzIvCnU882JQ18wPgf4e/+q45vyrY5tzr45vzru6B3PO1b2Y863uyZxrdW/mPKuXeTPnWL0s5c2cX3XP5tyqezfnVZ2AOafqmvkD/Itwqa6ZH/RwFR7VyZjzqE7InEN1Uub8qRMz506dnDlv6gTNOVMnac6X+nGS5lypHyRqzpM6YXOO1Emb86NO3Jwbdc2c2PI2TtQ18zL3LyPChzoNcz7UqZhzoU7HnAd1SuYcqNMyZ1+dmjnz6vTMWVd/QM+ccfVDFM3ZVqdqzrQ6XXOW1SmbM6yeN99Px5xddc283P3LWLCqTt+cVXUfzBlV98OcTXVfzJlU98ecRXWfzBlU98ucPXXfzJlT/8Q3c9bUfTRnTN1Pc7bUfTVnSt1fc5bUNfMDvsRjR91vc3bUfTdnRt1/c1bUAzBnRD0IczbUAzFnQj0YcwbUKwMyD169siIg88DVgzMPWj1A84DVgzQPVl0zL/XfPFB1nXmV+7eJE6B6wOYBqgdtTlu9c3hosS+zDcbikGl3kYDN2+aGfvzh48ePP/w4NExhg47BZxOGbX4SG9oeboGaRzbetuszG3hGdh+e07MWW+pMqDtnBWk+OmGR2OxpUpePdN+32U9ocq02SPPaNbt9S+93E9lXMGa3kVKamrG25sDM28Zq7DObwdqp08iO86Zmjf/Omef/R84+UXfRMbGFHq8BTrc7BpDlP18Fc8973fbUjHvbNTeUdLl+mu1XQZhvOBR2ld3ukIcAaHtSv/LffBwpsSn8AN+4/7QZ/vv7Hp/Nh9yqoUIN9vaNyFvULv9G0ssd6lvUtqFvTJwgq+ZGAjmxFbwN3iCbz/u1p18WyObzWNW9ZxsQIerHPo4qkSggsQ6c5r0aEABvh3dMjoASq4YH6EHZjlmjybfNuCOoD1+FBvhtd9iY1hLMPd7hTAETOwUNEEJtP3I00tC0Ar3dUZgMAQMcAwaQd3+m4VnI8C40M+hO4bBnSQZvvQVkWsCJQZ/AjeAIGI9SHGANTwZoVXTbdr2Qq1RMC7gLTiwOC9AGDiB30FE1g9ajMhAGBaiFBwBGwCSMkRhsf+pYManDhun6i0m9HxQhghHBl53JMR5CMuwd+y981//Cdb0TI0KIjqyREEZisJGaMLz5XKUka2IVnFgNsDhCO26yPEFH1YzV/KIzrcAI8Fdln8Zp4P0qaOcC3kE6RsW0AHBvGtylPAwZlMwQ9aVZTzfsUWBi58EjpglgBPA4EC5bwMTgnWlowRqmYGlJDzCxRXgI2GCFTwMVGWBPYJwxw29AEXy76ZK0A0oM6+k7AAgwQ9rPiRlAYgNYEc6gB2jycd4p3foAJiHO4IVAH+wfJevmxihyYtiLC6YRAyQJaiGBsM4lyzR2hHq0p/y8L91VPeF5pMQaYaNyBmJWqyTJ/bQeSCAkNutp7VzMvaPk/z3PEF53TWzC46rB+hGXAGNkVOC4TQWPeCjtKi1xh+uvYq9R8k6f06iFxwWDKr+u201uNmwRWImKTyxpt/xhd/1XQjF2blmtU4tvYS7NIsdc0qpIto/sEIxxuHvZdP27a4He8RyxNfP843I38VfLnqVko/IbRwfGxgO/4Rpz42MDUaUcNiaXPC+IFggEAoFAIBAIBAKBQCAQCAQCgUAg8ML/AZjHw8B+tBDoAAAAAElFTkSuQmCC",
          "x": "claw1",
          "xanchor": "center",
          "xref": "x",
          "y": -0.07,
          "yanchor": "top",
          "yref": "paper"
         },
         {
          "sizex": 0.5,
          "sizey": 0.5,
          "source": "data:image/png;base64,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",
          "x": "claw2",
          "xanchor": "center",
          "xref": "x",
          "y": -0.07,
          "yanchor": "top",
          "yref": "paper"
         },
         {
          "sizex": 0.5,
          "sizey": 0.5,
          "source": "data:image/png;base64,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",
          "x": "claw3",
          "xanchor": "center",
          "xref": "x",
          "y": -0.07,
          "yanchor": "top",
          "yref": "paper"
         },
         {
          "sizex": 0.5,
          "sizey": 0.5,
          "source": "data:image/png;base64,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",
          "x": "claw4",
          "xanchor": "center",
          "xref": "x",
          "y": -0.07,
          "yanchor": "top",
          "yref": "paper"
         },
         {
          "sizex": 0.5,
          "sizey": 0.5,
          "source": "data:image/png;base64,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",
          "x": "claw5",
          "xanchor": "center",
          "xref": "x",
          "y": -0.07,
          "yanchor": "top",
          "yref": "paper"
         },
         {
          "sizex": 0.5,
          "sizey": 0.5,
          "source": "data:image/png;base64,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",
          "x": "claw6",
          "xanchor": "center",
          "xref": "x",
          "y": -0.07,
          "yanchor": "top",
          "yref": "paper"
         },
         {
          "sizex": 0.5,
          "sizey": 0.5,
          "source": "data:image/png;base64,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",
          "x": "claw7",
          "xanchor": "center",
          "xref": "x",
          "y": -0.07,
          "yanchor": "top",
          "yref": "paper"
         },
         {
          "sizex": 0.5,
          "sizey": 0.5,
          "source": "data:image/png;base64,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",
          "x": "claw8",
          "xanchor": "center",
          "xref": "x",
          "y": -0.07,
          "yanchor": "top",
          "yref": "paper"
         },
         {
          "sizex": 0.5,
          "sizey": 0.5,
          "source": "data:image/png;base64,iVBORw0KGgoAAAANSUhEUgAAAPoAAAD6CAMAAAC/MqoPAAACN1BMVEVHcExzc3Nzc3Nzc3Nzc3Nzc3Nzc3Nzc3Nzc3Nzc3Nzc3Nzc3OMUv9zc3Nzc3OMUv9zc3Nzc3Nzc3OMUv+MUv9zc3Nzc3Nzc3Nzc3Nzc3Nzc3OMUv+MUv+MUv9zc3OMUv9zc3Nzc3OMUv9zc3OMUv+MUv+MUv9zc3Nzc3Nzc3Nzc3OMUv+MUv+MUv+MUv+MUv+MUv+MUv+MUv+MUv+MUv+MUv+MUv9zc3OMUv+MUv+MUv+MUv+MUv+MUv+MUv+MUv+MUv+MUv+MUv+MUv+MUv+MUv+MUv+MUv+MUv+MUv+MUv+MUv+MUv+MUv+MUv+MUv+MUv9zc3OMUv+MUv+MUv+MUv+MUv+MUv+MUv+MUv+MUv+MUv+MUv+MUv+MUv9zc3Nzc3OMUv+MUv+MUv+MUv+MUv+MUv+MUv+MUv+MUv+MUv+MUv+MUv+MUv+MUv9zc3OMUv+MUv+MUv+MUv+MUv+MUv+MUv+MUv+MUv+MUv+MUv+MUv9zc3Nzc3Nzc3Nzc3Nzc3N1cXxzc3Nzc3Nzc3Nzc3Nzc3Nzc3Nzc3N0cnh4bY6MUv+MUv+MUv+MUv+MUv+MUv+MUv+EXdKMUv+MUv+MUv+MUv+MUv+MUv+MUv+MUv+MUv+MUv9zc3Nzc3Nzc3Nzc3N0cnd0cnd2cIJ4bI95a5V1cIB3bol3bYx/Y7aMUv+MUv+MUv+MUv+MUv+MUv+MUv+MUv+MUv+CX8iFW9mEXNOMUv+MUv+MUv+CX8eBYb+MUv9zc3OVPWqjAAAAvXRSTlMA8K5SDxCAUDBAoGADX/jwRQHADukEbPuT73D7eWiQmL/gByAIF/nPsJ/QSAThClgNqvYYKN7I34n1/Fcm0qC4LO0xARMdYCV+Q6nvwOeA2ZA/U0cgGnxrxeqw0OLlzH/zcE42OBRELyoRO6bam9ePSlwfQcKeuqSdzrayZFp8BzpnvajL/fSDupYUX24/bVBMe5WMxofdr/OLopeCb0/3nbW2Nnh9NZictlVjWzQ8ZHRzdyg7l7SOkp+v//+8kr+MAAAMdUlEQVR4nO2d92MTRxbHJTjZki0jkAWJkY17AXdcsB1iXCjGdOxQTAwhJBDqEVoC5NK5XHJJ4C6NS3K9+3ovu3/cabW72q6dN027uvn+Apat+b6P9s3MzuxqXyQiJCQkJCQkJCQkJCQkJCQkJCQkJBRQ9fV/MvhpryRJI7cuj10vdTRmPRq7fGskF1jvicFP+vtot95ydH5cMmvf7YUkbRMcJbtv77MENj5/tIVi+y1nT0pOjbxccvjkd3tdAjv5IS34Htf2FT39iJIFpp5/2iMwSkdlaL9H+4oGB2hY4GlgsEhg+4fIDa4fKGIgSVfOkVvg6dyVooEd+Iiw/eRnRdvPqeNjKiBgfdjhE9hEPVHSF012XaVI+qLJroso6VEMJGmMGhGyxpACm8c3qEcykKSn6DGhaQUxsHpcg4UJRIetMzS5/DWzFTGwiet4BrUZRIPcBO82osSOxEn4FMWPxFxeTXpN505larF80fqTqgbn2yvrZLnTLXJkxTplua7S+XoDIDCscWgRNavyn26bPezNsqImHGdd6XwTm+0fHyAbc32xHcN4EmDgGFDinbIqgpyPa0102to4CAqsEW48hTrGqUpZPt3qOi1seSM+eoXeRl21+eX2FCiwiSmwcSPIwHLYtWTPqxUfPW60Yk561BlXF/iwzy4DHUaNkDuNmKuLWPiq2mjHlPSjwMB6obYvAA0kSZ9GjGSXo0TkuaaihaYKST8EDmwY6AobSxT1599nTvYt5PP6FkfSQ2Y2VdBTOmhaaSfM5mSvIprUVcWq7Em/BA5s1M/EqmQW7KD0KYrJrsue9F47Rt7qgC1e+8AGUocl2aNvr6Kktw12Jen9lukusp9uFddOuIH0gSnZWanzA4zAdoLQd2E4vMWeXJbfwghsFwh9O4bDT3mg/wwjsO0g9EUMh/d5oL+PEdgNEHo7hsOveKD/HCMw2OJtAG6Qna3wj5xUFbNZeGQDIPQk3CATiSRM89A7qynpHaPNaCISgSzWVWWBm9KwlaGiU7l3xdJGnE0UTuZyLTYZLaaVFk+BA8sALXeAHdTFoSnp6xLk5Anj9FCuyL8CXUxL0g6gJ3yV0K0Fa0r6M6Tkpg8yqn2Q3eDAXPYNi+oZqEFKv7BLL+kdya6oBXwmC74GcwposGS81XSsOknQTSvWCuNVaFcELtwisK1oRea0MiU9wfrN2KSJmkcNaFeEX4EB7v6NWJZHRtLTQE9buk3bCCiwFMZuNGyfZrft3VrSRwm2JVujjmTPazcoMJzLbqCdfueVJzXpybclo44pEnDdyeXaCJLOAhy6nW+PVUWbSbclm6ObXOaIh4DAoDObqh70sfQ2GSJUV5EDu9OD51B7CNHgU0wDXPWcQAzsCt6F1py2o43yV16kyYWiF59FCuzkHnyLhSyCQYrAAKr4kTPfbNomb/slykHJvkBidd7fYpnLLRUac0G/9r8wljpPZjl8zcfgxDN02DzVWmNh1peFf/Pr79egF5wcqr1T1OAVmvfiuqmyzoGdV6LllaKB3cEe4Qwld3uf23z+kLx9HzW7k8u5M50V78Eu8zs6ty4PHM66tj8+x/qQ5+RBLiu/6zs27hpY9vAANf/hL5ztb52Ebe1jyoO8Wf3trkmXO36+IO7lFtX+fvCxOaFefR7r5BiuLnf0tP77tqOT06bAUpefotDJHbpwvv/43A+ONazsfYlB6x6Kq+u3aLpq849N6JvMf/PS3pWG7//2P8f7Fy7wC4yDYtUVCWX1tvY581G3rWTze1nbqOwBB09r19gHeLPUOxCaShIZa9nIbffjVbvnQlnITi5bfhsvnPZQ2PoPmAzydy1zm6qYcU9D2XV3g3zVa7a5TZHpViN5ValiZCMT+foKZ6c23VkoE92ZGjyZyfUzHBNg3La+Ib5ZLziykGs3ipuGs5j95qXy6e5Wcv2U3tje3yTbVS7d3UYe034o/L7SQV4u3d1GHkmoP2zRf9/qupFRDt19tY1cR+/S/0C/GPug3Lr76ids5JGIuo7Tr+oUOvq31X/0K7yh7+4u5OqlPP2gFzr6Ro35W2XS3d3Ic4on9K4c0zt6l5YM8jcKaUBwhbf0Msir1rv/xUbt982xAnqh829yf0soZCJf5/En+o0r8YiBrl+UT3u8JwRCINeHe6VfF9D1/k/piwglEAq5tnCpUv5noJteDKXQyHPHPZ1Wx3ITeqQynXb5ImxIhEpuyIweZsHJywW9Bk5eJug1D+Dk5YGORV4W6Hjk5YCOSV4G6Ab5kyDy8KObyIHvDDs6PnnY0QnIQ45OQh5udCLyUKOTkYcZfQMZeYjRN8hk5OFFJyYPLTo5eVjRDfL3sNsIJ7pBTnD/UyjRqZCHEp0OeRjRKZGHEJ0WefjQqZGHDv11auRhQ6+gRx4ydJrk4UKnSh4qdLrkYUI3yF+n0l540A3yDXQaDA06dfLQoNMnDws6A/KQoLMgDwc6E/JQoL/HhDwM6E+yIQ8BOivy4KMzIw88eoH8AW3yoKMb5DXU2w42OkvyYKMzJQ80OlvyIKMzJg8wOmvywKKvY04eVPR1VczJA4rOgzyY6FzIA4nOhzyI6Ab5EyzJA4huIl/N1Chw6NzIA4fOjzxo6BzJA4bOgzzR1PTD/H8sX+xsamI6pPqKB3neYrPyPxP6xsKLJdJ6DuTa97UD9iXu9as49HPXr+5rD3Eo2Vf3uZAXHtiwraQPbIhbSk/zIY/EjGexlO4xHcrzwIziPgb5GrazWgAezqI+8a1O+8lEvpaxsdcjebr830pJ2kPg1MPOkdzrQUzN/B7EtMWEzpW88CwWqzg+fktzVD5rvuQlf+haq2YZ4U/u9qg9fh298GicdCnILUWweHf0wqlFV+SNEpA7ujvX5+xpOVfxxndKQG7v7nwft6Y95fO10pBbuzvPjh4plGt4t0TkkZjR3bl29IijZgFv8sLj83l39Jyxlfy5tXztFenPTub9XMWElfxNzvZ5VZWio1uqVGrkiR+dqeHb6fIVE7ew87yw4FoGwzzArvnJ5iZ1n6SOY7fLl8H47z+O959nUQaj9mVL8ZPpyaOF4idp2VWcsq/v6JfW4icrdIufzCy5lLz5Uivp7rp4km01Cxhpj1uhp6U/0Gt/0LWckJRtzFf18iDngD50Nese2eB2tu0rR/6zi7YB3lCzf9NkujjmUuTIelTIdG6fZ/uKevd4oDuLjFLWnuJFDPcRlfBTdPNxUQNJyvzd2deb05uqWW+JTvmVkX28l8zgkX/d632/sTBXJLjMaj7JqKiDqNjcpayvQW4++UUzR2ZVSLVEs38kMDiJYCBJh/gXK0WrIHsSu+IcconaW0EtUXsX8/QmiV6YuJEump8akQO7h1fCEVLj3aUcNTt1AwKzF0dHUhuoCDltvGKCFCEfwamzWA8wkKR+6oCe6gcFhlF6vh2tFLWuETp1URHUNgIKLAUf6Q6DDHBrvGMIlo2SNAZ2GAU6LDGgdBX6vKNqFGowBDSQUhwq9Spq8T+1tgm6hoPMbKo4zW/d4MCgXRGaVtxOa9BPZ3TtADrAxndFp5iQOnQKHFgGZpAEG0AdcAU50VKVhc27A3D07CwjWItms/DIBkAO7XADicsQ34YRWDvIYRHDYYANrFW1GIHdADlMYTjsZERrEU46wirR78Jw6GNEa1EfRmBDIIedGA5ctmp6MAK7CHLA+HBTjGBtAp/HQsffZBZscIgRq0294MA6gA7QhZskzTMhdWgeHBh06QZdFXPbp4Ht0SiC7tMMQw066F7W9hR8YofNbRF4n9rPgtNN0K4IH4Ogi0OM7T88QbviYbDD1ATIIAU7USYQcL90YgpuMQlyOEgd0VMHQYFNYjgset+z4FSG0yCnqBayZN+6iGMB2Y4+S5uvmM4CAjuM5XDxGrLBfq6XWntOIwd2DTMbh8cRDTLcxjhVN1BTfhw8p+vajWYw8RFNLhTdRJx+sK6zqkIb5blN6YbQRnmS/fE+lF71T2pA6EreRwjsLtEIlPzK12COFg5Is8d8A7tKevG3ofjeQOoRDRAcPSw+CHf8idzi0nQRg146N6NiaabYhfZp4pslFV382uus+cCfuWxFeqnvLwe8cvFr2H6ct2q/53bkn/0Y5z4Vqmo77naj7PQxmqfVLd1fLVua//xfN7ndQlJMyb3/tu4sLDd2078MdGnu6r27GWn59P3Gv05Rb51AM/WN908vS5m7916du1TqYISEhISEhISEhISEhISEhISEhISEhISE/s/1P609DqcFXhdOAAAAAElFTkSuQmCC",
          "x": "claw9",
          "xanchor": "center",
          "xref": "x",
          "y": -0.07,
          "yanchor": "top",
          "yref": "paper"
         }
        ],
        "template": {
         "data": {
          "bar": [
           {
            "error_x": {
             "color": "#2a3f5f"
            },
            "error_y": {
             "color": "#2a3f5f"
            },
            "marker": {
             "line": {
              "color": "#E5ECF6",
              "width": 0.5
             },
             "pattern": {
              "fillmode": "overlay",
              "size": 10,
              "solidity": 0.2
             }
            },
            "type": "bar"
           }
          ],
          "barpolar": [
           {
            "marker": {
             "line": {
              "color": "#E5ECF6",
              "width": 0.5
             },
             "pattern": {
              "fillmode": "overlay",
              "size": 10,
              "solidity": 0.2
             }
            },
            "type": "barpolar"
           }
          ],
          "carpet": [
           {
            "aaxis": {
             "endlinecolor": "#2a3f5f",
             "gridcolor": "white",
             "linecolor": "white",
             "minorgridcolor": "white",
             "startlinecolor": "#2a3f5f"
            },
            "baxis": {
             "endlinecolor": "#2a3f5f",
             "gridcolor": "white",
             "linecolor": "white",
             "minorgridcolor": "white",
             "startlinecolor": "#2a3f5f"
            },
            "type": "carpet"
           }
          ],
          "choropleth": [
           {
            "colorbar": {
             "outlinewidth": 0,
             "ticks": ""
            },
            "type": "choropleth"
           }
          ],
          "contour": [
           {
            "colorbar": {
             "outlinewidth": 0,
             "ticks": ""
            },
            "colorscale": [
             [
              0,
              "#0d0887"
             ],
             [
              0.1111111111111111,
              "#46039f"
             ],
             [
              0.2222222222222222,
              "#7201a8"
             ],
             [
              0.3333333333333333,
              "#9c179e"
             ],
             [
              0.4444444444444444,
              "#bd3786"
             ],
             [
              0.5555555555555556,
              "#d8576b"
             ],
             [
              0.6666666666666666,
              "#ed7953"
             ],
             [
              0.7777777777777778,
              "#fb9f3a"
             ],
             [
              0.8888888888888888,
              "#fdca26"
             ],
             [
              1,
              "#f0f921"
             ]
            ],
            "type": "contour"
           }
          ],
          "contourcarpet": [
           {
            "colorbar": {
             "outlinewidth": 0,
             "ticks": ""
            },
            "type": "contourcarpet"
           }
          ],
          "heatmap": [
           {
            "colorbar": {
             "outlinewidth": 0,
             "ticks": ""
            },
            "colorscale": [
             [
              0,
              "#0d0887"
             ],
             [
              0.1111111111111111,
              "#46039f"
             ],
             [
              0.2222222222222222,
              "#7201a8"
             ],
             [
              0.3333333333333333,
              "#9c179e"
             ],
             [
              0.4444444444444444,
              "#bd3786"
             ],
             [
              0.5555555555555556,
              "#d8576b"
             ],
             [
              0.6666666666666666,
              "#ed7953"
             ],
             [
              0.7777777777777778,
              "#fb9f3a"
             ],
             [
              0.8888888888888888,
              "#fdca26"
             ],
             [
              1,
              "#f0f921"
             ]
            ],
            "type": "heatmap"
           }
          ],
          "heatmapgl": [
           {
            "colorbar": {
             "outlinewidth": 0,
             "ticks": ""
            },
            "colorscale": [
             [
              0,
              "#0d0887"
             ],
             [
              0.1111111111111111,
              "#46039f"
             ],
             [
              0.2222222222222222,
              "#7201a8"
             ],
             [
              0.3333333333333333,
              "#9c179e"
             ],
             [
              0.4444444444444444,
              "#bd3786"
             ],
             [
              0.5555555555555556,
              "#d8576b"
             ],
             [
              0.6666666666666666,
              "#ed7953"
             ],
             [
              0.7777777777777778,
              "#fb9f3a"
             ],
             [
              0.8888888888888888,
              "#fdca26"
             ],
             [
              1,
              "#f0f921"
             ]
            ],
            "type": "heatmapgl"
           }
          ],
          "histogram": [
           {
            "marker": {
             "pattern": {
              "fillmode": "overlay",
              "size": 10,
              "solidity": 0.2
             }
            },
            "type": "histogram"
           }
          ],
          "histogram2d": [
           {
            "colorbar": {
             "outlinewidth": 0,
             "ticks": ""
            },
            "colorscale": [
             [
              0,
              "#0d0887"
             ],
             [
              0.1111111111111111,
              "#46039f"
             ],
             [
              0.2222222222222222,
              "#7201a8"
             ],
             [
              0.3333333333333333,
              "#9c179e"
             ],
             [
              0.4444444444444444,
              "#bd3786"
             ],
             [
              0.5555555555555556,
              "#d8576b"
             ],
             [
              0.6666666666666666,
              "#ed7953"
             ],
             [
              0.7777777777777778,
              "#fb9f3a"
             ],
             [
              0.8888888888888888,
              "#fdca26"
             ],
             [
              1,
              "#f0f921"
             ]
            ],
            "type": "histogram2d"
           }
          ],
          "histogram2dcontour": [
           {
            "colorbar": {
             "outlinewidth": 0,
             "ticks": ""
            },
            "colorscale": [
             [
              0,
              "#0d0887"
             ],
             [
              0.1111111111111111,
              "#46039f"
             ],
             [
              0.2222222222222222,
              "#7201a8"
             ],
             [
              0.3333333333333333,
              "#9c179e"
             ],
             [
              0.4444444444444444,
              "#bd3786"
             ],
             [
              0.5555555555555556,
              "#d8576b"
             ],
             [
              0.6666666666666666,
              "#ed7953"
             ],
             [
              0.7777777777777778,
              "#fb9f3a"
             ],
             [
              0.8888888888888888,
              "#fdca26"
             ],
             [
              1,
              "#f0f921"
             ]
            ],
            "type": "histogram2dcontour"
           }
          ],
          "mesh3d": [
           {
            "colorbar": {
             "outlinewidth": 0,
             "ticks": ""
            },
            "type": "mesh3d"
           }
          ],
          "parcoords": [
           {
            "line": {
             "colorbar": {
              "outlinewidth": 0,
              "ticks": ""
             }
            },
            "type": "parcoords"
           }
          ],
          "pie": [
           {
            "automargin": true,
            "type": "pie"
           }
          ],
          "scatter": [
           {
            "fillpattern": {
             "fillmode": "overlay",
             "size": 10,
             "solidity": 0.2
            },
            "type": "scatter"
           }
          ],
          "scatter3d": [
           {
            "line": {
             "colorbar": {
              "outlinewidth": 0,
              "ticks": ""
             }
            },
            "marker": {
             "colorbar": {
              "outlinewidth": 0,
              "ticks": ""
             }
            },
            "type": "scatter3d"
           }
          ],
          "scattercarpet": [
           {
            "marker": {
             "colorbar": {
              "outlinewidth": 0,
              "ticks": ""
             }
            },
            "type": "scattercarpet"
           }
          ],
          "scattergeo": [
           {
            "marker": {
             "colorbar": {
              "outlinewidth": 0,
              "ticks": ""
             }
            },
            "type": "scattergeo"
           }
          ],
          "scattergl": [
           {
            "marker": {
             "colorbar": {
              "outlinewidth": 0,
              "ticks": ""
             }
            },
            "type": "scattergl"
           }
          ],
          "scattermapbox": [
           {
            "marker": {
             "colorbar": {
              "outlinewidth": 0,
              "ticks": ""
             }
            },
            "type": "scattermapbox"
           }
          ],
          "scatterpolar": [
           {
            "marker": {
             "colorbar": {
              "outlinewidth": 0,
              "ticks": ""
             }
            },
            "type": "scatterpolar"
           }
          ],
          "scatterpolargl": [
           {
            "marker": {
             "colorbar": {
              "outlinewidth": 0,
              "ticks": ""
             }
            },
            "type": "scatterpolargl"
           }
          ],
          "scatterternary": [
           {
            "marker": {
             "colorbar": {
              "outlinewidth": 0,
              "ticks": ""
             }
            },
            "type": "scatterternary"
           }
          ],
          "surface": [
           {
            "colorbar": {
             "outlinewidth": 0,
             "ticks": ""
            },
            "colorscale": [
             [
              0,
              "#0d0887"
             ],
             [
              0.1111111111111111,
              "#46039f"
             ],
             [
              0.2222222222222222,
              "#7201a8"
             ],
             [
              0.3333333333333333,
              "#9c179e"
             ],
             [
              0.4444444444444444,
              "#bd3786"
             ],
             [
              0.5555555555555556,
              "#d8576b"
             ],
             [
              0.6666666666666666,
              "#ed7953"
             ],
             [
              0.7777777777777778,
              "#fb9f3a"
             ],
             [
              0.8888888888888888,
              "#fdca26"
             ],
             [
              1,
              "#f0f921"
             ]
            ],
            "type": "surface"
           }
          ],
          "table": [
           {
            "cells": {
             "fill": {
              "color": "#EBF0F8"
             },
             "line": {
              "color": "white"
             }
            },
            "header": {
             "fill": {
              "color": "#C8D4E3"
             },
             "line": {
              "color": "white"
             }
            },
            "type": "table"
           }
          ]
         },
         "layout": {
          "annotationdefaults": {
           "arrowcolor": "#2a3f5f",
           "arrowhead": 0,
           "arrowwidth": 1
          },
          "autotypenumbers": "strict",
          "coloraxis": {
           "colorbar": {
            "outlinewidth": 0,
            "ticks": ""
           }
          },
          "colorscale": {
           "diverging": [
            [
             0,
             "#8e0152"
            ],
            [
             0.1,
             "#c51b7d"
            ],
            [
             0.2,
             "#de77ae"
            ],
            [
             0.3,
             "#f1b6da"
            ],
            [
             0.4,
             "#fde0ef"
            ],
            [
             0.5,
             "#f7f7f7"
            ],
            [
             0.6,
             "#e6f5d0"
            ],
            [
             0.7,
             "#b8e186"
            ],
            [
             0.8,
             "#7fbc41"
            ],
            [
             0.9,
             "#4d9221"
            ],
            [
             1,
             "#276419"
            ]
           ],
           "sequential": [
            [
             0,
             "#0d0887"
            ],
            [
             0.1111111111111111,
             "#46039f"
            ],
            [
             0.2222222222222222,
             "#7201a8"
            ],
            [
             0.3333333333333333,
             "#9c179e"
            ],
            [
             0.4444444444444444,
             "#bd3786"
            ],
            [
             0.5555555555555556,
             "#d8576b"
            ],
            [
             0.6666666666666666,
             "#ed7953"
            ],
            [
             0.7777777777777778,
             "#fb9f3a"
            ],
            [
             0.8888888888888888,
             "#fdca26"
            ],
            [
             1,
             "#f0f921"
            ]
           ],
           "sequentialminus": [
            [
             0,
             "#0d0887"
            ],
            [
             0.1111111111111111,
             "#46039f"
            ],
            [
             0.2222222222222222,
             "#7201a8"
            ],
            [
             0.3333333333333333,
             "#9c179e"
            ],
            [
             0.4444444444444444,
             "#bd3786"
            ],
            [
             0.5555555555555556,
             "#d8576b"
            ],
            [
             0.6666666666666666,
             "#ed7953"
            ],
            [
             0.7777777777777778,
             "#fb9f3a"
            ],
            [
             0.8888888888888888,
             "#fdca26"
            ],
            [
             1,
             "#f0f921"
            ]
           ]
          },
          "colorway": [
           "#636efa",
           "#EF553B",
           "#00cc96",
           "#ab63fa",
           "#FFA15A",
           "#19d3f3",
           "#FF6692",
           "#B6E880",
           "#FF97FF",
           "#FECB52"
          ],
          "font": {
           "color": "#2a3f5f"
          },
          "geo": {
           "bgcolor": "white",
           "lakecolor": "white",
           "landcolor": "#E5ECF6",
           "showlakes": true,
           "showland": true,
           "subunitcolor": "white"
          },
          "hoverlabel": {
           "align": "left"
          },
          "hovermode": "closest",
          "mapbox": {
           "style": "light"
          },
          "paper_bgcolor": "white",
          "plot_bgcolor": "#E5ECF6",
          "polar": {
           "angularaxis": {
            "gridcolor": "white",
            "linecolor": "white",
            "ticks": ""
           },
           "bgcolor": "#E5ECF6",
           "radialaxis": {
            "gridcolor": "white",
            "linecolor": "white",
            "ticks": ""
           }
          },
          "scene": {
           "xaxis": {
            "backgroundcolor": "#E5ECF6",
            "gridcolor": "white",
            "gridwidth": 2,
            "linecolor": "white",
            "showbackground": true,
            "ticks": "",
            "zerolinecolor": "white"
           },
           "yaxis": {
            "backgroundcolor": "#E5ECF6",
            "gridcolor": "white",
            "gridwidth": 2,
            "linecolor": "white",
            "showbackground": true,
            "ticks": "",
            "zerolinecolor": "white"
           },
           "zaxis": {
            "backgroundcolor": "#E5ECF6",
            "gridcolor": "white",
            "gridwidth": 2,
            "linecolor": "white",
            "showbackground": true,
            "ticks": "",
            "zerolinecolor": "white"
           }
          },
          "shapedefaults": {
           "line": {
            "color": "#2a3f5f"
           }
          },
          "ternary": {
           "aaxis": {
            "gridcolor": "white",
            "linecolor": "white",
            "ticks": ""
           },
           "baxis": {
            "gridcolor": "white",
            "linecolor": "white",
            "ticks": ""
           },
           "bgcolor": "#E5ECF6",
           "caxis": {
            "gridcolor": "white",
            "linecolor": "white",
            "ticks": ""
           }
          },
          "title": {
           "x": 0.05
          },
          "xaxis": {
           "automargin": true,
           "gridcolor": "white",
           "linecolor": "white",
           "ticks": "",
           "title": {
            "standoff": 15
           },
           "zerolinecolor": "white",
           "zerolinewidth": 2
          },
          "yaxis": {
           "automargin": true,
           "gridcolor": "white",
           "linecolor": "white",
           "ticks": "",
           "title": {
            "standoff": 15
           },
           "zerolinecolor": "white",
           "zerolinewidth": 2
          }
         }
        },
        "title": {
         "text": "Z-scores for Twitter Generated Samples of 14203895"
        },
        "xaxis": {
         "showticklabels": true,
         "tickvals": [
          "claw1",
          "claw2",
          "claw3",
          "claw4",
          "claw5",
          "claw6",
          "claw7",
          "claw8",
          "claw9"
         ],
         "title": {}
        },
        "yaxis": {
         "title": {
          "text": "significance_profile"
         }
        }
       }
      }
     },
     "metadata": {},
     "output_type": "display_data"
    },
    {
     "name": "stdout",
     "output_type": "stream",
     "text": [
      "                 graph_name  motif  nodes  edges\n",
      "18    14203895_sample_rw_20  claw1   42.0  425.0\n",
      "108   14203895_sample_rn_20  claw1   41.0  186.0\n",
      "126  14203895_sample_rpn_20  claw1   34.0  309.0\n",
      "297  14203895_sample_sff_20  claw1   43.0  689.0\n"
     ]
    },
    {
     "data": {
      "application/vnd.plotly.v1+json": {
       "config": {
        "plotlyServerURL": "https://plot.ly"
       },
       "data": [
        {
         "mode": "lines+markers",
         "name": "14203895_sample_rpn_15",
         "type": "scatter",
         "x": [
          "claw1",
          "claw2",
          "claw3",
          "claw4",
          "claw5",
          "claw6",
          "claw7",
          "claw8",
          "claw9"
         ],
         "y": [
          0.037287317053583,
          -0.0594043277160727,
          -0.0823082632961396,
          -0.0236493761856116,
          0.0681695315907064,
          0.1309205796852658,
          0.222529085954506,
          0.2522587301168763,
          0.92347490187682
         ]
        },
        {
         "mode": "lines+markers",
         "name": "14203895_sample_rw_15",
         "type": "scatter",
         "x": [
          "claw1",
          "claw2",
          "claw3",
          "claw4",
          "claw5",
          "claw6",
          "claw7",
          "claw8",
          "claw9"
         ],
         "y": [
          -0.0188502894657942,
          -0.050129551116382,
          -0.0723547081266744,
          -0.0445108853370385,
          0.127869383977759,
          0.0086950079701947,
          0.2036818233476305,
          0.4299077090212376,
          0.8643969956158946
         ]
        },
        {
         "mode": "lines+markers",
         "name": "14203895_sample_sff_15",
         "type": "scatter",
         "x": [
          "claw1",
          "claw2",
          "claw3",
          "claw4",
          "claw5",
          "claw6",
          "claw7",
          "claw8",
          "claw9"
         ],
         "y": [
          0.153998270236641,
          -0.0386093487580095,
          -0.0762946415126489,
          0.0773146367821968,
          0.2548452433080931,
          0.3083596816459587,
          0.5189729289949332,
          0.3758847269451251,
          0.6263716191579474
         ]
        },
        {
         "mode": "lines+markers",
         "name": "14203895_sample_rn_15",
         "type": "scatter",
         "x": [
          "claw1",
          "claw2",
          "claw3",
          "claw4",
          "claw5",
          "claw6",
          "claw7",
          "claw8",
          "claw9"
         ],
         "y": [
          -0.0133247224678336,
          -0.0354413527923177,
          -0.0475149542930664,
          -0.0309055218017429,
          0.0730938699624893,
          0.012346291138482,
          0.15724509659731,
          0.3565912589302377,
          0.9154097711100624
         ]
        }
       ],
       "layout": {
        "images": [
         {
          "sizex": 0.5,
          "sizey": 0.5,
          "source": "data:image/png;base64,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",
          "x": "claw1",
          "xanchor": "center",
          "xref": "x",
          "y": -0.07,
          "yanchor": "top",
          "yref": "paper"
         },
         {
          "sizex": 0.5,
          "sizey": 0.5,
          "source": "data:image/png;base64,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",
          "x": "claw2",
          "xanchor": "center",
          "xref": "x",
          "y": -0.07,
          "yanchor": "top",
          "yref": "paper"
         },
         {
          "sizex": 0.5,
          "sizey": 0.5,
          "source": "data:image/png;base64,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",
          "x": "claw3",
          "xanchor": "center",
          "xref": "x",
          "y": -0.07,
          "yanchor": "top",
          "yref": "paper"
         },
         {
          "sizex": 0.5,
          "sizey": 0.5,
          "source": "data:image/png;base64,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",
          "x": "claw4",
          "xanchor": "center",
          "xref": "x",
          "y": -0.07,
          "yanchor": "top",
          "yref": "paper"
         },
         {
          "sizex": 0.5,
          "sizey": 0.5,
          "source": "data:image/png;base64,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",
          "x": "claw5",
          "xanchor": "center",
          "xref": "x",
          "y": -0.07,
          "yanchor": "top",
          "yref": "paper"
         },
         {
          "sizex": 0.5,
          "sizey": 0.5,
          "source": "data:image/png;base64,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",
          "x": "claw6",
          "xanchor": "center",
          "xref": "x",
          "y": -0.07,
          "yanchor": "top",
          "yref": "paper"
         },
         {
          "sizex": 0.5,
          "sizey": 0.5,
          "source": "data:image/png;base64,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",
          "x": "claw7",
          "xanchor": "center",
          "xref": "x",
          "y": -0.07,
          "yanchor": "top",
          "yref": "paper"
         },
         {
          "sizex": 0.5,
          "sizey": 0.5,
          "source": "data:image/png;base64,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",
          "x": "claw8",
          "xanchor": "center",
          "xref": "x",
          "y": -0.07,
          "yanchor": "top",
          "yref": "paper"
         },
         {
          "sizex": 0.5,
          "sizey": 0.5,
          "source": "data:image/png;base64,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",
          "x": "claw9",
          "xanchor": "center",
          "xref": "x",
          "y": -0.07,
          "yanchor": "top",
          "yref": "paper"
         }
        ],
        "template": {
         "data": {
          "bar": [
           {
            "error_x": {
             "color": "#2a3f5f"
            },
            "error_y": {
             "color": "#2a3f5f"
            },
            "marker": {
             "line": {
              "color": "#E5ECF6",
              "width": 0.5
             },
             "pattern": {
              "fillmode": "overlay",
              "size": 10,
              "solidity": 0.2
             }
            },
            "type": "bar"
           }
          ],
          "barpolar": [
           {
            "marker": {
             "line": {
              "color": "#E5ECF6",
              "width": 0.5
             },
             "pattern": {
              "fillmode": "overlay",
              "size": 10,
              "solidity": 0.2
             }
            },
            "type": "barpolar"
           }
          ],
          "carpet": [
           {
            "aaxis": {
             "endlinecolor": "#2a3f5f",
             "gridcolor": "white",
             "linecolor": "white",
             "minorgridcolor": "white",
             "startlinecolor": "#2a3f5f"
            },
            "baxis": {
             "endlinecolor": "#2a3f5f",
             "gridcolor": "white",
             "linecolor": "white",
             "minorgridcolor": "white",
             "startlinecolor": "#2a3f5f"
            },
            "type": "carpet"
           }
          ],
          "choropleth": [
           {
            "colorbar": {
             "outlinewidth": 0,
             "ticks": ""
            },
            "type": "choropleth"
           }
          ],
          "contour": [
           {
            "colorbar": {
             "outlinewidth": 0,
             "ticks": ""
            },
            "colorscale": [
             [
              0,
              "#0d0887"
             ],
             [
              0.1111111111111111,
              "#46039f"
             ],
             [
              0.2222222222222222,
              "#7201a8"
             ],
             [
              0.3333333333333333,
              "#9c179e"
             ],
             [
              0.4444444444444444,
              "#bd3786"
             ],
             [
              0.5555555555555556,
              "#d8576b"
             ],
             [
              0.6666666666666666,
              "#ed7953"
             ],
             [
              0.7777777777777778,
              "#fb9f3a"
             ],
             [
              0.8888888888888888,
              "#fdca26"
             ],
             [
              1,
              "#f0f921"
             ]
            ],
            "type": "contour"
           }
          ],
          "contourcarpet": [
           {
            "colorbar": {
             "outlinewidth": 0,
             "ticks": ""
            },
            "type": "contourcarpet"
           }
          ],
          "heatmap": [
           {
            "colorbar": {
             "outlinewidth": 0,
             "ticks": ""
            },
            "colorscale": [
             [
              0,
              "#0d0887"
             ],
             [
              0.1111111111111111,
              "#46039f"
             ],
             [
              0.2222222222222222,
              "#7201a8"
             ],
             [
              0.3333333333333333,
              "#9c179e"
             ],
             [
              0.4444444444444444,
              "#bd3786"
             ],
             [
              0.5555555555555556,
              "#d8576b"
             ],
             [
              0.6666666666666666,
              "#ed7953"
             ],
             [
              0.7777777777777778,
              "#fb9f3a"
             ],
             [
              0.8888888888888888,
              "#fdca26"
             ],
             [
              1,
              "#f0f921"
             ]
            ],
            "type": "heatmap"
           }
          ],
          "heatmapgl": [
           {
            "colorbar": {
             "outlinewidth": 0,
             "ticks": ""
            },
            "colorscale": [
             [
              0,
              "#0d0887"
             ],
             [
              0.1111111111111111,
              "#46039f"
             ],
             [
              0.2222222222222222,
              "#7201a8"
             ],
             [
              0.3333333333333333,
              "#9c179e"
             ],
             [
              0.4444444444444444,
              "#bd3786"
             ],
             [
              0.5555555555555556,
              "#d8576b"
             ],
             [
              0.6666666666666666,
              "#ed7953"
             ],
             [
              0.7777777777777778,
              "#fb9f3a"
             ],
             [
              0.8888888888888888,
              "#fdca26"
             ],
             [
              1,
              "#f0f921"
             ]
            ],
            "type": "heatmapgl"
           }
          ],
          "histogram": [
           {
            "marker": {
             "pattern": {
              "fillmode": "overlay",
              "size": 10,
              "solidity": 0.2
             }
            },
            "type": "histogram"
           }
          ],
          "histogram2d": [
           {
            "colorbar": {
             "outlinewidth": 0,
             "ticks": ""
            },
            "colorscale": [
             [
              0,
              "#0d0887"
             ],
             [
              0.1111111111111111,
              "#46039f"
             ],
             [
              0.2222222222222222,
              "#7201a8"
             ],
             [
              0.3333333333333333,
              "#9c179e"
             ],
             [
              0.4444444444444444,
              "#bd3786"
             ],
             [
              0.5555555555555556,
              "#d8576b"
             ],
             [
              0.6666666666666666,
              "#ed7953"
             ],
             [
              0.7777777777777778,
              "#fb9f3a"
             ],
             [
              0.8888888888888888,
              "#fdca26"
             ],
             [
              1,
              "#f0f921"
             ]
            ],
            "type": "histogram2d"
           }
          ],
          "histogram2dcontour": [
           {
            "colorbar": {
             "outlinewidth": 0,
             "ticks": ""
            },
            "colorscale": [
             [
              0,
              "#0d0887"
             ],
             [
              0.1111111111111111,
              "#46039f"
             ],
             [
              0.2222222222222222,
              "#7201a8"
             ],
             [
              0.3333333333333333,
              "#9c179e"
             ],
             [
              0.4444444444444444,
              "#bd3786"
             ],
             [
              0.5555555555555556,
              "#d8576b"
             ],
             [
              0.6666666666666666,
              "#ed7953"
             ],
             [
              0.7777777777777778,
              "#fb9f3a"
             ],
             [
              0.8888888888888888,
              "#fdca26"
             ],
             [
              1,
              "#f0f921"
             ]
            ],
            "type": "histogram2dcontour"
           }
          ],
          "mesh3d": [
           {
            "colorbar": {
             "outlinewidth": 0,
             "ticks": ""
            },
            "type": "mesh3d"
           }
          ],
          "parcoords": [
           {
            "line": {
             "colorbar": {
              "outlinewidth": 0,
              "ticks": ""
             }
            },
            "type": "parcoords"
           }
          ],
          "pie": [
           {
            "automargin": true,
            "type": "pie"
           }
          ],
          "scatter": [
           {
            "fillpattern": {
             "fillmode": "overlay",
             "size": 10,
             "solidity": 0.2
            },
            "type": "scatter"
           }
          ],
          "scatter3d": [
           {
            "line": {
             "colorbar": {
              "outlinewidth": 0,
              "ticks": ""
             }
            },
            "marker": {
             "colorbar": {
              "outlinewidth": 0,
              "ticks": ""
             }
            },
            "type": "scatter3d"
           }
          ],
          "scattercarpet": [
           {
            "marker": {
             "colorbar": {
              "outlinewidth": 0,
              "ticks": ""
             }
            },
            "type": "scattercarpet"
           }
          ],
          "scattergeo": [
           {
            "marker": {
             "colorbar": {
              "outlinewidth": 0,
              "ticks": ""
             }
            },
            "type": "scattergeo"
           }
          ],
          "scattergl": [
           {
            "marker": {
             "colorbar": {
              "outlinewidth": 0,
              "ticks": ""
             }
            },
            "type": "scattergl"
           }
          ],
          "scattermapbox": [
           {
            "marker": {
             "colorbar": {
              "outlinewidth": 0,
              "ticks": ""
             }
            },
            "type": "scattermapbox"
           }
          ],
          "scatterpolar": [
           {
            "marker": {
             "colorbar": {
              "outlinewidth": 0,
              "ticks": ""
             }
            },
            "type": "scatterpolar"
           }
          ],
          "scatterpolargl": [
           {
            "marker": {
             "colorbar": {
              "outlinewidth": 0,
              "ticks": ""
             }
            },
            "type": "scatterpolargl"
           }
          ],
          "scatterternary": [
           {
            "marker": {
             "colorbar": {
              "outlinewidth": 0,
              "ticks": ""
             }
            },
            "type": "scatterternary"
           }
          ],
          "surface": [
           {
            "colorbar": {
             "outlinewidth": 0,
             "ticks": ""
            },
            "colorscale": [
             [
              0,
              "#0d0887"
             ],
             [
              0.1111111111111111,
              "#46039f"
             ],
             [
              0.2222222222222222,
              "#7201a8"
             ],
             [
              0.3333333333333333,
              "#9c179e"
             ],
             [
              0.4444444444444444,
              "#bd3786"
             ],
             [
              0.5555555555555556,
              "#d8576b"
             ],
             [
              0.6666666666666666,
              "#ed7953"
             ],
             [
              0.7777777777777778,
              "#fb9f3a"
             ],
             [
              0.8888888888888888,
              "#fdca26"
             ],
             [
              1,
              "#f0f921"
             ]
            ],
            "type": "surface"
           }
          ],
          "table": [
           {
            "cells": {
             "fill": {
              "color": "#EBF0F8"
             },
             "line": {
              "color": "white"
             }
            },
            "header": {
             "fill": {
              "color": "#C8D4E3"
             },
             "line": {
              "color": "white"
             }
            },
            "type": "table"
           }
          ]
         },
         "layout": {
          "annotationdefaults": {
           "arrowcolor": "#2a3f5f",
           "arrowhead": 0,
           "arrowwidth": 1
          },
          "autotypenumbers": "strict",
          "coloraxis": {
           "colorbar": {
            "outlinewidth": 0,
            "ticks": ""
           }
          },
          "colorscale": {
           "diverging": [
            [
             0,
             "#8e0152"
            ],
            [
             0.1,
             "#c51b7d"
            ],
            [
             0.2,
             "#de77ae"
            ],
            [
             0.3,
             "#f1b6da"
            ],
            [
             0.4,
             "#fde0ef"
            ],
            [
             0.5,
             "#f7f7f7"
            ],
            [
             0.6,
             "#e6f5d0"
            ],
            [
             0.7,
             "#b8e186"
            ],
            [
             0.8,
             "#7fbc41"
            ],
            [
             0.9,
             "#4d9221"
            ],
            [
             1,
             "#276419"
            ]
           ],
           "sequential": [
            [
             0,
             "#0d0887"
            ],
            [
             0.1111111111111111,
             "#46039f"
            ],
            [
             0.2222222222222222,
             "#7201a8"
            ],
            [
             0.3333333333333333,
             "#9c179e"
            ],
            [
             0.4444444444444444,
             "#bd3786"
            ],
            [
             0.5555555555555556,
             "#d8576b"
            ],
            [
             0.6666666666666666,
             "#ed7953"
            ],
            [
             0.7777777777777778,
             "#fb9f3a"
            ],
            [
             0.8888888888888888,
             "#fdca26"
            ],
            [
             1,
             "#f0f921"
            ]
           ],
           "sequentialminus": [
            [
             0,
             "#0d0887"
            ],
            [
             0.1111111111111111,
             "#46039f"
            ],
            [
             0.2222222222222222,
             "#7201a8"
            ],
            [
             0.3333333333333333,
             "#9c179e"
            ],
            [
             0.4444444444444444,
             "#bd3786"
            ],
            [
             0.5555555555555556,
             "#d8576b"
            ],
            [
             0.6666666666666666,
             "#ed7953"
            ],
            [
             0.7777777777777778,
             "#fb9f3a"
            ],
            [
             0.8888888888888888,
             "#fdca26"
            ],
            [
             1,
             "#f0f921"
            ]
           ]
          },
          "colorway": [
           "#636efa",
           "#EF553B",
           "#00cc96",
           "#ab63fa",
           "#FFA15A",
           "#19d3f3",
           "#FF6692",
           "#B6E880",
           "#FF97FF",
           "#FECB52"
          ],
          "font": {
           "color": "#2a3f5f"
          },
          "geo": {
           "bgcolor": "white",
           "lakecolor": "white",
           "landcolor": "#E5ECF6",
           "showlakes": true,
           "showland": true,
           "subunitcolor": "white"
          },
          "hoverlabel": {
           "align": "left"
          },
          "hovermode": "closest",
          "mapbox": {
           "style": "light"
          },
          "paper_bgcolor": "white",
          "plot_bgcolor": "#E5ECF6",
          "polar": {
           "angularaxis": {
            "gridcolor": "white",
            "linecolor": "white",
            "ticks": ""
           },
           "bgcolor": "#E5ECF6",
           "radialaxis": {
            "gridcolor": "white",
            "linecolor": "white",
            "ticks": ""
           }
          },
          "scene": {
           "xaxis": {
            "backgroundcolor": "#E5ECF6",
            "gridcolor": "white",
            "gridwidth": 2,
            "linecolor": "white",
            "showbackground": true,
            "ticks": "",
            "zerolinecolor": "white"
           },
           "yaxis": {
            "backgroundcolor": "#E5ECF6",
            "gridcolor": "white",
            "gridwidth": 2,
            "linecolor": "white",
            "showbackground": true,
            "ticks": "",
            "zerolinecolor": "white"
           },
           "zaxis": {
            "backgroundcolor": "#E5ECF6",
            "gridcolor": "white",
            "gridwidth": 2,
            "linecolor": "white",
            "showbackground": true,
            "ticks": "",
            "zerolinecolor": "white"
           }
          },
          "shapedefaults": {
           "line": {
            "color": "#2a3f5f"
           }
          },
          "ternary": {
           "aaxis": {
            "gridcolor": "white",
            "linecolor": "white",
            "ticks": ""
           },
           "baxis": {
            "gridcolor": "white",
            "linecolor": "white",
            "ticks": ""
           },
           "bgcolor": "#E5ECF6",
           "caxis": {
            "gridcolor": "white",
            "linecolor": "white",
            "ticks": ""
           }
          },
          "title": {
           "x": 0.05
          },
          "xaxis": {
           "automargin": true,
           "gridcolor": "white",
           "linecolor": "white",
           "ticks": "",
           "title": {
            "standoff": 15
           },
           "zerolinecolor": "white",
           "zerolinewidth": 2
          },
          "yaxis": {
           "automargin": true,
           "gridcolor": "white",
           "linecolor": "white",
           "ticks": "",
           "title": {
            "standoff": 15
           },
           "zerolinecolor": "white",
           "zerolinewidth": 2
          }
         }
        },
        "title": {
         "text": "Z-scores for Twitter Generated Samples of 14203895"
        },
        "xaxis": {
         "showticklabels": true,
         "tickvals": [
          "claw1",
          "claw2",
          "claw3",
          "claw4",
          "claw5",
          "claw6",
          "claw7",
          "claw8",
          "claw9"
         ],
         "title": {}
        },
        "yaxis": {
         "title": {
          "text": "significance_profile"
         }
        }
       }
      }
     },
     "metadata": {},
     "output_type": "display_data"
    },
    {
     "name": "stdout",
     "output_type": "stream",
     "text": [
      "                 graph_name  motif  nodes  edges\n",
      "81   14203895_sample_rpn_15  claw1   18.0   96.0\n",
      "270   14203895_sample_rw_15  claw1   32.0  270.0\n",
      "360  14203895_sample_sff_15  claw1   32.0  225.0\n",
      "441   14203895_sample_rn_15  claw1   25.0   74.0\n"
     ]
    },
    {
     "data": {
      "application/vnd.plotly.v1+json": {
       "config": {
        "plotlyServerURL": "https://plot.ly"
       },
       "data": [
        {
         "mode": "lines+markers",
         "name": "14203895_sample_rpn_10",
         "type": "scatter",
         "x": [
          "claw1",
          "claw2",
          "claw3",
          "claw4",
          "claw5",
          "claw6",
          "claw7",
          "claw8",
          "claw9"
         ],
         "y": [
          0.0065610036510224,
          -0.0276507781813864,
          -0.0291889739241586,
          -0.0063666564301081,
          0.0106300308483671,
          0.024746113308188,
          0.1347572225383773,
          0.0417467445608199,
          0.988773072952954
         ]
        },
        {
         "mode": "lines+markers",
         "name": "14203895_sample_rn_10",
         "type": "scatter",
         "x": [
          "claw1",
          "claw2",
          "claw3",
          "claw4",
          "claw5",
          "claw6",
          "claw7",
          "claw8",
          "claw9"
         ],
         "y": [
          0.7099068967980625,
          -0.2564362396368825,
          -0.1548784003696131,
          -0.183604044947436,
          -0.1088638068100927,
          0.3423742145161642,
          0.4813025337824424,
          -0.1088638068100927,
          0
         ]
        },
        {
         "mode": "lines+markers",
         "name": "14203895_sample_sff_10",
         "type": "scatter",
         "x": [
          "claw1",
          "claw2",
          "claw3",
          "claw4",
          "claw5",
          "claw6",
          "claw7",
          "claw8",
          "claw9"
         ],
         "y": [
          -0.0089380384358908,
          -0.019107562315982,
          -0.0212921176220346,
          0.0149308496557869,
          -0.0156757270811179,
          0.0903508434775644,
          0.2600741676166516,
          0.0609673737558169,
          0.9587044024756436
         ]
        },
        {
         "mode": "lines+markers",
         "name": "14203895_sample_rw_10",
         "type": "scatter",
         "x": [
          "claw1",
          "claw2",
          "claw3",
          "claw4",
          "claw5",
          "claw6",
          "claw7",
          "claw8",
          "claw9"
         ],
         "y": [
          -0.0865293441202482,
          -0.1257930755132097,
          -0.0938557682022049,
          -0.0454653096598565,
          0.0083318599088357,
          0.151595472617643,
          0.4018295334530207,
          0.1781345927596837,
          0.8657732156005505
         ]
        }
       ],
       "layout": {
        "images": [
         {
          "sizex": 0.5,
          "sizey": 0.5,
          "source": "data:image/png;base64,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",
          "x": "claw1",
          "xanchor": "center",
          "xref": "x",
          "y": -0.07,
          "yanchor": "top",
          "yref": "paper"
         },
         {
          "sizex": 0.5,
          "sizey": 0.5,
          "source": "data:image/png;base64,iVBORw0KGgoAAAANSUhEUgAAAPoAAAD6CAMAAAC/MqoPAAAB0VBMVEVHcExzc3NycnJ0dHRtbW1ycnJycnJycnJycnJzc3NycnJycnJycnJVVVVycnJxcXGzAP+KRf+MUf+PUP+MUv+RSf+ITP+MUf+OVf+LUf+NUP+MUf+LUf+NUv+LUv+LUv+MTf+ZM/+LUv+LUf+AgICLTv+MUf+MUv9vb2+OUf+KU/+LUv+LUv90dHRycnKLUf9zc3OMUP+SSf+OTP+MUv+LUf+LUP+JUf+NUf+MUf+LUf9ycnJycnKMUf9zc3OMUf+LUP+MUf9zc3OLUv+LUv+LUf+LUv+MUf+MUv+LUv+PUP9wcHCMUf+LUf+MUf+MUf+MUf90dHRzc3NycnJxcXGMUP9ycnKLUv+MUf9zc3OMUf+MUf9zc3OLUf+MUf+NUv9xcXFycnJycnJwcHBoaGiMUf+MUf9zc3OLT/+LT/9ycnKMUv+MUf9wcHBzc3NxcXFzc3NycnJycnSLUP+LUf9xcXFzc3NycnJ1b4OLUv6MUf+OUf+LUf9zc3NxcXFycnJzc3Nzc3N8ZaV6Z6GMUf97ZqZzc3NycnKAgICQUP+NUv9ycnJ8ZKp0dHSLUf+JVfODXsh2ao11boB0bYR1cIKLU/qLU/t+Yb6MUv9zc3OMUf8bhLe+AAAAmHRSTlMAv/FADvz4XGtQgKGTA65EAQOgEP0KHusJ+wzvwGDegBQF9/EHBvOvJj8lRnlVn416SQ4buIhcKS8iT5b0ntWFU7zu2nD1rMzGmCAZptM8aNALFMJjWYThydjoakmhYzg8zuIpBZuQtjYzu3PWINtBc8e5bOU2q+jP+kUrtIlajz5ohXvCnC6yAxh/nY1NFvdvQcK4i/bteTshm9kAAAsLSURBVHic7Z35QxNJFoDbg8M7IeEKh5BwKOCGSwUUAUEEBEYHkQgD3ozuqDNeoww6565z4Mzuzu7OdvhrN0l30kf6qFdd1VWdqe8XQjrd733pqq6u6oKSJIFAIBAIBAKBQCAQCAQCgUAg4JS6xan51EtZlldmRtcess5Gz8O10ZmVTGIvU/NTi3Wkjx7puSobmXlBPAgOdS9SpsQu90QIHr9rNi4XU3t6gGAMLAaSDRaJxWe7CB3/VmfU4vhZtqq2CcXAYnt9yyaxaOctEgEeNdscP1e6hkmEwGP4skNizY+8B2iy+2YVEn3eQ+DRl3BMLN7k8fh1o47Hz7A7FiZiAiQ8tuuW2Wi7lwD9E27Hz7DuKQQe1Z0IiQ16uNSH3yIEkOVZckqozCIl9ha/QJ5GCiDLHxGUQuIjxMSO4wYYRwwgby2S9HJn0fnSqxHFvAgPWd3HWFNbY7H/le8+OeLJ0I6aWuTEEmexIgwiB5DlzeLdK/am00vXPFpaglbRFTpxAvQBAsjxOdPebX9JZ/mUgKmZbbubS0tw6mIjJIBcZdz5xIW0wrckZI1UgRIbhAe4BQog1xu6MhXnVfP0dVLCBX6uByW2C+9fw75bQzuiFvYcTwhKKxwHJlblfkgjsUvACM2h/K4nbhbEy8if9JBTb8qKjhgwQhMwgCyfVPc8VV4wv/g5aXFJOglODNqP2QRHmMrtpy/sz66QN5emwIlZNLyOmMej3Mm1oPrCfoPKDQ1Kv8XIVWAEUNuZY0WiXtizrIATi8ICtIMDyNGQvrDvfbaHCu/g50SGdapj8ABy24U0fZ5jJAa7xPdjROj1wRxLvR+kHsGI4MdJx1KHDdbgnPU7vKrDzjpOXf+aV3VYXa/GiBDWNW1cqcOekIXhAS5lbmieFlIsO/T5Phq874BnBhycdB7ft+Kq5MNtLM5tZgIYATZQkUXpHFK/n4N2pmW5ERgB2isudJBo38XDu5TQEelFcIT8oKy+0C99TNpcqgEnBh2dA48I6MbAKrRCf/M+Ue8s0Kq4EIJG6AFGGNftqyv0B4gp51kGJvYZOELEar6CPZOGFkQr9F8TU84TngQl1oDxzBH1gZuCeRRIvdKXk6/syA/cFHAeu/WjP96R5cdFtw3KSPxBAqpm2h8DEquFDkrmgHy7Fo/12t69fn3Dq6YlkOdCmA+BU8gBpsm6uTGNnFgKM8Ic6pWumeRMNQQiqC1vg/lRIDKIJat2iKQXCkNoXYx4N36IZZTnWx0E5mkh0nbv1y929txNX/z3PxASq/c0u2vE3b2ByOw8F+5nnM/99W5Z4Vbpd/fOa3zEW8wRt2dv1Ev7tYpzz3XOefr+cEmsw0NpVxhacAzwN6upJCTZd9F6uOZ2TcoxsQUC8zirHW7rLsFvkKE8tTZPn5CkzxxK5OlqItHP2rWjD+hPjb5mY16WHQoYeGCT2DS5qbtzyeLWZPWXFmLHt+d+cS3P8VTZ3PLLalFiiSR2a25J3ca8vse0ULVM9PD27LFW1+YnLY/qr0aT8xs0/kShfe5h9/iZ8e5HA60Ujm7DK2VaTvnNH7/UF4Bv9J9pHXjU/c+//6/74RyD6boU+fj6wcpjT36SjhlG+SuNH2o7l3nvDp0xYOYYzdPHjFt3cm/uCTFJjTImc9PMrFPqu71skqOK2bzcsPVefppe2W026VFEM19SflzQb9XNaXhNYUCMKZr50evqT/3mHV1xeB5ilCMddOZH3ikv3uk2n0rr6WWVJQ305tJR5ZVuFuaJ8wb19G1miRLngN5cUqv1t4XN18zzWO6WTHU/UKY3l9TvQbt52UmbKZXW3WT+RHmttW2nisxLpbqbzKVXyi938tvNFb10qrvZPK++o24vtOjGrm0JtO6a+SF1ksL917lfP1E/kK/o5XuVn3tLpbrrzAvvvcqe53yPtVDRK9UBvAMlUt2tzDO8v71ffXUlX9G/lFT1/d/kd7nHIGFi2JjrOKhuf7q/oP7TM/W9c77mShZ3c+mwWtHfSwV16Yla3Y/a7cQ/CObSPuUD30k6delX5RX52Rx+gWIuSb2Foq2p694MJGjmklSx9OkXoewLnbp0/celyhD1FCmBaq6hVw8yFWDzUlHHMC8RdRzz0lDHMi8JdTzzUlDXzA+D9gu+Oq558NWxzQOvjm8edHUP5gFX92IebHVP5oFW92YeZPVKb+YBVq9MezMPrrpn88CqezcPqjoB84Cqa+Ye/kgokOqauZc/DAuiOhnzIKoTMg+gOinz4KkTMw+cOjnzoKkTNA+YOknzYKn3kjQPlPpBouZBUidsHiB10ubBUSduHhh1zbyX1CEDoq6ZV7p/GJFgqNMwD4Y6FfNAqNMxD4I6JfMAqNMy51+dmjn36vTMeVe/Qc+cc/XDFM35VqdqzrU6XXOe1Smbc6xeMC+jY86vumZeQSkCr+r0zXlV98GcU3U/zPlU98WcS3V/zHlU98mcQ3W/zPlT982cO/VDvpnzpu6jOWfqfprzpe6rOVfq/przpK6Zk18Mwgp+1P0250fdd3Nu1P0350WdgTkn6izM+VBnYs6FOhtzDtSPMDJnr37kKCNz5urszFmrMzRnrM7SnK26Zl7uvzlTdZ35MfdPE4ehOmNzhuqszWmrtw8PLfZll8FYHDKtLsLYvHVu6IfvP3z48P0PQ8MUFugYeDFhWOanc0Nbw42peWTjbVyf2eALsuvwnJmxWFJnQl05i6X5yIRFYjNnSB0+0vPSZj2hybVqlubVa3brlr7sIbKuYMxuIaUM0bHWNmbmrWNR+8xmsVbqNLLtvKhZ43/y5oV/5OwTNZcdE1vo8hrgTNwxgCz/8YbNOe92W1MzYV41F0Yo6XL8DFtvWJhvOBR2ld2ekIcAaGtSv/HffBwpsSn8AF+5f7VZ/vv7eZ/Nh9yqoUIUe/lG5CVqV/5F0ssd6kvUtqYQA8hyJ1k1NzqRE0vhLfAGWXzerzX9ckAWn8eq7l1bgAi1LYT1HIhAVkfvwGneqwAB8FZ4x+Q4KLEqeIAulOWYNRp8W4w7gnrxVaiHn3aHhWktwVzjHc4UMLHT0AAh1PYjTyMNTStSwMQmQ8AAJ4EB5N2faXgWM7wLzQy6UjjsWpLFW28BmSZwYtArcCM4AsalFAdYw5MFWhXdll0v5ioN0WIegxNLwAK0ggPIHXRUzaD1qAyEQQGq4QGAETAJYyQGW586VkrqsGG6/lJS7wdFiGBE8GVlcoyLkAy7x/4Tn/U/cV1vx4gQoiNrJISRGGykJgxvPlcpyZpYBScWBRZHaMdNlifoqJqxer7oTDMwAvxW2adxGni/Ctq5gHeQTlIxLQLcmwZ3KVsgg5JZan1p1jMNO2RQMsulFmgI9LFuBfA4EC6bwMTgnWlowRqmYGlJFzCxRXgI2GCFTwMVWWBXYJwxw69AEXw76ZK0DUoM6+o7CAgwS9rPiVlAYoNYEc6iB2hoISvnTAvgIcRZvBDog/0jZN3cGEFODHtywTRigCRJLxQQ5rnkmMaOUId2lZ/3pbuqJzyPlFgjbFTOQGyG6lfrAZQ7rhlPc+di7h0l/895lvC6a2ITHmcN1o26BBgjowLH7VHwqIfSrtKUcDj+KvYcJe/0OY1aeJwwqPLbut3DzfpNAjNR8Ykl7aY/7K7/RijG9gOreWqJTcypWeSYS1oVyfjoNsEYLT0rpuM/XmN6xvPE1szPH1d6WkgH6VpONirfce3g2DjzE64xNz42qIxfJBqTy54nRAsEAoFAIBAIBAKBQCAQCAQCgUAgEHjh/2vE6U3sPnwPAAAAAElFTkSuQmCC",
          "x": "claw2",
          "xanchor": "center",
          "xref": "x",
          "y": -0.07,
          "yanchor": "top",
          "yref": "paper"
         },
         {
          "sizex": 0.5,
          "sizey": 0.5,
          "source": "data:image/png;base64,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",
          "x": "claw3",
          "xanchor": "center",
          "xref": "x",
          "y": -0.07,
          "yanchor": "top",
          "yref": "paper"
         },
         {
          "sizex": 0.5,
          "sizey": 0.5,
          "source": "data:image/png;base64,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",
          "x": "claw4",
          "xanchor": "center",
          "xref": "x",
          "y": -0.07,
          "yanchor": "top",
          "yref": "paper"
         },
         {
          "sizex": 0.5,
          "sizey": 0.5,
          "source": "data:image/png;base64,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",
          "x": "claw5",
          "xanchor": "center",
          "xref": "x",
          "y": -0.07,
          "yanchor": "top",
          "yref": "paper"
         },
         {
          "sizex": 0.5,
          "sizey": 0.5,
          "source": "data:image/png;base64,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",
          "x": "claw6",
          "xanchor": "center",
          "xref": "x",
          "y": -0.07,
          "yanchor": "top",
          "yref": "paper"
         },
         {
          "sizex": 0.5,
          "sizey": 0.5,
          "source": "data:image/png;base64,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",
          "x": "claw7",
          "xanchor": "center",
          "xref": "x",
          "y": -0.07,
          "yanchor": "top",
          "yref": "paper"
         },
         {
          "sizex": 0.5,
          "sizey": 0.5,
          "source": "data:image/png;base64,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",
          "x": "claw8",
          "xanchor": "center",
          "xref": "x",
          "y": -0.07,
          "yanchor": "top",
          "yref": "paper"
         },
         {
          "sizex": 0.5,
          "sizey": 0.5,
          "source": "data:image/png;base64,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",
          "x": "claw9",
          "xanchor": "center",
          "xref": "x",
          "y": -0.07,
          "yanchor": "top",
          "yref": "paper"
         }
        ],
        "template": {
         "data": {
          "bar": [
           {
            "error_x": {
             "color": "#2a3f5f"
            },
            "error_y": {
             "color": "#2a3f5f"
            },
            "marker": {
             "line": {
              "color": "#E5ECF6",
              "width": 0.5
             },
             "pattern": {
              "fillmode": "overlay",
              "size": 10,
              "solidity": 0.2
             }
            },
            "type": "bar"
           }
          ],
          "barpolar": [
           {
            "marker": {
             "line": {
              "color": "#E5ECF6",
              "width": 0.5
             },
             "pattern": {
              "fillmode": "overlay",
              "size": 10,
              "solidity": 0.2
             }
            },
            "type": "barpolar"
           }
          ],
          "carpet": [
           {
            "aaxis": {
             "endlinecolor": "#2a3f5f",
             "gridcolor": "white",
             "linecolor": "white",
             "minorgridcolor": "white",
             "startlinecolor": "#2a3f5f"
            },
            "baxis": {
             "endlinecolor": "#2a3f5f",
             "gridcolor": "white",
             "linecolor": "white",
             "minorgridcolor": "white",
             "startlinecolor": "#2a3f5f"
            },
            "type": "carpet"
           }
          ],
          "choropleth": [
           {
            "colorbar": {
             "outlinewidth": 0,
             "ticks": ""
            },
            "type": "choropleth"
           }
          ],
          "contour": [
           {
            "colorbar": {
             "outlinewidth": 0,
             "ticks": ""
            },
            "colorscale": [
             [
              0,
              "#0d0887"
             ],
             [
              0.1111111111111111,
              "#46039f"
             ],
             [
              0.2222222222222222,
              "#7201a8"
             ],
             [
              0.3333333333333333,
              "#9c179e"
             ],
             [
              0.4444444444444444,
              "#bd3786"
             ],
             [
              0.5555555555555556,
              "#d8576b"
             ],
             [
              0.6666666666666666,
              "#ed7953"
             ],
             [
              0.7777777777777778,
              "#fb9f3a"
             ],
             [
              0.8888888888888888,
              "#fdca26"
             ],
             [
              1,
              "#f0f921"
             ]
            ],
            "type": "contour"
           }
          ],
          "contourcarpet": [
           {
            "colorbar": {
             "outlinewidth": 0,
             "ticks": ""
            },
            "type": "contourcarpet"
           }
          ],
          "heatmap": [
           {
            "colorbar": {
             "outlinewidth": 0,
             "ticks": ""
            },
            "colorscale": [
             [
              0,
              "#0d0887"
             ],
             [
              0.1111111111111111,
              "#46039f"
             ],
             [
              0.2222222222222222,
              "#7201a8"
             ],
             [
              0.3333333333333333,
              "#9c179e"
             ],
             [
              0.4444444444444444,
              "#bd3786"
             ],
             [
              0.5555555555555556,
              "#d8576b"
             ],
             [
              0.6666666666666666,
              "#ed7953"
             ],
             [
              0.7777777777777778,
              "#fb9f3a"
             ],
             [
              0.8888888888888888,
              "#fdca26"
             ],
             [
              1,
              "#f0f921"
             ]
            ],
            "type": "heatmap"
           }
          ],
          "heatmapgl": [
           {
            "colorbar": {
             "outlinewidth": 0,
             "ticks": ""
            },
            "colorscale": [
             [
              0,
              "#0d0887"
             ],
             [
              0.1111111111111111,
              "#46039f"
             ],
             [
              0.2222222222222222,
              "#7201a8"
             ],
             [
              0.3333333333333333,
              "#9c179e"
             ],
             [
              0.4444444444444444,
              "#bd3786"
             ],
             [
              0.5555555555555556,
              "#d8576b"
             ],
             [
              0.6666666666666666,
              "#ed7953"
             ],
             [
              0.7777777777777778,
              "#fb9f3a"
             ],
             [
              0.8888888888888888,
              "#fdca26"
             ],
             [
              1,
              "#f0f921"
             ]
            ],
            "type": "heatmapgl"
           }
          ],
          "histogram": [
           {
            "marker": {
             "pattern": {
              "fillmode": "overlay",
              "size": 10,
              "solidity": 0.2
             }
            },
            "type": "histogram"
           }
          ],
          "histogram2d": [
           {
            "colorbar": {
             "outlinewidth": 0,
             "ticks": ""
            },
            "colorscale": [
             [
              0,
              "#0d0887"
             ],
             [
              0.1111111111111111,
              "#46039f"
             ],
             [
              0.2222222222222222,
              "#7201a8"
             ],
             [
              0.3333333333333333,
              "#9c179e"
             ],
             [
              0.4444444444444444,
              "#bd3786"
             ],
             [
              0.5555555555555556,
              "#d8576b"
             ],
             [
              0.6666666666666666,
              "#ed7953"
             ],
             [
              0.7777777777777778,
              "#fb9f3a"
             ],
             [
              0.8888888888888888,
              "#fdca26"
             ],
             [
              1,
              "#f0f921"
             ]
            ],
            "type": "histogram2d"
           }
          ],
          "histogram2dcontour": [
           {
            "colorbar": {
             "outlinewidth": 0,
             "ticks": ""
            },
            "colorscale": [
             [
              0,
              "#0d0887"
             ],
             [
              0.1111111111111111,
              "#46039f"
             ],
             [
              0.2222222222222222,
              "#7201a8"
             ],
             [
              0.3333333333333333,
              "#9c179e"
             ],
             [
              0.4444444444444444,
              "#bd3786"
             ],
             [
              0.5555555555555556,
              "#d8576b"
             ],
             [
              0.6666666666666666,
              "#ed7953"
             ],
             [
              0.7777777777777778,
              "#fb9f3a"
             ],
             [
              0.8888888888888888,
              "#fdca26"
             ],
             [
              1,
              "#f0f921"
             ]
            ],
            "type": "histogram2dcontour"
           }
          ],
          "mesh3d": [
           {
            "colorbar": {
             "outlinewidth": 0,
             "ticks": ""
            },
            "type": "mesh3d"
           }
          ],
          "parcoords": [
           {
            "line": {
             "colorbar": {
              "outlinewidth": 0,
              "ticks": ""
             }
            },
            "type": "parcoords"
           }
          ],
          "pie": [
           {
            "automargin": true,
            "type": "pie"
           }
          ],
          "scatter": [
           {
            "fillpattern": {
             "fillmode": "overlay",
             "size": 10,
             "solidity": 0.2
            },
            "type": "scatter"
           }
          ],
          "scatter3d": [
           {
            "line": {
             "colorbar": {
              "outlinewidth": 0,
              "ticks": ""
             }
            },
            "marker": {
             "colorbar": {
              "outlinewidth": 0,
              "ticks": ""
             }
            },
            "type": "scatter3d"
           }
          ],
          "scattercarpet": [
           {
            "marker": {
             "colorbar": {
              "outlinewidth": 0,
              "ticks": ""
             }
            },
            "type": "scattercarpet"
           }
          ],
          "scattergeo": [
           {
            "marker": {
             "colorbar": {
              "outlinewidth": 0,
              "ticks": ""
             }
            },
            "type": "scattergeo"
           }
          ],
          "scattergl": [
           {
            "marker": {
             "colorbar": {
              "outlinewidth": 0,
              "ticks": ""
             }
            },
            "type": "scattergl"
           }
          ],
          "scattermapbox": [
           {
            "marker": {
             "colorbar": {
              "outlinewidth": 0,
              "ticks": ""
             }
            },
            "type": "scattermapbox"
           }
          ],
          "scatterpolar": [
           {
            "marker": {
             "colorbar": {
              "outlinewidth": 0,
              "ticks": ""
             }
            },
            "type": "scatterpolar"
           }
          ],
          "scatterpolargl": [
           {
            "marker": {
             "colorbar": {
              "outlinewidth": 0,
              "ticks": ""
             }
            },
            "type": "scatterpolargl"
           }
          ],
          "scatterternary": [
           {
            "marker": {
             "colorbar": {
              "outlinewidth": 0,
              "ticks": ""
             }
            },
            "type": "scatterternary"
           }
          ],
          "surface": [
           {
            "colorbar": {
             "outlinewidth": 0,
             "ticks": ""
            },
            "colorscale": [
             [
              0,
              "#0d0887"
             ],
             [
              0.1111111111111111,
              "#46039f"
             ],
             [
              0.2222222222222222,
              "#7201a8"
             ],
             [
              0.3333333333333333,
              "#9c179e"
             ],
             [
              0.4444444444444444,
              "#bd3786"
             ],
             [
              0.5555555555555556,
              "#d8576b"
             ],
             [
              0.6666666666666666,
              "#ed7953"
             ],
             [
              0.7777777777777778,
              "#fb9f3a"
             ],
             [
              0.8888888888888888,
              "#fdca26"
             ],
             [
              1,
              "#f0f921"
             ]
            ],
            "type": "surface"
           }
          ],
          "table": [
           {
            "cells": {
             "fill": {
              "color": "#EBF0F8"
             },
             "line": {
              "color": "white"
             }
            },
            "header": {
             "fill": {
              "color": "#C8D4E3"
             },
             "line": {
              "color": "white"
             }
            },
            "type": "table"
           }
          ]
         },
         "layout": {
          "annotationdefaults": {
           "arrowcolor": "#2a3f5f",
           "arrowhead": 0,
           "arrowwidth": 1
          },
          "autotypenumbers": "strict",
          "coloraxis": {
           "colorbar": {
            "outlinewidth": 0,
            "ticks": ""
           }
          },
          "colorscale": {
           "diverging": [
            [
             0,
             "#8e0152"
            ],
            [
             0.1,
             "#c51b7d"
            ],
            [
             0.2,
             "#de77ae"
            ],
            [
             0.3,
             "#f1b6da"
            ],
            [
             0.4,
             "#fde0ef"
            ],
            [
             0.5,
             "#f7f7f7"
            ],
            [
             0.6,
             "#e6f5d0"
            ],
            [
             0.7,
             "#b8e186"
            ],
            [
             0.8,
             "#7fbc41"
            ],
            [
             0.9,
             "#4d9221"
            ],
            [
             1,
             "#276419"
            ]
           ],
           "sequential": [
            [
             0,
             "#0d0887"
            ],
            [
             0.1111111111111111,
             "#46039f"
            ],
            [
             0.2222222222222222,
             "#7201a8"
            ],
            [
             0.3333333333333333,
             "#9c179e"
            ],
            [
             0.4444444444444444,
             "#bd3786"
            ],
            [
             0.5555555555555556,
             "#d8576b"
            ],
            [
             0.6666666666666666,
             "#ed7953"
            ],
            [
             0.7777777777777778,
             "#fb9f3a"
            ],
            [
             0.8888888888888888,
             "#fdca26"
            ],
            [
             1,
             "#f0f921"
            ]
           ],
           "sequentialminus": [
            [
             0,
             "#0d0887"
            ],
            [
             0.1111111111111111,
             "#46039f"
            ],
            [
             0.2222222222222222,
             "#7201a8"
            ],
            [
             0.3333333333333333,
             "#9c179e"
            ],
            [
             0.4444444444444444,
             "#bd3786"
            ],
            [
             0.5555555555555556,
             "#d8576b"
            ],
            [
             0.6666666666666666,
             "#ed7953"
            ],
            [
             0.7777777777777778,
             "#fb9f3a"
            ],
            [
             0.8888888888888888,
             "#fdca26"
            ],
            [
             1,
             "#f0f921"
            ]
           ]
          },
          "colorway": [
           "#636efa",
           "#EF553B",
           "#00cc96",
           "#ab63fa",
           "#FFA15A",
           "#19d3f3",
           "#FF6692",
           "#B6E880",
           "#FF97FF",
           "#FECB52"
          ],
          "font": {
           "color": "#2a3f5f"
          },
          "geo": {
           "bgcolor": "white",
           "lakecolor": "white",
           "landcolor": "#E5ECF6",
           "showlakes": true,
           "showland": true,
           "subunitcolor": "white"
          },
          "hoverlabel": {
           "align": "left"
          },
          "hovermode": "closest",
          "mapbox": {
           "style": "light"
          },
          "paper_bgcolor": "white",
          "plot_bgcolor": "#E5ECF6",
          "polar": {
           "angularaxis": {
            "gridcolor": "white",
            "linecolor": "white",
            "ticks": ""
           },
           "bgcolor": "#E5ECF6",
           "radialaxis": {
            "gridcolor": "white",
            "linecolor": "white",
            "ticks": ""
           }
          },
          "scene": {
           "xaxis": {
            "backgroundcolor": "#E5ECF6",
            "gridcolor": "white",
            "gridwidth": 2,
            "linecolor": "white",
            "showbackground": true,
            "ticks": "",
            "zerolinecolor": "white"
           },
           "yaxis": {
            "backgroundcolor": "#E5ECF6",
            "gridcolor": "white",
            "gridwidth": 2,
            "linecolor": "white",
            "showbackground": true,
            "ticks": "",
            "zerolinecolor": "white"
           },
           "zaxis": {
            "backgroundcolor": "#E5ECF6",
            "gridcolor": "white",
            "gridwidth": 2,
            "linecolor": "white",
            "showbackground": true,
            "ticks": "",
            "zerolinecolor": "white"
           }
          },
          "shapedefaults": {
           "line": {
            "color": "#2a3f5f"
           }
          },
          "ternary": {
           "aaxis": {
            "gridcolor": "white",
            "linecolor": "white",
            "ticks": ""
           },
           "baxis": {
            "gridcolor": "white",
            "linecolor": "white",
            "ticks": ""
           },
           "bgcolor": "#E5ECF6",
           "caxis": {
            "gridcolor": "white",
            "linecolor": "white",
            "ticks": ""
           }
          },
          "title": {
           "x": 0.05
          },
          "xaxis": {
           "automargin": true,
           "gridcolor": "white",
           "linecolor": "white",
           "ticks": "",
           "title": {
            "standoff": 15
           },
           "zerolinecolor": "white",
           "zerolinewidth": 2
          },
          "yaxis": {
           "automargin": true,
           "gridcolor": "white",
           "linecolor": "white",
           "ticks": "",
           "title": {
            "standoff": 15
           },
           "zerolinecolor": "white",
           "zerolinewidth": 2
          }
         }
        },
        "title": {
         "text": "Z-scores for Twitter Generated Samples of 14203895"
        },
        "xaxis": {
         "showticklabels": true,
         "tickvals": [
          "claw1",
          "claw2",
          "claw3",
          "claw4",
          "claw5",
          "claw6",
          "claw7",
          "claw8",
          "claw9"
         ],
         "title": {}
        },
        "yaxis": {
         "title": {
          "text": "significance_profile"
         }
        }
       }
      }
     },
     "metadata": {},
     "output_type": "display_data"
    },
    {
     "name": "stdout",
     "output_type": "stream",
     "text": [
      "                 graph_name  motif  nodes  edges\n",
      "207  14203895_sample_rpn_10  claw1   17.0   43.0\n",
      "315   14203895_sample_rn_10  claw1   16.0   31.0\n",
      "387  14203895_sample_sff_10  claw1   21.0  192.0\n",
      "423   14203895_sample_rw_10  claw1   21.0  122.0\n"
     ]
    }
   ],
   "source": [
    "sample_percents = [\"20\", \"15\", \"10\"]\n",
    "\n",
    "selected_graph = \"14203895\"\n",
    "\n",
    "for sp in sample_percents:\n",
    "    # Query data\n",
    "    query_df = motif_twitter.query(\n",
    "        \"graph_name == @selected_graph or (graph_name.str.startswith(@selected_graph) and graph_name.str.endswith(@sp))\",\n",
    "    )\n",
    "\n",
    "    gru.plot_line_chart_with_images(\n",
    "        query_df,\n",
    "        f\"Z-scores for Twitter Generated Samples of {selected_graph}\",\n",
    "        \"Motifs\",\n",
    "        \"significance_profile\",\n",
    "        IMAGES_PATH\n",
    "    )\n",
    "\n",
    "    print(\n",
    "        query_df[[\"graph_name\", \"motif\", \"nodes\", \"edges\"]].query(\"motif == 'claw1'\")\n",
    "    )"
   ]
  },
  {
   "cell_type": "code",
   "execution_count": 10,
   "metadata": {},
   "outputs": [
    {
     "data": {
      "image/png": "[encoded data removed]",
      "text/plain": [
       "<Figure size 1200x600 with 2 Axes>"
      ]
     },
     "metadata": {},
     "output_type": "display_data"
    },
    {
     "data": {
      "image/png": "[encoded data removed]",
      "text/plain": [
       "<Figure size 1200x600 with 2 Axes>"
      ]
     },
     "metadata": {},
     "output_type": "display_data"
    }
   ],
   "source": [
    "twitter_combined = gru.read_directed_graph_from_edge_list(\n",
    "    \"../../data/tests/twitter_combined.edges\"\n",
    ")\n",
    "gru.plot_degree_distribution(twitter_combined)\n",
    "gru.plot_degree_distribution_scatter(twitter_combined)"
   ]
  },
  {
   "cell_type": "code",
   "execution_count": 11,
   "metadata": {},
   "outputs": [
    {
     "data": {
      "image/png": "[encoded data removed]",
      "text/plain": [
       "<Figure size 1200x600 with 2 Axes>"
      ]
     },
     "metadata": {},
     "output_type": "display_data"
    },
    {
     "data": {
      "image/png": "[encoded data removed]",
      "text/plain": [
       "<Figure size 1200x600 with 2 Axes>"
      ]
     },
     "metadata": {},
     "output_type": "display_data"
    }
   ],
   "source": [
    "twitter_ego = gru.read_directed_graph_from_edge_list(\n",
    "    \"../../data/twitter/14203895.edges\"\n",
    ")\n",
    "gru.plot_degree_distribution(twitter_ego)\n",
    "gru.plot_degree_distribution_scatter(twitter_ego)"
   ]
  },
  {
   "cell_type": "code",
   "execution_count": 12,
   "metadata": {},
   "outputs": [
    {
     "data": {
      "image/png": "[encoded data removed]",
      "text/plain": [
       "<Figure size 1200x600 with 2 Axes>"
      ]
     },
     "metadata": {},
     "output_type": "display_data"
    },
    {
     "data": {
      "image/png": "[encoded data removed]",
      "text/plain": [
       "<Figure size 1200x600 with 2 Axes>"
      ]
     },
     "metadata": {},
     "output_type": "display_data"
    }
   ],
   "source": [
    "twitter_ssf_10 = gru.read_directed_graph_from_edge_list(\n",
    "    \"../../data/twitter_samples/14203895_sample_sff_10.edges\"\n",
    ")\n",
    "gru.plot_degree_distribution(twitter_ssf_10)\n",
    "gru.plot_degree_distribution_scatter(twitter_ssf_10)"
   ]
  }
 ],
 "metadata": {
  "kernelspec": {
   "display_name": "venv",
   "language": "python",
   "name": "python3"
  },
  "language_info": {
   "codemirror_mode": {
    "name": "ipython",
    "version": 3
   },
   "file_extension": ".py",
   "mimetype": "text/x-python",
   "name": "python",
   "nbconvert_exporter": "python",
   "pygments_lexer": "ipython3",
   "version": "3.12.4"
  }
 },
 "nbformat": 4,
 "nbformat_minor": 2
}
