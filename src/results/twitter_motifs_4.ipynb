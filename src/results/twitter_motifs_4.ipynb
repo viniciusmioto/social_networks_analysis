{
 "cells": [
  {
   "cell_type": "markdown",
   "metadata": {},
   "source": [
    "# Result Analysis"
   ]
  },
  {
   "cell_type": "code",
   "execution_count": 1,
   "metadata": {},
   "outputs": [],
   "source": [
    "import os\n",
    "import sys\n",
    "import pandas as pd\n",
    "\n",
    "# Get the absolute path to the src directory\n",
    "src_path = os.path.abspath(os.path.join(os.getcwd(), \"../\"))\n",
    "\n",
    "# Add src_path to the system path\n",
    "sys.path.insert(0, src_path)\n",
    "\n",
    "# Now you can import your module\n",
    "import scripts.graph_utils as gru"
   ]
  },
  {
   "cell_type": "markdown",
   "metadata": {},
   "source": [
    "### Load Data"
   ]
  },
  {
   "cell_type": "code",
   "execution_count": 2,
   "metadata": {},
   "outputs": [],
   "source": [
    "# Data path directory\n",
    "RESULTS_PATH = \"../../results/\"\n",
    "NETWORKS_PATH = \"../../data/\"\n",
    "IMAGES_PATH = \"../../img/motifs_4/\""
   ]
  },
  {
   "cell_type": "code",
   "execution_count": 3,
   "metadata": {},
   "outputs": [],
   "source": [
    "# Load data\n",
    "def load_data(file):\n",
    "    data = pd.read_csv(RESULTS_PATH + file)\n",
    "    return data"
   ]
  },
  {
   "cell_type": "markdown",
   "metadata": {},
   "source": [
    "## Twitter Egonets"
   ]
  },
  {
   "cell_type": "code",
   "execution_count": 4,
   "metadata": {},
   "outputs": [],
   "source": [
    "# Load the Twitter data\n",
    "file_name = \"twitter_motifs_4.csv\"\n",
    "motif_twitter = load_data(file_name)\n",
    "# cast graph_name as string\n",
    "motif_twitter[\"graph_name\"] = motif_twitter[\"graph_name\"].astype(str)"
   ]
  },
  {
   "cell_type": "code",
   "execution_count": null,
   "metadata": {},
   "outputs": [],
   "source": [
    "motif_twitter"
   ]
  },
  {
   "cell_type": "markdown",
   "metadata": {},
   "source": [
    "### Twitter Original Egonets"
   ]
  },
  {
   "cell_type": "code",
   "execution_count": null,
   "metadata": {},
   "outputs": [],
   "source": [
    "# Plot only the original graphs of Twitter\n",
    "gru.plot_line_chart_with_images(\n",
    "    motif_twitter[~motif_twitter[\"graph_name\"].str.contains(\"sample\")],\n",
    "    f\"Z-scores for Twitter Original Graphs from {file_name}\",\n",
    "    \"motif\",\n",
    "    \"significance_profile\",\n",
    "    IMAGES_PATH\n",
    ")"
   ]
  },
  {
   "cell_type": "code",
   "execution_count": null,
   "metadata": {},
   "outputs": [],
   "source": [
    "motif_twitter.query(\n",
    "    \"graph_name.str.contains('sample') == False and motif == 'motif_1'\"\n",
    ")[[\"graph_name\", \"nodes\", \"edges\", \"max_degree\", \"avg_degree\"]].sort_values(\"nodes\")"
   ]
  },
  {
   "cell_type": "markdown",
   "metadata": {},
   "source": [
    "## Twitter Samples"
   ]
  },
  {
   "cell_type": "code",
   "execution_count": null,
   "metadata": {},
   "outputs": [],
   "source": [
    "sample_percents = [\"20\", \"15\", \"10\"]\n",
    "\n",
    "selected_graph = \"7861312\"\n",
    "\n",
    "for sp in sample_percents:\n",
    "    # Query data\n",
    "    query_df = motif_twitter.query(\n",
    "        \"graph_name == @selected_graph or (graph_name.str.startswith(@selected_graph) and graph_name.str.endswith(@sp))\",\n",
    "    )\n",
    "\n",
    "    gru.plot_line_chart_with_images(\n",
    "        query_df,\n",
    "        f\"Z-scores for Twitter Generated Samples of {selected_graph}\",\n",
    "        \"motif\",\n",
    "        \"significance_profile\",\n",
    "        IMAGES_PATH\n",
    "    )\n",
    "\n",
    "    print(\n",
    "        query_df[[\"graph_name\", \"motif\", \"nodes\", \"edges\"]].query(\"motif == 1\")\n",
    "    )"
   ]
  },
  {
   "cell_type": "code",
   "execution_count": null,
   "metadata": {},
   "outputs": [],
   "source": [
    "sample_percents = [\"20\", \"15\", \"10\"]\n",
    "\n",
    "selected_graph = \"14203895\"\n",
    "\n",
    "for sp in sample_percents:\n",
    "    # Query data\n",
    "    query_df = motif_twitter.query(\n",
    "        \"graph_name == @selected_graph or (graph_name.str.startswith(@selected_graph) and graph_name.str.endswith(@sp))\",\n",
    "    )\n",
    "\n",
    "    gru.plot_line_chart_with_images(\n",
    "        query_df,\n",
    "        f\"Z-scores for Twitter Generated Samples of {selected_graph}\",\n",
    "        \"Motifs\",\n",
    "        \"significance_profile\",\n",
    "        IMAGES_PATH\n",
    "    )\n",
    "\n",
    "    print(\n",
    "        query_df[[\"graph_name\", \"motif\", \"nodes\", \"edges\"]].query(\"motif == 1\")\n",
    "    )"
   ]
  },
  {
   "cell_type": "code",
   "execution_count": null,
   "metadata": {},
   "outputs": [],
   "source": [
    "twitter_combined = gru.read_directed_graph_from_edge_list(\n",
    "    \"../../data/twitter_combined.edges\"\n",
    ")\n",
    "gru.plot_degree_distribution(twitter_combined)\n",
    "gru.plot_degree_distribution_scatter(twitter_combined)"
   ]
  },
  {
   "cell_type": "code",
   "execution_count": null,
   "metadata": {},
   "outputs": [],
   "source": [
    "twitter_ego = gru.read_directed_graph_from_edge_list(\n",
    "    \"../../data/twitter/14203895.edges\"\n",
    ")\n",
    "gru.plot_degree_distribution(twitter_ego)\n",
    "gru.plot_degree_distribution_scatter(twitter_ego)"
   ]
  },
  {
   "cell_type": "code",
   "execution_count": null,
   "metadata": {},
   "outputs": [],
   "source": [
    "twitter_ssf_10 = gru.read_directed_graph_from_edge_list(\n",
    "    \"../../data/twitter_samples/14203895_sample_sff_10.edges\"\n",
    ")\n",
    "gru.plot_degree_distribution(twitter_ssf_10)\n",
    "gru.plot_degree_distribution_scatter(twitter_ssf_10)"
   ]
  }
 ],
 "metadata": {
  "kernelspec": {
   "display_name": "venv",
   "language": "python",
   "name": "python3"
  },
  "language_info": {
   "codemirror_mode": {
    "name": "ipython",
    "version": 3
   },
   "file_extension": ".py",
   "mimetype": "text/x-python",
   "name": "python",
   "nbconvert_exporter": "python",
   "pygments_lexer": "ipython3",
   "version": "3.12.4"
  }
 },
 "nbformat": 4,
 "nbformat_minor": 2
}
