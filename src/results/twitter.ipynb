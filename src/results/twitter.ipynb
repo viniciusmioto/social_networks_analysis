{
 "cells": [
  {
   "cell_type": "markdown",
   "metadata": {},
   "source": [
    "# Result Analysis"
   ]
  },
  {
   "cell_type": "code",
   "execution_count": 1,
   "metadata": {},
   "outputs": [],
   "source": [
    "import os\n",
    "import sys\n",
    "import pandas as pd\n",
    "import plotly.graph_objects as go\n",
    "import matplotlib.pyplot as plt\n",
    "import networkx as nx\n",
    "import numpy as np\n",
    "\n",
    "# Get the absolute path to the src directory\n",
    "src_path = os.path.abspath(os.path.join(os.getcwd(), \"../\"))\n",
    "\n",
    "# Add src_path to the system path\n",
    "sys.path.insert(0, src_path)\n",
    "\n",
    "# Now you can import your module\n",
    "import scripts.graph_utils as gru"
   ]
  },
  {
   "cell_type": "code",
   "execution_count": 2,
   "metadata": {},
   "outputs": [],
   "source": [
    "# Plot line chart of Z-scores for each graph_name\n",
    "def plot_line_chart(data, title, x_label, y_label):\n",
    "    fig = go.Figure()\n",
    "    for graph_name in data[\"graph_name\"].unique():\n",
    "        df = data[data[\"graph_name\"] == graph_name]\n",
    "        fig.add_trace(\n",
    "            go.Scatter(\n",
    "                x=df[\"motif\"], y=df[y_label], mode=\"lines+markers\", name=graph_name\n",
    "            )\n",
    "        )\n",
    "    fig.update_layout(title=title, xaxis_title=x_label, yaxis_title=y_label)\n",
    "    fig.show()"
   ]
  },
  {
   "cell_type": "markdown",
   "metadata": {},
   "source": [
    "### Load Data"
   ]
  },
  {
   "cell_type": "code",
   "execution_count": 3,
   "metadata": {},
   "outputs": [],
   "source": [
    "# Data path directory\n",
    "RESULTS_PATH = \"../../results/\"\n",
    "NETWORKS_PATH = \"../../data/\""
   ]
  },
  {
   "cell_type": "code",
   "execution_count": 4,
   "metadata": {},
   "outputs": [],
   "source": [
    "# Load data\n",
    "def load_data(file):\n",
    "    data = pd.read_csv(RESULTS_PATH + file)\n",
    "    return data"
   ]
  },
  {
   "cell_type": "markdown",
   "metadata": {},
   "source": [
    "## Twitter Egonets"
   ]
  },
  {
   "cell_type": "code",
   "execution_count": 5,
   "metadata": {},
   "outputs": [],
   "source": [
    "# Load the Twitter data\n",
    "file_name = \"twitter.csv\"\n",
    "motif_twitter = load_data(file_name)\n",
    "# cast graph_name as string\n",
    "motif_twitter[\"graph_name\"] = motif_twitter[\"graph_name\"].astype(str)"
   ]
  },
  {
   "cell_type": "code",
   "execution_count": 6,
   "metadata": {},
   "outputs": [
    {
     "data": {
      "text/html": [
       "<div>\n",
       "<style scoped>\n",
       "    .dataframe tbody tr th:only-of-type {\n",
       "        vertical-align: middle;\n",
       "    }\n",
       "\n",
       "    .dataframe tbody tr th {\n",
       "        vertical-align: top;\n",
       "    }\n",
       "\n",
       "    .dataframe thead th {\n",
       "        text-align: right;\n",
       "    }\n",
       "</style>\n",
       "<table border=\"1\" class=\"dataframe\">\n",
       "  <thead>\n",
       "    <tr style=\"text-align: right;\">\n",
       "      <th></th>\n",
       "      <th>graph_name</th>\n",
       "      <th>motif</th>\n",
       "      <th>average_count</th>\n",
       "      <th>standard_deviation</th>\n",
       "      <th>z_score</th>\n",
       "      <th>significance_profile</th>\n",
       "      <th>nodes</th>\n",
       "      <th>edges</th>\n",
       "      <th>max_degree</th>\n",
       "      <th>avg_degree</th>\n",
       "    </tr>\n",
       "  </thead>\n",
       "  <tbody>\n",
       "    <tr>\n",
       "      <th>0</th>\n",
       "      <td>256497288</td>\n",
       "      <td>motif_1</td>\n",
       "      <td>52435.44</td>\n",
       "      <td>887.535214</td>\n",
       "      <td>22.877470</td>\n",
       "      <td>0.011187</td>\n",
       "      <td>213.0</td>\n",
       "      <td>17930.0</td>\n",
       "      <td>177.5</td>\n",
       "      <td>168.356808</td>\n",
       "    </tr>\n",
       "    <tr>\n",
       "      <th>1</th>\n",
       "      <td>256497288</td>\n",
       "      <td>motif_2</td>\n",
       "      <td>36026.44</td>\n",
       "      <td>646.921175</td>\n",
       "      <td>1.198848</td>\n",
       "      <td>0.000586</td>\n",
       "      <td>213.0</td>\n",
       "      <td>17930.0</td>\n",
       "      <td>177.5</td>\n",
       "      <td>168.356808</td>\n",
       "    </tr>\n",
       "    <tr>\n",
       "      <th>2</th>\n",
       "      <td>256497288</td>\n",
       "      <td>motif_3</td>\n",
       "      <td>72416.32</td>\n",
       "      <td>1275.567250</td>\n",
       "      <td>-28.681608</td>\n",
       "      <td>-0.014026</td>\n",
       "      <td>213.0</td>\n",
       "      <td>17930.0</td>\n",
       "      <td>177.5</td>\n",
       "      <td>168.356808</td>\n",
       "    </tr>\n",
       "    <tr>\n",
       "      <th>3</th>\n",
       "      <td>256497288</td>\n",
       "      <td>motif_4</td>\n",
       "      <td>24514.04</td>\n",
       "      <td>563.694545</td>\n",
       "      <td>50.319735</td>\n",
       "      <td>0.024607</td>\n",
       "      <td>213.0</td>\n",
       "      <td>17930.0</td>\n",
       "      <td>177.5</td>\n",
       "      <td>168.356808</td>\n",
       "    </tr>\n",
       "    <tr>\n",
       "      <th>4</th>\n",
       "      <td>256497288</td>\n",
       "      <td>motif_5</td>\n",
       "      <td>33661.00</td>\n",
       "      <td>741.003430</td>\n",
       "      <td>127.988611</td>\n",
       "      <td>0.062588</td>\n",
       "      <td>213.0</td>\n",
       "      <td>17930.0</td>\n",
       "      <td>177.5</td>\n",
       "      <td>168.356808</td>\n",
       "    </tr>\n",
       "    <tr>\n",
       "      <th>...</th>\n",
       "      <td>...</td>\n",
       "      <td>...</td>\n",
       "      <td>...</td>\n",
       "      <td>...</td>\n",
       "      <td>...</td>\n",
       "      <td>...</td>\n",
       "      <td>...</td>\n",
       "      <td>...</td>\n",
       "      <td>...</td>\n",
       "      <td>...</td>\n",
       "    </tr>\n",
       "    <tr>\n",
       "      <th>1490</th>\n",
       "      <td>111045742</td>\n",
       "      <td>motif_9</td>\n",
       "      <td>482.44</td>\n",
       "      <td>44.499139</td>\n",
       "      <td>48.170820</td>\n",
       "      <td>0.076639</td>\n",
       "      <td>149.0</td>\n",
       "      <td>3380.0</td>\n",
       "      <td>65.5</td>\n",
       "      <td>45.369128</td>\n",
       "    </tr>\n",
       "    <tr>\n",
       "      <th>1491</th>\n",
       "      <td>111045742</td>\n",
       "      <td>motif_10</td>\n",
       "      <td>577.92</td>\n",
       "      <td>41.198625</td>\n",
       "      <td>81.169700</td>\n",
       "      <td>0.129140</td>\n",
       "      <td>149.0</td>\n",
       "      <td>3380.0</td>\n",
       "      <td>65.5</td>\n",
       "      <td>45.369128</td>\n",
       "    </tr>\n",
       "    <tr>\n",
       "      <th>1492</th>\n",
       "      <td>111045742</td>\n",
       "      <td>motif_11</td>\n",
       "      <td>877.88</td>\n",
       "      <td>76.263971</td>\n",
       "      <td>6.072592</td>\n",
       "      <td>0.009661</td>\n",
       "      <td>149.0</td>\n",
       "      <td>3380.0</td>\n",
       "      <td>65.5</td>\n",
       "      <td>45.369128</td>\n",
       "    </tr>\n",
       "    <tr>\n",
       "      <th>1493</th>\n",
       "      <td>111045742</td>\n",
       "      <td>motif_12</td>\n",
       "      <td>354.12</td>\n",
       "      <td>50.406944</td>\n",
       "      <td>135.832079</td>\n",
       "      <td>0.216106</td>\n",
       "      <td>149.0</td>\n",
       "      <td>3380.0</td>\n",
       "      <td>65.5</td>\n",
       "      <td>45.369128</td>\n",
       "    </tr>\n",
       "    <tr>\n",
       "      <th>1494</th>\n",
       "      <td>111045742</td>\n",
       "      <td>motif_13</td>\n",
       "      <td>26.12</td>\n",
       "      <td>7.372923</td>\n",
       "      <td>588.352780</td>\n",
       "      <td>0.936059</td>\n",
       "      <td>149.0</td>\n",
       "      <td>3380.0</td>\n",
       "      <td>65.5</td>\n",
       "      <td>45.369128</td>\n",
       "    </tr>\n",
       "  </tbody>\n",
       "</table>\n",
       "<p>1495 rows × 10 columns</p>\n",
       "</div>"
      ],
      "text/plain": [
       "     graph_name     motif  average_count  standard_deviation     z_score  \\\n",
       "0     256497288   motif_1       52435.44          887.535214   22.877470   \n",
       "1     256497288   motif_2       36026.44          646.921175    1.198848   \n",
       "2     256497288   motif_3       72416.32         1275.567250  -28.681608   \n",
       "3     256497288   motif_4       24514.04          563.694545   50.319735   \n",
       "4     256497288   motif_5       33661.00          741.003430  127.988611   \n",
       "...         ...       ...            ...                 ...         ...   \n",
       "1490  111045742   motif_9         482.44           44.499139   48.170820   \n",
       "1491  111045742  motif_10         577.92           41.198625   81.169700   \n",
       "1492  111045742  motif_11         877.88           76.263971    6.072592   \n",
       "1493  111045742  motif_12         354.12           50.406944  135.832079   \n",
       "1494  111045742  motif_13          26.12            7.372923  588.352780   \n",
       "\n",
       "      significance_profile  nodes    edges  max_degree  avg_degree  \n",
       "0                 0.011187  213.0  17930.0       177.5  168.356808  \n",
       "1                 0.000586  213.0  17930.0       177.5  168.356808  \n",
       "2                -0.014026  213.0  17930.0       177.5  168.356808  \n",
       "3                 0.024607  213.0  17930.0       177.5  168.356808  \n",
       "4                 0.062588  213.0  17930.0       177.5  168.356808  \n",
       "...                    ...    ...      ...         ...         ...  \n",
       "1490              0.076639  149.0   3380.0        65.5   45.369128  \n",
       "1491              0.129140  149.0   3380.0        65.5   45.369128  \n",
       "1492              0.009661  149.0   3380.0        65.5   45.369128  \n",
       "1493              0.216106  149.0   3380.0        65.5   45.369128  \n",
       "1494              0.936059  149.0   3380.0        65.5   45.369128  \n",
       "\n",
       "[1495 rows x 10 columns]"
      ]
     },
     "execution_count": 6,
     "metadata": {},
     "output_type": "execute_result"
    }
   ],
   "source": [
    "motif_twitter"
   ]
  },
  {
   "cell_type": "markdown",
   "metadata": {},
   "source": [
    "### Twitter Original Egonets"
   ]
  },
  {
   "cell_type": "code",
   "execution_count": 7,
   "metadata": {},
   "outputs": [
    {
     "data": {
      "application/vnd.plotly.v1+json": {
       "config": {
        "plotlyServerURL": "https://plot.ly"
       },
       "data": [
        {
         "mode": "lines+markers",
         "name": "256497288",
         "type": "scatter",
         "x": [
          "motif_1",
          "motif_2",
          "motif_3",
          "motif_4",
          "motif_5",
          "motif_6",
          "motif_7",
          "motif_8",
          "motif_9",
          "motif_10",
          "motif_11",
          "motif_12",
          "motif_13"
         ],
         "y": [
          0.01118737834,
          0.000586252046,
          -0.01402567702,
          0.02460700058,
          0.06258808491,
          0.1249041193,
          0.02066161537,
          -0.01478574477,
          0.1027076729,
          0.1301510665,
          0.00521686327,
          0.2232278551,
          0.9495063926
         ]
        },
        {
         "mode": "lines+markers",
         "name": "86775971",
         "type": "scatter",
         "x": [
          "motif_1",
          "motif_2",
          "motif_3",
          "motif_4",
          "motif_5",
          "motif_6",
          "motif_7",
          "motif_8",
          "motif_9",
          "motif_10",
          "motif_11",
          "motif_12",
          "motif_13"
         ],
         "y": [
          -0.01127272102,
          0.002505407334,
          -0.03255079145,
          0.05855116005,
          0.04374423934,
          0.2103715769,
          -0.003768012758,
          -0.01841829973,
          0.09237081043,
          0.08282543017,
          -0.004250372455,
          0.1648520883,
          0.951981602
         ]
        },
        {
         "mode": "lines+markers",
         "name": "14338082",
         "type": "scatter",
         "x": [
          "motif_1",
          "motif_2",
          "motif_3",
          "motif_4",
          "motif_5",
          "motif_6",
          "motif_7",
          "motif_8",
          "motif_9",
          "motif_10",
          "motif_11",
          "motif_12",
          "motif_13"
         ],
         "y": [
          -0.02042182666,
          -0.01284198737,
          -0.05391081723,
          0.07881319297,
          0.06256073747,
          0.2668372861,
          -0.0046698198,
          -0.02549436212,
          0.1297920958,
          0.08763392904,
          0.01278347978,
          0.267747021,
          0.9045080462
         ]
        },
        {
         "mode": "lines+markers",
         "name": "7861312",
         "type": "scatter",
         "x": [
          "motif_1",
          "motif_2",
          "motif_3",
          "motif_4",
          "motif_5",
          "motif_6",
          "motif_7",
          "motif_8",
          "motif_9",
          "motif_10",
          "motif_11",
          "motif_12",
          "motif_13"
         ],
         "y": [
          -0.00906880165,
          -0.003743339063,
          -0.04269259824,
          0.04443401673,
          0.04895159139,
          0.2065890281,
          -0.006059427382,
          -0.02763611926,
          0.1205403329,
          0.09591512523,
          -0.003417125353,
          0.154304932,
          0.950094509
         ]
        },
        {
         "mode": "lines+markers",
         "name": "14203895",
         "type": "scatter",
         "x": [
          "motif_1",
          "motif_2",
          "motif_3",
          "motif_4",
          "motif_5",
          "motif_6",
          "motif_7",
          "motif_8",
          "motif_9",
          "motif_10",
          "motif_11",
          "motif_12",
          "motif_13"
         ],
         "y": [
          -0.018085471,
          -0.01509572111,
          -0.02941143117,
          0.04794985146,
          0.03858361568,
          0.2168792039,
          -0.01028319564,
          -0.01371900069,
          0.06985642939,
          0.0566461545,
          -0.002038456747,
          0.189454505,
          0.9505133889
         ]
        },
        {
         "mode": "lines+markers",
         "name": "311227912",
         "type": "scatter",
         "x": [
          "motif_1",
          "motif_2",
          "motif_3",
          "motif_4",
          "motif_5",
          "motif_6",
          "motif_7",
          "motif_8",
          "motif_9",
          "motif_10",
          "motif_11",
          "motif_12",
          "motif_13"
         ],
         "y": [
          -0.0043411377786323,
          -0.020016929274942,
          -0.0216611161172394,
          0.0256795733011376,
          0.0929792433065258,
          0.2371193221200401,
          -0.0147869807474142,
          -0.0156483291136524,
          0.0180411985725609,
          0.1003644561829411,
          -0.0130554397472784,
          0.174747680627938,
          0.9444638106957568
         ]
        },
        {
         "mode": "lines+markers",
         "name": "100318079",
         "type": "scatter",
         "x": [
          "motif_1",
          "motif_2",
          "motif_3",
          "motif_4",
          "motif_5",
          "motif_6",
          "motif_7",
          "motif_8",
          "motif_9",
          "motif_10",
          "motif_11",
          "motif_12",
          "motif_13"
         ],
         "y": [
          -0.0101675660712723,
          0.0324069493683057,
          -0.0344814920696107,
          0.0400859492803114,
          0.037079428842889,
          0.1808048056075375,
          0.0072779526232193,
          -0.0195528084747439,
          0.0813580099754932,
          0.1588685730609699,
          -0.0039302735248536,
          0.1609707501886086,
          0.9506653628697016
         ]
        },
        {
         "mode": "lines+markers",
         "name": "20060293",
         "type": "scatter",
         "x": [
          "motif_1",
          "motif_2",
          "motif_3",
          "motif_4",
          "motif_5",
          "motif_6",
          "motif_7",
          "motif_8",
          "motif_9",
          "motif_10",
          "motif_11",
          "motif_12",
          "motif_13"
         ],
         "y": [
          0.0426735922200053,
          0.0304685469428217,
          -0.0362738916351155,
          0.0986405512601714,
          0.1208855785926437,
          0.2488759883775395,
          0.0562297469271002,
          -0.0243329812139164,
          0.2058332107969617,
          0.2155165404392013,
          0.0424836675824771,
          0.3344861500602978,
          0.8386881917774104
         ]
        },
        {
         "mode": "lines+markers",
         "name": "39070445",
         "type": "scatter",
         "x": [
          "motif_1",
          "motif_2",
          "motif_3",
          "motif_4",
          "motif_5",
          "motif_6",
          "motif_7",
          "motif_8",
          "motif_9",
          "motif_10",
          "motif_11",
          "motif_12",
          "motif_13"
         ],
         "y": [
          0.1319046112916097,
          0.0114573144133206,
          -0.0551136505324014,
          0.0889404315278534,
          0.175177623939176,
          0.2228395085137952,
          0.1305176154659011,
          -0.0468855434914559,
          0.3777524434686424,
          0.3172949538667602,
          0.0356767940205805,
          0.2769559781915571,
          0.7420200780494873
         ]
        },
        {
         "mode": "lines+markers",
         "name": "98633794",
         "type": "scatter",
         "x": [
          "motif_1",
          "motif_2",
          "motif_3",
          "motif_4",
          "motif_5",
          "motif_6",
          "motif_7",
          "motif_8",
          "motif_9",
          "motif_10",
          "motif_11",
          "motif_12",
          "motif_13"
         ],
         "y": [
          0.003740343548938,
          -0.0007209382847242,
          -0.0339352803347195,
          0.0675456662876878,
          0.0928312992615395,
          0.2813581393982488,
          0.0133672226886294,
          -0.0252817208307155,
          0.1433073342687973,
          0.1465781428649275,
          0.0046082540652126,
          0.2469895509606234,
          0.8958941626684832
         ]
        },
        {
         "mode": "lines+markers",
         "name": "11027262",
         "type": "scatter",
         "x": [
          "motif_1",
          "motif_2",
          "motif_3",
          "motif_4",
          "motif_5",
          "motif_6",
          "motif_7",
          "motif_8",
          "motif_9",
          "motif_10",
          "motif_11",
          "motif_12",
          "motif_13"
         ],
         "y": [
          -0.0198148060303591,
          0.0057593990946773,
          -0.0481233533125843,
          0.0470717022929098,
          0.0625758280977115,
          0.3344731322000749,
          -0.0106169141766032,
          -0.0205383064835299,
          0.0313194359223178,
          0.164219466881707,
          -0.005644675175511,
          0.1269614614295168,
          0.9135754121866456
         ]
        },
        {
         "mode": "lines+markers",
         "name": "64496469",
         "type": "scatter",
         "x": [
          "motif_1",
          "motif_2",
          "motif_3",
          "motif_4",
          "motif_5",
          "motif_6",
          "motif_7",
          "motif_8",
          "motif_9",
          "motif_10",
          "motif_11",
          "motif_12",
          "motif_13"
         ],
         "y": [
          0.0078672274378516,
          -0.0145188732264301,
          -0.0351890972448687,
          0.0571827976796467,
          0.0837371798136546,
          0.1707695724102898,
          -0.0037483332507107,
          -0.0237526549291772,
          0.1853765848626341,
          0.123918309264252,
          0.0247965830007337,
          0.2280724778272785,
          0.92526461734878
         ]
        },
        {
         "mode": "lines+markers",
         "name": "105398724",
         "type": "scatter",
         "x": [
          "motif_1",
          "motif_2",
          "motif_3",
          "motif_4",
          "motif_5",
          "motif_6",
          "motif_7",
          "motif_8",
          "motif_9",
          "motif_10",
          "motif_11",
          "motif_12",
          "motif_13"
         ],
         "y": [
          0.0281544761840834,
          -0.0019170748184024,
          -0.0066945198633244,
          0.0502522734668626,
          0.1566925674280971,
          0.0958424361512326,
          -0.0051229953962192,
          -0.009315502489932,
          0.1899728085541224,
          0.1580747851592318,
          -0.001961913539027,
          0.0710161597595051,
          0.9469201318180268
         ]
        },
        {
         "mode": "lines+markers",
         "name": "33511585",
         "type": "scatter",
         "x": [
          "motif_1",
          "motif_2",
          "motif_3",
          "motif_4",
          "motif_5",
          "motif_6",
          "motif_7",
          "motif_8",
          "motif_9",
          "motif_10",
          "motif_11",
          "motif_12",
          "motif_13"
         ],
         "y": [
          -0.0315924221275214,
          -0.0350231872428145,
          -0.0423767687522008,
          0.0122933365239944,
          0.0279412263397491,
          0.159432136990588,
          -0.0132167438054822,
          -0.0211974823449256,
          0.0615692654579791,
          0.0675065474743947,
          0.0009303811279309,
          0.1534779179061621,
          0.968039668227786
         ]
        },
        {
         "mode": "lines+markers",
         "name": "111045742",
         "type": "scatter",
         "x": [
          "motif_1",
          "motif_2",
          "motif_3",
          "motif_4",
          "motif_5",
          "motif_6",
          "motif_7",
          "motif_8",
          "motif_9",
          "motif_10",
          "motif_11",
          "motif_12",
          "motif_13"
         ],
         "y": [
          -0.0079929387276238,
          -0.0176418499921695,
          -0.0354146985161422,
          0.027591991941488,
          0.0564826078609177,
          0.220191811650933,
          0.0009449607965139,
          -0.0195412113534249,
          0.0766389148481131,
          0.129139543714981,
          0.009661385822586,
          0.2161064128723734,
          0.9360587691419368
         ]
        }
       ],
       "layout": {
        "template": {
         "data": {
          "bar": [
           {
            "error_x": {
             "color": "#2a3f5f"
            },
            "error_y": {
             "color": "#2a3f5f"
            },
            "marker": {
             "line": {
              "color": "#E5ECF6",
              "width": 0.5
             },
             "pattern": {
              "fillmode": "overlay",
              "size": 10,
              "solidity": 0.2
             }
            },
            "type": "bar"
           }
          ],
          "barpolar": [
           {
            "marker": {
             "line": {
              "color": "#E5ECF6",
              "width": 0.5
             },
             "pattern": {
              "fillmode": "overlay",
              "size": 10,
              "solidity": 0.2
             }
            },
            "type": "barpolar"
           }
          ],
          "carpet": [
           {
            "aaxis": {
             "endlinecolor": "#2a3f5f",
             "gridcolor": "white",
             "linecolor": "white",
             "minorgridcolor": "white",
             "startlinecolor": "#2a3f5f"
            },
            "baxis": {
             "endlinecolor": "#2a3f5f",
             "gridcolor": "white",
             "linecolor": "white",
             "minorgridcolor": "white",
             "startlinecolor": "#2a3f5f"
            },
            "type": "carpet"
           }
          ],
          "choropleth": [
           {
            "colorbar": {
             "outlinewidth": 0,
             "ticks": ""
            },
            "type": "choropleth"
           }
          ],
          "contour": [
           {
            "colorbar": {
             "outlinewidth": 0,
             "ticks": ""
            },
            "colorscale": [
             [
              0,
              "#0d0887"
             ],
             [
              0.1111111111111111,
              "#46039f"
             ],
             [
              0.2222222222222222,
              "#7201a8"
             ],
             [
              0.3333333333333333,
              "#9c179e"
             ],
             [
              0.4444444444444444,
              "#bd3786"
             ],
             [
              0.5555555555555556,
              "#d8576b"
             ],
             [
              0.6666666666666666,
              "#ed7953"
             ],
             [
              0.7777777777777778,
              "#fb9f3a"
             ],
             [
              0.8888888888888888,
              "#fdca26"
             ],
             [
              1,
              "#f0f921"
             ]
            ],
            "type": "contour"
           }
          ],
          "contourcarpet": [
           {
            "colorbar": {
             "outlinewidth": 0,
             "ticks": ""
            },
            "type": "contourcarpet"
           }
          ],
          "heatmap": [
           {
            "colorbar": {
             "outlinewidth": 0,
             "ticks": ""
            },
            "colorscale": [
             [
              0,
              "#0d0887"
             ],
             [
              0.1111111111111111,
              "#46039f"
             ],
             [
              0.2222222222222222,
              "#7201a8"
             ],
             [
              0.3333333333333333,
              "#9c179e"
             ],
             [
              0.4444444444444444,
              "#bd3786"
             ],
             [
              0.5555555555555556,
              "#d8576b"
             ],
             [
              0.6666666666666666,
              "#ed7953"
             ],
             [
              0.7777777777777778,
              "#fb9f3a"
             ],
             [
              0.8888888888888888,
              "#fdca26"
             ],
             [
              1,
              "#f0f921"
             ]
            ],
            "type": "heatmap"
           }
          ],
          "heatmapgl": [
           {
            "colorbar": {
             "outlinewidth": 0,
             "ticks": ""
            },
            "colorscale": [
             [
              0,
              "#0d0887"
             ],
             [
              0.1111111111111111,
              "#46039f"
             ],
             [
              0.2222222222222222,
              "#7201a8"
             ],
             [
              0.3333333333333333,
              "#9c179e"
             ],
             [
              0.4444444444444444,
              "#bd3786"
             ],
             [
              0.5555555555555556,
              "#d8576b"
             ],
             [
              0.6666666666666666,
              "#ed7953"
             ],
             [
              0.7777777777777778,
              "#fb9f3a"
             ],
             [
              0.8888888888888888,
              "#fdca26"
             ],
             [
              1,
              "#f0f921"
             ]
            ],
            "type": "heatmapgl"
           }
          ],
          "histogram": [
           {
            "marker": {
             "pattern": {
              "fillmode": "overlay",
              "size": 10,
              "solidity": 0.2
             }
            },
            "type": "histogram"
           }
          ],
          "histogram2d": [
           {
            "colorbar": {
             "outlinewidth": 0,
             "ticks": ""
            },
            "colorscale": [
             [
              0,
              "#0d0887"
             ],
             [
              0.1111111111111111,
              "#46039f"
             ],
             [
              0.2222222222222222,
              "#7201a8"
             ],
             [
              0.3333333333333333,
              "#9c179e"
             ],
             [
              0.4444444444444444,
              "#bd3786"
             ],
             [
              0.5555555555555556,
              "#d8576b"
             ],
             [
              0.6666666666666666,
              "#ed7953"
             ],
             [
              0.7777777777777778,
              "#fb9f3a"
             ],
             [
              0.8888888888888888,
              "#fdca26"
             ],
             [
              1,
              "#f0f921"
             ]
            ],
            "type": "histogram2d"
           }
          ],
          "histogram2dcontour": [
           {
            "colorbar": {
             "outlinewidth": 0,
             "ticks": ""
            },
            "colorscale": [
             [
              0,
              "#0d0887"
             ],
             [
              0.1111111111111111,
              "#46039f"
             ],
             [
              0.2222222222222222,
              "#7201a8"
             ],
             [
              0.3333333333333333,
              "#9c179e"
             ],
             [
              0.4444444444444444,
              "#bd3786"
             ],
             [
              0.5555555555555556,
              "#d8576b"
             ],
             [
              0.6666666666666666,
              "#ed7953"
             ],
             [
              0.7777777777777778,
              "#fb9f3a"
             ],
             [
              0.8888888888888888,
              "#fdca26"
             ],
             [
              1,
              "#f0f921"
             ]
            ],
            "type": "histogram2dcontour"
           }
          ],
          "mesh3d": [
           {
            "colorbar": {
             "outlinewidth": 0,
             "ticks": ""
            },
            "type": "mesh3d"
           }
          ],
          "parcoords": [
           {
            "line": {
             "colorbar": {
              "outlinewidth": 0,
              "ticks": ""
             }
            },
            "type": "parcoords"
           }
          ],
          "pie": [
           {
            "automargin": true,
            "type": "pie"
           }
          ],
          "scatter": [
           {
            "fillpattern": {
             "fillmode": "overlay",
             "size": 10,
             "solidity": 0.2
            },
            "type": "scatter"
           }
          ],
          "scatter3d": [
           {
            "line": {
             "colorbar": {
              "outlinewidth": 0,
              "ticks": ""
             }
            },
            "marker": {
             "colorbar": {
              "outlinewidth": 0,
              "ticks": ""
             }
            },
            "type": "scatter3d"
           }
          ],
          "scattercarpet": [
           {
            "marker": {
             "colorbar": {
              "outlinewidth": 0,
              "ticks": ""
             }
            },
            "type": "scattercarpet"
           }
          ],
          "scattergeo": [
           {
            "marker": {
             "colorbar": {
              "outlinewidth": 0,
              "ticks": ""
             }
            },
            "type": "scattergeo"
           }
          ],
          "scattergl": [
           {
            "marker": {
             "colorbar": {
              "outlinewidth": 0,
              "ticks": ""
             }
            },
            "type": "scattergl"
           }
          ],
          "scattermapbox": [
           {
            "marker": {
             "colorbar": {
              "outlinewidth": 0,
              "ticks": ""
             }
            },
            "type": "scattermapbox"
           }
          ],
          "scatterpolar": [
           {
            "marker": {
             "colorbar": {
              "outlinewidth": 0,
              "ticks": ""
             }
            },
            "type": "scatterpolar"
           }
          ],
          "scatterpolargl": [
           {
            "marker": {
             "colorbar": {
              "outlinewidth": 0,
              "ticks": ""
             }
            },
            "type": "scatterpolargl"
           }
          ],
          "scatterternary": [
           {
            "marker": {
             "colorbar": {
              "outlinewidth": 0,
              "ticks": ""
             }
            },
            "type": "scatterternary"
           }
          ],
          "surface": [
           {
            "colorbar": {
             "outlinewidth": 0,
             "ticks": ""
            },
            "colorscale": [
             [
              0,
              "#0d0887"
             ],
             [
              0.1111111111111111,
              "#46039f"
             ],
             [
              0.2222222222222222,
              "#7201a8"
             ],
             [
              0.3333333333333333,
              "#9c179e"
             ],
             [
              0.4444444444444444,
              "#bd3786"
             ],
             [
              0.5555555555555556,
              "#d8576b"
             ],
             [
              0.6666666666666666,
              "#ed7953"
             ],
             [
              0.7777777777777778,
              "#fb9f3a"
             ],
             [
              0.8888888888888888,
              "#fdca26"
             ],
             [
              1,
              "#f0f921"
             ]
            ],
            "type": "surface"
           }
          ],
          "table": [
           {
            "cells": {
             "fill": {
              "color": "#EBF0F8"
             },
             "line": {
              "color": "white"
             }
            },
            "header": {
             "fill": {
              "color": "#C8D4E3"
             },
             "line": {
              "color": "white"
             }
            },
            "type": "table"
           }
          ]
         },
         "layout": {
          "annotationdefaults": {
           "arrowcolor": "#2a3f5f",
           "arrowhead": 0,
           "arrowwidth": 1
          },
          "autotypenumbers": "strict",
          "coloraxis": {
           "colorbar": {
            "outlinewidth": 0,
            "ticks": ""
           }
          },
          "colorscale": {
           "diverging": [
            [
             0,
             "#8e0152"
            ],
            [
             0.1,
             "#c51b7d"
            ],
            [
             0.2,
             "#de77ae"
            ],
            [
             0.3,
             "#f1b6da"
            ],
            [
             0.4,
             "#fde0ef"
            ],
            [
             0.5,
             "#f7f7f7"
            ],
            [
             0.6,
             "#e6f5d0"
            ],
            [
             0.7,
             "#b8e186"
            ],
            [
             0.8,
             "#7fbc41"
            ],
            [
             0.9,
             "#4d9221"
            ],
            [
             1,
             "#276419"
            ]
           ],
           "sequential": [
            [
             0,
             "#0d0887"
            ],
            [
             0.1111111111111111,
             "#46039f"
            ],
            [
             0.2222222222222222,
             "#7201a8"
            ],
            [
             0.3333333333333333,
             "#9c179e"
            ],
            [
             0.4444444444444444,
             "#bd3786"
            ],
            [
             0.5555555555555556,
             "#d8576b"
            ],
            [
             0.6666666666666666,
             "#ed7953"
            ],
            [
             0.7777777777777778,
             "#fb9f3a"
            ],
            [
             0.8888888888888888,
             "#fdca26"
            ],
            [
             1,
             "#f0f921"
            ]
           ],
           "sequentialminus": [
            [
             0,
             "#0d0887"
            ],
            [
             0.1111111111111111,
             "#46039f"
            ],
            [
             0.2222222222222222,
             "#7201a8"
            ],
            [
             0.3333333333333333,
             "#9c179e"
            ],
            [
             0.4444444444444444,
             "#bd3786"
            ],
            [
             0.5555555555555556,
             "#d8576b"
            ],
            [
             0.6666666666666666,
             "#ed7953"
            ],
            [
             0.7777777777777778,
             "#fb9f3a"
            ],
            [
             0.8888888888888888,
             "#fdca26"
            ],
            [
             1,
             "#f0f921"
            ]
           ]
          },
          "colorway": [
           "#636efa",
           "#EF553B",
           "#00cc96",
           "#ab63fa",
           "#FFA15A",
           "#19d3f3",
           "#FF6692",
           "#B6E880",
           "#FF97FF",
           "#FECB52"
          ],
          "font": {
           "color": "#2a3f5f"
          },
          "geo": {
           "bgcolor": "white",
           "lakecolor": "white",
           "landcolor": "#E5ECF6",
           "showlakes": true,
           "showland": true,
           "subunitcolor": "white"
          },
          "hoverlabel": {
           "align": "left"
          },
          "hovermode": "closest",
          "mapbox": {
           "style": "light"
          },
          "paper_bgcolor": "white",
          "plot_bgcolor": "#E5ECF6",
          "polar": {
           "angularaxis": {
            "gridcolor": "white",
            "linecolor": "white",
            "ticks": ""
           },
           "bgcolor": "#E5ECF6",
           "radialaxis": {
            "gridcolor": "white",
            "linecolor": "white",
            "ticks": ""
           }
          },
          "scene": {
           "xaxis": {
            "backgroundcolor": "#E5ECF6",
            "gridcolor": "white",
            "gridwidth": 2,
            "linecolor": "white",
            "showbackground": true,
            "ticks": "",
            "zerolinecolor": "white"
           },
           "yaxis": {
            "backgroundcolor": "#E5ECF6",
            "gridcolor": "white",
            "gridwidth": 2,
            "linecolor": "white",
            "showbackground": true,
            "ticks": "",
            "zerolinecolor": "white"
           },
           "zaxis": {
            "backgroundcolor": "#E5ECF6",
            "gridcolor": "white",
            "gridwidth": 2,
            "linecolor": "white",
            "showbackground": true,
            "ticks": "",
            "zerolinecolor": "white"
           }
          },
          "shapedefaults": {
           "line": {
            "color": "#2a3f5f"
           }
          },
          "ternary": {
           "aaxis": {
            "gridcolor": "white",
            "linecolor": "white",
            "ticks": ""
           },
           "baxis": {
            "gridcolor": "white",
            "linecolor": "white",
            "ticks": ""
           },
           "bgcolor": "#E5ECF6",
           "caxis": {
            "gridcolor": "white",
            "linecolor": "white",
            "ticks": ""
           }
          },
          "title": {
           "x": 0.05
          },
          "xaxis": {
           "automargin": true,
           "gridcolor": "white",
           "linecolor": "white",
           "ticks": "",
           "title": {
            "standoff": 15
           },
           "zerolinecolor": "white",
           "zerolinewidth": 2
          },
          "yaxis": {
           "automargin": true,
           "gridcolor": "white",
           "linecolor": "white",
           "ticks": "",
           "title": {
            "standoff": 15
           },
           "zerolinecolor": "white",
           "zerolinewidth": 2
          }
         }
        },
        "title": {
         "text": "Z-scores for Twitter Original Graphs from twitter.csv"
        },
        "xaxis": {
         "title": {
          "text": "motif"
         }
        },
        "yaxis": {
         "title": {
          "text": "significance_profile"
         }
        }
       }
      }
     },
     "metadata": {},
     "output_type": "display_data"
    }
   ],
   "source": [
    "# Plot only the original graphs of Twitter\n",
    "plot_line_chart(\n",
    "    motif_twitter[~motif_twitter[\"graph_name\"].str.contains(\"sample\")],\n",
    "    f\"Z-scores for Twitter Original Graphs from {file_name}\",\n",
    "    \"motif\",\n",
    "    \"significance_profile\",\n",
    ")"
   ]
  },
  {
   "cell_type": "code",
   "execution_count": 8,
   "metadata": {},
   "outputs": [
    {
     "data": {
      "text/html": [
       "<div>\n",
       "<style scoped>\n",
       "    .dataframe tbody tr th:only-of-type {\n",
       "        vertical-align: middle;\n",
       "    }\n",
       "\n",
       "    .dataframe tbody tr th {\n",
       "        vertical-align: top;\n",
       "    }\n",
       "\n",
       "    .dataframe thead th {\n",
       "        text-align: right;\n",
       "    }\n",
       "</style>\n",
       "<table border=\"1\" class=\"dataframe\">\n",
       "  <thead>\n",
       "    <tr style=\"text-align: right;\">\n",
       "      <th></th>\n",
       "      <th>graph_name</th>\n",
       "      <th>nodes</th>\n",
       "      <th>edges</th>\n",
       "      <th>max_degree</th>\n",
       "      <th>avg_degree</th>\n",
       "    </tr>\n",
       "  </thead>\n",
       "  <tbody>\n",
       "    <tr>\n",
       "      <th>0</th>\n",
       "      <td>256497288</td>\n",
       "      <td>213.0</td>\n",
       "      <td>17930.0</td>\n",
       "      <td>177.5</td>\n",
       "      <td>168.356808</td>\n",
       "    </tr>\n",
       "    <tr>\n",
       "      <th>13</th>\n",
       "      <td>86775971</td>\n",
       "      <td>154.0</td>\n",
       "      <td>5811.0</td>\n",
       "      <td>96.5</td>\n",
       "      <td>75.467532</td>\n",
       "    </tr>\n",
       "    <tr>\n",
       "      <th>26</th>\n",
       "      <td>14338082</td>\n",
       "      <td>215.0</td>\n",
       "      <td>3237.0</td>\n",
       "      <td>135.5</td>\n",
       "      <td>30.111628</td>\n",
       "    </tr>\n",
       "    <tr>\n",
       "      <th>39</th>\n",
       "      <td>7861312</td>\n",
       "      <td>220.0</td>\n",
       "      <td>4740.0</td>\n",
       "      <td>78.5</td>\n",
       "      <td>43.090909</td>\n",
       "    </tr>\n",
       "    <tr>\n",
       "      <th>52</th>\n",
       "      <td>14203895</td>\n",
       "      <td>215.0</td>\n",
       "      <td>3640.0</td>\n",
       "      <td>85.0</td>\n",
       "      <td>33.860465</td>\n",
       "    </tr>\n",
       "    <tr>\n",
       "      <th>1365</th>\n",
       "      <td>311227912</td>\n",
       "      <td>35.0</td>\n",
       "      <td>276.0</td>\n",
       "      <td>24.5</td>\n",
       "      <td>15.771429</td>\n",
       "    </tr>\n",
       "    <tr>\n",
       "      <th>1378</th>\n",
       "      <td>100318079</td>\n",
       "      <td>220.0</td>\n",
       "      <td>8354.0</td>\n",
       "      <td>110.0</td>\n",
       "      <td>75.945455</td>\n",
       "    </tr>\n",
       "    <tr>\n",
       "      <th>1391</th>\n",
       "      <td>20060293</td>\n",
       "      <td>243.0</td>\n",
       "      <td>7542.0</td>\n",
       "      <td>120.5</td>\n",
       "      <td>62.074074</td>\n",
       "    </tr>\n",
       "    <tr>\n",
       "      <th>1404</th>\n",
       "      <td>39070445</td>\n",
       "      <td>67.0</td>\n",
       "      <td>654.0</td>\n",
       "      <td>37.5</td>\n",
       "      <td>19.522388</td>\n",
       "    </tr>\n",
       "    <tr>\n",
       "      <th>1417</th>\n",
       "      <td>98633794</td>\n",
       "      <td>141.0</td>\n",
       "      <td>2354.0</td>\n",
       "      <td>64.5</td>\n",
       "      <td>33.390071</td>\n",
       "    </tr>\n",
       "    <tr>\n",
       "      <th>1430</th>\n",
       "      <td>11027262</td>\n",
       "      <td>183.0</td>\n",
       "      <td>3499.0</td>\n",
       "      <td>78.5</td>\n",
       "      <td>38.240437</td>\n",
       "    </tr>\n",
       "    <tr>\n",
       "      <th>1443</th>\n",
       "      <td>64496469</td>\n",
       "      <td>41.0</td>\n",
       "      <td>400.0</td>\n",
       "      <td>23.5</td>\n",
       "      <td>19.512195</td>\n",
       "    </tr>\n",
       "    <tr>\n",
       "      <th>1456</th>\n",
       "      <td>105398724</td>\n",
       "      <td>21.0</td>\n",
       "      <td>166.0</td>\n",
       "      <td>14.5</td>\n",
       "      <td>15.809524</td>\n",
       "    </tr>\n",
       "    <tr>\n",
       "      <th>1469</th>\n",
       "      <td>33511585</td>\n",
       "      <td>159.0</td>\n",
       "      <td>3200.0</td>\n",
       "      <td>67.5</td>\n",
       "      <td>40.251572</td>\n",
       "    </tr>\n",
       "    <tr>\n",
       "      <th>1482</th>\n",
       "      <td>111045742</td>\n",
       "      <td>149.0</td>\n",
       "      <td>3380.0</td>\n",
       "      <td>65.5</td>\n",
       "      <td>45.369128</td>\n",
       "    </tr>\n",
       "  </tbody>\n",
       "</table>\n",
       "</div>"
      ],
      "text/plain": [
       "     graph_name  nodes    edges  max_degree  avg_degree\n",
       "0     256497288  213.0  17930.0       177.5  168.356808\n",
       "13     86775971  154.0   5811.0        96.5   75.467532\n",
       "26     14338082  215.0   3237.0       135.5   30.111628\n",
       "39      7861312  220.0   4740.0        78.5   43.090909\n",
       "52     14203895  215.0   3640.0        85.0   33.860465\n",
       "1365  311227912   35.0    276.0        24.5   15.771429\n",
       "1378  100318079  220.0   8354.0       110.0   75.945455\n",
       "1391   20060293  243.0   7542.0       120.5   62.074074\n",
       "1404   39070445   67.0    654.0        37.5   19.522388\n",
       "1417   98633794  141.0   2354.0        64.5   33.390071\n",
       "1430   11027262  183.0   3499.0        78.5   38.240437\n",
       "1443   64496469   41.0    400.0        23.5   19.512195\n",
       "1456  105398724   21.0    166.0        14.5   15.809524\n",
       "1469   33511585  159.0   3200.0        67.5   40.251572\n",
       "1482  111045742  149.0   3380.0        65.5   45.369128"
      ]
     },
     "execution_count": 8,
     "metadata": {},
     "output_type": "execute_result"
    }
   ],
   "source": [
    "motif_twitter.query(\n",
    "        \"graph_name.str.contains('sample') == False and motif == 'motif_1'\"\n",
    "        )[['graph_name', 'nodes', 'edges', 'max_degree', 'avg_degree']]"
   ]
  },
  {
   "cell_type": "markdown",
   "metadata": {},
   "source": [
    "## Twitter Samples"
   ]
  },
  {
   "cell_type": "code",
   "execution_count": 9,
   "metadata": {},
   "outputs": [
    {
     "data": {
      "application/vnd.plotly.v1+json": {
       "config": {
        "plotlyServerURL": "https://plot.ly"
       },
       "data": [
        {
         "mode": "lines+markers",
         "name": "86775971",
         "type": "scatter",
         "x": [
          "motif_1",
          "motif_2",
          "motif_3",
          "motif_4",
          "motif_5",
          "motif_6",
          "motif_7",
          "motif_8",
          "motif_9",
          "motif_10",
          "motif_11",
          "motif_12",
          "motif_13"
         ],
         "y": [
          -0.01127272102,
          0.002505407334,
          -0.03255079145,
          0.05855116005,
          0.04374423934,
          0.2103715769,
          -0.003768012758,
          -0.01841829973,
          0.09237081043,
          0.08282543017,
          -0.004250372455,
          0.1648520883,
          0.951981602
         ]
        },
        {
         "mode": "lines+markers",
         "name": "86775971_sample_rn_40",
         "type": "scatter",
         "x": [
          "motif_1",
          "motif_2",
          "motif_3",
          "motif_4",
          "motif_5",
          "motif_6",
          "motif_7",
          "motif_8",
          "motif_9",
          "motif_10",
          "motif_11",
          "motif_12",
          "motif_13"
         ],
         "y": [
          -0.0168042409197823,
          -0.0134145147517361,
          -0.0358259007096131,
          0.038360920050729,
          0.0489419578923535,
          0.2746076010698953,
          -0.0081021379865054,
          -0.0194960164698038,
          0.0737758468772487,
          0.0598164282521982,
          -0.0069105611341072,
          0.1016779875779044,
          0.9482221122406198
         ]
        },
        {
         "mode": "lines+markers",
         "name": "86775971_sample_rpn_40",
         "type": "scatter",
         "x": [
          "motif_1",
          "motif_2",
          "motif_3",
          "motif_4",
          "motif_5",
          "motif_6",
          "motif_7",
          "motif_8",
          "motif_9",
          "motif_10",
          "motif_11",
          "motif_12",
          "motif_13"
         ],
         "y": [
          -0.0015240947370713,
          0.0118946252399789,
          -0.0364406811311013,
          0.0883001803644417,
          0.0823943065447354,
          0.2636789595653332,
          0.0066181134628329,
          -0.0319207167348794,
          0.153761363457167,
          0.1885845163170698,
          -0.0036623713560461,
          0.2255218142205576,
          0.8962549997298704
         ]
        },
        {
         "mode": "lines+markers",
         "name": "86775971_sample_rj_40",
         "type": "scatter",
         "x": [
          "motif_1",
          "motif_2",
          "motif_3",
          "motif_4",
          "motif_5",
          "motif_6",
          "motif_7",
          "motif_8",
          "motif_9",
          "motif_10",
          "motif_11",
          "motif_12",
          "motif_13"
         ],
         "y": [
          -0.0148173075883042,
          -0.0051699078248897,
          -0.0244471083817751,
          0.0293162405213702,
          0.0285122030105264,
          0.2029858581471326,
          -0.009253872741278,
          -0.0132718730850328,
          0.0406326270884134,
          0.0798183262288677,
          -0.0077991112449379,
          0.1189048917012714,
          0.966331961742679
         ]
        },
        {
         "mode": "lines+markers",
         "name": "86775971_sample_bsf_40",
         "type": "scatter",
         "x": [
          "motif_1",
          "motif_2",
          "motif_3",
          "motif_4",
          "motif_5",
          "motif_6",
          "motif_7",
          "motif_8",
          "motif_9",
          "motif_10",
          "motif_11",
          "motif_12",
          "motif_13"
         ],
         "y": [
          -0.0150044927721842,
          0.0002612335163429,
          -0.0293116574193461,
          0.0547715450454311,
          0.0402312609823565,
          0.2949971205041798,
          -0.0088180142977458,
          -0.0204960786780342,
          0.0764384142132959,
          0.0807968656107783,
          -0.0087981257643593,
          0.1742302858253208,
          0.9295006375938316
         ]
        },
        {
         "mode": "lines+markers",
         "name": "86775971_sample_sff_40",
         "type": "scatter",
         "x": [
          "motif_1",
          "motif_2",
          "motif_3",
          "motif_4",
          "motif_5",
          "motif_6",
          "motif_7",
          "motif_8",
          "motif_9",
          "motif_10",
          "motif_11",
          "motif_12",
          "motif_13"
         ],
         "y": [
          -0.0037350495718255,
          0.0060422572827412,
          -0.0178015841263204,
          0.0503035466602721,
          0.0213012715285502,
          0.1590472444562309,
          0.0008150228564092,
          -0.0102380346273305,
          0.1031007374761881,
          0.0619627885060159,
          0.0001077387749437,
          0.1566788118059431,
          0.965520343996094
         ]
        }
       ],
       "layout": {
        "template": {
         "data": {
          "bar": [
           {
            "error_x": {
             "color": "#2a3f5f"
            },
            "error_y": {
             "color": "#2a3f5f"
            },
            "marker": {
             "line": {
              "color": "#E5ECF6",
              "width": 0.5
             },
             "pattern": {
              "fillmode": "overlay",
              "size": 10,
              "solidity": 0.2
             }
            },
            "type": "bar"
           }
          ],
          "barpolar": [
           {
            "marker": {
             "line": {
              "color": "#E5ECF6",
              "width": 0.5
             },
             "pattern": {
              "fillmode": "overlay",
              "size": 10,
              "solidity": 0.2
             }
            },
            "type": "barpolar"
           }
          ],
          "carpet": [
           {
            "aaxis": {
             "endlinecolor": "#2a3f5f",
             "gridcolor": "white",
             "linecolor": "white",
             "minorgridcolor": "white",
             "startlinecolor": "#2a3f5f"
            },
            "baxis": {
             "endlinecolor": "#2a3f5f",
             "gridcolor": "white",
             "linecolor": "white",
             "minorgridcolor": "white",
             "startlinecolor": "#2a3f5f"
            },
            "type": "carpet"
           }
          ],
          "choropleth": [
           {
            "colorbar": {
             "outlinewidth": 0,
             "ticks": ""
            },
            "type": "choropleth"
           }
          ],
          "contour": [
           {
            "colorbar": {
             "outlinewidth": 0,
             "ticks": ""
            },
            "colorscale": [
             [
              0,
              "#0d0887"
             ],
             [
              0.1111111111111111,
              "#46039f"
             ],
             [
              0.2222222222222222,
              "#7201a8"
             ],
             [
              0.3333333333333333,
              "#9c179e"
             ],
             [
              0.4444444444444444,
              "#bd3786"
             ],
             [
              0.5555555555555556,
              "#d8576b"
             ],
             [
              0.6666666666666666,
              "#ed7953"
             ],
             [
              0.7777777777777778,
              "#fb9f3a"
             ],
             [
              0.8888888888888888,
              "#fdca26"
             ],
             [
              1,
              "#f0f921"
             ]
            ],
            "type": "contour"
           }
          ],
          "contourcarpet": [
           {
            "colorbar": {
             "outlinewidth": 0,
             "ticks": ""
            },
            "type": "contourcarpet"
           }
          ],
          "heatmap": [
           {
            "colorbar": {
             "outlinewidth": 0,
             "ticks": ""
            },
            "colorscale": [
             [
              0,
              "#0d0887"
             ],
             [
              0.1111111111111111,
              "#46039f"
             ],
             [
              0.2222222222222222,
              "#7201a8"
             ],
             [
              0.3333333333333333,
              "#9c179e"
             ],
             [
              0.4444444444444444,
              "#bd3786"
             ],
             [
              0.5555555555555556,
              "#d8576b"
             ],
             [
              0.6666666666666666,
              "#ed7953"
             ],
             [
              0.7777777777777778,
              "#fb9f3a"
             ],
             [
              0.8888888888888888,
              "#fdca26"
             ],
             [
              1,
              "#f0f921"
             ]
            ],
            "type": "heatmap"
           }
          ],
          "heatmapgl": [
           {
            "colorbar": {
             "outlinewidth": 0,
             "ticks": ""
            },
            "colorscale": [
             [
              0,
              "#0d0887"
             ],
             [
              0.1111111111111111,
              "#46039f"
             ],
             [
              0.2222222222222222,
              "#7201a8"
             ],
             [
              0.3333333333333333,
              "#9c179e"
             ],
             [
              0.4444444444444444,
              "#bd3786"
             ],
             [
              0.5555555555555556,
              "#d8576b"
             ],
             [
              0.6666666666666666,
              "#ed7953"
             ],
             [
              0.7777777777777778,
              "#fb9f3a"
             ],
             [
              0.8888888888888888,
              "#fdca26"
             ],
             [
              1,
              "#f0f921"
             ]
            ],
            "type": "heatmapgl"
           }
          ],
          "histogram": [
           {
            "marker": {
             "pattern": {
              "fillmode": "overlay",
              "size": 10,
              "solidity": 0.2
             }
            },
            "type": "histogram"
           }
          ],
          "histogram2d": [
           {
            "colorbar": {
             "outlinewidth": 0,
             "ticks": ""
            },
            "colorscale": [
             [
              0,
              "#0d0887"
             ],
             [
              0.1111111111111111,
              "#46039f"
             ],
             [
              0.2222222222222222,
              "#7201a8"
             ],
             [
              0.3333333333333333,
              "#9c179e"
             ],
             [
              0.4444444444444444,
              "#bd3786"
             ],
             [
              0.5555555555555556,
              "#d8576b"
             ],
             [
              0.6666666666666666,
              "#ed7953"
             ],
             [
              0.7777777777777778,
              "#fb9f3a"
             ],
             [
              0.8888888888888888,
              "#fdca26"
             ],
             [
              1,
              "#f0f921"
             ]
            ],
            "type": "histogram2d"
           }
          ],
          "histogram2dcontour": [
           {
            "colorbar": {
             "outlinewidth": 0,
             "ticks": ""
            },
            "colorscale": [
             [
              0,
              "#0d0887"
             ],
             [
              0.1111111111111111,
              "#46039f"
             ],
             [
              0.2222222222222222,
              "#7201a8"
             ],
             [
              0.3333333333333333,
              "#9c179e"
             ],
             [
              0.4444444444444444,
              "#bd3786"
             ],
             [
              0.5555555555555556,
              "#d8576b"
             ],
             [
              0.6666666666666666,
              "#ed7953"
             ],
             [
              0.7777777777777778,
              "#fb9f3a"
             ],
             [
              0.8888888888888888,
              "#fdca26"
             ],
             [
              1,
              "#f0f921"
             ]
            ],
            "type": "histogram2dcontour"
           }
          ],
          "mesh3d": [
           {
            "colorbar": {
             "outlinewidth": 0,
             "ticks": ""
            },
            "type": "mesh3d"
           }
          ],
          "parcoords": [
           {
            "line": {
             "colorbar": {
              "outlinewidth": 0,
              "ticks": ""
             }
            },
            "type": "parcoords"
           }
          ],
          "pie": [
           {
            "automargin": true,
            "type": "pie"
           }
          ],
          "scatter": [
           {
            "fillpattern": {
             "fillmode": "overlay",
             "size": 10,
             "solidity": 0.2
            },
            "type": "scatter"
           }
          ],
          "scatter3d": [
           {
            "line": {
             "colorbar": {
              "outlinewidth": 0,
              "ticks": ""
             }
            },
            "marker": {
             "colorbar": {
              "outlinewidth": 0,
              "ticks": ""
             }
            },
            "type": "scatter3d"
           }
          ],
          "scattercarpet": [
           {
            "marker": {
             "colorbar": {
              "outlinewidth": 0,
              "ticks": ""
             }
            },
            "type": "scattercarpet"
           }
          ],
          "scattergeo": [
           {
            "marker": {
             "colorbar": {
              "outlinewidth": 0,
              "ticks": ""
             }
            },
            "type": "scattergeo"
           }
          ],
          "scattergl": [
           {
            "marker": {
             "colorbar": {
              "outlinewidth": 0,
              "ticks": ""
             }
            },
            "type": "scattergl"
           }
          ],
          "scattermapbox": [
           {
            "marker": {
             "colorbar": {
              "outlinewidth": 0,
              "ticks": ""
             }
            },
            "type": "scattermapbox"
           }
          ],
          "scatterpolar": [
           {
            "marker": {
             "colorbar": {
              "outlinewidth": 0,
              "ticks": ""
             }
            },
            "type": "scatterpolar"
           }
          ],
          "scatterpolargl": [
           {
            "marker": {
             "colorbar": {
              "outlinewidth": 0,
              "ticks": ""
             }
            },
            "type": "scatterpolargl"
           }
          ],
          "scatterternary": [
           {
            "marker": {
             "colorbar": {
              "outlinewidth": 0,
              "ticks": ""
             }
            },
            "type": "scatterternary"
           }
          ],
          "surface": [
           {
            "colorbar": {
             "outlinewidth": 0,
             "ticks": ""
            },
            "colorscale": [
             [
              0,
              "#0d0887"
             ],
             [
              0.1111111111111111,
              "#46039f"
             ],
             [
              0.2222222222222222,
              "#7201a8"
             ],
             [
              0.3333333333333333,
              "#9c179e"
             ],
             [
              0.4444444444444444,
              "#bd3786"
             ],
             [
              0.5555555555555556,
              "#d8576b"
             ],
             [
              0.6666666666666666,
              "#ed7953"
             ],
             [
              0.7777777777777778,
              "#fb9f3a"
             ],
             [
              0.8888888888888888,
              "#fdca26"
             ],
             [
              1,
              "#f0f921"
             ]
            ],
            "type": "surface"
           }
          ],
          "table": [
           {
            "cells": {
             "fill": {
              "color": "#EBF0F8"
             },
             "line": {
              "color": "white"
             }
            },
            "header": {
             "fill": {
              "color": "#C8D4E3"
             },
             "line": {
              "color": "white"
             }
            },
            "type": "table"
           }
          ]
         },
         "layout": {
          "annotationdefaults": {
           "arrowcolor": "#2a3f5f",
           "arrowhead": 0,
           "arrowwidth": 1
          },
          "autotypenumbers": "strict",
          "coloraxis": {
           "colorbar": {
            "outlinewidth": 0,
            "ticks": ""
           }
          },
          "colorscale": {
           "diverging": [
            [
             0,
             "#8e0152"
            ],
            [
             0.1,
             "#c51b7d"
            ],
            [
             0.2,
             "#de77ae"
            ],
            [
             0.3,
             "#f1b6da"
            ],
            [
             0.4,
             "#fde0ef"
            ],
            [
             0.5,
             "#f7f7f7"
            ],
            [
             0.6,
             "#e6f5d0"
            ],
            [
             0.7,
             "#b8e186"
            ],
            [
             0.8,
             "#7fbc41"
            ],
            [
             0.9,
             "#4d9221"
            ],
            [
             1,
             "#276419"
            ]
           ],
           "sequential": [
            [
             0,
             "#0d0887"
            ],
            [
             0.1111111111111111,
             "#46039f"
            ],
            [
             0.2222222222222222,
             "#7201a8"
            ],
            [
             0.3333333333333333,
             "#9c179e"
            ],
            [
             0.4444444444444444,
             "#bd3786"
            ],
            [
             0.5555555555555556,
             "#d8576b"
            ],
            [
             0.6666666666666666,
             "#ed7953"
            ],
            [
             0.7777777777777778,
             "#fb9f3a"
            ],
            [
             0.8888888888888888,
             "#fdca26"
            ],
            [
             1,
             "#f0f921"
            ]
           ],
           "sequentialminus": [
            [
             0,
             "#0d0887"
            ],
            [
             0.1111111111111111,
             "#46039f"
            ],
            [
             0.2222222222222222,
             "#7201a8"
            ],
            [
             0.3333333333333333,
             "#9c179e"
            ],
            [
             0.4444444444444444,
             "#bd3786"
            ],
            [
             0.5555555555555556,
             "#d8576b"
            ],
            [
             0.6666666666666666,
             "#ed7953"
            ],
            [
             0.7777777777777778,
             "#fb9f3a"
            ],
            [
             0.8888888888888888,
             "#fdca26"
            ],
            [
             1,
             "#f0f921"
            ]
           ]
          },
          "colorway": [
           "#636efa",
           "#EF553B",
           "#00cc96",
           "#ab63fa",
           "#FFA15A",
           "#19d3f3",
           "#FF6692",
           "#B6E880",
           "#FF97FF",
           "#FECB52"
          ],
          "font": {
           "color": "#2a3f5f"
          },
          "geo": {
           "bgcolor": "white",
           "lakecolor": "white",
           "landcolor": "#E5ECF6",
           "showlakes": true,
           "showland": true,
           "subunitcolor": "white"
          },
          "hoverlabel": {
           "align": "left"
          },
          "hovermode": "closest",
          "mapbox": {
           "style": "light"
          },
          "paper_bgcolor": "white",
          "plot_bgcolor": "#E5ECF6",
          "polar": {
           "angularaxis": {
            "gridcolor": "white",
            "linecolor": "white",
            "ticks": ""
           },
           "bgcolor": "#E5ECF6",
           "radialaxis": {
            "gridcolor": "white",
            "linecolor": "white",
            "ticks": ""
           }
          },
          "scene": {
           "xaxis": {
            "backgroundcolor": "#E5ECF6",
            "gridcolor": "white",
            "gridwidth": 2,
            "linecolor": "white",
            "showbackground": true,
            "ticks": "",
            "zerolinecolor": "white"
           },
           "yaxis": {
            "backgroundcolor": "#E5ECF6",
            "gridcolor": "white",
            "gridwidth": 2,
            "linecolor": "white",
            "showbackground": true,
            "ticks": "",
            "zerolinecolor": "white"
           },
           "zaxis": {
            "backgroundcolor": "#E5ECF6",
            "gridcolor": "white",
            "gridwidth": 2,
            "linecolor": "white",
            "showbackground": true,
            "ticks": "",
            "zerolinecolor": "white"
           }
          },
          "shapedefaults": {
           "line": {
            "color": "#2a3f5f"
           }
          },
          "ternary": {
           "aaxis": {
            "gridcolor": "white",
            "linecolor": "white",
            "ticks": ""
           },
           "baxis": {
            "gridcolor": "white",
            "linecolor": "white",
            "ticks": ""
           },
           "bgcolor": "#E5ECF6",
           "caxis": {
            "gridcolor": "white",
            "linecolor": "white",
            "ticks": ""
           }
          },
          "title": {
           "x": 0.05
          },
          "xaxis": {
           "automargin": true,
           "gridcolor": "white",
           "linecolor": "white",
           "ticks": "",
           "title": {
            "standoff": 15
           },
           "zerolinecolor": "white",
           "zerolinewidth": 2
          },
          "yaxis": {
           "automargin": true,
           "gridcolor": "white",
           "linecolor": "white",
           "ticks": "",
           "title": {
            "standoff": 15
           },
           "zerolinecolor": "white",
           "zerolinewidth": 2
          }
         }
        },
        "title": {
         "text": "Z-scores for Twitter Generated Samples of 86775971"
        },
        "xaxis": {
         "title": {
          "text": "motif"
         }
        },
        "yaxis": {
         "title": {
          "text": "significance_profile"
         }
        }
       }
      }
     },
     "metadata": {},
     "output_type": "display_data"
    },
    {
     "name": "stdout",
     "output_type": "stream",
     "text": [
      "                  graph_name    motif  nodes   edges\n",
      "13                  86775971  motif_1  154.0  5811.0\n",
      "858    86775971_sample_rn_40  motif_1   61.0   742.0\n",
      "923   86775971_sample_rpn_40  motif_1   48.0   772.0\n",
      "949    86775971_sample_rj_40  motif_1   60.0  1568.0\n",
      "1014  86775971_sample_bsf_40  motif_1   61.0  1606.0\n",
      "1274  86775971_sample_sff_40  motif_1   61.0  2099.0\n"
     ]
    },
    {
     "data": {
      "application/vnd.plotly.v1+json": {
       "config": {
        "plotlyServerURL": "https://plot.ly"
       },
       "data": [
        {
         "mode": "lines+markers",
         "name": "86775971",
         "type": "scatter",
         "x": [
          "motif_1",
          "motif_2",
          "motif_3",
          "motif_4",
          "motif_5",
          "motif_6",
          "motif_7",
          "motif_8",
          "motif_9",
          "motif_10",
          "motif_11",
          "motif_12",
          "motif_13"
         ],
         "y": [
          -0.01127272102,
          0.002505407334,
          -0.03255079145,
          0.05855116005,
          0.04374423934,
          0.2103715769,
          -0.003768012758,
          -0.01841829973,
          0.09237081043,
          0.08282543017,
          -0.004250372455,
          0.1648520883,
          0.951981602
         ]
        },
        {
         "mode": "lines+markers",
         "name": "86775971_sample_rj_30",
         "type": "scatter",
         "x": [
          "motif_1",
          "motif_2",
          "motif_3",
          "motif_4",
          "motif_5",
          "motif_6",
          "motif_7",
          "motif_8",
          "motif_9",
          "motif_10",
          "motif_11",
          "motif_12",
          "motif_13"
         ],
         "y": [
          -0.0135029757137713,
          -0.0003969832368469,
          -0.0315312562295212,
          0.0552481319685499,
          0.0448385050869141,
          0.1855756109631925,
          -0.0124594736155631,
          -0.0167296223933522,
          0.1155034655355832,
          0.074241550477012,
          -0.0131314596981843,
          0.1848316365361091,
          0.9516821899712018
         ]
        },
        {
         "mode": "lines+markers",
         "name": "86775971_sample_rn_30",
         "type": "scatter",
         "x": [
          "motif_1",
          "motif_2",
          "motif_3",
          "motif_4",
          "motif_5",
          "motif_6",
          "motif_7",
          "motif_8",
          "motif_9",
          "motif_10",
          "motif_11",
          "motif_12",
          "motif_13"
         ],
         "y": [
          -0.0224646798939415,
          0.0209599828672111,
          -0.0580091007483614,
          0.0939508081749328,
          0.0436848096823012,
          0.3702306534825534,
          0.0120488685337932,
          -0.0281133027792842,
          0.1777874269441743,
          0.2302501987085908,
          0.0023359904537015,
          0.1946592856613522,
          0.8511335719013481
         ]
        },
        {
         "mode": "lines+markers",
         "name": "86775971_sample_rpn_30",
         "type": "scatter",
         "x": [
          "motif_1",
          "motif_2",
          "motif_3",
          "motif_4",
          "motif_5",
          "motif_6",
          "motif_7",
          "motif_8",
          "motif_9",
          "motif_10",
          "motif_11",
          "motif_12",
          "motif_13"
         ],
         "y": [
          -0.0271303230485487,
          -0.0118667954904255,
          -0.0370548719934401,
          0.0903487562214099,
          0.0581975731861698,
          0.2490348324720889,
          -0.0060649365627049,
          -0.0187931398214126,
          0.1356922956493513,
          0.0902946457752675,
          -0.0167704814043428,
          0.237142513169788,
          0.9169016031311964
         ]
        },
        {
         "mode": "lines+markers",
         "name": "86775971_sample_bsf_30",
         "type": "scatter",
         "x": [
          "motif_1",
          "motif_2",
          "motif_3",
          "motif_4",
          "motif_5",
          "motif_6",
          "motif_7",
          "motif_8",
          "motif_9",
          "motif_10",
          "motif_11",
          "motif_12",
          "motif_13"
         ],
         "y": [
          -0.0010296644720315,
          0.0040178322801452,
          -0.0212891052565002,
          0.0419598180525866,
          0.0499125300216359,
          0.1558953618257132,
          0.0032481568541243,
          -0.01244901020399,
          0.0755012219585282,
          0.1481624880505649,
          -0.0033321150990477,
          0.1522886904279326,
          0.9591419530004012
         ]
        },
        {
         "mode": "lines+markers",
         "name": "86775971_sample_sff_30",
         "type": "scatter",
         "x": [
          "motif_1",
          "motif_2",
          "motif_3",
          "motif_4",
          "motif_5",
          "motif_6",
          "motif_7",
          "motif_8",
          "motif_9",
          "motif_10",
          "motif_11",
          "motif_12",
          "motif_13"
         ],
         "y": [
          -0.0095030962443771,
          -0.0022495750846718,
          -0.033841388134932,
          0.0395546715318934,
          0.028438411018078,
          0.22592212806906,
          -0.0113471004644862,
          -0.0186544139225744,
          0.0778066116949584,
          0.0662161358714596,
          -0.0102264905653305,
          0.1048021497602069,
          0.9609068668636624
         ]
        }
       ],
       "layout": {
        "template": {
         "data": {
          "bar": [
           {
            "error_x": {
             "color": "#2a3f5f"
            },
            "error_y": {
             "color": "#2a3f5f"
            },
            "marker": {
             "line": {
              "color": "#E5ECF6",
              "width": 0.5
             },
             "pattern": {
              "fillmode": "overlay",
              "size": 10,
              "solidity": 0.2
             }
            },
            "type": "bar"
           }
          ],
          "barpolar": [
           {
            "marker": {
             "line": {
              "color": "#E5ECF6",
              "width": 0.5
             },
             "pattern": {
              "fillmode": "overlay",
              "size": 10,
              "solidity": 0.2
             }
            },
            "type": "barpolar"
           }
          ],
          "carpet": [
           {
            "aaxis": {
             "endlinecolor": "#2a3f5f",
             "gridcolor": "white",
             "linecolor": "white",
             "minorgridcolor": "white",
             "startlinecolor": "#2a3f5f"
            },
            "baxis": {
             "endlinecolor": "#2a3f5f",
             "gridcolor": "white",
             "linecolor": "white",
             "minorgridcolor": "white",
             "startlinecolor": "#2a3f5f"
            },
            "type": "carpet"
           }
          ],
          "choropleth": [
           {
            "colorbar": {
             "outlinewidth": 0,
             "ticks": ""
            },
            "type": "choropleth"
           }
          ],
          "contour": [
           {
            "colorbar": {
             "outlinewidth": 0,
             "ticks": ""
            },
            "colorscale": [
             [
              0,
              "#0d0887"
             ],
             [
              0.1111111111111111,
              "#46039f"
             ],
             [
              0.2222222222222222,
              "#7201a8"
             ],
             [
              0.3333333333333333,
              "#9c179e"
             ],
             [
              0.4444444444444444,
              "#bd3786"
             ],
             [
              0.5555555555555556,
              "#d8576b"
             ],
             [
              0.6666666666666666,
              "#ed7953"
             ],
             [
              0.7777777777777778,
              "#fb9f3a"
             ],
             [
              0.8888888888888888,
              "#fdca26"
             ],
             [
              1,
              "#f0f921"
             ]
            ],
            "type": "contour"
           }
          ],
          "contourcarpet": [
           {
            "colorbar": {
             "outlinewidth": 0,
             "ticks": ""
            },
            "type": "contourcarpet"
           }
          ],
          "heatmap": [
           {
            "colorbar": {
             "outlinewidth": 0,
             "ticks": ""
            },
            "colorscale": [
             [
              0,
              "#0d0887"
             ],
             [
              0.1111111111111111,
              "#46039f"
             ],
             [
              0.2222222222222222,
              "#7201a8"
             ],
             [
              0.3333333333333333,
              "#9c179e"
             ],
             [
              0.4444444444444444,
              "#bd3786"
             ],
             [
              0.5555555555555556,
              "#d8576b"
             ],
             [
              0.6666666666666666,
              "#ed7953"
             ],
             [
              0.7777777777777778,
              "#fb9f3a"
             ],
             [
              0.8888888888888888,
              "#fdca26"
             ],
             [
              1,
              "#f0f921"
             ]
            ],
            "type": "heatmap"
           }
          ],
          "heatmapgl": [
           {
            "colorbar": {
             "outlinewidth": 0,
             "ticks": ""
            },
            "colorscale": [
             [
              0,
              "#0d0887"
             ],
             [
              0.1111111111111111,
              "#46039f"
             ],
             [
              0.2222222222222222,
              "#7201a8"
             ],
             [
              0.3333333333333333,
              "#9c179e"
             ],
             [
              0.4444444444444444,
              "#bd3786"
             ],
             [
              0.5555555555555556,
              "#d8576b"
             ],
             [
              0.6666666666666666,
              "#ed7953"
             ],
             [
              0.7777777777777778,
              "#fb9f3a"
             ],
             [
              0.8888888888888888,
              "#fdca26"
             ],
             [
              1,
              "#f0f921"
             ]
            ],
            "type": "heatmapgl"
           }
          ],
          "histogram": [
           {
            "marker": {
             "pattern": {
              "fillmode": "overlay",
              "size": 10,
              "solidity": 0.2
             }
            },
            "type": "histogram"
           }
          ],
          "histogram2d": [
           {
            "colorbar": {
             "outlinewidth": 0,
             "ticks": ""
            },
            "colorscale": [
             [
              0,
              "#0d0887"
             ],
             [
              0.1111111111111111,
              "#46039f"
             ],
             [
              0.2222222222222222,
              "#7201a8"
             ],
             [
              0.3333333333333333,
              "#9c179e"
             ],
             [
              0.4444444444444444,
              "#bd3786"
             ],
             [
              0.5555555555555556,
              "#d8576b"
             ],
             [
              0.6666666666666666,
              "#ed7953"
             ],
             [
              0.7777777777777778,
              "#fb9f3a"
             ],
             [
              0.8888888888888888,
              "#fdca26"
             ],
             [
              1,
              "#f0f921"
             ]
            ],
            "type": "histogram2d"
           }
          ],
          "histogram2dcontour": [
           {
            "colorbar": {
             "outlinewidth": 0,
             "ticks": ""
            },
            "colorscale": [
             [
              0,
              "#0d0887"
             ],
             [
              0.1111111111111111,
              "#46039f"
             ],
             [
              0.2222222222222222,
              "#7201a8"
             ],
             [
              0.3333333333333333,
              "#9c179e"
             ],
             [
              0.4444444444444444,
              "#bd3786"
             ],
             [
              0.5555555555555556,
              "#d8576b"
             ],
             [
              0.6666666666666666,
              "#ed7953"
             ],
             [
              0.7777777777777778,
              "#fb9f3a"
             ],
             [
              0.8888888888888888,
              "#fdca26"
             ],
             [
              1,
              "#f0f921"
             ]
            ],
            "type": "histogram2dcontour"
           }
          ],
          "mesh3d": [
           {
            "colorbar": {
             "outlinewidth": 0,
             "ticks": ""
            },
            "type": "mesh3d"
           }
          ],
          "parcoords": [
           {
            "line": {
             "colorbar": {
              "outlinewidth": 0,
              "ticks": ""
             }
            },
            "type": "parcoords"
           }
          ],
          "pie": [
           {
            "automargin": true,
            "type": "pie"
           }
          ],
          "scatter": [
           {
            "fillpattern": {
             "fillmode": "overlay",
             "size": 10,
             "solidity": 0.2
            },
            "type": "scatter"
           }
          ],
          "scatter3d": [
           {
            "line": {
             "colorbar": {
              "outlinewidth": 0,
              "ticks": ""
             }
            },
            "marker": {
             "colorbar": {
              "outlinewidth": 0,
              "ticks": ""
             }
            },
            "type": "scatter3d"
           }
          ],
          "scattercarpet": [
           {
            "marker": {
             "colorbar": {
              "outlinewidth": 0,
              "ticks": ""
             }
            },
            "type": "scattercarpet"
           }
          ],
          "scattergeo": [
           {
            "marker": {
             "colorbar": {
              "outlinewidth": 0,
              "ticks": ""
             }
            },
            "type": "scattergeo"
           }
          ],
          "scattergl": [
           {
            "marker": {
             "colorbar": {
              "outlinewidth": 0,
              "ticks": ""
             }
            },
            "type": "scattergl"
           }
          ],
          "scattermapbox": [
           {
            "marker": {
             "colorbar": {
              "outlinewidth": 0,
              "ticks": ""
             }
            },
            "type": "scattermapbox"
           }
          ],
          "scatterpolar": [
           {
            "marker": {
             "colorbar": {
              "outlinewidth": 0,
              "ticks": ""
             }
            },
            "type": "scatterpolar"
           }
          ],
          "scatterpolargl": [
           {
            "marker": {
             "colorbar": {
              "outlinewidth": 0,
              "ticks": ""
             }
            },
            "type": "scatterpolargl"
           }
          ],
          "scatterternary": [
           {
            "marker": {
             "colorbar": {
              "outlinewidth": 0,
              "ticks": ""
             }
            },
            "type": "scatterternary"
           }
          ],
          "surface": [
           {
            "colorbar": {
             "outlinewidth": 0,
             "ticks": ""
            },
            "colorscale": [
             [
              0,
              "#0d0887"
             ],
             [
              0.1111111111111111,
              "#46039f"
             ],
             [
              0.2222222222222222,
              "#7201a8"
             ],
             [
              0.3333333333333333,
              "#9c179e"
             ],
             [
              0.4444444444444444,
              "#bd3786"
             ],
             [
              0.5555555555555556,
              "#d8576b"
             ],
             [
              0.6666666666666666,
              "#ed7953"
             ],
             [
              0.7777777777777778,
              "#fb9f3a"
             ],
             [
              0.8888888888888888,
              "#fdca26"
             ],
             [
              1,
              "#f0f921"
             ]
            ],
            "type": "surface"
           }
          ],
          "table": [
           {
            "cells": {
             "fill": {
              "color": "#EBF0F8"
             },
             "line": {
              "color": "white"
             }
            },
            "header": {
             "fill": {
              "color": "#C8D4E3"
             },
             "line": {
              "color": "white"
             }
            },
            "type": "table"
           }
          ]
         },
         "layout": {
          "annotationdefaults": {
           "arrowcolor": "#2a3f5f",
           "arrowhead": 0,
           "arrowwidth": 1
          },
          "autotypenumbers": "strict",
          "coloraxis": {
           "colorbar": {
            "outlinewidth": 0,
            "ticks": ""
           }
          },
          "colorscale": {
           "diverging": [
            [
             0,
             "#8e0152"
            ],
            [
             0.1,
             "#c51b7d"
            ],
            [
             0.2,
             "#de77ae"
            ],
            [
             0.3,
             "#f1b6da"
            ],
            [
             0.4,
             "#fde0ef"
            ],
            [
             0.5,
             "#f7f7f7"
            ],
            [
             0.6,
             "#e6f5d0"
            ],
            [
             0.7,
             "#b8e186"
            ],
            [
             0.8,
             "#7fbc41"
            ],
            [
             0.9,
             "#4d9221"
            ],
            [
             1,
             "#276419"
            ]
           ],
           "sequential": [
            [
             0,
             "#0d0887"
            ],
            [
             0.1111111111111111,
             "#46039f"
            ],
            [
             0.2222222222222222,
             "#7201a8"
            ],
            [
             0.3333333333333333,
             "#9c179e"
            ],
            [
             0.4444444444444444,
             "#bd3786"
            ],
            [
             0.5555555555555556,
             "#d8576b"
            ],
            [
             0.6666666666666666,
             "#ed7953"
            ],
            [
             0.7777777777777778,
             "#fb9f3a"
            ],
            [
             0.8888888888888888,
             "#fdca26"
            ],
            [
             1,
             "#f0f921"
            ]
           ],
           "sequentialminus": [
            [
             0,
             "#0d0887"
            ],
            [
             0.1111111111111111,
             "#46039f"
            ],
            [
             0.2222222222222222,
             "#7201a8"
            ],
            [
             0.3333333333333333,
             "#9c179e"
            ],
            [
             0.4444444444444444,
             "#bd3786"
            ],
            [
             0.5555555555555556,
             "#d8576b"
            ],
            [
             0.6666666666666666,
             "#ed7953"
            ],
            [
             0.7777777777777778,
             "#fb9f3a"
            ],
            [
             0.8888888888888888,
             "#fdca26"
            ],
            [
             1,
             "#f0f921"
            ]
           ]
          },
          "colorway": [
           "#636efa",
           "#EF553B",
           "#00cc96",
           "#ab63fa",
           "#FFA15A",
           "#19d3f3",
           "#FF6692",
           "#B6E880",
           "#FF97FF",
           "#FECB52"
          ],
          "font": {
           "color": "#2a3f5f"
          },
          "geo": {
           "bgcolor": "white",
           "lakecolor": "white",
           "landcolor": "#E5ECF6",
           "showlakes": true,
           "showland": true,
           "subunitcolor": "white"
          },
          "hoverlabel": {
           "align": "left"
          },
          "hovermode": "closest",
          "mapbox": {
           "style": "light"
          },
          "paper_bgcolor": "white",
          "plot_bgcolor": "#E5ECF6",
          "polar": {
           "angularaxis": {
            "gridcolor": "white",
            "linecolor": "white",
            "ticks": ""
           },
           "bgcolor": "#E5ECF6",
           "radialaxis": {
            "gridcolor": "white",
            "linecolor": "white",
            "ticks": ""
           }
          },
          "scene": {
           "xaxis": {
            "backgroundcolor": "#E5ECF6",
            "gridcolor": "white",
            "gridwidth": 2,
            "linecolor": "white",
            "showbackground": true,
            "ticks": "",
            "zerolinecolor": "white"
           },
           "yaxis": {
            "backgroundcolor": "#E5ECF6",
            "gridcolor": "white",
            "gridwidth": 2,
            "linecolor": "white",
            "showbackground": true,
            "ticks": "",
            "zerolinecolor": "white"
           },
           "zaxis": {
            "backgroundcolor": "#E5ECF6",
            "gridcolor": "white",
            "gridwidth": 2,
            "linecolor": "white",
            "showbackground": true,
            "ticks": "",
            "zerolinecolor": "white"
           }
          },
          "shapedefaults": {
           "line": {
            "color": "#2a3f5f"
           }
          },
          "ternary": {
           "aaxis": {
            "gridcolor": "white",
            "linecolor": "white",
            "ticks": ""
           },
           "baxis": {
            "gridcolor": "white",
            "linecolor": "white",
            "ticks": ""
           },
           "bgcolor": "#E5ECF6",
           "caxis": {
            "gridcolor": "white",
            "linecolor": "white",
            "ticks": ""
           }
          },
          "title": {
           "x": 0.05
          },
          "xaxis": {
           "automargin": true,
           "gridcolor": "white",
           "linecolor": "white",
           "ticks": "",
           "title": {
            "standoff": 15
           },
           "zerolinecolor": "white",
           "zerolinewidth": 2
          },
          "yaxis": {
           "automargin": true,
           "gridcolor": "white",
           "linecolor": "white",
           "ticks": "",
           "title": {
            "standoff": 15
           },
           "zerolinecolor": "white",
           "zerolinewidth": 2
          }
         }
        },
        "title": {
         "text": "Z-scores for Twitter Generated Samples of 86775971"
        },
        "xaxis": {
         "title": {
          "text": "motif"
         }
        },
        "yaxis": {
         "title": {
          "text": "significance_profile"
         }
        }
       }
      }
     },
     "metadata": {},
     "output_type": "display_data"
    },
    {
     "name": "stdout",
     "output_type": "stream",
     "text": [
      "                  graph_name    motif  nodes   edges\n",
      "13                  86775971  motif_1  154.0  5811.0\n",
      "273    86775971_sample_rj_30  motif_1   46.0   894.0\n",
      "507    86775971_sample_rn_30  motif_1   46.0   472.0\n",
      "533   86775971_sample_rpn_30  motif_1   42.0   585.0\n",
      "819   86775971_sample_bsf_30  motif_1   46.0  1065.0\n",
      "1222  86775971_sample_sff_30  motif_1   46.0  1071.0\n"
     ]
    },
    {
     "data": {
      "application/vnd.plotly.v1+json": {
       "config": {
        "plotlyServerURL": "https://plot.ly"
       },
       "data": [
        {
         "mode": "lines+markers",
         "name": "86775971",
         "type": "scatter",
         "x": [
          "motif_1",
          "motif_2",
          "motif_3",
          "motif_4",
          "motif_5",
          "motif_6",
          "motif_7",
          "motif_8",
          "motif_9",
          "motif_10",
          "motif_11",
          "motif_12",
          "motif_13"
         ],
         "y": [
          -0.01127272102,
          0.002505407334,
          -0.03255079145,
          0.05855116005,
          0.04374423934,
          0.2103715769,
          -0.003768012758,
          -0.01841829973,
          0.09237081043,
          0.08282543017,
          -0.004250372455,
          0.1648520883,
          0.951981602
         ]
        },
        {
         "mode": "lines+markers",
         "name": "86775971_sample_rj_20",
         "type": "scatter",
         "x": [
          "motif_1",
          "motif_2",
          "motif_3",
          "motif_4",
          "motif_5",
          "motif_6",
          "motif_7",
          "motif_8",
          "motif_9",
          "motif_10",
          "motif_11",
          "motif_12",
          "motif_13"
         ],
         "y": [
          -0.0118920341039164,
          -0.0060075014458266,
          -0.0391631201288857,
          0.0344829643317159,
          0.0392717431137943,
          0.2030216459523108,
          -0.0061396913693922,
          -0.0198656973638455,
          0.0630796851454874,
          0.1624009613467253,
          -0.0073531150420421,
          0.1820602590229911,
          0.9435857879540888
         ]
        },
        {
         "mode": "lines+markers",
         "name": "86775971_sample_bsf_20",
         "type": "scatter",
         "x": [
          "motif_1",
          "motif_2",
          "motif_3",
          "motif_4",
          "motif_5",
          "motif_6",
          "motif_7",
          "motif_8",
          "motif_9",
          "motif_10",
          "motif_11",
          "motif_12",
          "motif_13"
         ],
         "y": [
          -0.0230964765612548,
          0.0085094801045083,
          -0.0293022573769496,
          0.0455605252288288,
          0.0130711609429237,
          0.2474982035525261,
          -0.0093354108759506,
          -0.0193200829784513,
          0.0333838055327758,
          0.131560581608101,
          -0.014313061362522,
          0.1622830453976007,
          0.9431912905692328
         ]
        },
        {
         "mode": "lines+markers",
         "name": "86775971_sample_rpn_20",
         "type": "scatter",
         "x": [
          "motif_1",
          "motif_2",
          "motif_3",
          "motif_4",
          "motif_5",
          "motif_6",
          "motif_7",
          "motif_8",
          "motif_9",
          "motif_10",
          "motif_11",
          "motif_12",
          "motif_13"
         ],
         "y": [
          0.0110069126751254,
          0.0198407037364173,
          -0.0210046494483902,
          0.0618329690141526,
          0.0689751145591021,
          0.1452005508472017,
          0.0118676230691873,
          -0.0162816164716667,
          0.1624205390126246,
          0.2172684830542092,
          -0.0045207685705555,
          0.2714306253007835,
          0.9064728005652264
         ]
        },
        {
         "mode": "lines+markers",
         "name": "86775971_sample_rn_20",
         "type": "scatter",
         "x": [
          "motif_1",
          "motif_2",
          "motif_3",
          "motif_4",
          "motif_5",
          "motif_6",
          "motif_7",
          "motif_8",
          "motif_9",
          "motif_10",
          "motif_11",
          "motif_12",
          "motif_13"
         ],
         "y": [
          0.0058681827472092,
          0.0208765142402327,
          -0.032213908989608,
          0.0955750960500331,
          0.0792781259174585,
          0.2404494309318346,
          0.0026977856723014,
          -0.0247354796283698,
          0.1322641657389114,
          0.140897073198352,
          -0.0004672618196205,
          0.1854918730883359,
          0.9235172334573692
         ]
        },
        {
         "mode": "lines+markers",
         "name": "86775971_sample_sff_20",
         "type": "scatter",
         "x": [
          "motif_1",
          "motif_2",
          "motif_3",
          "motif_4",
          "motif_5",
          "motif_6",
          "motif_7",
          "motif_8",
          "motif_9",
          "motif_10",
          "motif_11",
          "motif_12",
          "motif_13"
         ],
         "y": [
          -0.0277163783557954,
          0.0042393588009083,
          -0.0389566930888409,
          0.0799409139292171,
          0.0236304818223164,
          0.4074716254887873,
          -0.0112496041824244,
          -0.0162668533008589,
          0.0872383327509441,
          0.1031904334377518,
          -0.0075974972839458,
          0.1934840237739139,
          0.876681461829995
         ]
        }
       ],
       "layout": {
        "template": {
         "data": {
          "bar": [
           {
            "error_x": {
             "color": "#2a3f5f"
            },
            "error_y": {
             "color": "#2a3f5f"
            },
            "marker": {
             "line": {
              "color": "#E5ECF6",
              "width": 0.5
             },
             "pattern": {
              "fillmode": "overlay",
              "size": 10,
              "solidity": 0.2
             }
            },
            "type": "bar"
           }
          ],
          "barpolar": [
           {
            "marker": {
             "line": {
              "color": "#E5ECF6",
              "width": 0.5
             },
             "pattern": {
              "fillmode": "overlay",
              "size": 10,
              "solidity": 0.2
             }
            },
            "type": "barpolar"
           }
          ],
          "carpet": [
           {
            "aaxis": {
             "endlinecolor": "#2a3f5f",
             "gridcolor": "white",
             "linecolor": "white",
             "minorgridcolor": "white",
             "startlinecolor": "#2a3f5f"
            },
            "baxis": {
             "endlinecolor": "#2a3f5f",
             "gridcolor": "white",
             "linecolor": "white",
             "minorgridcolor": "white",
             "startlinecolor": "#2a3f5f"
            },
            "type": "carpet"
           }
          ],
          "choropleth": [
           {
            "colorbar": {
             "outlinewidth": 0,
             "ticks": ""
            },
            "type": "choropleth"
           }
          ],
          "contour": [
           {
            "colorbar": {
             "outlinewidth": 0,
             "ticks": ""
            },
            "colorscale": [
             [
              0,
              "#0d0887"
             ],
             [
              0.1111111111111111,
              "#46039f"
             ],
             [
              0.2222222222222222,
              "#7201a8"
             ],
             [
              0.3333333333333333,
              "#9c179e"
             ],
             [
              0.4444444444444444,
              "#bd3786"
             ],
             [
              0.5555555555555556,
              "#d8576b"
             ],
             [
              0.6666666666666666,
              "#ed7953"
             ],
             [
              0.7777777777777778,
              "#fb9f3a"
             ],
             [
              0.8888888888888888,
              "#fdca26"
             ],
             [
              1,
              "#f0f921"
             ]
            ],
            "type": "contour"
           }
          ],
          "contourcarpet": [
           {
            "colorbar": {
             "outlinewidth": 0,
             "ticks": ""
            },
            "type": "contourcarpet"
           }
          ],
          "heatmap": [
           {
            "colorbar": {
             "outlinewidth": 0,
             "ticks": ""
            },
            "colorscale": [
             [
              0,
              "#0d0887"
             ],
             [
              0.1111111111111111,
              "#46039f"
             ],
             [
              0.2222222222222222,
              "#7201a8"
             ],
             [
              0.3333333333333333,
              "#9c179e"
             ],
             [
              0.4444444444444444,
              "#bd3786"
             ],
             [
              0.5555555555555556,
              "#d8576b"
             ],
             [
              0.6666666666666666,
              "#ed7953"
             ],
             [
              0.7777777777777778,
              "#fb9f3a"
             ],
             [
              0.8888888888888888,
              "#fdca26"
             ],
             [
              1,
              "#f0f921"
             ]
            ],
            "type": "heatmap"
           }
          ],
          "heatmapgl": [
           {
            "colorbar": {
             "outlinewidth": 0,
             "ticks": ""
            },
            "colorscale": [
             [
              0,
              "#0d0887"
             ],
             [
              0.1111111111111111,
              "#46039f"
             ],
             [
              0.2222222222222222,
              "#7201a8"
             ],
             [
              0.3333333333333333,
              "#9c179e"
             ],
             [
              0.4444444444444444,
              "#bd3786"
             ],
             [
              0.5555555555555556,
              "#d8576b"
             ],
             [
              0.6666666666666666,
              "#ed7953"
             ],
             [
              0.7777777777777778,
              "#fb9f3a"
             ],
             [
              0.8888888888888888,
              "#fdca26"
             ],
             [
              1,
              "#f0f921"
             ]
            ],
            "type": "heatmapgl"
           }
          ],
          "histogram": [
           {
            "marker": {
             "pattern": {
              "fillmode": "overlay",
              "size": 10,
              "solidity": 0.2
             }
            },
            "type": "histogram"
           }
          ],
          "histogram2d": [
           {
            "colorbar": {
             "outlinewidth": 0,
             "ticks": ""
            },
            "colorscale": [
             [
              0,
              "#0d0887"
             ],
             [
              0.1111111111111111,
              "#46039f"
             ],
             [
              0.2222222222222222,
              "#7201a8"
             ],
             [
              0.3333333333333333,
              "#9c179e"
             ],
             [
              0.4444444444444444,
              "#bd3786"
             ],
             [
              0.5555555555555556,
              "#d8576b"
             ],
             [
              0.6666666666666666,
              "#ed7953"
             ],
             [
              0.7777777777777778,
              "#fb9f3a"
             ],
             [
              0.8888888888888888,
              "#fdca26"
             ],
             [
              1,
              "#f0f921"
             ]
            ],
            "type": "histogram2d"
           }
          ],
          "histogram2dcontour": [
           {
            "colorbar": {
             "outlinewidth": 0,
             "ticks": ""
            },
            "colorscale": [
             [
              0,
              "#0d0887"
             ],
             [
              0.1111111111111111,
              "#46039f"
             ],
             [
              0.2222222222222222,
              "#7201a8"
             ],
             [
              0.3333333333333333,
              "#9c179e"
             ],
             [
              0.4444444444444444,
              "#bd3786"
             ],
             [
              0.5555555555555556,
              "#d8576b"
             ],
             [
              0.6666666666666666,
              "#ed7953"
             ],
             [
              0.7777777777777778,
              "#fb9f3a"
             ],
             [
              0.8888888888888888,
              "#fdca26"
             ],
             [
              1,
              "#f0f921"
             ]
            ],
            "type": "histogram2dcontour"
           }
          ],
          "mesh3d": [
           {
            "colorbar": {
             "outlinewidth": 0,
             "ticks": ""
            },
            "type": "mesh3d"
           }
          ],
          "parcoords": [
           {
            "line": {
             "colorbar": {
              "outlinewidth": 0,
              "ticks": ""
             }
            },
            "type": "parcoords"
           }
          ],
          "pie": [
           {
            "automargin": true,
            "type": "pie"
           }
          ],
          "scatter": [
           {
            "fillpattern": {
             "fillmode": "overlay",
             "size": 10,
             "solidity": 0.2
            },
            "type": "scatter"
           }
          ],
          "scatter3d": [
           {
            "line": {
             "colorbar": {
              "outlinewidth": 0,
              "ticks": ""
             }
            },
            "marker": {
             "colorbar": {
              "outlinewidth": 0,
              "ticks": ""
             }
            },
            "type": "scatter3d"
           }
          ],
          "scattercarpet": [
           {
            "marker": {
             "colorbar": {
              "outlinewidth": 0,
              "ticks": ""
             }
            },
            "type": "scattercarpet"
           }
          ],
          "scattergeo": [
           {
            "marker": {
             "colorbar": {
              "outlinewidth": 0,
              "ticks": ""
             }
            },
            "type": "scattergeo"
           }
          ],
          "scattergl": [
           {
            "marker": {
             "colorbar": {
              "outlinewidth": 0,
              "ticks": ""
             }
            },
            "type": "scattergl"
           }
          ],
          "scattermapbox": [
           {
            "marker": {
             "colorbar": {
              "outlinewidth": 0,
              "ticks": ""
             }
            },
            "type": "scattermapbox"
           }
          ],
          "scatterpolar": [
           {
            "marker": {
             "colorbar": {
              "outlinewidth": 0,
              "ticks": ""
             }
            },
            "type": "scatterpolar"
           }
          ],
          "scatterpolargl": [
           {
            "marker": {
             "colorbar": {
              "outlinewidth": 0,
              "ticks": ""
             }
            },
            "type": "scatterpolargl"
           }
          ],
          "scatterternary": [
           {
            "marker": {
             "colorbar": {
              "outlinewidth": 0,
              "ticks": ""
             }
            },
            "type": "scatterternary"
           }
          ],
          "surface": [
           {
            "colorbar": {
             "outlinewidth": 0,
             "ticks": ""
            },
            "colorscale": [
             [
              0,
              "#0d0887"
             ],
             [
              0.1111111111111111,
              "#46039f"
             ],
             [
              0.2222222222222222,
              "#7201a8"
             ],
             [
              0.3333333333333333,
              "#9c179e"
             ],
             [
              0.4444444444444444,
              "#bd3786"
             ],
             [
              0.5555555555555556,
              "#d8576b"
             ],
             [
              0.6666666666666666,
              "#ed7953"
             ],
             [
              0.7777777777777778,
              "#fb9f3a"
             ],
             [
              0.8888888888888888,
              "#fdca26"
             ],
             [
              1,
              "#f0f921"
             ]
            ],
            "type": "surface"
           }
          ],
          "table": [
           {
            "cells": {
             "fill": {
              "color": "#EBF0F8"
             },
             "line": {
              "color": "white"
             }
            },
            "header": {
             "fill": {
              "color": "#C8D4E3"
             },
             "line": {
              "color": "white"
             }
            },
            "type": "table"
           }
          ]
         },
         "layout": {
          "annotationdefaults": {
           "arrowcolor": "#2a3f5f",
           "arrowhead": 0,
           "arrowwidth": 1
          },
          "autotypenumbers": "strict",
          "coloraxis": {
           "colorbar": {
            "outlinewidth": 0,
            "ticks": ""
           }
          },
          "colorscale": {
           "diverging": [
            [
             0,
             "#8e0152"
            ],
            [
             0.1,
             "#c51b7d"
            ],
            [
             0.2,
             "#de77ae"
            ],
            [
             0.3,
             "#f1b6da"
            ],
            [
             0.4,
             "#fde0ef"
            ],
            [
             0.5,
             "#f7f7f7"
            ],
            [
             0.6,
             "#e6f5d0"
            ],
            [
             0.7,
             "#b8e186"
            ],
            [
             0.8,
             "#7fbc41"
            ],
            [
             0.9,
             "#4d9221"
            ],
            [
             1,
             "#276419"
            ]
           ],
           "sequential": [
            [
             0,
             "#0d0887"
            ],
            [
             0.1111111111111111,
             "#46039f"
            ],
            [
             0.2222222222222222,
             "#7201a8"
            ],
            [
             0.3333333333333333,
             "#9c179e"
            ],
            [
             0.4444444444444444,
             "#bd3786"
            ],
            [
             0.5555555555555556,
             "#d8576b"
            ],
            [
             0.6666666666666666,
             "#ed7953"
            ],
            [
             0.7777777777777778,
             "#fb9f3a"
            ],
            [
             0.8888888888888888,
             "#fdca26"
            ],
            [
             1,
             "#f0f921"
            ]
           ],
           "sequentialminus": [
            [
             0,
             "#0d0887"
            ],
            [
             0.1111111111111111,
             "#46039f"
            ],
            [
             0.2222222222222222,
             "#7201a8"
            ],
            [
             0.3333333333333333,
             "#9c179e"
            ],
            [
             0.4444444444444444,
             "#bd3786"
            ],
            [
             0.5555555555555556,
             "#d8576b"
            ],
            [
             0.6666666666666666,
             "#ed7953"
            ],
            [
             0.7777777777777778,
             "#fb9f3a"
            ],
            [
             0.8888888888888888,
             "#fdca26"
            ],
            [
             1,
             "#f0f921"
            ]
           ]
          },
          "colorway": [
           "#636efa",
           "#EF553B",
           "#00cc96",
           "#ab63fa",
           "#FFA15A",
           "#19d3f3",
           "#FF6692",
           "#B6E880",
           "#FF97FF",
           "#FECB52"
          ],
          "font": {
           "color": "#2a3f5f"
          },
          "geo": {
           "bgcolor": "white",
           "lakecolor": "white",
           "landcolor": "#E5ECF6",
           "showlakes": true,
           "showland": true,
           "subunitcolor": "white"
          },
          "hoverlabel": {
           "align": "left"
          },
          "hovermode": "closest",
          "mapbox": {
           "style": "light"
          },
          "paper_bgcolor": "white",
          "plot_bgcolor": "#E5ECF6",
          "polar": {
           "angularaxis": {
            "gridcolor": "white",
            "linecolor": "white",
            "ticks": ""
           },
           "bgcolor": "#E5ECF6",
           "radialaxis": {
            "gridcolor": "white",
            "linecolor": "white",
            "ticks": ""
           }
          },
          "scene": {
           "xaxis": {
            "backgroundcolor": "#E5ECF6",
            "gridcolor": "white",
            "gridwidth": 2,
            "linecolor": "white",
            "showbackground": true,
            "ticks": "",
            "zerolinecolor": "white"
           },
           "yaxis": {
            "backgroundcolor": "#E5ECF6",
            "gridcolor": "white",
            "gridwidth": 2,
            "linecolor": "white",
            "showbackground": true,
            "ticks": "",
            "zerolinecolor": "white"
           },
           "zaxis": {
            "backgroundcolor": "#E5ECF6",
            "gridcolor": "white",
            "gridwidth": 2,
            "linecolor": "white",
            "showbackground": true,
            "ticks": "",
            "zerolinecolor": "white"
           }
          },
          "shapedefaults": {
           "line": {
            "color": "#2a3f5f"
           }
          },
          "ternary": {
           "aaxis": {
            "gridcolor": "white",
            "linecolor": "white",
            "ticks": ""
           },
           "baxis": {
            "gridcolor": "white",
            "linecolor": "white",
            "ticks": ""
           },
           "bgcolor": "#E5ECF6",
           "caxis": {
            "gridcolor": "white",
            "linecolor": "white",
            "ticks": ""
           }
          },
          "title": {
           "x": 0.05
          },
          "xaxis": {
           "automargin": true,
           "gridcolor": "white",
           "linecolor": "white",
           "ticks": "",
           "title": {
            "standoff": 15
           },
           "zerolinecolor": "white",
           "zerolinewidth": 2
          },
          "yaxis": {
           "automargin": true,
           "gridcolor": "white",
           "linecolor": "white",
           "ticks": "",
           "title": {
            "standoff": 15
           },
           "zerolinecolor": "white",
           "zerolinewidth": 2
          }
         }
        },
        "title": {
         "text": "Z-scores for Twitter Generated Samples of 86775971"
        },
        "xaxis": {
         "title": {
          "text": "motif"
         }
        },
        "yaxis": {
         "title": {
          "text": "significance_profile"
         }
        }
       }
      }
     },
     "metadata": {},
     "output_type": "display_data"
    },
    {
     "name": "stdout",
     "output_type": "stream",
     "text": [
      "                  graph_name    motif  nodes   edges\n",
      "13                  86775971  motif_1  154.0  5811.0\n",
      "624    86775971_sample_rj_20  motif_1   29.0   450.0\n",
      "650   86775971_sample_bsf_20  motif_1   30.0   459.0\n",
      "754   86775971_sample_rpn_20  motif_1   23.0   198.0\n",
      "884    86775971_sample_rn_20  motif_1   27.0   196.0\n",
      "1313  86775971_sample_sff_20  motif_1   30.0   384.0\n"
     ]
    },
    {
     "data": {
      "application/vnd.plotly.v1+json": {
       "config": {
        "plotlyServerURL": "https://plot.ly"
       },
       "data": [
        {
         "mode": "lines+markers",
         "name": "86775971",
         "type": "scatter",
         "x": [
          "motif_1",
          "motif_2",
          "motif_3",
          "motif_4",
          "motif_5",
          "motif_6",
          "motif_7",
          "motif_8",
          "motif_9",
          "motif_10",
          "motif_11",
          "motif_12",
          "motif_13"
         ],
         "y": [
          -0.01127272102,
          0.002505407334,
          -0.03255079145,
          0.05855116005,
          0.04374423934,
          0.2103715769,
          -0.003768012758,
          -0.01841829973,
          0.09237081043,
          0.08282543017,
          -0.004250372455,
          0.1648520883,
          0.951981602
         ]
        },
        {
         "mode": "lines+markers",
         "name": "86775971_sample_bsf_10",
         "type": "scatter",
         "x": [
          "motif_1",
          "motif_2",
          "motif_3",
          "motif_4",
          "motif_5",
          "motif_6",
          "motif_7",
          "motif_8",
          "motif_9",
          "motif_10",
          "motif_11",
          "motif_12",
          "motif_13"
         ],
         "y": [
          -0.0501861879477388,
          -0.0113284736777699,
          -0.0570430838896154,
          0.1042078071574815,
          0.1981980706968691,
          0.3996493960500261,
          -0.0494277046748814,
          -0.0929229177682306,
          0.1459497181303343,
          0.2492591181760294,
          0.1304181996491891,
          0.7259644953654092,
          0.3817003622699256
         ]
        },
        {
         "mode": "lines+markers",
         "name": "86775971_sample_rj_10",
         "type": "scatter",
         "x": [
          "motif_1",
          "motif_2",
          "motif_3",
          "motif_4",
          "motif_5",
          "motif_6",
          "motif_7",
          "motif_8",
          "motif_9",
          "motif_10",
          "motif_11",
          "motif_12",
          "motif_13"
         ],
         "y": [
          -0.1103252423201273,
          -0.1513245303852892,
          -0.1301121971611907,
          -0.0009852919599389,
          0.0418315733800521,
          0.856078588001088,
          -0.076512588293185,
          -0.0797400455536618,
          0.1072126818374183,
          -0.0481154218912228,
          -0.0368779975885449,
          0.302783281277726,
          0.3071133947985966
         ]
        },
        {
         "mode": "lines+markers",
         "name": "86775971_sample_rpn_10",
         "type": "scatter",
         "x": [
          "motif_1",
          "motif_2",
          "motif_3",
          "motif_4",
          "motif_5",
          "motif_6",
          "motif_7",
          "motif_8",
          "motif_9",
          "motif_10",
          "motif_11",
          "motif_12",
          "motif_13"
         ],
         "y": [
          0.0173282659019229,
          0.0134140235975957,
          -0.061735830448859,
          0.1437724135769698,
          0.0775981365327836,
          0.2034469258495776,
          -0.0230587923468519,
          -0.0256497207927511,
          0.2214554260251885,
          0.0466883562266633,
          0.021400408895344,
          0.3857380417526194,
          0.8520341039614397
         ]
        },
        {
         "mode": "lines+markers",
         "name": "86775971_sample_rn_10",
         "type": "scatter",
         "x": [
          "motif_1",
          "motif_2",
          "motif_3",
          "motif_4",
          "motif_5",
          "motif_6",
          "motif_7",
          "motif_8",
          "motif_9",
          "motif_10",
          "motif_11",
          "motif_12",
          "motif_13"
         ],
         "y": [
          -0.0498571914993831,
          -0.0674489156589998,
          -0.0673443442470712,
          0.0253741785385449,
          -0.0113797185641821,
          0.599525215305627,
          -0.032151631625961,
          -0.0282963590212586,
          -0.0221974902789269,
          -0.0169562228936091,
          -0.0280855175379593,
          0.1227002614446999,
          0.780875796102198
         ]
        },
        {
         "mode": "lines+markers",
         "name": "86775971_sample_sff_10",
         "type": "scatter",
         "x": [
          "motif_1",
          "motif_2",
          "motif_3",
          "motif_4",
          "motif_5",
          "motif_6",
          "motif_7",
          "motif_8",
          "motif_9",
          "motif_10",
          "motif_11",
          "motif_12",
          "motif_13"
         ],
         "y": [
          -0.0076771872438558,
          0.0457936797705287,
          -0.0367650057700285,
          0.0797739062667673,
          0.0353599354245925,
          0.3007499423779255,
          -0.0034104231799491,
          -0.0140256334689606,
          0.1164672967182717,
          0.1449134628198976,
          -0.0076112441936273,
          0.1234816546073147,
          0.9210586640875206
         ]
        }
       ],
       "layout": {
        "template": {
         "data": {
          "bar": [
           {
            "error_x": {
             "color": "#2a3f5f"
            },
            "error_y": {
             "color": "#2a3f5f"
            },
            "marker": {
             "line": {
              "color": "#E5ECF6",
              "width": 0.5
             },
             "pattern": {
              "fillmode": "overlay",
              "size": 10,
              "solidity": 0.2
             }
            },
            "type": "bar"
           }
          ],
          "barpolar": [
           {
            "marker": {
             "line": {
              "color": "#E5ECF6",
              "width": 0.5
             },
             "pattern": {
              "fillmode": "overlay",
              "size": 10,
              "solidity": 0.2
             }
            },
            "type": "barpolar"
           }
          ],
          "carpet": [
           {
            "aaxis": {
             "endlinecolor": "#2a3f5f",
             "gridcolor": "white",
             "linecolor": "white",
             "minorgridcolor": "white",
             "startlinecolor": "#2a3f5f"
            },
            "baxis": {
             "endlinecolor": "#2a3f5f",
             "gridcolor": "white",
             "linecolor": "white",
             "minorgridcolor": "white",
             "startlinecolor": "#2a3f5f"
            },
            "type": "carpet"
           }
          ],
          "choropleth": [
           {
            "colorbar": {
             "outlinewidth": 0,
             "ticks": ""
            },
            "type": "choropleth"
           }
          ],
          "contour": [
           {
            "colorbar": {
             "outlinewidth": 0,
             "ticks": ""
            },
            "colorscale": [
             [
              0,
              "#0d0887"
             ],
             [
              0.1111111111111111,
              "#46039f"
             ],
             [
              0.2222222222222222,
              "#7201a8"
             ],
             [
              0.3333333333333333,
              "#9c179e"
             ],
             [
              0.4444444444444444,
              "#bd3786"
             ],
             [
              0.5555555555555556,
              "#d8576b"
             ],
             [
              0.6666666666666666,
              "#ed7953"
             ],
             [
              0.7777777777777778,
              "#fb9f3a"
             ],
             [
              0.8888888888888888,
              "#fdca26"
             ],
             [
              1,
              "#f0f921"
             ]
            ],
            "type": "contour"
           }
          ],
          "contourcarpet": [
           {
            "colorbar": {
             "outlinewidth": 0,
             "ticks": ""
            },
            "type": "contourcarpet"
           }
          ],
          "heatmap": [
           {
            "colorbar": {
             "outlinewidth": 0,
             "ticks": ""
            },
            "colorscale": [
             [
              0,
              "#0d0887"
             ],
             [
              0.1111111111111111,
              "#46039f"
             ],
             [
              0.2222222222222222,
              "#7201a8"
             ],
             [
              0.3333333333333333,
              "#9c179e"
             ],
             [
              0.4444444444444444,
              "#bd3786"
             ],
             [
              0.5555555555555556,
              "#d8576b"
             ],
             [
              0.6666666666666666,
              "#ed7953"
             ],
             [
              0.7777777777777778,
              "#fb9f3a"
             ],
             [
              0.8888888888888888,
              "#fdca26"
             ],
             [
              1,
              "#f0f921"
             ]
            ],
            "type": "heatmap"
           }
          ],
          "heatmapgl": [
           {
            "colorbar": {
             "outlinewidth": 0,
             "ticks": ""
            },
            "colorscale": [
             [
              0,
              "#0d0887"
             ],
             [
              0.1111111111111111,
              "#46039f"
             ],
             [
              0.2222222222222222,
              "#7201a8"
             ],
             [
              0.3333333333333333,
              "#9c179e"
             ],
             [
              0.4444444444444444,
              "#bd3786"
             ],
             [
              0.5555555555555556,
              "#d8576b"
             ],
             [
              0.6666666666666666,
              "#ed7953"
             ],
             [
              0.7777777777777778,
              "#fb9f3a"
             ],
             [
              0.8888888888888888,
              "#fdca26"
             ],
             [
              1,
              "#f0f921"
             ]
            ],
            "type": "heatmapgl"
           }
          ],
          "histogram": [
           {
            "marker": {
             "pattern": {
              "fillmode": "overlay",
              "size": 10,
              "solidity": 0.2
             }
            },
            "type": "histogram"
           }
          ],
          "histogram2d": [
           {
            "colorbar": {
             "outlinewidth": 0,
             "ticks": ""
            },
            "colorscale": [
             [
              0,
              "#0d0887"
             ],
             [
              0.1111111111111111,
              "#46039f"
             ],
             [
              0.2222222222222222,
              "#7201a8"
             ],
             [
              0.3333333333333333,
              "#9c179e"
             ],
             [
              0.4444444444444444,
              "#bd3786"
             ],
             [
              0.5555555555555556,
              "#d8576b"
             ],
             [
              0.6666666666666666,
              "#ed7953"
             ],
             [
              0.7777777777777778,
              "#fb9f3a"
             ],
             [
              0.8888888888888888,
              "#fdca26"
             ],
             [
              1,
              "#f0f921"
             ]
            ],
            "type": "histogram2d"
           }
          ],
          "histogram2dcontour": [
           {
            "colorbar": {
             "outlinewidth": 0,
             "ticks": ""
            },
            "colorscale": [
             [
              0,
              "#0d0887"
             ],
             [
              0.1111111111111111,
              "#46039f"
             ],
             [
              0.2222222222222222,
              "#7201a8"
             ],
             [
              0.3333333333333333,
              "#9c179e"
             ],
             [
              0.4444444444444444,
              "#bd3786"
             ],
             [
              0.5555555555555556,
              "#d8576b"
             ],
             [
              0.6666666666666666,
              "#ed7953"
             ],
             [
              0.7777777777777778,
              "#fb9f3a"
             ],
             [
              0.8888888888888888,
              "#fdca26"
             ],
             [
              1,
              "#f0f921"
             ]
            ],
            "type": "histogram2dcontour"
           }
          ],
          "mesh3d": [
           {
            "colorbar": {
             "outlinewidth": 0,
             "ticks": ""
            },
            "type": "mesh3d"
           }
          ],
          "parcoords": [
           {
            "line": {
             "colorbar": {
              "outlinewidth": 0,
              "ticks": ""
             }
            },
            "type": "parcoords"
           }
          ],
          "pie": [
           {
            "automargin": true,
            "type": "pie"
           }
          ],
          "scatter": [
           {
            "fillpattern": {
             "fillmode": "overlay",
             "size": 10,
             "solidity": 0.2
            },
            "type": "scatter"
           }
          ],
          "scatter3d": [
           {
            "line": {
             "colorbar": {
              "outlinewidth": 0,
              "ticks": ""
             }
            },
            "marker": {
             "colorbar": {
              "outlinewidth": 0,
              "ticks": ""
             }
            },
            "type": "scatter3d"
           }
          ],
          "scattercarpet": [
           {
            "marker": {
             "colorbar": {
              "outlinewidth": 0,
              "ticks": ""
             }
            },
            "type": "scattercarpet"
           }
          ],
          "scattergeo": [
           {
            "marker": {
             "colorbar": {
              "outlinewidth": 0,
              "ticks": ""
             }
            },
            "type": "scattergeo"
           }
          ],
          "scattergl": [
           {
            "marker": {
             "colorbar": {
              "outlinewidth": 0,
              "ticks": ""
             }
            },
            "type": "scattergl"
           }
          ],
          "scattermapbox": [
           {
            "marker": {
             "colorbar": {
              "outlinewidth": 0,
              "ticks": ""
             }
            },
            "type": "scattermapbox"
           }
          ],
          "scatterpolar": [
           {
            "marker": {
             "colorbar": {
              "outlinewidth": 0,
              "ticks": ""
             }
            },
            "type": "scatterpolar"
           }
          ],
          "scatterpolargl": [
           {
            "marker": {
             "colorbar": {
              "outlinewidth": 0,
              "ticks": ""
             }
            },
            "type": "scatterpolargl"
           }
          ],
          "scatterternary": [
           {
            "marker": {
             "colorbar": {
              "outlinewidth": 0,
              "ticks": ""
             }
            },
            "type": "scatterternary"
           }
          ],
          "surface": [
           {
            "colorbar": {
             "outlinewidth": 0,
             "ticks": ""
            },
            "colorscale": [
             [
              0,
              "#0d0887"
             ],
             [
              0.1111111111111111,
              "#46039f"
             ],
             [
              0.2222222222222222,
              "#7201a8"
             ],
             [
              0.3333333333333333,
              "#9c179e"
             ],
             [
              0.4444444444444444,
              "#bd3786"
             ],
             [
              0.5555555555555556,
              "#d8576b"
             ],
             [
              0.6666666666666666,
              "#ed7953"
             ],
             [
              0.7777777777777778,
              "#fb9f3a"
             ],
             [
              0.8888888888888888,
              "#fdca26"
             ],
             [
              1,
              "#f0f921"
             ]
            ],
            "type": "surface"
           }
          ],
          "table": [
           {
            "cells": {
             "fill": {
              "color": "#EBF0F8"
             },
             "line": {
              "color": "white"
             }
            },
            "header": {
             "fill": {
              "color": "#C8D4E3"
             },
             "line": {
              "color": "white"
             }
            },
            "type": "table"
           }
          ]
         },
         "layout": {
          "annotationdefaults": {
           "arrowcolor": "#2a3f5f",
           "arrowhead": 0,
           "arrowwidth": 1
          },
          "autotypenumbers": "strict",
          "coloraxis": {
           "colorbar": {
            "outlinewidth": 0,
            "ticks": ""
           }
          },
          "colorscale": {
           "diverging": [
            [
             0,
             "#8e0152"
            ],
            [
             0.1,
             "#c51b7d"
            ],
            [
             0.2,
             "#de77ae"
            ],
            [
             0.3,
             "#f1b6da"
            ],
            [
             0.4,
             "#fde0ef"
            ],
            [
             0.5,
             "#f7f7f7"
            ],
            [
             0.6,
             "#e6f5d0"
            ],
            [
             0.7,
             "#b8e186"
            ],
            [
             0.8,
             "#7fbc41"
            ],
            [
             0.9,
             "#4d9221"
            ],
            [
             1,
             "#276419"
            ]
           ],
           "sequential": [
            [
             0,
             "#0d0887"
            ],
            [
             0.1111111111111111,
             "#46039f"
            ],
            [
             0.2222222222222222,
             "#7201a8"
            ],
            [
             0.3333333333333333,
             "#9c179e"
            ],
            [
             0.4444444444444444,
             "#bd3786"
            ],
            [
             0.5555555555555556,
             "#d8576b"
            ],
            [
             0.6666666666666666,
             "#ed7953"
            ],
            [
             0.7777777777777778,
             "#fb9f3a"
            ],
            [
             0.8888888888888888,
             "#fdca26"
            ],
            [
             1,
             "#f0f921"
            ]
           ],
           "sequentialminus": [
            [
             0,
             "#0d0887"
            ],
            [
             0.1111111111111111,
             "#46039f"
            ],
            [
             0.2222222222222222,
             "#7201a8"
            ],
            [
             0.3333333333333333,
             "#9c179e"
            ],
            [
             0.4444444444444444,
             "#bd3786"
            ],
            [
             0.5555555555555556,
             "#d8576b"
            ],
            [
             0.6666666666666666,
             "#ed7953"
            ],
            [
             0.7777777777777778,
             "#fb9f3a"
            ],
            [
             0.8888888888888888,
             "#fdca26"
            ],
            [
             1,
             "#f0f921"
            ]
           ]
          },
          "colorway": [
           "#636efa",
           "#EF553B",
           "#00cc96",
           "#ab63fa",
           "#FFA15A",
           "#19d3f3",
           "#FF6692",
           "#B6E880",
           "#FF97FF",
           "#FECB52"
          ],
          "font": {
           "color": "#2a3f5f"
          },
          "geo": {
           "bgcolor": "white",
           "lakecolor": "white",
           "landcolor": "#E5ECF6",
           "showlakes": true,
           "showland": true,
           "subunitcolor": "white"
          },
          "hoverlabel": {
           "align": "left"
          },
          "hovermode": "closest",
          "mapbox": {
           "style": "light"
          },
          "paper_bgcolor": "white",
          "plot_bgcolor": "#E5ECF6",
          "polar": {
           "angularaxis": {
            "gridcolor": "white",
            "linecolor": "white",
            "ticks": ""
           },
           "bgcolor": "#E5ECF6",
           "radialaxis": {
            "gridcolor": "white",
            "linecolor": "white",
            "ticks": ""
           }
          },
          "scene": {
           "xaxis": {
            "backgroundcolor": "#E5ECF6",
            "gridcolor": "white",
            "gridwidth": 2,
            "linecolor": "white",
            "showbackground": true,
            "ticks": "",
            "zerolinecolor": "white"
           },
           "yaxis": {
            "backgroundcolor": "#E5ECF6",
            "gridcolor": "white",
            "gridwidth": 2,
            "linecolor": "white",
            "showbackground": true,
            "ticks": "",
            "zerolinecolor": "white"
           },
           "zaxis": {
            "backgroundcolor": "#E5ECF6",
            "gridcolor": "white",
            "gridwidth": 2,
            "linecolor": "white",
            "showbackground": true,
            "ticks": "",
            "zerolinecolor": "white"
           }
          },
          "shapedefaults": {
           "line": {
            "color": "#2a3f5f"
           }
          },
          "ternary": {
           "aaxis": {
            "gridcolor": "white",
            "linecolor": "white",
            "ticks": ""
           },
           "baxis": {
            "gridcolor": "white",
            "linecolor": "white",
            "ticks": ""
           },
           "bgcolor": "#E5ECF6",
           "caxis": {
            "gridcolor": "white",
            "linecolor": "white",
            "ticks": ""
           }
          },
          "title": {
           "x": 0.05
          },
          "xaxis": {
           "automargin": true,
           "gridcolor": "white",
           "linecolor": "white",
           "ticks": "",
           "title": {
            "standoff": 15
           },
           "zerolinecolor": "white",
           "zerolinewidth": 2
          },
          "yaxis": {
           "automargin": true,
           "gridcolor": "white",
           "linecolor": "white",
           "ticks": "",
           "title": {
            "standoff": 15
           },
           "zerolinecolor": "white",
           "zerolinewidth": 2
          }
         }
        },
        "title": {
         "text": "Z-scores for Twitter Generated Samples of 86775971"
        },
        "xaxis": {
         "title": {
          "text": "motif"
         }
        },
        "yaxis": {
         "title": {
          "text": "significance_profile"
         }
        }
       }
      }
     },
     "metadata": {},
     "output_type": "display_data"
    },
    {
     "name": "stdout",
     "output_type": "stream",
     "text": [
      "                  graph_name    motif  nodes   edges\n",
      "13                  86775971  motif_1  154.0  5811.0\n",
      "299   86775971_sample_bsf_10  motif_1   15.0    55.0\n",
      "403    86775971_sample_rj_10  motif_1   15.0    55.0\n",
      "572   86775971_sample_rpn_10  motif_1   14.0    67.0\n",
      "1001   86775971_sample_rn_10  motif_1   14.0    51.0\n",
      "1144  86775971_sample_sff_10  motif_1   15.0    99.0\n"
     ]
    }
   ],
   "source": [
    "sample_percents = [\"40\", \"30\", \"20\", \"10\"]\n",
    "\n",
    "selected_graph = \"86775971\"\n",
    "\n",
    "for sp in sample_percents:\n",
    "    # Query data\n",
    "    query_df = motif_twitter.query(\n",
    "        \"graph_name == @selected_graph or (graph_name.str.startswith(@selected_graph) and graph_name.str.endswith(@sp))\",\n",
    "    )\n",
    "\n",
    "    plot_line_chart(\n",
    "        query_df,\n",
    "        f\"Z-scores for Twitter Generated Samples of {selected_graph}\",\n",
    "        \"motif\",\n",
    "        \"significance_profile\",\n",
    "    )\n",
    "\n",
    "    print(\n",
    "        query_df[[\"graph_name\", \"motif\", \"nodes\", \"edges\"]].query(\"motif == 'motif_1'\")\n",
    "    )"
   ]
  },
  {
   "cell_type": "code",
   "execution_count": 10,
   "metadata": {},
   "outputs": [
    {
     "data": {
      "application/vnd.plotly.v1+json": {
       "config": {
        "plotlyServerURL": "https://plot.ly"
       },
       "data": [
        {
         "mode": "lines+markers",
         "name": "14203895",
         "type": "scatter",
         "x": [
          "motif_1",
          "motif_2",
          "motif_3",
          "motif_4",
          "motif_5",
          "motif_6",
          "motif_7",
          "motif_8",
          "motif_9",
          "motif_10",
          "motif_11",
          "motif_12",
          "motif_13"
         ],
         "y": [
          -0.018085471,
          -0.01509572111,
          -0.02941143117,
          0.04794985146,
          0.03858361568,
          0.2168792039,
          -0.01028319564,
          -0.01371900069,
          0.06985642939,
          0.0566461545,
          -0.002038456747,
          0.189454505,
          0.9505133889
         ]
        },
        {
         "mode": "lines+markers",
         "name": "14203895_sample_bsf_40",
         "type": "scatter",
         "x": [
          "motif_1",
          "motif_2",
          "motif_3",
          "motif_4",
          "motif_5",
          "motif_6",
          "motif_7",
          "motif_8",
          "motif_9",
          "motif_10",
          "motif_11",
          "motif_12",
          "motif_13"
         ],
         "y": [
          -0.0103757398220658,
          -0.0070607203596534,
          -0.0204169857752678,
          0.0305027158242159,
          0.0431409546228729,
          0.1786582756427539,
          -0.0089359426562752,
          -0.0146182320291549,
          0.0559025775402509,
          0.0505530334713374,
          -0.0035387540611456,
          0.1208365857121399,
          0.9716620016623309
         ]
        },
        {
         "mode": "lines+markers",
         "name": "14203895_sample_rn_40",
         "type": "scatter",
         "x": [
          "motif_1",
          "motif_2",
          "motif_3",
          "motif_4",
          "motif_5",
          "motif_6",
          "motif_7",
          "motif_8",
          "motif_9",
          "motif_10",
          "motif_11",
          "motif_12",
          "motif_13"
         ],
         "y": [
          -0.0244198464017249,
          -0.0205028885533626,
          -0.0411738192133111,
          0.0704277543716203,
          0.0517300946841174,
          0.2739075842318095,
          -0.0192662552957673,
          -0.0245203113584574,
          0.0425726204065013,
          0.076270011223761,
          -0.0073080398007121,
          0.19323473787612,
          0.9320040423958168
         ]
        },
        {
         "mode": "lines+markers",
         "name": "14203895_sample_rj_40",
         "type": "scatter",
         "x": [
          "motif_1",
          "motif_2",
          "motif_3",
          "motif_4",
          "motif_5",
          "motif_6",
          "motif_7",
          "motif_8",
          "motif_9",
          "motif_10",
          "motif_11",
          "motif_12",
          "motif_13"
         ],
         "y": [
          -0.021086118311232,
          -0.0151906569476093,
          -0.0377278343303841,
          0.0434823531831633,
          0.0533595035550425,
          0.2027538436695057,
          -0.0177940385357004,
          -0.0202418523265673,
          0.0513078276960981,
          0.0571159734108825,
          -0.0043326304520265,
          0.1571898032426683,
          0.9595340866104608
         ]
        },
        {
         "mode": "lines+markers",
         "name": "14203895_sample_rpn_40",
         "type": "scatter",
         "x": [
          "motif_1",
          "motif_2",
          "motif_3",
          "motif_4",
          "motif_5",
          "motif_6",
          "motif_7",
          "motif_8",
          "motif_9",
          "motif_10",
          "motif_11",
          "motif_12",
          "motif_13"
         ],
         "y": [
          -0.0255188616654274,
          -0.0214852598537919,
          -0.0449435172797216,
          0.0371906780327564,
          0.0464615946471362,
          0.2681105833097533,
          -0.0187963195326796,
          -0.0249959300399836,
          0.0635630497486101,
          0.0487590014955731,
          -0.0093418145752609,
          0.194830417576677,
          0.935948812484458
         ]
        },
        {
         "mode": "lines+markers",
         "name": "14203895_sample_sff_40",
         "type": "scatter",
         "x": [
          "motif_1",
          "motif_2",
          "motif_3",
          "motif_4",
          "motif_5",
          "motif_6",
          "motif_7",
          "motif_8",
          "motif_9",
          "motif_10",
          "motif_11",
          "motif_12",
          "motif_13"
         ],
         "y": [
          -0.0206433816921075,
          -0.0087495674479932,
          -0.0386777975674202,
          0.0638443294688349,
          0.0563010506633741,
          0.2339886019871959,
          -0.0122917821100744,
          -0.0289582526771245,
          0.0940186781642701,
          0.0894155940011657,
          0.0007583850150925,
          0.2619468928762817,
          0.9217177837227686
         ]
        }
       ],
       "layout": {
        "template": {
         "data": {
          "bar": [
           {
            "error_x": {
             "color": "#2a3f5f"
            },
            "error_y": {
             "color": "#2a3f5f"
            },
            "marker": {
             "line": {
              "color": "#E5ECF6",
              "width": 0.5
             },
             "pattern": {
              "fillmode": "overlay",
              "size": 10,
              "solidity": 0.2
             }
            },
            "type": "bar"
           }
          ],
          "barpolar": [
           {
            "marker": {
             "line": {
              "color": "#E5ECF6",
              "width": 0.5
             },
             "pattern": {
              "fillmode": "overlay",
              "size": 10,
              "solidity": 0.2
             }
            },
            "type": "barpolar"
           }
          ],
          "carpet": [
           {
            "aaxis": {
             "endlinecolor": "#2a3f5f",
             "gridcolor": "white",
             "linecolor": "white",
             "minorgridcolor": "white",
             "startlinecolor": "#2a3f5f"
            },
            "baxis": {
             "endlinecolor": "#2a3f5f",
             "gridcolor": "white",
             "linecolor": "white",
             "minorgridcolor": "white",
             "startlinecolor": "#2a3f5f"
            },
            "type": "carpet"
           }
          ],
          "choropleth": [
           {
            "colorbar": {
             "outlinewidth": 0,
             "ticks": ""
            },
            "type": "choropleth"
           }
          ],
          "contour": [
           {
            "colorbar": {
             "outlinewidth": 0,
             "ticks": ""
            },
            "colorscale": [
             [
              0,
              "#0d0887"
             ],
             [
              0.1111111111111111,
              "#46039f"
             ],
             [
              0.2222222222222222,
              "#7201a8"
             ],
             [
              0.3333333333333333,
              "#9c179e"
             ],
             [
              0.4444444444444444,
              "#bd3786"
             ],
             [
              0.5555555555555556,
              "#d8576b"
             ],
             [
              0.6666666666666666,
              "#ed7953"
             ],
             [
              0.7777777777777778,
              "#fb9f3a"
             ],
             [
              0.8888888888888888,
              "#fdca26"
             ],
             [
              1,
              "#f0f921"
             ]
            ],
            "type": "contour"
           }
          ],
          "contourcarpet": [
           {
            "colorbar": {
             "outlinewidth": 0,
             "ticks": ""
            },
            "type": "contourcarpet"
           }
          ],
          "heatmap": [
           {
            "colorbar": {
             "outlinewidth": 0,
             "ticks": ""
            },
            "colorscale": [
             [
              0,
              "#0d0887"
             ],
             [
              0.1111111111111111,
              "#46039f"
             ],
             [
              0.2222222222222222,
              "#7201a8"
             ],
             [
              0.3333333333333333,
              "#9c179e"
             ],
             [
              0.4444444444444444,
              "#bd3786"
             ],
             [
              0.5555555555555556,
              "#d8576b"
             ],
             [
              0.6666666666666666,
              "#ed7953"
             ],
             [
              0.7777777777777778,
              "#fb9f3a"
             ],
             [
              0.8888888888888888,
              "#fdca26"
             ],
             [
              1,
              "#f0f921"
             ]
            ],
            "type": "heatmap"
           }
          ],
          "heatmapgl": [
           {
            "colorbar": {
             "outlinewidth": 0,
             "ticks": ""
            },
            "colorscale": [
             [
              0,
              "#0d0887"
             ],
             [
              0.1111111111111111,
              "#46039f"
             ],
             [
              0.2222222222222222,
              "#7201a8"
             ],
             [
              0.3333333333333333,
              "#9c179e"
             ],
             [
              0.4444444444444444,
              "#bd3786"
             ],
             [
              0.5555555555555556,
              "#d8576b"
             ],
             [
              0.6666666666666666,
              "#ed7953"
             ],
             [
              0.7777777777777778,
              "#fb9f3a"
             ],
             [
              0.8888888888888888,
              "#fdca26"
             ],
             [
              1,
              "#f0f921"
             ]
            ],
            "type": "heatmapgl"
           }
          ],
          "histogram": [
           {
            "marker": {
             "pattern": {
              "fillmode": "overlay",
              "size": 10,
              "solidity": 0.2
             }
            },
            "type": "histogram"
           }
          ],
          "histogram2d": [
           {
            "colorbar": {
             "outlinewidth": 0,
             "ticks": ""
            },
            "colorscale": [
             [
              0,
              "#0d0887"
             ],
             [
              0.1111111111111111,
              "#46039f"
             ],
             [
              0.2222222222222222,
              "#7201a8"
             ],
             [
              0.3333333333333333,
              "#9c179e"
             ],
             [
              0.4444444444444444,
              "#bd3786"
             ],
             [
              0.5555555555555556,
              "#d8576b"
             ],
             [
              0.6666666666666666,
              "#ed7953"
             ],
             [
              0.7777777777777778,
              "#fb9f3a"
             ],
             [
              0.8888888888888888,
              "#fdca26"
             ],
             [
              1,
              "#f0f921"
             ]
            ],
            "type": "histogram2d"
           }
          ],
          "histogram2dcontour": [
           {
            "colorbar": {
             "outlinewidth": 0,
             "ticks": ""
            },
            "colorscale": [
             [
              0,
              "#0d0887"
             ],
             [
              0.1111111111111111,
              "#46039f"
             ],
             [
              0.2222222222222222,
              "#7201a8"
             ],
             [
              0.3333333333333333,
              "#9c179e"
             ],
             [
              0.4444444444444444,
              "#bd3786"
             ],
             [
              0.5555555555555556,
              "#d8576b"
             ],
             [
              0.6666666666666666,
              "#ed7953"
             ],
             [
              0.7777777777777778,
              "#fb9f3a"
             ],
             [
              0.8888888888888888,
              "#fdca26"
             ],
             [
              1,
              "#f0f921"
             ]
            ],
            "type": "histogram2dcontour"
           }
          ],
          "mesh3d": [
           {
            "colorbar": {
             "outlinewidth": 0,
             "ticks": ""
            },
            "type": "mesh3d"
           }
          ],
          "parcoords": [
           {
            "line": {
             "colorbar": {
              "outlinewidth": 0,
              "ticks": ""
             }
            },
            "type": "parcoords"
           }
          ],
          "pie": [
           {
            "automargin": true,
            "type": "pie"
           }
          ],
          "scatter": [
           {
            "fillpattern": {
             "fillmode": "overlay",
             "size": 10,
             "solidity": 0.2
            },
            "type": "scatter"
           }
          ],
          "scatter3d": [
           {
            "line": {
             "colorbar": {
              "outlinewidth": 0,
              "ticks": ""
             }
            },
            "marker": {
             "colorbar": {
              "outlinewidth": 0,
              "ticks": ""
             }
            },
            "type": "scatter3d"
           }
          ],
          "scattercarpet": [
           {
            "marker": {
             "colorbar": {
              "outlinewidth": 0,
              "ticks": ""
             }
            },
            "type": "scattercarpet"
           }
          ],
          "scattergeo": [
           {
            "marker": {
             "colorbar": {
              "outlinewidth": 0,
              "ticks": ""
             }
            },
            "type": "scattergeo"
           }
          ],
          "scattergl": [
           {
            "marker": {
             "colorbar": {
              "outlinewidth": 0,
              "ticks": ""
             }
            },
            "type": "scattergl"
           }
          ],
          "scattermapbox": [
           {
            "marker": {
             "colorbar": {
              "outlinewidth": 0,
              "ticks": ""
             }
            },
            "type": "scattermapbox"
           }
          ],
          "scatterpolar": [
           {
            "marker": {
             "colorbar": {
              "outlinewidth": 0,
              "ticks": ""
             }
            },
            "type": "scatterpolar"
           }
          ],
          "scatterpolargl": [
           {
            "marker": {
             "colorbar": {
              "outlinewidth": 0,
              "ticks": ""
             }
            },
            "type": "scatterpolargl"
           }
          ],
          "scatterternary": [
           {
            "marker": {
             "colorbar": {
              "outlinewidth": 0,
              "ticks": ""
             }
            },
            "type": "scatterternary"
           }
          ],
          "surface": [
           {
            "colorbar": {
             "outlinewidth": 0,
             "ticks": ""
            },
            "colorscale": [
             [
              0,
              "#0d0887"
             ],
             [
              0.1111111111111111,
              "#46039f"
             ],
             [
              0.2222222222222222,
              "#7201a8"
             ],
             [
              0.3333333333333333,
              "#9c179e"
             ],
             [
              0.4444444444444444,
              "#bd3786"
             ],
             [
              0.5555555555555556,
              "#d8576b"
             ],
             [
              0.6666666666666666,
              "#ed7953"
             ],
             [
              0.7777777777777778,
              "#fb9f3a"
             ],
             [
              0.8888888888888888,
              "#fdca26"
             ],
             [
              1,
              "#f0f921"
             ]
            ],
            "type": "surface"
           }
          ],
          "table": [
           {
            "cells": {
             "fill": {
              "color": "#EBF0F8"
             },
             "line": {
              "color": "white"
             }
            },
            "header": {
             "fill": {
              "color": "#C8D4E3"
             },
             "line": {
              "color": "white"
             }
            },
            "type": "table"
           }
          ]
         },
         "layout": {
          "annotationdefaults": {
           "arrowcolor": "#2a3f5f",
           "arrowhead": 0,
           "arrowwidth": 1
          },
          "autotypenumbers": "strict",
          "coloraxis": {
           "colorbar": {
            "outlinewidth": 0,
            "ticks": ""
           }
          },
          "colorscale": {
           "diverging": [
            [
             0,
             "#8e0152"
            ],
            [
             0.1,
             "#c51b7d"
            ],
            [
             0.2,
             "#de77ae"
            ],
            [
             0.3,
             "#f1b6da"
            ],
            [
             0.4,
             "#fde0ef"
            ],
            [
             0.5,
             "#f7f7f7"
            ],
            [
             0.6,
             "#e6f5d0"
            ],
            [
             0.7,
             "#b8e186"
            ],
            [
             0.8,
             "#7fbc41"
            ],
            [
             0.9,
             "#4d9221"
            ],
            [
             1,
             "#276419"
            ]
           ],
           "sequential": [
            [
             0,
             "#0d0887"
            ],
            [
             0.1111111111111111,
             "#46039f"
            ],
            [
             0.2222222222222222,
             "#7201a8"
            ],
            [
             0.3333333333333333,
             "#9c179e"
            ],
            [
             0.4444444444444444,
             "#bd3786"
            ],
            [
             0.5555555555555556,
             "#d8576b"
            ],
            [
             0.6666666666666666,
             "#ed7953"
            ],
            [
             0.7777777777777778,
             "#fb9f3a"
            ],
            [
             0.8888888888888888,
             "#fdca26"
            ],
            [
             1,
             "#f0f921"
            ]
           ],
           "sequentialminus": [
            [
             0,
             "#0d0887"
            ],
            [
             0.1111111111111111,
             "#46039f"
            ],
            [
             0.2222222222222222,
             "#7201a8"
            ],
            [
             0.3333333333333333,
             "#9c179e"
            ],
            [
             0.4444444444444444,
             "#bd3786"
            ],
            [
             0.5555555555555556,
             "#d8576b"
            ],
            [
             0.6666666666666666,
             "#ed7953"
            ],
            [
             0.7777777777777778,
             "#fb9f3a"
            ],
            [
             0.8888888888888888,
             "#fdca26"
            ],
            [
             1,
             "#f0f921"
            ]
           ]
          },
          "colorway": [
           "#636efa",
           "#EF553B",
           "#00cc96",
           "#ab63fa",
           "#FFA15A",
           "#19d3f3",
           "#FF6692",
           "#B6E880",
           "#FF97FF",
           "#FECB52"
          ],
          "font": {
           "color": "#2a3f5f"
          },
          "geo": {
           "bgcolor": "white",
           "lakecolor": "white",
           "landcolor": "#E5ECF6",
           "showlakes": true,
           "showland": true,
           "subunitcolor": "white"
          },
          "hoverlabel": {
           "align": "left"
          },
          "hovermode": "closest",
          "mapbox": {
           "style": "light"
          },
          "paper_bgcolor": "white",
          "plot_bgcolor": "#E5ECF6",
          "polar": {
           "angularaxis": {
            "gridcolor": "white",
            "linecolor": "white",
            "ticks": ""
           },
           "bgcolor": "#E5ECF6",
           "radialaxis": {
            "gridcolor": "white",
            "linecolor": "white",
            "ticks": ""
           }
          },
          "scene": {
           "xaxis": {
            "backgroundcolor": "#E5ECF6",
            "gridcolor": "white",
            "gridwidth": 2,
            "linecolor": "white",
            "showbackground": true,
            "ticks": "",
            "zerolinecolor": "white"
           },
           "yaxis": {
            "backgroundcolor": "#E5ECF6",
            "gridcolor": "white",
            "gridwidth": 2,
            "linecolor": "white",
            "showbackground": true,
            "ticks": "",
            "zerolinecolor": "white"
           },
           "zaxis": {
            "backgroundcolor": "#E5ECF6",
            "gridcolor": "white",
            "gridwidth": 2,
            "linecolor": "white",
            "showbackground": true,
            "ticks": "",
            "zerolinecolor": "white"
           }
          },
          "shapedefaults": {
           "line": {
            "color": "#2a3f5f"
           }
          },
          "ternary": {
           "aaxis": {
            "gridcolor": "white",
            "linecolor": "white",
            "ticks": ""
           },
           "baxis": {
            "gridcolor": "white",
            "linecolor": "white",
            "ticks": ""
           },
           "bgcolor": "#E5ECF6",
           "caxis": {
            "gridcolor": "white",
            "linecolor": "white",
            "ticks": ""
           }
          },
          "title": {
           "x": 0.05
          },
          "xaxis": {
           "automargin": true,
           "gridcolor": "white",
           "linecolor": "white",
           "ticks": "",
           "title": {
            "standoff": 15
           },
           "zerolinecolor": "white",
           "zerolinewidth": 2
          },
          "yaxis": {
           "automargin": true,
           "gridcolor": "white",
           "linecolor": "white",
           "ticks": "",
           "title": {
            "standoff": 15
           },
           "zerolinecolor": "white",
           "zerolinewidth": 2
          }
         }
        },
        "title": {
         "text": "Z-scores for Twitter Generated Samples of 14203895"
        },
        "xaxis": {
         "title": {
          "text": "motif"
         }
        },
        "yaxis": {
         "title": {
          "text": "significance_profile"
         }
        }
       }
      }
     },
     "metadata": {},
     "output_type": "display_data"
    },
    {
     "name": "stdout",
     "output_type": "stream",
     "text": [
      "                  graph_name    motif  nodes   edges\n",
      "52                  14203895  motif_1  215.0  3640.0\n",
      "65    14203895_sample_bsf_40  motif_1   86.0  2017.0\n",
      "78     14203895_sample_rn_40  motif_1   80.0   400.0\n",
      "676    14203895_sample_rj_40  motif_1   86.0  1528.0\n",
      "936   14203895_sample_rpn_40  motif_1   59.0   618.0\n",
      "1248  14203895_sample_sff_40  motif_1   86.0  1491.0\n"
     ]
    },
    {
     "data": {
      "application/vnd.plotly.v1+json": {
       "config": {
        "plotlyServerURL": "https://plot.ly"
       },
       "data": [
        {
         "mode": "lines+markers",
         "name": "14203895",
         "type": "scatter",
         "x": [
          "motif_1",
          "motif_2",
          "motif_3",
          "motif_4",
          "motif_5",
          "motif_6",
          "motif_7",
          "motif_8",
          "motif_9",
          "motif_10",
          "motif_11",
          "motif_12",
          "motif_13"
         ],
         "y": [
          -0.018085471,
          -0.01509572111,
          -0.02941143117,
          0.04794985146,
          0.03858361568,
          0.2168792039,
          -0.01028319564,
          -0.01371900069,
          0.06985642939,
          0.0566461545,
          -0.002038456747,
          0.189454505,
          0.9505133889
         ]
        },
        {
         "mode": "lines+markers",
         "name": "14203895_sample_rn_30",
         "type": "scatter",
         "x": [
          "motif_1",
          "motif_2",
          "motif_3",
          "motif_4",
          "motif_5",
          "motif_6",
          "motif_7",
          "motif_8",
          "motif_9",
          "motif_10",
          "motif_11",
          "motif_12",
          "motif_13"
         ],
         "y": [
          -0.0335616577080936,
          -0.0220565007123353,
          -0.0415268709617463,
          0.0230015760887408,
          0.0178899028847854,
          0.2587308594251314,
          -0.013573561423217,
          -0.0176305372587411,
          0.0291535384454769,
          0.028153659424213,
          -0.0082616903866619,
          0.1045103168342368,
          0.9569449145798476
         ]
        },
        {
         "mode": "lines+markers",
         "name": "14203895_sample_rj_30",
         "type": "scatter",
         "x": [
          "motif_1",
          "motif_2",
          "motif_3",
          "motif_4",
          "motif_5",
          "motif_6",
          "motif_7",
          "motif_8",
          "motif_9",
          "motif_10",
          "motif_11",
          "motif_12",
          "motif_13"
         ],
         "y": [
          -0.0140677552187043,
          -0.0094415106474274,
          -0.027034762031352,
          0.0516817390906615,
          0.0381233192412815,
          0.1917070365280798,
          -0.0098526835231242,
          -0.0162452604712314,
          0.1022143245724117,
          0.0687633210473001,
          -0.0023945672166117,
          0.1858896043151485,
          0.9528946820229884
         ]
        },
        {
         "mode": "lines+markers",
         "name": "14203895_sample_bsf_30",
         "type": "scatter",
         "x": [
          "motif_1",
          "motif_2",
          "motif_3",
          "motif_4",
          "motif_5",
          "motif_6",
          "motif_7",
          "motif_8",
          "motif_9",
          "motif_10",
          "motif_11",
          "motif_12",
          "motif_13"
         ],
         "y": [
          -0.0164560219366248,
          -0.0183256834155038,
          -0.0394383155120235,
          0.0382847282484182,
          0.077188985454801,
          0.2661107498737678,
          -0.0217275639547741,
          -0.0280945630930371,
          0.0440543286404477,
          0.0790262673561266,
          -0.010417071032978,
          0.1980722174117407,
          0.9331724127157126
         ]
        },
        {
         "mode": "lines+markers",
         "name": "14203895_sample_rpn_30",
         "type": "scatter",
         "x": [
          "motif_1",
          "motif_2",
          "motif_3",
          "motif_4",
          "motif_5",
          "motif_6",
          "motif_7",
          "motif_8",
          "motif_9",
          "motif_10",
          "motif_11",
          "motif_12",
          "motif_13"
         ],
         "y": [
          -0.0169095454839698,
          -0.0129062876022391,
          -0.0509135666036223,
          0.0578722621851972,
          0.0749726561759419,
          0.2780832811178602,
          -0.0196118736503168,
          -0.0194311748220417,
          0.0823543581202205,
          0.0692299236404223,
          -0.0122264171999598,
          0.1731316396496887,
          0.931769084005656
         ]
        },
        {
         "mode": "lines+markers",
         "name": "14203895_sample_sff_30",
         "type": "scatter",
         "x": [
          "motif_1",
          "motif_2",
          "motif_3",
          "motif_4",
          "motif_5",
          "motif_6",
          "motif_7",
          "motif_8",
          "motif_9",
          "motif_10",
          "motif_11",
          "motif_12",
          "motif_13"
         ],
         "y": [
          -0.0181839703839875,
          -0.00008251432715070017,
          -0.0281061371013266,
          0.045143372107982,
          0.0416682485489948,
          0.2279607027467305,
          -0.0110206605824646,
          -0.0217775156404334,
          0.0635064877592434,
          0.0675512834745646,
          -0.0051240353054009,
          0.1471676613077185,
          0.9551243851897953
         ]
        }
       ],
       "layout": {
        "template": {
         "data": {
          "bar": [
           {
            "error_x": {
             "color": "#2a3f5f"
            },
            "error_y": {
             "color": "#2a3f5f"
            },
            "marker": {
             "line": {
              "color": "#E5ECF6",
              "width": 0.5
             },
             "pattern": {
              "fillmode": "overlay",
              "size": 10,
              "solidity": 0.2
             }
            },
            "type": "bar"
           }
          ],
          "barpolar": [
           {
            "marker": {
             "line": {
              "color": "#E5ECF6",
              "width": 0.5
             },
             "pattern": {
              "fillmode": "overlay",
              "size": 10,
              "solidity": 0.2
             }
            },
            "type": "barpolar"
           }
          ],
          "carpet": [
           {
            "aaxis": {
             "endlinecolor": "#2a3f5f",
             "gridcolor": "white",
             "linecolor": "white",
             "minorgridcolor": "white",
             "startlinecolor": "#2a3f5f"
            },
            "baxis": {
             "endlinecolor": "#2a3f5f",
             "gridcolor": "white",
             "linecolor": "white",
             "minorgridcolor": "white",
             "startlinecolor": "#2a3f5f"
            },
            "type": "carpet"
           }
          ],
          "choropleth": [
           {
            "colorbar": {
             "outlinewidth": 0,
             "ticks": ""
            },
            "type": "choropleth"
           }
          ],
          "contour": [
           {
            "colorbar": {
             "outlinewidth": 0,
             "ticks": ""
            },
            "colorscale": [
             [
              0,
              "#0d0887"
             ],
             [
              0.1111111111111111,
              "#46039f"
             ],
             [
              0.2222222222222222,
              "#7201a8"
             ],
             [
              0.3333333333333333,
              "#9c179e"
             ],
             [
              0.4444444444444444,
              "#bd3786"
             ],
             [
              0.5555555555555556,
              "#d8576b"
             ],
             [
              0.6666666666666666,
              "#ed7953"
             ],
             [
              0.7777777777777778,
              "#fb9f3a"
             ],
             [
              0.8888888888888888,
              "#fdca26"
             ],
             [
              1,
              "#f0f921"
             ]
            ],
            "type": "contour"
           }
          ],
          "contourcarpet": [
           {
            "colorbar": {
             "outlinewidth": 0,
             "ticks": ""
            },
            "type": "contourcarpet"
           }
          ],
          "heatmap": [
           {
            "colorbar": {
             "outlinewidth": 0,
             "ticks": ""
            },
            "colorscale": [
             [
              0,
              "#0d0887"
             ],
             [
              0.1111111111111111,
              "#46039f"
             ],
             [
              0.2222222222222222,
              "#7201a8"
             ],
             [
              0.3333333333333333,
              "#9c179e"
             ],
             [
              0.4444444444444444,
              "#bd3786"
             ],
             [
              0.5555555555555556,
              "#d8576b"
             ],
             [
              0.6666666666666666,
              "#ed7953"
             ],
             [
              0.7777777777777778,
              "#fb9f3a"
             ],
             [
              0.8888888888888888,
              "#fdca26"
             ],
             [
              1,
              "#f0f921"
             ]
            ],
            "type": "heatmap"
           }
          ],
          "heatmapgl": [
           {
            "colorbar": {
             "outlinewidth": 0,
             "ticks": ""
            },
            "colorscale": [
             [
              0,
              "#0d0887"
             ],
             [
              0.1111111111111111,
              "#46039f"
             ],
             [
              0.2222222222222222,
              "#7201a8"
             ],
             [
              0.3333333333333333,
              "#9c179e"
             ],
             [
              0.4444444444444444,
              "#bd3786"
             ],
             [
              0.5555555555555556,
              "#d8576b"
             ],
             [
              0.6666666666666666,
              "#ed7953"
             ],
             [
              0.7777777777777778,
              "#fb9f3a"
             ],
             [
              0.8888888888888888,
              "#fdca26"
             ],
             [
              1,
              "#f0f921"
             ]
            ],
            "type": "heatmapgl"
           }
          ],
          "histogram": [
           {
            "marker": {
             "pattern": {
              "fillmode": "overlay",
              "size": 10,
              "solidity": 0.2
             }
            },
            "type": "histogram"
           }
          ],
          "histogram2d": [
           {
            "colorbar": {
             "outlinewidth": 0,
             "ticks": ""
            },
            "colorscale": [
             [
              0,
              "#0d0887"
             ],
             [
              0.1111111111111111,
              "#46039f"
             ],
             [
              0.2222222222222222,
              "#7201a8"
             ],
             [
              0.3333333333333333,
              "#9c179e"
             ],
             [
              0.4444444444444444,
              "#bd3786"
             ],
             [
              0.5555555555555556,
              "#d8576b"
             ],
             [
              0.6666666666666666,
              "#ed7953"
             ],
             [
              0.7777777777777778,
              "#fb9f3a"
             ],
             [
              0.8888888888888888,
              "#fdca26"
             ],
             [
              1,
              "#f0f921"
             ]
            ],
            "type": "histogram2d"
           }
          ],
          "histogram2dcontour": [
           {
            "colorbar": {
             "outlinewidth": 0,
             "ticks": ""
            },
            "colorscale": [
             [
              0,
              "#0d0887"
             ],
             [
              0.1111111111111111,
              "#46039f"
             ],
             [
              0.2222222222222222,
              "#7201a8"
             ],
             [
              0.3333333333333333,
              "#9c179e"
             ],
             [
              0.4444444444444444,
              "#bd3786"
             ],
             [
              0.5555555555555556,
              "#d8576b"
             ],
             [
              0.6666666666666666,
              "#ed7953"
             ],
             [
              0.7777777777777778,
              "#fb9f3a"
             ],
             [
              0.8888888888888888,
              "#fdca26"
             ],
             [
              1,
              "#f0f921"
             ]
            ],
            "type": "histogram2dcontour"
           }
          ],
          "mesh3d": [
           {
            "colorbar": {
             "outlinewidth": 0,
             "ticks": ""
            },
            "type": "mesh3d"
           }
          ],
          "parcoords": [
           {
            "line": {
             "colorbar": {
              "outlinewidth": 0,
              "ticks": ""
             }
            },
            "type": "parcoords"
           }
          ],
          "pie": [
           {
            "automargin": true,
            "type": "pie"
           }
          ],
          "scatter": [
           {
            "fillpattern": {
             "fillmode": "overlay",
             "size": 10,
             "solidity": 0.2
            },
            "type": "scatter"
           }
          ],
          "scatter3d": [
           {
            "line": {
             "colorbar": {
              "outlinewidth": 0,
              "ticks": ""
             }
            },
            "marker": {
             "colorbar": {
              "outlinewidth": 0,
              "ticks": ""
             }
            },
            "type": "scatter3d"
           }
          ],
          "scattercarpet": [
           {
            "marker": {
             "colorbar": {
              "outlinewidth": 0,
              "ticks": ""
             }
            },
            "type": "scattercarpet"
           }
          ],
          "scattergeo": [
           {
            "marker": {
             "colorbar": {
              "outlinewidth": 0,
              "ticks": ""
             }
            },
            "type": "scattergeo"
           }
          ],
          "scattergl": [
           {
            "marker": {
             "colorbar": {
              "outlinewidth": 0,
              "ticks": ""
             }
            },
            "type": "scattergl"
           }
          ],
          "scattermapbox": [
           {
            "marker": {
             "colorbar": {
              "outlinewidth": 0,
              "ticks": ""
             }
            },
            "type": "scattermapbox"
           }
          ],
          "scatterpolar": [
           {
            "marker": {
             "colorbar": {
              "outlinewidth": 0,
              "ticks": ""
             }
            },
            "type": "scatterpolar"
           }
          ],
          "scatterpolargl": [
           {
            "marker": {
             "colorbar": {
              "outlinewidth": 0,
              "ticks": ""
             }
            },
            "type": "scatterpolargl"
           }
          ],
          "scatterternary": [
           {
            "marker": {
             "colorbar": {
              "outlinewidth": 0,
              "ticks": ""
             }
            },
            "type": "scatterternary"
           }
          ],
          "surface": [
           {
            "colorbar": {
             "outlinewidth": 0,
             "ticks": ""
            },
            "colorscale": [
             [
              0,
              "#0d0887"
             ],
             [
              0.1111111111111111,
              "#46039f"
             ],
             [
              0.2222222222222222,
              "#7201a8"
             ],
             [
              0.3333333333333333,
              "#9c179e"
             ],
             [
              0.4444444444444444,
              "#bd3786"
             ],
             [
              0.5555555555555556,
              "#d8576b"
             ],
             [
              0.6666666666666666,
              "#ed7953"
             ],
             [
              0.7777777777777778,
              "#fb9f3a"
             ],
             [
              0.8888888888888888,
              "#fdca26"
             ],
             [
              1,
              "#f0f921"
             ]
            ],
            "type": "surface"
           }
          ],
          "table": [
           {
            "cells": {
             "fill": {
              "color": "#EBF0F8"
             },
             "line": {
              "color": "white"
             }
            },
            "header": {
             "fill": {
              "color": "#C8D4E3"
             },
             "line": {
              "color": "white"
             }
            },
            "type": "table"
           }
          ]
         },
         "layout": {
          "annotationdefaults": {
           "arrowcolor": "#2a3f5f",
           "arrowhead": 0,
           "arrowwidth": 1
          },
          "autotypenumbers": "strict",
          "coloraxis": {
           "colorbar": {
            "outlinewidth": 0,
            "ticks": ""
           }
          },
          "colorscale": {
           "diverging": [
            [
             0,
             "#8e0152"
            ],
            [
             0.1,
             "#c51b7d"
            ],
            [
             0.2,
             "#de77ae"
            ],
            [
             0.3,
             "#f1b6da"
            ],
            [
             0.4,
             "#fde0ef"
            ],
            [
             0.5,
             "#f7f7f7"
            ],
            [
             0.6,
             "#e6f5d0"
            ],
            [
             0.7,
             "#b8e186"
            ],
            [
             0.8,
             "#7fbc41"
            ],
            [
             0.9,
             "#4d9221"
            ],
            [
             1,
             "#276419"
            ]
           ],
           "sequential": [
            [
             0,
             "#0d0887"
            ],
            [
             0.1111111111111111,
             "#46039f"
            ],
            [
             0.2222222222222222,
             "#7201a8"
            ],
            [
             0.3333333333333333,
             "#9c179e"
            ],
            [
             0.4444444444444444,
             "#bd3786"
            ],
            [
             0.5555555555555556,
             "#d8576b"
            ],
            [
             0.6666666666666666,
             "#ed7953"
            ],
            [
             0.7777777777777778,
             "#fb9f3a"
            ],
            [
             0.8888888888888888,
             "#fdca26"
            ],
            [
             1,
             "#f0f921"
            ]
           ],
           "sequentialminus": [
            [
             0,
             "#0d0887"
            ],
            [
             0.1111111111111111,
             "#46039f"
            ],
            [
             0.2222222222222222,
             "#7201a8"
            ],
            [
             0.3333333333333333,
             "#9c179e"
            ],
            [
             0.4444444444444444,
             "#bd3786"
            ],
            [
             0.5555555555555556,
             "#d8576b"
            ],
            [
             0.6666666666666666,
             "#ed7953"
            ],
            [
             0.7777777777777778,
             "#fb9f3a"
            ],
            [
             0.8888888888888888,
             "#fdca26"
            ],
            [
             1,
             "#f0f921"
            ]
           ]
          },
          "colorway": [
           "#636efa",
           "#EF553B",
           "#00cc96",
           "#ab63fa",
           "#FFA15A",
           "#19d3f3",
           "#FF6692",
           "#B6E880",
           "#FF97FF",
           "#FECB52"
          ],
          "font": {
           "color": "#2a3f5f"
          },
          "geo": {
           "bgcolor": "white",
           "lakecolor": "white",
           "landcolor": "#E5ECF6",
           "showlakes": true,
           "showland": true,
           "subunitcolor": "white"
          },
          "hoverlabel": {
           "align": "left"
          },
          "hovermode": "closest",
          "mapbox": {
           "style": "light"
          },
          "paper_bgcolor": "white",
          "plot_bgcolor": "#E5ECF6",
          "polar": {
           "angularaxis": {
            "gridcolor": "white",
            "linecolor": "white",
            "ticks": ""
           },
           "bgcolor": "#E5ECF6",
           "radialaxis": {
            "gridcolor": "white",
            "linecolor": "white",
            "ticks": ""
           }
          },
          "scene": {
           "xaxis": {
            "backgroundcolor": "#E5ECF6",
            "gridcolor": "white",
            "gridwidth": 2,
            "linecolor": "white",
            "showbackground": true,
            "ticks": "",
            "zerolinecolor": "white"
           },
           "yaxis": {
            "backgroundcolor": "#E5ECF6",
            "gridcolor": "white",
            "gridwidth": 2,
            "linecolor": "white",
            "showbackground": true,
            "ticks": "",
            "zerolinecolor": "white"
           },
           "zaxis": {
            "backgroundcolor": "#E5ECF6",
            "gridcolor": "white",
            "gridwidth": 2,
            "linecolor": "white",
            "showbackground": true,
            "ticks": "",
            "zerolinecolor": "white"
           }
          },
          "shapedefaults": {
           "line": {
            "color": "#2a3f5f"
           }
          },
          "ternary": {
           "aaxis": {
            "gridcolor": "white",
            "linecolor": "white",
            "ticks": ""
           },
           "baxis": {
            "gridcolor": "white",
            "linecolor": "white",
            "ticks": ""
           },
           "bgcolor": "#E5ECF6",
           "caxis": {
            "gridcolor": "white",
            "linecolor": "white",
            "ticks": ""
           }
          },
          "title": {
           "x": 0.05
          },
          "xaxis": {
           "automargin": true,
           "gridcolor": "white",
           "linecolor": "white",
           "ticks": "",
           "title": {
            "standoff": 15
           },
           "zerolinecolor": "white",
           "zerolinewidth": 2
          },
          "yaxis": {
           "automargin": true,
           "gridcolor": "white",
           "linecolor": "white",
           "ticks": "",
           "title": {
            "standoff": 15
           },
           "zerolinecolor": "white",
           "zerolinewidth": 2
          }
         }
        },
        "title": {
         "text": "Z-scores for Twitter Generated Samples of 14203895"
        },
        "xaxis": {
         "title": {
          "text": "motif"
         }
        },
        "yaxis": {
         "title": {
          "text": "significance_profile"
         }
        }
       }
      }
     },
     "metadata": {},
     "output_type": "display_data"
    },
    {
     "name": "stdout",
     "output_type": "stream",
     "text": [
      "                  graph_name    motif  nodes   edges\n",
      "52                  14203895  motif_1  215.0  3640.0\n",
      "286    14203895_sample_rn_30  motif_1   60.0   332.0\n",
      "728    14203895_sample_rj_30  motif_1   62.0   803.0\n",
      "975   14203895_sample_bsf_30  motif_1   64.0   937.0\n",
      "1027  14203895_sample_rpn_30  motif_1   48.0   409.0\n",
      "1196  14203895_sample_sff_30  motif_1   64.0  1427.0\n"
     ]
    },
    {
     "data": {
      "application/vnd.plotly.v1+json": {
       "config": {
        "plotlyServerURL": "https://plot.ly"
       },
       "data": [
        {
         "mode": "lines+markers",
         "name": "14203895",
         "type": "scatter",
         "x": [
          "motif_1",
          "motif_2",
          "motif_3",
          "motif_4",
          "motif_5",
          "motif_6",
          "motif_7",
          "motif_8",
          "motif_9",
          "motif_10",
          "motif_11",
          "motif_12",
          "motif_13"
         ],
         "y": [
          -0.018085471,
          -0.01509572111,
          -0.02941143117,
          0.04794985146,
          0.03858361568,
          0.2168792039,
          -0.01028319564,
          -0.01371900069,
          0.06985642939,
          0.0566461545,
          -0.002038456747,
          0.189454505,
          0.9505133889
         ]
        },
        {
         "mode": "lines+markers",
         "name": "14203895_sample_bsf_20",
         "type": "scatter",
         "x": [
          "motif_1",
          "motif_2",
          "motif_3",
          "motif_4",
          "motif_5",
          "motif_6",
          "motif_7",
          "motif_8",
          "motif_9",
          "motif_10",
          "motif_11",
          "motif_12",
          "motif_13"
         ],
         "y": [
          -0.0137386259256191,
          -0.0368286464300195,
          -0.0564765663147866,
          0.0489567833777134,
          0.0625944575487111,
          0.2051721256243398,
          0.0123107790426654,
          -0.0302741746859151,
          0.1554446345330896,
          0.1797987945726692,
          -0.0163365841142042,
          0.1762806166782761,
          0.9262582808611888
         ]
        },
        {
         "mode": "lines+markers",
         "name": "14203895_sample_rn_20",
         "type": "scatter",
         "x": [
          "motif_1",
          "motif_2",
          "motif_3",
          "motif_4",
          "motif_5",
          "motif_6",
          "motif_7",
          "motif_8",
          "motif_9",
          "motif_10",
          "motif_11",
          "motif_12",
          "motif_13"
         ],
         "y": [
          -0.0322429251055394,
          -0.0220363107970932,
          -0.0561921888912419,
          0.0524386117962493,
          0.0362568581117069,
          0.2864308342172793,
          -0.0187622202166208,
          -0.0243843703461229,
          0.0590195354596644,
          0.0923836310187988,
          0.0226141345685539,
          0.2667399494779043,
          0.9080660676055248
         ]
        },
        {
         "mode": "lines+markers",
         "name": "14203895_sample_rj_20",
         "type": "scatter",
         "x": [
          "motif_1",
          "motif_2",
          "motif_3",
          "motif_4",
          "motif_5",
          "motif_6",
          "motif_7",
          "motif_8",
          "motif_9",
          "motif_10",
          "motif_11",
          "motif_12",
          "motif_13"
         ],
         "y": [
          -0.0246866730856783,
          -0.0141236989540966,
          -0.042948214380799,
          0.0234203053680367,
          0.0337063998251266,
          0.1698233186106613,
          -0.0135988062823916,
          -0.0130382513093617,
          0.0155972196723646,
          0.0396600109272223,
          -0.0096442198142005,
          0.0967472375924791,
          0.9773422104510306
         ]
        },
        {
         "mode": "lines+markers",
         "name": "14203895_sample_rpn_20",
         "type": "scatter",
         "x": [
          "motif_1",
          "motif_2",
          "motif_3",
          "motif_4",
          "motif_5",
          "motif_6",
          "motif_7",
          "motif_8",
          "motif_9",
          "motif_10",
          "motif_11",
          "motif_12",
          "motif_13"
         ],
         "y": [
          -0.0119182858020844,
          -0.0152921220227364,
          -0.0456261626336273,
          0.0495335657095469,
          0.073064390968821,
          0.1582917570912916,
          -0.0134010030476294,
          -0.0252339056721063,
          0.0567718142091551,
          0.0673357855235592,
          -0.012128399758731,
          0.1262304576131364,
          0.9695562844618986
         ]
        },
        {
         "mode": "lines+markers",
         "name": "14203895_sample_sff_20",
         "type": "scatter",
         "x": [
          "motif_1",
          "motif_2",
          "motif_3",
          "motif_4",
          "motif_5",
          "motif_6",
          "motif_7",
          "motif_8",
          "motif_9",
          "motif_10",
          "motif_11",
          "motif_12",
          "motif_13"
         ],
         "y": [
          -0.0051944876752548,
          -0.0099725704466709,
          -0.0345755712246663,
          0.0201585164796942,
          0.0401565578881146,
          0.0990753760192507,
          0.0003051787216126,
          -0.0118060000387308,
          0.0445313530135189,
          0.1057135511695816,
          -0.0073948942493662,
          0.0958176721530224,
          0.9819927026809708
         ]
        }
       ],
       "layout": {
        "template": {
         "data": {
          "bar": [
           {
            "error_x": {
             "color": "#2a3f5f"
            },
            "error_y": {
             "color": "#2a3f5f"
            },
            "marker": {
             "line": {
              "color": "#E5ECF6",
              "width": 0.5
             },
             "pattern": {
              "fillmode": "overlay",
              "size": 10,
              "solidity": 0.2
             }
            },
            "type": "bar"
           }
          ],
          "barpolar": [
           {
            "marker": {
             "line": {
              "color": "#E5ECF6",
              "width": 0.5
             },
             "pattern": {
              "fillmode": "overlay",
              "size": 10,
              "solidity": 0.2
             }
            },
            "type": "barpolar"
           }
          ],
          "carpet": [
           {
            "aaxis": {
             "endlinecolor": "#2a3f5f",
             "gridcolor": "white",
             "linecolor": "white",
             "minorgridcolor": "white",
             "startlinecolor": "#2a3f5f"
            },
            "baxis": {
             "endlinecolor": "#2a3f5f",
             "gridcolor": "white",
             "linecolor": "white",
             "minorgridcolor": "white",
             "startlinecolor": "#2a3f5f"
            },
            "type": "carpet"
           }
          ],
          "choropleth": [
           {
            "colorbar": {
             "outlinewidth": 0,
             "ticks": ""
            },
            "type": "choropleth"
           }
          ],
          "contour": [
           {
            "colorbar": {
             "outlinewidth": 0,
             "ticks": ""
            },
            "colorscale": [
             [
              0,
              "#0d0887"
             ],
             [
              0.1111111111111111,
              "#46039f"
             ],
             [
              0.2222222222222222,
              "#7201a8"
             ],
             [
              0.3333333333333333,
              "#9c179e"
             ],
             [
              0.4444444444444444,
              "#bd3786"
             ],
             [
              0.5555555555555556,
              "#d8576b"
             ],
             [
              0.6666666666666666,
              "#ed7953"
             ],
             [
              0.7777777777777778,
              "#fb9f3a"
             ],
             [
              0.8888888888888888,
              "#fdca26"
             ],
             [
              1,
              "#f0f921"
             ]
            ],
            "type": "contour"
           }
          ],
          "contourcarpet": [
           {
            "colorbar": {
             "outlinewidth": 0,
             "ticks": ""
            },
            "type": "contourcarpet"
           }
          ],
          "heatmap": [
           {
            "colorbar": {
             "outlinewidth": 0,
             "ticks": ""
            },
            "colorscale": [
             [
              0,
              "#0d0887"
             ],
             [
              0.1111111111111111,
              "#46039f"
             ],
             [
              0.2222222222222222,
              "#7201a8"
             ],
             [
              0.3333333333333333,
              "#9c179e"
             ],
             [
              0.4444444444444444,
              "#bd3786"
             ],
             [
              0.5555555555555556,
              "#d8576b"
             ],
             [
              0.6666666666666666,
              "#ed7953"
             ],
             [
              0.7777777777777778,
              "#fb9f3a"
             ],
             [
              0.8888888888888888,
              "#fdca26"
             ],
             [
              1,
              "#f0f921"
             ]
            ],
            "type": "heatmap"
           }
          ],
          "heatmapgl": [
           {
            "colorbar": {
             "outlinewidth": 0,
             "ticks": ""
            },
            "colorscale": [
             [
              0,
              "#0d0887"
             ],
             [
              0.1111111111111111,
              "#46039f"
             ],
             [
              0.2222222222222222,
              "#7201a8"
             ],
             [
              0.3333333333333333,
              "#9c179e"
             ],
             [
              0.4444444444444444,
              "#bd3786"
             ],
             [
              0.5555555555555556,
              "#d8576b"
             ],
             [
              0.6666666666666666,
              "#ed7953"
             ],
             [
              0.7777777777777778,
              "#fb9f3a"
             ],
             [
              0.8888888888888888,
              "#fdca26"
             ],
             [
              1,
              "#f0f921"
             ]
            ],
            "type": "heatmapgl"
           }
          ],
          "histogram": [
           {
            "marker": {
             "pattern": {
              "fillmode": "overlay",
              "size": 10,
              "solidity": 0.2
             }
            },
            "type": "histogram"
           }
          ],
          "histogram2d": [
           {
            "colorbar": {
             "outlinewidth": 0,
             "ticks": ""
            },
            "colorscale": [
             [
              0,
              "#0d0887"
             ],
             [
              0.1111111111111111,
              "#46039f"
             ],
             [
              0.2222222222222222,
              "#7201a8"
             ],
             [
              0.3333333333333333,
              "#9c179e"
             ],
             [
              0.4444444444444444,
              "#bd3786"
             ],
             [
              0.5555555555555556,
              "#d8576b"
             ],
             [
              0.6666666666666666,
              "#ed7953"
             ],
             [
              0.7777777777777778,
              "#fb9f3a"
             ],
             [
              0.8888888888888888,
              "#fdca26"
             ],
             [
              1,
              "#f0f921"
             ]
            ],
            "type": "histogram2d"
           }
          ],
          "histogram2dcontour": [
           {
            "colorbar": {
             "outlinewidth": 0,
             "ticks": ""
            },
            "colorscale": [
             [
              0,
              "#0d0887"
             ],
             [
              0.1111111111111111,
              "#46039f"
             ],
             [
              0.2222222222222222,
              "#7201a8"
             ],
             [
              0.3333333333333333,
              "#9c179e"
             ],
             [
              0.4444444444444444,
              "#bd3786"
             ],
             [
              0.5555555555555556,
              "#d8576b"
             ],
             [
              0.6666666666666666,
              "#ed7953"
             ],
             [
              0.7777777777777778,
              "#fb9f3a"
             ],
             [
              0.8888888888888888,
              "#fdca26"
             ],
             [
              1,
              "#f0f921"
             ]
            ],
            "type": "histogram2dcontour"
           }
          ],
          "mesh3d": [
           {
            "colorbar": {
             "outlinewidth": 0,
             "ticks": ""
            },
            "type": "mesh3d"
           }
          ],
          "parcoords": [
           {
            "line": {
             "colorbar": {
              "outlinewidth": 0,
              "ticks": ""
             }
            },
            "type": "parcoords"
           }
          ],
          "pie": [
           {
            "automargin": true,
            "type": "pie"
           }
          ],
          "scatter": [
           {
            "fillpattern": {
             "fillmode": "overlay",
             "size": 10,
             "solidity": 0.2
            },
            "type": "scatter"
           }
          ],
          "scatter3d": [
           {
            "line": {
             "colorbar": {
              "outlinewidth": 0,
              "ticks": ""
             }
            },
            "marker": {
             "colorbar": {
              "outlinewidth": 0,
              "ticks": ""
             }
            },
            "type": "scatter3d"
           }
          ],
          "scattercarpet": [
           {
            "marker": {
             "colorbar": {
              "outlinewidth": 0,
              "ticks": ""
             }
            },
            "type": "scattercarpet"
           }
          ],
          "scattergeo": [
           {
            "marker": {
             "colorbar": {
              "outlinewidth": 0,
              "ticks": ""
             }
            },
            "type": "scattergeo"
           }
          ],
          "scattergl": [
           {
            "marker": {
             "colorbar": {
              "outlinewidth": 0,
              "ticks": ""
             }
            },
            "type": "scattergl"
           }
          ],
          "scattermapbox": [
           {
            "marker": {
             "colorbar": {
              "outlinewidth": 0,
              "ticks": ""
             }
            },
            "type": "scattermapbox"
           }
          ],
          "scatterpolar": [
           {
            "marker": {
             "colorbar": {
              "outlinewidth": 0,
              "ticks": ""
             }
            },
            "type": "scatterpolar"
           }
          ],
          "scatterpolargl": [
           {
            "marker": {
             "colorbar": {
              "outlinewidth": 0,
              "ticks": ""
             }
            },
            "type": "scatterpolargl"
           }
          ],
          "scatterternary": [
           {
            "marker": {
             "colorbar": {
              "outlinewidth": 0,
              "ticks": ""
             }
            },
            "type": "scatterternary"
           }
          ],
          "surface": [
           {
            "colorbar": {
             "outlinewidth": 0,
             "ticks": ""
            },
            "colorscale": [
             [
              0,
              "#0d0887"
             ],
             [
              0.1111111111111111,
              "#46039f"
             ],
             [
              0.2222222222222222,
              "#7201a8"
             ],
             [
              0.3333333333333333,
              "#9c179e"
             ],
             [
              0.4444444444444444,
              "#bd3786"
             ],
             [
              0.5555555555555556,
              "#d8576b"
             ],
             [
              0.6666666666666666,
              "#ed7953"
             ],
             [
              0.7777777777777778,
              "#fb9f3a"
             ],
             [
              0.8888888888888888,
              "#fdca26"
             ],
             [
              1,
              "#f0f921"
             ]
            ],
            "type": "surface"
           }
          ],
          "table": [
           {
            "cells": {
             "fill": {
              "color": "#EBF0F8"
             },
             "line": {
              "color": "white"
             }
            },
            "header": {
             "fill": {
              "color": "#C8D4E3"
             },
             "line": {
              "color": "white"
             }
            },
            "type": "table"
           }
          ]
         },
         "layout": {
          "annotationdefaults": {
           "arrowcolor": "#2a3f5f",
           "arrowhead": 0,
           "arrowwidth": 1
          },
          "autotypenumbers": "strict",
          "coloraxis": {
           "colorbar": {
            "outlinewidth": 0,
            "ticks": ""
           }
          },
          "colorscale": {
           "diverging": [
            [
             0,
             "#8e0152"
            ],
            [
             0.1,
             "#c51b7d"
            ],
            [
             0.2,
             "#de77ae"
            ],
            [
             0.3,
             "#f1b6da"
            ],
            [
             0.4,
             "#fde0ef"
            ],
            [
             0.5,
             "#f7f7f7"
            ],
            [
             0.6,
             "#e6f5d0"
            ],
            [
             0.7,
             "#b8e186"
            ],
            [
             0.8,
             "#7fbc41"
            ],
            [
             0.9,
             "#4d9221"
            ],
            [
             1,
             "#276419"
            ]
           ],
           "sequential": [
            [
             0,
             "#0d0887"
            ],
            [
             0.1111111111111111,
             "#46039f"
            ],
            [
             0.2222222222222222,
             "#7201a8"
            ],
            [
             0.3333333333333333,
             "#9c179e"
            ],
            [
             0.4444444444444444,
             "#bd3786"
            ],
            [
             0.5555555555555556,
             "#d8576b"
            ],
            [
             0.6666666666666666,
             "#ed7953"
            ],
            [
             0.7777777777777778,
             "#fb9f3a"
            ],
            [
             0.8888888888888888,
             "#fdca26"
            ],
            [
             1,
             "#f0f921"
            ]
           ],
           "sequentialminus": [
            [
             0,
             "#0d0887"
            ],
            [
             0.1111111111111111,
             "#46039f"
            ],
            [
             0.2222222222222222,
             "#7201a8"
            ],
            [
             0.3333333333333333,
             "#9c179e"
            ],
            [
             0.4444444444444444,
             "#bd3786"
            ],
            [
             0.5555555555555556,
             "#d8576b"
            ],
            [
             0.6666666666666666,
             "#ed7953"
            ],
            [
             0.7777777777777778,
             "#fb9f3a"
            ],
            [
             0.8888888888888888,
             "#fdca26"
            ],
            [
             1,
             "#f0f921"
            ]
           ]
          },
          "colorway": [
           "#636efa",
           "#EF553B",
           "#00cc96",
           "#ab63fa",
           "#FFA15A",
           "#19d3f3",
           "#FF6692",
           "#B6E880",
           "#FF97FF",
           "#FECB52"
          ],
          "font": {
           "color": "#2a3f5f"
          },
          "geo": {
           "bgcolor": "white",
           "lakecolor": "white",
           "landcolor": "#E5ECF6",
           "showlakes": true,
           "showland": true,
           "subunitcolor": "white"
          },
          "hoverlabel": {
           "align": "left"
          },
          "hovermode": "closest",
          "mapbox": {
           "style": "light"
          },
          "paper_bgcolor": "white",
          "plot_bgcolor": "#E5ECF6",
          "polar": {
           "angularaxis": {
            "gridcolor": "white",
            "linecolor": "white",
            "ticks": ""
           },
           "bgcolor": "#E5ECF6",
           "radialaxis": {
            "gridcolor": "white",
            "linecolor": "white",
            "ticks": ""
           }
          },
          "scene": {
           "xaxis": {
            "backgroundcolor": "#E5ECF6",
            "gridcolor": "white",
            "gridwidth": 2,
            "linecolor": "white",
            "showbackground": true,
            "ticks": "",
            "zerolinecolor": "white"
           },
           "yaxis": {
            "backgroundcolor": "#E5ECF6",
            "gridcolor": "white",
            "gridwidth": 2,
            "linecolor": "white",
            "showbackground": true,
            "ticks": "",
            "zerolinecolor": "white"
           },
           "zaxis": {
            "backgroundcolor": "#E5ECF6",
            "gridcolor": "white",
            "gridwidth": 2,
            "linecolor": "white",
            "showbackground": true,
            "ticks": "",
            "zerolinecolor": "white"
           }
          },
          "shapedefaults": {
           "line": {
            "color": "#2a3f5f"
           }
          },
          "ternary": {
           "aaxis": {
            "gridcolor": "white",
            "linecolor": "white",
            "ticks": ""
           },
           "baxis": {
            "gridcolor": "white",
            "linecolor": "white",
            "ticks": ""
           },
           "bgcolor": "#E5ECF6",
           "caxis": {
            "gridcolor": "white",
            "linecolor": "white",
            "ticks": ""
           }
          },
          "title": {
           "x": 0.05
          },
          "xaxis": {
           "automargin": true,
           "gridcolor": "white",
           "linecolor": "white",
           "ticks": "",
           "title": {
            "standoff": 15
           },
           "zerolinecolor": "white",
           "zerolinewidth": 2
          },
          "yaxis": {
           "automargin": true,
           "gridcolor": "white",
           "linecolor": "white",
           "ticks": "",
           "title": {
            "standoff": 15
           },
           "zerolinecolor": "white",
           "zerolinewidth": 2
          }
         }
        },
        "title": {
         "text": "Z-scores for Twitter Generated Samples of 14203895"
        },
        "xaxis": {
         "title": {
          "text": "motif"
         }
        },
        "yaxis": {
         "title": {
          "text": "significance_profile"
         }
        }
       }
      }
     },
     "metadata": {},
     "output_type": "display_data"
    },
    {
     "name": "stdout",
     "output_type": "stream",
     "text": [
      "                  graph_name    motif  nodes   edges\n",
      "52                  14203895  motif_1  215.0  3640.0\n",
      "195   14203895_sample_bsf_20  motif_1   43.0   311.0\n",
      "364    14203895_sample_rn_20  motif_1   35.0   136.0\n",
      "416    14203895_sample_rj_20  motif_1   43.0   389.0\n",
      "429   14203895_sample_rpn_20  motif_1   29.0   196.0\n",
      "1352  14203895_sample_sff_20  motif_1   43.0   369.0\n"
     ]
    },
    {
     "data": {
      "application/vnd.plotly.v1+json": {
       "config": {
        "plotlyServerURL": "https://plot.ly"
       },
       "data": [
        {
         "mode": "lines+markers",
         "name": "14203895",
         "type": "scatter",
         "x": [
          "motif_1",
          "motif_2",
          "motif_3",
          "motif_4",
          "motif_5",
          "motif_6",
          "motif_7",
          "motif_8",
          "motif_9",
          "motif_10",
          "motif_11",
          "motif_12",
          "motif_13"
         ],
         "y": [
          -0.018085471,
          -0.01509572111,
          -0.02941143117,
          0.04794985146,
          0.03858361568,
          0.2168792039,
          -0.01028319564,
          -0.01371900069,
          0.06985642939,
          0.0566461545,
          -0.002038456747,
          0.189454505,
          0.9505133889
         ]
        },
        {
         "mode": "lines+markers",
         "name": "14203895_sample_bsf_10",
         "type": "scatter",
         "x": [
          "motif_1",
          "motif_2",
          "motif_3",
          "motif_4",
          "motif_5",
          "motif_6",
          "motif_7",
          "motif_8",
          "motif_9",
          "motif_10",
          "motif_11",
          "motif_12",
          "motif_13"
         ],
         "y": [
          -0.0403724647544586,
          -0.0247442829120664,
          -0.0600704143388959,
          0.0600017713505795,
          0.0501182274403019,
          0.3225924244233771,
          -0.0387854308299442,
          -0.0315005402802094,
          0.0454040280154674,
          0.0879001655329548,
          0.0122157083986589,
          0.2483846116091918,
          0.8999126129421477
         ]
        },
        {
         "mode": "lines+markers",
         "name": "14203895_sample_rj_10",
         "type": "scatter",
         "x": [
          "motif_1",
          "motif_2",
          "motif_3",
          "motif_4",
          "motif_5",
          "motif_6",
          "motif_7",
          "motif_8",
          "motif_9",
          "motif_10",
          "motif_11",
          "motif_12",
          "motif_13"
         ],
         "y": [
          -0.0189394254210685,
          -0.0108724059716108,
          -0.0483901137194767,
          0.1074569098889147,
          0.0602010463579391,
          0.3252984103208159,
          -0.0251232979961529,
          -0.0297073212672246,
          0.0802079505404042,
          0.0266720217387934,
          -0.0199387992748543,
          0.1856697124317053,
          0.9125031844771886
         ]
        },
        {
         "mode": "lines+markers",
         "name": "14203895_sample_rpn_10",
         "type": "scatter",
         "x": [
          "motif_1",
          "motif_2",
          "motif_3",
          "motif_4",
          "motif_5",
          "motif_6",
          "motif_7",
          "motif_8",
          "motif_9",
          "motif_10",
          "motif_11",
          "motif_12",
          "motif_13"
         ],
         "y": [
          -0.0429040761836182,
          -0.0120551730585332,
          -0.1035752444487504,
          0.0236280117373195,
          0.1302487078971658,
          0.7544427811459009,
          -0.0476885684991853,
          -0.0265257867617078,
          0.0764086907783409,
          0.0807214740238621,
          -0.0362757767182785,
          0.2935617145783549,
          0.5456671965121841
         ]
        },
        {
         "mode": "lines+markers",
         "name": "14203895_sample_rn_10",
         "type": "scatter",
         "x": [
          "motif_1",
          "motif_2",
          "motif_3",
          "motif_4",
          "motif_5",
          "motif_6",
          "motif_7",
          "motif_8",
          "motif_9",
          "motif_10",
          "motif_11",
          "motif_12",
          "motif_13"
         ],
         "y": [
          0.0106184234240555,
          0.097225056118372,
          -0.0994750971391936,
          0.189436848753768,
          0.2177139665288653,
          0.6773947417195851,
          -0.057458972482914,
          -0.0534785322410199,
          -0.0210266117490898,
          0.608810284095738,
          -0.0334077742414447,
          0.2449903444372613,
          0
         ]
        },
        {
         "mode": "lines+markers",
         "name": "14203895_sample_sff_10",
         "type": "scatter",
         "x": [
          "motif_1",
          "motif_2",
          "motif_3",
          "motif_4",
          "motif_5",
          "motif_6",
          "motif_7",
          "motif_8",
          "motif_9",
          "motif_10",
          "motif_11",
          "motif_12",
          "motif_13"
         ],
         "y": [
          -0.0106959488151208,
          -0.0187134179088715,
          -0.0225571146012468,
          0.0109840235716261,
          0.0237822936784489,
          0.21027236866101,
          -0.0121097140903609,
          -0.008227580574101,
          0.0120932211656135,
          0.0012628427721871,
          -0.0086406977122629,
          0.0500718909227374,
          0.9752855125634864
         ]
        }
       ],
       "layout": {
        "template": {
         "data": {
          "bar": [
           {
            "error_x": {
             "color": "#2a3f5f"
            },
            "error_y": {
             "color": "#2a3f5f"
            },
            "marker": {
             "line": {
              "color": "#E5ECF6",
              "width": 0.5
             },
             "pattern": {
              "fillmode": "overlay",
              "size": 10,
              "solidity": 0.2
             }
            },
            "type": "bar"
           }
          ],
          "barpolar": [
           {
            "marker": {
             "line": {
              "color": "#E5ECF6",
              "width": 0.5
             },
             "pattern": {
              "fillmode": "overlay",
              "size": 10,
              "solidity": 0.2
             }
            },
            "type": "barpolar"
           }
          ],
          "carpet": [
           {
            "aaxis": {
             "endlinecolor": "#2a3f5f",
             "gridcolor": "white",
             "linecolor": "white",
             "minorgridcolor": "white",
             "startlinecolor": "#2a3f5f"
            },
            "baxis": {
             "endlinecolor": "#2a3f5f",
             "gridcolor": "white",
             "linecolor": "white",
             "minorgridcolor": "white",
             "startlinecolor": "#2a3f5f"
            },
            "type": "carpet"
           }
          ],
          "choropleth": [
           {
            "colorbar": {
             "outlinewidth": 0,
             "ticks": ""
            },
            "type": "choropleth"
           }
          ],
          "contour": [
           {
            "colorbar": {
             "outlinewidth": 0,
             "ticks": ""
            },
            "colorscale": [
             [
              0,
              "#0d0887"
             ],
             [
              0.1111111111111111,
              "#46039f"
             ],
             [
              0.2222222222222222,
              "#7201a8"
             ],
             [
              0.3333333333333333,
              "#9c179e"
             ],
             [
              0.4444444444444444,
              "#bd3786"
             ],
             [
              0.5555555555555556,
              "#d8576b"
             ],
             [
              0.6666666666666666,
              "#ed7953"
             ],
             [
              0.7777777777777778,
              "#fb9f3a"
             ],
             [
              0.8888888888888888,
              "#fdca26"
             ],
             [
              1,
              "#f0f921"
             ]
            ],
            "type": "contour"
           }
          ],
          "contourcarpet": [
           {
            "colorbar": {
             "outlinewidth": 0,
             "ticks": ""
            },
            "type": "contourcarpet"
           }
          ],
          "heatmap": [
           {
            "colorbar": {
             "outlinewidth": 0,
             "ticks": ""
            },
            "colorscale": [
             [
              0,
              "#0d0887"
             ],
             [
              0.1111111111111111,
              "#46039f"
             ],
             [
              0.2222222222222222,
              "#7201a8"
             ],
             [
              0.3333333333333333,
              "#9c179e"
             ],
             [
              0.4444444444444444,
              "#bd3786"
             ],
             [
              0.5555555555555556,
              "#d8576b"
             ],
             [
              0.6666666666666666,
              "#ed7953"
             ],
             [
              0.7777777777777778,
              "#fb9f3a"
             ],
             [
              0.8888888888888888,
              "#fdca26"
             ],
             [
              1,
              "#f0f921"
             ]
            ],
            "type": "heatmap"
           }
          ],
          "heatmapgl": [
           {
            "colorbar": {
             "outlinewidth": 0,
             "ticks": ""
            },
            "colorscale": [
             [
              0,
              "#0d0887"
             ],
             [
              0.1111111111111111,
              "#46039f"
             ],
             [
              0.2222222222222222,
              "#7201a8"
             ],
             [
              0.3333333333333333,
              "#9c179e"
             ],
             [
              0.4444444444444444,
              "#bd3786"
             ],
             [
              0.5555555555555556,
              "#d8576b"
             ],
             [
              0.6666666666666666,
              "#ed7953"
             ],
             [
              0.7777777777777778,
              "#fb9f3a"
             ],
             [
              0.8888888888888888,
              "#fdca26"
             ],
             [
              1,
              "#f0f921"
             ]
            ],
            "type": "heatmapgl"
           }
          ],
          "histogram": [
           {
            "marker": {
             "pattern": {
              "fillmode": "overlay",
              "size": 10,
              "solidity": 0.2
             }
            },
            "type": "histogram"
           }
          ],
          "histogram2d": [
           {
            "colorbar": {
             "outlinewidth": 0,
             "ticks": ""
            },
            "colorscale": [
             [
              0,
              "#0d0887"
             ],
             [
              0.1111111111111111,
              "#46039f"
             ],
             [
              0.2222222222222222,
              "#7201a8"
             ],
             [
              0.3333333333333333,
              "#9c179e"
             ],
             [
              0.4444444444444444,
              "#bd3786"
             ],
             [
              0.5555555555555556,
              "#d8576b"
             ],
             [
              0.6666666666666666,
              "#ed7953"
             ],
             [
              0.7777777777777778,
              "#fb9f3a"
             ],
             [
              0.8888888888888888,
              "#fdca26"
             ],
             [
              1,
              "#f0f921"
             ]
            ],
            "type": "histogram2d"
           }
          ],
          "histogram2dcontour": [
           {
            "colorbar": {
             "outlinewidth": 0,
             "ticks": ""
            },
            "colorscale": [
             [
              0,
              "#0d0887"
             ],
             [
              0.1111111111111111,
              "#46039f"
             ],
             [
              0.2222222222222222,
              "#7201a8"
             ],
             [
              0.3333333333333333,
              "#9c179e"
             ],
             [
              0.4444444444444444,
              "#bd3786"
             ],
             [
              0.5555555555555556,
              "#d8576b"
             ],
             [
              0.6666666666666666,
              "#ed7953"
             ],
             [
              0.7777777777777778,
              "#fb9f3a"
             ],
             [
              0.8888888888888888,
              "#fdca26"
             ],
             [
              1,
              "#f0f921"
             ]
            ],
            "type": "histogram2dcontour"
           }
          ],
          "mesh3d": [
           {
            "colorbar": {
             "outlinewidth": 0,
             "ticks": ""
            },
            "type": "mesh3d"
           }
          ],
          "parcoords": [
           {
            "line": {
             "colorbar": {
              "outlinewidth": 0,
              "ticks": ""
             }
            },
            "type": "parcoords"
           }
          ],
          "pie": [
           {
            "automargin": true,
            "type": "pie"
           }
          ],
          "scatter": [
           {
            "fillpattern": {
             "fillmode": "overlay",
             "size": 10,
             "solidity": 0.2
            },
            "type": "scatter"
           }
          ],
          "scatter3d": [
           {
            "line": {
             "colorbar": {
              "outlinewidth": 0,
              "ticks": ""
             }
            },
            "marker": {
             "colorbar": {
              "outlinewidth": 0,
              "ticks": ""
             }
            },
            "type": "scatter3d"
           }
          ],
          "scattercarpet": [
           {
            "marker": {
             "colorbar": {
              "outlinewidth": 0,
              "ticks": ""
             }
            },
            "type": "scattercarpet"
           }
          ],
          "scattergeo": [
           {
            "marker": {
             "colorbar": {
              "outlinewidth": 0,
              "ticks": ""
             }
            },
            "type": "scattergeo"
           }
          ],
          "scattergl": [
           {
            "marker": {
             "colorbar": {
              "outlinewidth": 0,
              "ticks": ""
             }
            },
            "type": "scattergl"
           }
          ],
          "scattermapbox": [
           {
            "marker": {
             "colorbar": {
              "outlinewidth": 0,
              "ticks": ""
             }
            },
            "type": "scattermapbox"
           }
          ],
          "scatterpolar": [
           {
            "marker": {
             "colorbar": {
              "outlinewidth": 0,
              "ticks": ""
             }
            },
            "type": "scatterpolar"
           }
          ],
          "scatterpolargl": [
           {
            "marker": {
             "colorbar": {
              "outlinewidth": 0,
              "ticks": ""
             }
            },
            "type": "scatterpolargl"
           }
          ],
          "scatterternary": [
           {
            "marker": {
             "colorbar": {
              "outlinewidth": 0,
              "ticks": ""
             }
            },
            "type": "scatterternary"
           }
          ],
          "surface": [
           {
            "colorbar": {
             "outlinewidth": 0,
             "ticks": ""
            },
            "colorscale": [
             [
              0,
              "#0d0887"
             ],
             [
              0.1111111111111111,
              "#46039f"
             ],
             [
              0.2222222222222222,
              "#7201a8"
             ],
             [
              0.3333333333333333,
              "#9c179e"
             ],
             [
              0.4444444444444444,
              "#bd3786"
             ],
             [
              0.5555555555555556,
              "#d8576b"
             ],
             [
              0.6666666666666666,
              "#ed7953"
             ],
             [
              0.7777777777777778,
              "#fb9f3a"
             ],
             [
              0.8888888888888888,
              "#fdca26"
             ],
             [
              1,
              "#f0f921"
             ]
            ],
            "type": "surface"
           }
          ],
          "table": [
           {
            "cells": {
             "fill": {
              "color": "#EBF0F8"
             },
             "line": {
              "color": "white"
             }
            },
            "header": {
             "fill": {
              "color": "#C8D4E3"
             },
             "line": {
              "color": "white"
             }
            },
            "type": "table"
           }
          ]
         },
         "layout": {
          "annotationdefaults": {
           "arrowcolor": "#2a3f5f",
           "arrowhead": 0,
           "arrowwidth": 1
          },
          "autotypenumbers": "strict",
          "coloraxis": {
           "colorbar": {
            "outlinewidth": 0,
            "ticks": ""
           }
          },
          "colorscale": {
           "diverging": [
            [
             0,
             "#8e0152"
            ],
            [
             0.1,
             "#c51b7d"
            ],
            [
             0.2,
             "#de77ae"
            ],
            [
             0.3,
             "#f1b6da"
            ],
            [
             0.4,
             "#fde0ef"
            ],
            [
             0.5,
             "#f7f7f7"
            ],
            [
             0.6,
             "#e6f5d0"
            ],
            [
             0.7,
             "#b8e186"
            ],
            [
             0.8,
             "#7fbc41"
            ],
            [
             0.9,
             "#4d9221"
            ],
            [
             1,
             "#276419"
            ]
           ],
           "sequential": [
            [
             0,
             "#0d0887"
            ],
            [
             0.1111111111111111,
             "#46039f"
            ],
            [
             0.2222222222222222,
             "#7201a8"
            ],
            [
             0.3333333333333333,
             "#9c179e"
            ],
            [
             0.4444444444444444,
             "#bd3786"
            ],
            [
             0.5555555555555556,
             "#d8576b"
            ],
            [
             0.6666666666666666,
             "#ed7953"
            ],
            [
             0.7777777777777778,
             "#fb9f3a"
            ],
            [
             0.8888888888888888,
             "#fdca26"
            ],
            [
             1,
             "#f0f921"
            ]
           ],
           "sequentialminus": [
            [
             0,
             "#0d0887"
            ],
            [
             0.1111111111111111,
             "#46039f"
            ],
            [
             0.2222222222222222,
             "#7201a8"
            ],
            [
             0.3333333333333333,
             "#9c179e"
            ],
            [
             0.4444444444444444,
             "#bd3786"
            ],
            [
             0.5555555555555556,
             "#d8576b"
            ],
            [
             0.6666666666666666,
             "#ed7953"
            ],
            [
             0.7777777777777778,
             "#fb9f3a"
            ],
            [
             0.8888888888888888,
             "#fdca26"
            ],
            [
             1,
             "#f0f921"
            ]
           ]
          },
          "colorway": [
           "#636efa",
           "#EF553B",
           "#00cc96",
           "#ab63fa",
           "#FFA15A",
           "#19d3f3",
           "#FF6692",
           "#B6E880",
           "#FF97FF",
           "#FECB52"
          ],
          "font": {
           "color": "#2a3f5f"
          },
          "geo": {
           "bgcolor": "white",
           "lakecolor": "white",
           "landcolor": "#E5ECF6",
           "showlakes": true,
           "showland": true,
           "subunitcolor": "white"
          },
          "hoverlabel": {
           "align": "left"
          },
          "hovermode": "closest",
          "mapbox": {
           "style": "light"
          },
          "paper_bgcolor": "white",
          "plot_bgcolor": "#E5ECF6",
          "polar": {
           "angularaxis": {
            "gridcolor": "white",
            "linecolor": "white",
            "ticks": ""
           },
           "bgcolor": "#E5ECF6",
           "radialaxis": {
            "gridcolor": "white",
            "linecolor": "white",
            "ticks": ""
           }
          },
          "scene": {
           "xaxis": {
            "backgroundcolor": "#E5ECF6",
            "gridcolor": "white",
            "gridwidth": 2,
            "linecolor": "white",
            "showbackground": true,
            "ticks": "",
            "zerolinecolor": "white"
           },
           "yaxis": {
            "backgroundcolor": "#E5ECF6",
            "gridcolor": "white",
            "gridwidth": 2,
            "linecolor": "white",
            "showbackground": true,
            "ticks": "",
            "zerolinecolor": "white"
           },
           "zaxis": {
            "backgroundcolor": "#E5ECF6",
            "gridcolor": "white",
            "gridwidth": 2,
            "linecolor": "white",
            "showbackground": true,
            "ticks": "",
            "zerolinecolor": "white"
           }
          },
          "shapedefaults": {
           "line": {
            "color": "#2a3f5f"
           }
          },
          "ternary": {
           "aaxis": {
            "gridcolor": "white",
            "linecolor": "white",
            "ticks": ""
           },
           "baxis": {
            "gridcolor": "white",
            "linecolor": "white",
            "ticks": ""
           },
           "bgcolor": "#E5ECF6",
           "caxis": {
            "gridcolor": "white",
            "linecolor": "white",
            "ticks": ""
           }
          },
          "title": {
           "x": 0.05
          },
          "xaxis": {
           "automargin": true,
           "gridcolor": "white",
           "linecolor": "white",
           "ticks": "",
           "title": {
            "standoff": 15
           },
           "zerolinecolor": "white",
           "zerolinewidth": 2
          },
          "yaxis": {
           "automargin": true,
           "gridcolor": "white",
           "linecolor": "white",
           "ticks": "",
           "title": {
            "standoff": 15
           },
           "zerolinecolor": "white",
           "zerolinewidth": 2
          }
         }
        },
        "title": {
         "text": "Z-scores for Twitter Generated Samples of 14203895"
        },
        "xaxis": {
         "title": {
          "text": "motif"
         }
        },
        "yaxis": {
         "title": {
          "text": "significance_profile"
         }
        }
       }
      }
     },
     "metadata": {},
     "output_type": "display_data"
    },
    {
     "name": "stdout",
     "output_type": "stream",
     "text": [
      "                  graph_name    motif  nodes   edges\n",
      "52                  14203895  motif_1  215.0  3640.0\n",
      "91    14203895_sample_bsf_10  motif_1   21.0   134.0\n",
      "260    14203895_sample_rj_10  motif_1   21.0   106.0\n",
      "611   14203895_sample_rpn_10  motif_1   17.0    43.0\n",
      "871    14203895_sample_rn_10  motif_1   16.0    31.0\n",
      "1183  14203895_sample_sff_10  motif_1   21.0   204.0\n"
     ]
    }
   ],
   "source": [
    "sample_percents = [\"40\", \"30\", \"20\", \"10\"]\n",
    "\n",
    "selected_graph = \"14203895\"\n",
    "\n",
    "for sp in sample_percents:\n",
    "    # Query data\n",
    "    query_df = motif_twitter.query(\n",
    "        \"graph_name == @selected_graph or (graph_name.str.startswith(@selected_graph) and graph_name.str.endswith(@sp))\",\n",
    "    )\n",
    "\n",
    "    plot_line_chart(\n",
    "        query_df,\n",
    "        f\"Z-scores for Twitter Generated Samples of {selected_graph}\",\n",
    "        \"motif\",\n",
    "        \"significance_profile\",\n",
    "    )\n",
    "\n",
    "    print(\n",
    "        query_df[[\"graph_name\", \"motif\", \"nodes\", \"edges\"]].query(\"motif == 'motif_1'\")\n",
    "    )"
   ]
  },
  {
   "cell_type": "code",
   "execution_count": 11,
   "metadata": {},
   "outputs": [
    {
     "data": {
      "image/png": "[encoded data removed]",
      "text/plain": [
       "<Figure size 1200x600 with 2 Axes>"
      ]
     },
     "metadata": {},
     "output_type": "display_data"
    },
    {
     "data": {
      "image/png": "[encoded data removed]",
      "text/plain": [
       "<Figure size 1200x600 with 2 Axes>"
      ]
     },
     "metadata": {},
     "output_type": "display_data"
    }
   ],
   "source": [
    "twitter_combined = gru.read_directed_graph_from_edge_list(\"../../data/twitter/twitter_combined.edges\")\n",
    "gru.plot_degree_distribution(twitter_combined)\n",
    "gru.plot_degree_distribution_scatter(twitter_combined)"
   ]
  },
  {
   "cell_type": "code",
   "execution_count": 12,
   "metadata": {},
   "outputs": [
    {
     "data": {
      "image/png": "[encoded data removed]",
      "text/plain": [
       "<Figure size 1200x600 with 2 Axes>"
      ]
     },
     "metadata": {},
     "output_type": "display_data"
    },
    {
     "data": {
      "image/png": "[encoded data removed]",
      "text/plain": [
       "<Figure size 1200x600 with 2 Axes>"
      ]
     },
     "metadata": {},
     "output_type": "display_data"
    }
   ],
   "source": [
    "twitter_ego = gru.read_directed_graph_from_edge_list(\"../../data/twitter/14203895.edges\")\n",
    "gru.plot_degree_distribution(twitter_ego)\n",
    "gru.plot_degree_distribution_scatter(twitter_ego)"
   ]
  },
  {
   "cell_type": "code",
   "execution_count": 13,
   "metadata": {},
   "outputs": [
    {
     "data": {
      "image/png": "[encoded data removed]",
      "text/plain": [
       "<Figure size 1200x600 with 2 Axes>"
      ]
     },
     "metadata": {},
     "output_type": "display_data"
    },
    {
     "data": {
      "image/png": "[encoded data removed]",
      "text/plain": [
       "<Figure size 1200x600 with 2 Axes>"
      ]
     },
     "metadata": {},
     "output_type": "display_data"
    }
   ],
   "source": [
    "twitter_ssf_10 = gru.read_directed_graph_from_edge_list(\"../../data/twitter_samples/14203895_sample_sff_10.edges\")\n",
    "gru.plot_degree_distribution(twitter_ssf_10)\n",
    "gru.plot_degree_distribution_scatter(twitter_ssf_10)"
   ]
  }
 ],
 "metadata": {
  "kernelspec": {
   "display_name": "venv",
   "language": "python",
   "name": "python3"
  },
  "language_info": {
   "codemirror_mode": {
    "name": "ipython",
    "version": 3
   },
   "file_extension": ".py",
   "mimetype": "text/x-python",
   "name": "python",
   "nbconvert_exporter": "python",
   "pygments_lexer": "ipython3",
   "version": "3.10.12"
  }
 },
 "nbformat": 4,
 "nbformat_minor": 2
}
