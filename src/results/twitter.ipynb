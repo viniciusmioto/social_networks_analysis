{
 "cells": [
  {
   "cell_type": "markdown",
   "metadata": {},
   "source": [
    "# Result Analysis"
   ]
  },
  {
   "cell_type": "code",
   "execution_count": 1,
   "metadata": {},
   "outputs": [],
   "source": [
    "import os\n",
    "import sys\n",
    "import pandas as pd\n",
    "\n",
    "# Get the absolute path to the src directory\n",
    "src_path = os.path.abspath(os.path.join(os.getcwd(), \"../\"))\n",
    "\n",
    "# Add src_path to the system path\n",
    "sys.path.insert(0, src_path)\n",
    "\n",
    "# Now you can import your module\n",
    "import scripts.graph_utils as gru"
   ]
  },
  {
   "cell_type": "markdown",
   "metadata": {},
   "source": [
    "### Load Data"
   ]
  },
  {
   "cell_type": "code",
   "execution_count": 2,
   "metadata": {},
   "outputs": [],
   "source": [
    "# Data path directory\n",
    "RESULTS_PATH = \"../../results/\"\n",
    "NETWORKS_PATH = \"../../data/\"\n",
    "IMAGES_PATH = \"../../img/motifs-draw/\""
   ]
  },
  {
   "cell_type": "code",
   "execution_count": 3,
   "metadata": {},
   "outputs": [],
   "source": [
    "# Load data\n",
    "def load_data(file):\n",
    "    data = pd.read_csv(RESULTS_PATH + file)\n",
    "    return data"
   ]
  },
  {
   "cell_type": "markdown",
   "metadata": {},
   "source": [
    "## Twitter Egonets"
   ]
  },
  {
   "cell_type": "code",
   "execution_count": 4,
   "metadata": {},
   "outputs": [],
   "source": [
    "# Load the Twitter data\n",
    "file_name = \"twitter.csv\"\n",
    "motif_twitter = load_data(file_name)\n",
    "# cast graph_name as string\n",
    "motif_twitter[\"graph_name\"] = motif_twitter[\"graph_name\"].astype(str)"
   ]
  },
  {
   "cell_type": "code",
   "execution_count": 5,
   "metadata": {},
   "outputs": [
    {
     "data": {
      "text/html": [
       "<div>\n",
       "<style scoped>\n",
       "    .dataframe tbody tr th:only-of-type {\n",
       "        vertical-align: middle;\n",
       "    }\n",
       "\n",
       "    .dataframe tbody tr th {\n",
       "        vertical-align: top;\n",
       "    }\n",
       "\n",
       "    .dataframe thead th {\n",
       "        text-align: right;\n",
       "    }\n",
       "</style>\n",
       "<table border=\"1\" class=\"dataframe\">\n",
       "  <thead>\n",
       "    <tr style=\"text-align: right;\">\n",
       "      <th></th>\n",
       "      <th>graph_name</th>\n",
       "      <th>motif</th>\n",
       "      <th>average_count</th>\n",
       "      <th>standard_deviation</th>\n",
       "      <th>z_score</th>\n",
       "      <th>significance_profile</th>\n",
       "      <th>nodes</th>\n",
       "      <th>edges</th>\n",
       "      <th>max_degree</th>\n",
       "      <th>avg_degree</th>\n",
       "    </tr>\n",
       "  </thead>\n",
       "  <tbody>\n",
       "    <tr>\n",
       "      <th>0</th>\n",
       "      <td>256497288</td>\n",
       "      <td>motif_1</td>\n",
       "      <td>52435.44</td>\n",
       "      <td>887.535214</td>\n",
       "      <td>22.877470</td>\n",
       "      <td>0.011187</td>\n",
       "      <td>213.0</td>\n",
       "      <td>17930.0</td>\n",
       "      <td>177.5</td>\n",
       "      <td>168.356808</td>\n",
       "    </tr>\n",
       "    <tr>\n",
       "      <th>1</th>\n",
       "      <td>256497288</td>\n",
       "      <td>motif_2</td>\n",
       "      <td>36026.44</td>\n",
       "      <td>646.921175</td>\n",
       "      <td>1.198848</td>\n",
       "      <td>0.000586</td>\n",
       "      <td>213.0</td>\n",
       "      <td>17930.0</td>\n",
       "      <td>177.5</td>\n",
       "      <td>168.356808</td>\n",
       "    </tr>\n",
       "    <tr>\n",
       "      <th>2</th>\n",
       "      <td>256497288</td>\n",
       "      <td>motif_3</td>\n",
       "      <td>72416.32</td>\n",
       "      <td>1275.567250</td>\n",
       "      <td>-28.681608</td>\n",
       "      <td>-0.014026</td>\n",
       "      <td>213.0</td>\n",
       "      <td>17930.0</td>\n",
       "      <td>177.5</td>\n",
       "      <td>168.356808</td>\n",
       "    </tr>\n",
       "    <tr>\n",
       "      <th>3</th>\n",
       "      <td>256497288</td>\n",
       "      <td>motif_4</td>\n",
       "      <td>24514.04</td>\n",
       "      <td>563.694545</td>\n",
       "      <td>50.319735</td>\n",
       "      <td>0.024607</td>\n",
       "      <td>213.0</td>\n",
       "      <td>17930.0</td>\n",
       "      <td>177.5</td>\n",
       "      <td>168.356808</td>\n",
       "    </tr>\n",
       "    <tr>\n",
       "      <th>4</th>\n",
       "      <td>256497288</td>\n",
       "      <td>motif_5</td>\n",
       "      <td>33661.00</td>\n",
       "      <td>741.003430</td>\n",
       "      <td>127.988611</td>\n",
       "      <td>0.062588</td>\n",
       "      <td>213.0</td>\n",
       "      <td>17930.0</td>\n",
       "      <td>177.5</td>\n",
       "      <td>168.356808</td>\n",
       "    </tr>\n",
       "    <tr>\n",
       "      <th>...</th>\n",
       "      <td>...</td>\n",
       "      <td>...</td>\n",
       "      <td>...</td>\n",
       "      <td>...</td>\n",
       "      <td>...</td>\n",
       "      <td>...</td>\n",
       "      <td>...</td>\n",
       "      <td>...</td>\n",
       "      <td>...</td>\n",
       "      <td>...</td>\n",
       "    </tr>\n",
       "    <tr>\n",
       "      <th>1490</th>\n",
       "      <td>111045742</td>\n",
       "      <td>motif_9</td>\n",
       "      <td>482.44</td>\n",
       "      <td>44.499139</td>\n",
       "      <td>48.170820</td>\n",
       "      <td>0.076639</td>\n",
       "      <td>149.0</td>\n",
       "      <td>3380.0</td>\n",
       "      <td>65.5</td>\n",
       "      <td>45.369128</td>\n",
       "    </tr>\n",
       "    <tr>\n",
       "      <th>1491</th>\n",
       "      <td>111045742</td>\n",
       "      <td>motif_10</td>\n",
       "      <td>577.92</td>\n",
       "      <td>41.198625</td>\n",
       "      <td>81.169700</td>\n",
       "      <td>0.129140</td>\n",
       "      <td>149.0</td>\n",
       "      <td>3380.0</td>\n",
       "      <td>65.5</td>\n",
       "      <td>45.369128</td>\n",
       "    </tr>\n",
       "    <tr>\n",
       "      <th>1492</th>\n",
       "      <td>111045742</td>\n",
       "      <td>motif_11</td>\n",
       "      <td>877.88</td>\n",
       "      <td>76.263971</td>\n",
       "      <td>6.072592</td>\n",
       "      <td>0.009661</td>\n",
       "      <td>149.0</td>\n",
       "      <td>3380.0</td>\n",
       "      <td>65.5</td>\n",
       "      <td>45.369128</td>\n",
       "    </tr>\n",
       "    <tr>\n",
       "      <th>1493</th>\n",
       "      <td>111045742</td>\n",
       "      <td>motif_12</td>\n",
       "      <td>354.12</td>\n",
       "      <td>50.406944</td>\n",
       "      <td>135.832079</td>\n",
       "      <td>0.216106</td>\n",
       "      <td>149.0</td>\n",
       "      <td>3380.0</td>\n",
       "      <td>65.5</td>\n",
       "      <td>45.369128</td>\n",
       "    </tr>\n",
       "    <tr>\n",
       "      <th>1494</th>\n",
       "      <td>111045742</td>\n",
       "      <td>motif_13</td>\n",
       "      <td>26.12</td>\n",
       "      <td>7.372923</td>\n",
       "      <td>588.352780</td>\n",
       "      <td>0.936059</td>\n",
       "      <td>149.0</td>\n",
       "      <td>3380.0</td>\n",
       "      <td>65.5</td>\n",
       "      <td>45.369128</td>\n",
       "    </tr>\n",
       "  </tbody>\n",
       "</table>\n",
       "<p>1495 rows × 10 columns</p>\n",
       "</div>"
      ],
      "text/plain": [
       "     graph_name     motif  average_count  standard_deviation     z_score  \\\n",
       "0     256497288   motif_1       52435.44          887.535214   22.877470   \n",
       "1     256497288   motif_2       36026.44          646.921175    1.198848   \n",
       "2     256497288   motif_3       72416.32         1275.567250  -28.681608   \n",
       "3     256497288   motif_4       24514.04          563.694545   50.319735   \n",
       "4     256497288   motif_5       33661.00          741.003430  127.988611   \n",
       "...         ...       ...            ...                 ...         ...   \n",
       "1490  111045742   motif_9         482.44           44.499139   48.170820   \n",
       "1491  111045742  motif_10         577.92           41.198625   81.169700   \n",
       "1492  111045742  motif_11         877.88           76.263971    6.072592   \n",
       "1493  111045742  motif_12         354.12           50.406944  135.832079   \n",
       "1494  111045742  motif_13          26.12            7.372923  588.352780   \n",
       "\n",
       "      significance_profile  nodes    edges  max_degree  avg_degree  \n",
       "0                 0.011187  213.0  17930.0       177.5  168.356808  \n",
       "1                 0.000586  213.0  17930.0       177.5  168.356808  \n",
       "2                -0.014026  213.0  17930.0       177.5  168.356808  \n",
       "3                 0.024607  213.0  17930.0       177.5  168.356808  \n",
       "4                 0.062588  213.0  17930.0       177.5  168.356808  \n",
       "...                    ...    ...      ...         ...         ...  \n",
       "1490              0.076639  149.0   3380.0        65.5   45.369128  \n",
       "1491              0.129140  149.0   3380.0        65.5   45.369128  \n",
       "1492              0.009661  149.0   3380.0        65.5   45.369128  \n",
       "1493              0.216106  149.0   3380.0        65.5   45.369128  \n",
       "1494              0.936059  149.0   3380.0        65.5   45.369128  \n",
       "\n",
       "[1495 rows x 10 columns]"
      ]
     },
     "execution_count": 5,
     "metadata": {},
     "output_type": "execute_result"
    }
   ],
   "source": [
    "motif_twitter"
   ]
  },
  {
   "cell_type": "markdown",
   "metadata": {},
   "source": [
    "### Twitter Original Egonets"
   ]
  },
  {
   "cell_type": "code",
   "execution_count": 6,
   "metadata": {},
   "outputs": [
    {
     "data": {
      "application/vnd.plotly.v1+json": {
       "config": {
        "plotlyServerURL": "https://plot.ly"
       },
       "data": [
        {
         "mode": "lines+markers",
         "name": "256497288",
         "type": "scatter",
         "x": [
          "motif_1",
          "motif_2",
          "motif_3",
          "motif_4",
          "motif_5",
          "motif_6",
          "motif_7",
          "motif_8",
          "motif_9",
          "motif_10",
          "motif_11",
          "motif_12",
          "motif_13"
         ],
         "y": [
          0.01118737834,
          0.000586252046,
          -0.01402567702,
          0.02460700058,
          0.06258808491,
          0.1249041193,
          0.02066161537,
          -0.01478574477,
          0.1027076729,
          0.1301510665,
          0.00521686327,
          0.2232278551,
          0.9495063926
         ]
        },
        {
         "mode": "lines+markers",
         "name": "86775971",
         "type": "scatter",
         "x": [
          "motif_1",
          "motif_2",
          "motif_3",
          "motif_4",
          "motif_5",
          "motif_6",
          "motif_7",
          "motif_8",
          "motif_9",
          "motif_10",
          "motif_11",
          "motif_12",
          "motif_13"
         ],
         "y": [
          -0.01127272102,
          0.002505407334,
          -0.03255079145,
          0.05855116005,
          0.04374423934,
          0.2103715769,
          -0.003768012758,
          -0.01841829973,
          0.09237081043,
          0.08282543017,
          -0.004250372455,
          0.1648520883,
          0.951981602
         ]
        },
        {
         "mode": "lines+markers",
         "name": "14338082",
         "type": "scatter",
         "x": [
          "motif_1",
          "motif_2",
          "motif_3",
          "motif_4",
          "motif_5",
          "motif_6",
          "motif_7",
          "motif_8",
          "motif_9",
          "motif_10",
          "motif_11",
          "motif_12",
          "motif_13"
         ],
         "y": [
          -0.02042182666,
          -0.01284198737,
          -0.05391081723,
          0.07881319297,
          0.06256073747,
          0.2668372861,
          -0.0046698198,
          -0.02549436212,
          0.1297920958,
          0.08763392904,
          0.01278347978,
          0.267747021,
          0.9045080462
         ]
        },
        {
         "mode": "lines+markers",
         "name": "7861312",
         "type": "scatter",
         "x": [
          "motif_1",
          "motif_2",
          "motif_3",
          "motif_4",
          "motif_5",
          "motif_6",
          "motif_7",
          "motif_8",
          "motif_9",
          "motif_10",
          "motif_11",
          "motif_12",
          "motif_13"
         ],
         "y": [
          -0.00906880165,
          -0.003743339063,
          -0.04269259824,
          0.04443401673,
          0.04895159139,
          0.2065890281,
          -0.006059427382,
          -0.02763611926,
          0.1205403329,
          0.09591512523,
          -0.003417125353,
          0.154304932,
          0.950094509
         ]
        },
        {
         "mode": "lines+markers",
         "name": "14203895",
         "type": "scatter",
         "x": [
          "motif_1",
          "motif_2",
          "motif_3",
          "motif_4",
          "motif_5",
          "motif_6",
          "motif_7",
          "motif_8",
          "motif_9",
          "motif_10",
          "motif_11",
          "motif_12",
          "motif_13"
         ],
         "y": [
          -0.018085471,
          -0.01509572111,
          -0.02941143117,
          0.04794985146,
          0.03858361568,
          0.2168792039,
          -0.01028319564,
          -0.01371900069,
          0.06985642939,
          0.0566461545,
          -0.002038456747,
          0.189454505,
          0.9505133889
         ]
        },
        {
         "mode": "lines+markers",
         "name": "311227912",
         "type": "scatter",
         "x": [
          "motif_1",
          "motif_2",
          "motif_3",
          "motif_4",
          "motif_5",
          "motif_6",
          "motif_7",
          "motif_8",
          "motif_9",
          "motif_10",
          "motif_11",
          "motif_12",
          "motif_13"
         ],
         "y": [
          -0.0043411377786323,
          -0.020016929274942,
          -0.0216611161172394,
          0.0256795733011376,
          0.0929792433065258,
          0.2371193221200401,
          -0.0147869807474142,
          -0.0156483291136524,
          0.0180411985725609,
          0.1003644561829411,
          -0.0130554397472784,
          0.174747680627938,
          0.9444638106957568
         ]
        },
        {
         "mode": "lines+markers",
         "name": "100318079",
         "type": "scatter",
         "x": [
          "motif_1",
          "motif_2",
          "motif_3",
          "motif_4",
          "motif_5",
          "motif_6",
          "motif_7",
          "motif_8",
          "motif_9",
          "motif_10",
          "motif_11",
          "motif_12",
          "motif_13"
         ],
         "y": [
          -0.0101675660712723,
          0.0324069493683057,
          -0.0344814920696107,
          0.0400859492803114,
          0.037079428842889,
          0.1808048056075375,
          0.0072779526232193,
          -0.0195528084747439,
          0.0813580099754932,
          0.1588685730609699,
          -0.0039302735248536,
          0.1609707501886086,
          0.9506653628697016
         ]
        },
        {
         "mode": "lines+markers",
         "name": "20060293",
         "type": "scatter",
         "x": [
          "motif_1",
          "motif_2",
          "motif_3",
          "motif_4",
          "motif_5",
          "motif_6",
          "motif_7",
          "motif_8",
          "motif_9",
          "motif_10",
          "motif_11",
          "motif_12",
          "motif_13"
         ],
         "y": [
          0.0426735922200053,
          0.0304685469428217,
          -0.0362738916351155,
          0.0986405512601714,
          0.1208855785926437,
          0.2488759883775395,
          0.0562297469271002,
          -0.0243329812139164,
          0.2058332107969617,
          0.2155165404392013,
          0.0424836675824771,
          0.3344861500602978,
          0.8386881917774104
         ]
        },
        {
         "mode": "lines+markers",
         "name": "39070445",
         "type": "scatter",
         "x": [
          "motif_1",
          "motif_2",
          "motif_3",
          "motif_4",
          "motif_5",
          "motif_6",
          "motif_7",
          "motif_8",
          "motif_9",
          "motif_10",
          "motif_11",
          "motif_12",
          "motif_13"
         ],
         "y": [
          0.1319046112916097,
          0.0114573144133206,
          -0.0551136505324014,
          0.0889404315278534,
          0.175177623939176,
          0.2228395085137952,
          0.1305176154659011,
          -0.0468855434914559,
          0.3777524434686424,
          0.3172949538667602,
          0.0356767940205805,
          0.2769559781915571,
          0.7420200780494873
         ]
        },
        {
         "mode": "lines+markers",
         "name": "98633794",
         "type": "scatter",
         "x": [
          "motif_1",
          "motif_2",
          "motif_3",
          "motif_4",
          "motif_5",
          "motif_6",
          "motif_7",
          "motif_8",
          "motif_9",
          "motif_10",
          "motif_11",
          "motif_12",
          "motif_13"
         ],
         "y": [
          0.003740343548938,
          -0.0007209382847242,
          -0.0339352803347195,
          0.0675456662876878,
          0.0928312992615395,
          0.2813581393982488,
          0.0133672226886294,
          -0.0252817208307155,
          0.1433073342687973,
          0.1465781428649275,
          0.0046082540652126,
          0.2469895509606234,
          0.8958941626684832
         ]
        },
        {
         "mode": "lines+markers",
         "name": "11027262",
         "type": "scatter",
         "x": [
          "motif_1",
          "motif_2",
          "motif_3",
          "motif_4",
          "motif_5",
          "motif_6",
          "motif_7",
          "motif_8",
          "motif_9",
          "motif_10",
          "motif_11",
          "motif_12",
          "motif_13"
         ],
         "y": [
          -0.0198148060303591,
          0.0057593990946773,
          -0.0481233533125843,
          0.0470717022929098,
          0.0625758280977115,
          0.3344731322000749,
          -0.0106169141766032,
          -0.0205383064835299,
          0.0313194359223178,
          0.164219466881707,
          -0.005644675175511,
          0.1269614614295168,
          0.9135754121866456
         ]
        },
        {
         "mode": "lines+markers",
         "name": "64496469",
         "type": "scatter",
         "x": [
          "motif_1",
          "motif_2",
          "motif_3",
          "motif_4",
          "motif_5",
          "motif_6",
          "motif_7",
          "motif_8",
          "motif_9",
          "motif_10",
          "motif_11",
          "motif_12",
          "motif_13"
         ],
         "y": [
          0.0078672274378516,
          -0.0145188732264301,
          -0.0351890972448687,
          0.0571827976796467,
          0.0837371798136546,
          0.1707695724102898,
          -0.0037483332507107,
          -0.0237526549291772,
          0.1853765848626341,
          0.123918309264252,
          0.0247965830007337,
          0.2280724778272785,
          0.92526461734878
         ]
        },
        {
         "mode": "lines+markers",
         "name": "105398724",
         "type": "scatter",
         "x": [
          "motif_1",
          "motif_2",
          "motif_3",
          "motif_4",
          "motif_5",
          "motif_6",
          "motif_7",
          "motif_8",
          "motif_9",
          "motif_10",
          "motif_11",
          "motif_12",
          "motif_13"
         ],
         "y": [
          0.0281544761840834,
          -0.0019170748184024,
          -0.0066945198633244,
          0.0502522734668626,
          0.1566925674280971,
          0.0958424361512326,
          -0.0051229953962192,
          -0.009315502489932,
          0.1899728085541224,
          0.1580747851592318,
          -0.001961913539027,
          0.0710161597595051,
          0.9469201318180268
         ]
        },
        {
         "mode": "lines+markers",
         "name": "33511585",
         "type": "scatter",
         "x": [
          "motif_1",
          "motif_2",
          "motif_3",
          "motif_4",
          "motif_5",
          "motif_6",
          "motif_7",
          "motif_8",
          "motif_9",
          "motif_10",
          "motif_11",
          "motif_12",
          "motif_13"
         ],
         "y": [
          -0.0315924221275214,
          -0.0350231872428145,
          -0.0423767687522008,
          0.0122933365239944,
          0.0279412263397491,
          0.159432136990588,
          -0.0132167438054822,
          -0.0211974823449256,
          0.0615692654579791,
          0.0675065474743947,
          0.0009303811279309,
          0.1534779179061621,
          0.968039668227786
         ]
        },
        {
         "mode": "lines+markers",
         "name": "111045742",
         "type": "scatter",
         "x": [
          "motif_1",
          "motif_2",
          "motif_3",
          "motif_4",
          "motif_5",
          "motif_6",
          "motif_7",
          "motif_8",
          "motif_9",
          "motif_10",
          "motif_11",
          "motif_12",
          "motif_13"
         ],
         "y": [
          -0.0079929387276238,
          -0.0176418499921695,
          -0.0354146985161422,
          0.027591991941488,
          0.0564826078609177,
          0.220191811650933,
          0.0009449607965139,
          -0.0195412113534249,
          0.0766389148481131,
          0.129139543714981,
          0.009661385822586,
          0.2161064128723734,
          0.9360587691419368
         ]
        }
       ],
       "layout": {
        "images": [
         {
          "sizex": 0.5,
          "sizey": 0.5,
          "source": "data:image/png;base64,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",
          "x": "motif_1",
          "xanchor": "center",
          "xref": "x",
          "y": -0.07,
          "yanchor": "top",
          "yref": "paper"
         },
         {
          "sizex": 0.5,
          "sizey": 0.5,
          "source": "data:image/png;base64,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",
          "x": "motif_2",
          "xanchor": "center",
          "xref": "x",
          "y": -0.07,
          "yanchor": "top",
          "yref": "paper"
         },
         {
          "sizex": 0.5,
          "sizey": 0.5,
          "source": "data:image/png;base64,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",
          "x": "motif_3",
          "xanchor": "center",
          "xref": "x",
          "y": -0.07,
          "yanchor": "top",
          "yref": "paper"
         },
         {
          "sizex": 0.5,
          "sizey": 0.5,
          "source": "data:image/png;base64,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",
          "x": "motif_4",
          "xanchor": "center",
          "xref": "x",
          "y": -0.07,
          "yanchor": "top",
          "yref": "paper"
         },
         {
          "sizex": 0.5,
          "sizey": 0.5,
          "source": "data:image/png;base64,iVBORw0KGgoAAAANSUhEUgAAAPoAAAD6CAMAAAC/MqoPAAABvFBMVEVHcExzc3NycnJycnJzc3P/AP9ycnJwcHBycnJzc3NwcHBycnJycnKAgICITP9xcXGAgICIVf+MU/9zc3NycnKLUv9ycnKQTv+SSf+NUv9zc3Nzc3N0dHRvb29ycnKMUf9xcXFzc3NxcXGNUf+MUf9ycnKMUf+LTf9zc3OOVf9ycnKLUP+LUf9zc3OLUv+LUf+LUf9zc3OMUf+LUf+LUv+MUf+MUf+AAP+LUf+QTf+LUf+LUf+LUv9zc3OMUf9zc3Nzc3OMUP9zc3OLUv+LUv+MUf+LUf+LUf+LUv+OT/+MUf90dHSMUf+MUv9ycnKOVf+LUv+OTP+KUf+LUf+MUf9ycnKNUv+LUv9xcXFycnKMUv9ycnJzc3NycnJ0dHRxcXFzc3NycnJycnJzc3NycnJycnJ1dXVzc3OMUf9ycnKMUf9zc3OWPv+LUf9ycnKMUf+LUf+NUv9ycnKMUf+OUP9ycnKKUf+MUP+LUv9gYGBycnJycnJycnJzc3OMUv96aZdycnJzc3NwcHBzc3OGWt2MUf+MUf+BXclxcXGFWdiAYbmAX8GEWtp/ZbJ4a5F6Z6CKU/ZxcXGMUv9zc3NqLTjcAAAAknRSTlMAFPyYuAH4KajVDIjqBh5IAg8o4B35xxcDYPB4Nx7KkDbzWCbQcO0hvQlgQPzYmMDTVNywgMzyAukLbHvhna3jojOVcPC82LTELVcW/lQvEsgbSGVbhE73CbCoOmj2dT9q+tJbGbUjjofe5lAFOV5DjX/t3zZldFBLBIB/6Hr0SkXEEK2lt6BZNJiyl8+Lw+PPv3JI+boAAAuBSURBVHic7Z37Q9NIHsCDWB/gFkGgsC6yCrYiCFjeFBB0eci5IKDiii6o3AFuEfFxgKuuj113732X/MPXtJk0k/dM5pGp+fzUQvqd7zdN85lMJokkRURERERERERERERERERERERUJ+KplpZUPFHNOxOmbGcm38k67yYzL3lnxIaFzJRsYSqT4J0XdSbGrHUXGJvgnRtV7nQ7Fa7St8M7P2oM9bgVrvJ5iHeOdJhIe1Uuy+lS3Opjf63zrlyW667FeGdKnGE/hatc450paXxXXnK1I1ReYrW3d6CUXtfOO19yxAdRKpflwTjvjEkx1IdWea5zk+WdMyEyqJWXzM+9uh+99MHSOJTdRK9cljd5Z02CuK9enJnlFO+8CdCLU7ks9/LOOzixEbzSX4jfl1/Eq1yWxe/X3MMtvZN35oHB3N5leYR35kGJ41Yuy6IPVO7hl77IO/eAYKpNRXS9deKXLvp+znMQ1pl7vHMPyAx+6ZO8cw+I6zkHd7p55x4QbK2LL/Yv+FsP8Fuf4Z17QALs4Xt45x6QZvzSRR+oQTr3ALPEO/eALOKXvs0794DMI513MbLcxjv3oLTilt7FO/PAYB+67fLOPDA1mJXfKIHRaMwtXvztXZIa8Uqf5Z03AbJpnMpbeadNhFmc0vd5Z02GSfTKf+OdMyFqkE841tXwzpkU11BLL5GZBSqIh67TvPMlSLXNPHBnuktjSoVGS9J/5ckF3tmS5aXv2pMld0lEyuc231oyc+aKVDte/2BkrDRnxA97+r3ub2f+xDtLKqz84jE0PfNvRSnnnSV5qi4oinLlXy+cCx/5+5HcIoe+4Z0pWSrWLil5Dp275XD83vePN4VF6nknS5Laja8VwIMD6fqztLnuqc2WD/oil3nnS4zVHxQj79W/LSx1zmiiT850Nqp9mNP6Eqe+4pswKZ4+UmB+1P8VG8hmB/SJgV+d0hc5zSVTspS9fqOYueq08Dl9ka/LWCZJg7nxI5bCFeXPjsvX68uILbiTlz/Y1J3juONHvtGXEVlwH3+8Yl94bhfv/KlxfSFxBXfuuVPhOZx7qmVFB55jmC1JfnIpXFH+cP6g+IJz3NjzuPRYhBfcX1wrN4jdiuiC+wMudctUuqPYVQQX3MHDYp1vbq8eMpXuLHYJEtxRVvmSZAOkX//4QDps3uCdxa5yTF/uMKNsiXK3cMAyOpd7XWX5rbuIPUeT6IKbq/y0lt9PnTxuKV1x34GJLziN83ohJ/TdnYvYpRIQnEbZWb2OixfAK4+hCNEFp1Gul1EvjYKXbmJXEVxwBY4Wxfat9DN46Sp2SXzB5SmK7ZgkPQWvXcWuIrjgVIpiO1IrSavgjbvYpRIQnFFslbm3TeCNu9hVhBecQWwVubcH+g/f89yS6IIzii3/B72eWs/PCi64cj19bbhJH4+/6/1hoQUHiS3PK+3tuI9PCy04SGx57hb6c1u+TiMLLDhYbAUqrirK81F/J9CbimP4P1FLkgomsWHwWlTBmcSGgaiCs4gNA0EFZxEbDkIKzio2HIQUnFVsWAgoODux4SCe4IKLDSCc4IKLDSCa4EiIDSCY4IiIDSCU4MiIDSCU4AiJDSCQ4EiJDWAQXBWJePQgJzZApR7weLgFR05sgApBBEdSbABBBEdUbAAhBEdWbAAhBEdYbAABBEdabIDwC4682AChFxx5sQHCLjgaYgOEXHBUxAYIteDoiA0QasFREhsgxIKjJTZAeAVHT2wAg+BO0mkBE3piA1Sc0Js4T6cFPGiKDXAxnIKjKjZAKAVHV2yAUAqOstgAIRQcbbEBwic4+mIDhE5w9MUGCJvgWIgNEDLBMREbIFSCYyM2QKgEx0hsgBAJjpXYADwFV7mlPCpeuMNObHr7NoJrunpJ2bpNu+XC9n0BvGUnNoBBcPe1P9UWrhr/gW7Da1qr2ipmKTbA/eLa1gQHbvTwimq74C4zVwpvmYpN46RFcOAqoTNU29XvM5Of2s1WbACz4NbB21NUm92CSmUsNoBJcCvg3SWqrUIXprIWG8AkuMfQiqCG8cJU9mIDwIJ7a/rpU8J4YSp7sQFgwZWD12+pNmq4MJWH2AAGwVUU9ziPqbZpuDBVX9kcbptkENyGdAm8XKHaZvHCVD5iAxgFp98QZZ1um3rB/9MbZyo2QFFweiKHKDdpvsGOLrbL4+XvKbed4335eOF+D03We9nR1bpB7Dqq2NZv5/e5nyjv6T/mL4s9Uamu7EpLIrQP4EfNDeZ2sXPj4Od2wTtAAGJgvR/6tGoUnAbtIaufzQ1evFxvePctzbZXDA0dv79mzoT2NJunpvZOwXdYW6PZ9nmoqbPm+/nRvrnDquIK1dvfmle7Cdo3pKx1b76JZtseN7KjrHVJcm2d8vjYhmvjdNuW7MSu8/DtAd22D14/dG6dttbtxK5x9irVrb1A7cZZp/Y97/QTGIvYtXW+5uPmGySoWHPY7uifibKIXeVwVcz7k6SIVdluefRnz1oN86Cc+emvo6MPLGnQ0PpAQ7ah+KWumFq8cvojhTY9KXtrvgl58Q5+sVzCA8HCV+81z6T7tRv3P2kdG1aft7UOtVfP8f5Yj+Fbz6vnI2qGx1qfaAn3p2ea72A9Mqltdtr6iNV0b0o6U2zt2BzhahBZKR61Kx+kll7LgxbkjulZ1Me9Vu86PZho+nfNrc9vU+8+ebNeqfXkj/w+7ZBwMoPy1Sc2v3OIo/JP9Yjl0auQXIpx9746Jv6f/7ok/N1mwm+0HeuGA29Fv1Zx3tJh5n751ePxx907vgI1ZLwfo9zdQrkaJFq6PRPuyPjoeCS6POPk6P+efkV++b7fO19Z/m3eK07Cew0WVuMtFlX5Ydbns75bPX7w8bS/OLJ8Y5hNZV4s3fCb8ZTrk+LabvqNI8t1/nYdlNlBeL77TRfFD/h62hyg/zq7Cp247ut3DhhzDoT4PNUX3J+sWT2ClrHj81/bUZ+i28OyTDucenBO1Dk8EjOLuApzNLKt1Az6881HsraBepEDyUmum/w8wsNfAb12gdAfGp2jmXW5RjoxEq6zM9xnjEDysu8DA/IklnEy/mwNlEIQpAGOX3szVsId1sMPvEDyO26PlB16h5ex5cvKDuIF4reTR9+9Fxg0H8PtYQaSu7jUncPXEaYd7aZAmNt7bkeHOvZFiDasnZyKeYt3eHCsD8wrkRHt2Am3woHasAPJu3xK38XPGN5O4/iBOHXke/Azhns1E/iBpviU7vNJ9nZMQIF28APJfEoPkDA8xnInQCSGJ1mLxAIkfAeKNPsllT4LRcLtGnErfSBAwvBg8q0vqXT4W/+iNvg9KNJ+gEg8Kg+0h9+HAm3jBxrkU7rbuWAPtqFANfiBOB26IZwsMQMPViTwA3XyKR1nYE4DHkuNYQxuanAaq8DXcdK0X8Y/GkjxKT2FnbD5eAvxnFORF1wKz/HEOzd7zKeIU77P1ZrgNiSLO650wzJ+jjvUNWGXFgtwj7OtRsLsyvZxKFqjDy9j63SQbBor0J5NTozAG0RON1gjYdmi1RqHGTGsr93OxQ04/SNOw7EFFjES7rP50iXpJfpZt3usq4VB74x0OOyVkfuG/QtsSzWzgHwM46TiIdRNft8hEDNQ93R99pMqcqTQevKbLKu05xlSwkmXmXM7KDMrxgJeaUACpOlu7jP9EAzXzek8I0wbwslCj2PMW36/90nP6bZsmJ/0mfDyrFeobX9HRFznD8H4E9MTH3M7/cwKD9OccH+zwrv8zXfKeMW5WUO5GERqPLu0Gb+hUq6/n+QSl5F3NwaWXLU8jTKS1O5YfHKX+6RgO6ozjsVPos5en+i0i9XVyG2ymBdDjXY7qWQn1ljK/jNImsmxYdfrCPgTH+6BevXdzYv4wbLz8Zo8LYnQft0wQ4mWQsbxeccOe0RERERERERERERERERERETo+D+uGDkp9NyDgwAAAABJRU5ErkJggg==",
          "x": "motif_5",
          "xanchor": "center",
          "xref": "x",
          "y": -0.07,
          "yanchor": "top",
          "yref": "paper"
         },
         {
          "sizex": 0.5,
          "sizey": 0.5,
          "source": "data:image/png;base64,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",
          "x": "motif_6",
          "xanchor": "center",
          "xref": "x",
          "y": -0.07,
          "yanchor": "top",
          "yref": "paper"
         },
         {
          "sizex": 0.5,
          "sizey": 0.5,
          "source": "data:image/png;base64,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",
          "x": "motif_7",
          "xanchor": "center",
          "xref": "x",
          "y": -0.07,
          "yanchor": "top",
          "yref": "paper"
         },
         {
          "sizex": 0.5,
          "sizey": 0.5,
          "source": "data:image/png;base64,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",
          "x": "motif_8",
          "xanchor": "center",
          "xref": "x",
          "y": -0.07,
          "yanchor": "top",
          "yref": "paper"
         },
         {
          "sizex": 0.5,
          "sizey": 0.5,
          "source": "data:image/png;base64,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",
          "x": "motif_9",
          "xanchor": "center",
          "xref": "x",
          "y": -0.07,
          "yanchor": "top",
          "yref": "paper"
         },
         {
          "sizex": 0.5,
          "sizey": 0.5,
          "source": "data:image/png;base64,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",
          "x": "motif_10",
          "xanchor": "center",
          "xref": "x",
          "y": -0.07,
          "yanchor": "top",
          "yref": "paper"
         },
         {
          "sizex": 0.5,
          "sizey": 0.5,
          "source": "data:image/png;base64,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",
          "x": "motif_11",
          "xanchor": "center",
          "xref": "x",
          "y": -0.07,
          "yanchor": "top",
          "yref": "paper"
         },
         {
          "sizex": 0.5,
          "sizey": 0.5,
          "source": "data:image/png;base64,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",
          "x": "motif_12",
          "xanchor": "center",
          "xref": "x",
          "y": -0.07,
          "yanchor": "top",
          "yref": "paper"
         },
         {
          "sizex": 0.5,
          "sizey": 0.5,
          "source": "data:image/png;base64,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",
          "x": "motif_13",
          "xanchor": "center",
          "xref": "x",
          "y": -0.07,
          "yanchor": "top",
          "yref": "paper"
         }
        ],
        "template": {
         "data": {
          "bar": [
           {
            "error_x": {
             "color": "#2a3f5f"
            },
            "error_y": {
             "color": "#2a3f5f"
            },
            "marker": {
             "line": {
              "color": "#E5ECF6",
              "width": 0.5
             },
             "pattern": {
              "fillmode": "overlay",
              "size": 10,
              "solidity": 0.2
             }
            },
            "type": "bar"
           }
          ],
          "barpolar": [
           {
            "marker": {
             "line": {
              "color": "#E5ECF6",
              "width": 0.5
             },
             "pattern": {
              "fillmode": "overlay",
              "size": 10,
              "solidity": 0.2
             }
            },
            "type": "barpolar"
           }
          ],
          "carpet": [
           {
            "aaxis": {
             "endlinecolor": "#2a3f5f",
             "gridcolor": "white",
             "linecolor": "white",
             "minorgridcolor": "white",
             "startlinecolor": "#2a3f5f"
            },
            "baxis": {
             "endlinecolor": "#2a3f5f",
             "gridcolor": "white",
             "linecolor": "white",
             "minorgridcolor": "white",
             "startlinecolor": "#2a3f5f"
            },
            "type": "carpet"
           }
          ],
          "choropleth": [
           {
            "colorbar": {
             "outlinewidth": 0,
             "ticks": ""
            },
            "type": "choropleth"
           }
          ],
          "contour": [
           {
            "colorbar": {
             "outlinewidth": 0,
             "ticks": ""
            },
            "colorscale": [
             [
              0,
              "#0d0887"
             ],
             [
              0.1111111111111111,
              "#46039f"
             ],
             [
              0.2222222222222222,
              "#7201a8"
             ],
             [
              0.3333333333333333,
              "#9c179e"
             ],
             [
              0.4444444444444444,
              "#bd3786"
             ],
             [
              0.5555555555555556,
              "#d8576b"
             ],
             [
              0.6666666666666666,
              "#ed7953"
             ],
             [
              0.7777777777777778,
              "#fb9f3a"
             ],
             [
              0.8888888888888888,
              "#fdca26"
             ],
             [
              1,
              "#f0f921"
             ]
            ],
            "type": "contour"
           }
          ],
          "contourcarpet": [
           {
            "colorbar": {
             "outlinewidth": 0,
             "ticks": ""
            },
            "type": "contourcarpet"
           }
          ],
          "heatmap": [
           {
            "colorbar": {
             "outlinewidth": 0,
             "ticks": ""
            },
            "colorscale": [
             [
              0,
              "#0d0887"
             ],
             [
              0.1111111111111111,
              "#46039f"
             ],
             [
              0.2222222222222222,
              "#7201a8"
             ],
             [
              0.3333333333333333,
              "#9c179e"
             ],
             [
              0.4444444444444444,
              "#bd3786"
             ],
             [
              0.5555555555555556,
              "#d8576b"
             ],
             [
              0.6666666666666666,
              "#ed7953"
             ],
             [
              0.7777777777777778,
              "#fb9f3a"
             ],
             [
              0.8888888888888888,
              "#fdca26"
             ],
             [
              1,
              "#f0f921"
             ]
            ],
            "type": "heatmap"
           }
          ],
          "heatmapgl": [
           {
            "colorbar": {
             "outlinewidth": 0,
             "ticks": ""
            },
            "colorscale": [
             [
              0,
              "#0d0887"
             ],
             [
              0.1111111111111111,
              "#46039f"
             ],
             [
              0.2222222222222222,
              "#7201a8"
             ],
             [
              0.3333333333333333,
              "#9c179e"
             ],
             [
              0.4444444444444444,
              "#bd3786"
             ],
             [
              0.5555555555555556,
              "#d8576b"
             ],
             [
              0.6666666666666666,
              "#ed7953"
             ],
             [
              0.7777777777777778,
              "#fb9f3a"
             ],
             [
              0.8888888888888888,
              "#fdca26"
             ],
             [
              1,
              "#f0f921"
             ]
            ],
            "type": "heatmapgl"
           }
          ],
          "histogram": [
           {
            "marker": {
             "pattern": {
              "fillmode": "overlay",
              "size": 10,
              "solidity": 0.2
             }
            },
            "type": "histogram"
           }
          ],
          "histogram2d": [
           {
            "colorbar": {
             "outlinewidth": 0,
             "ticks": ""
            },
            "colorscale": [
             [
              0,
              "#0d0887"
             ],
             [
              0.1111111111111111,
              "#46039f"
             ],
             [
              0.2222222222222222,
              "#7201a8"
             ],
             [
              0.3333333333333333,
              "#9c179e"
             ],
             [
              0.4444444444444444,
              "#bd3786"
             ],
             [
              0.5555555555555556,
              "#d8576b"
             ],
             [
              0.6666666666666666,
              "#ed7953"
             ],
             [
              0.7777777777777778,
              "#fb9f3a"
             ],
             [
              0.8888888888888888,
              "#fdca26"
             ],
             [
              1,
              "#f0f921"
             ]
            ],
            "type": "histogram2d"
           }
          ],
          "histogram2dcontour": [
           {
            "colorbar": {
             "outlinewidth": 0,
             "ticks": ""
            },
            "colorscale": [
             [
              0,
              "#0d0887"
             ],
             [
              0.1111111111111111,
              "#46039f"
             ],
             [
              0.2222222222222222,
              "#7201a8"
             ],
             [
              0.3333333333333333,
              "#9c179e"
             ],
             [
              0.4444444444444444,
              "#bd3786"
             ],
             [
              0.5555555555555556,
              "#d8576b"
             ],
             [
              0.6666666666666666,
              "#ed7953"
             ],
             [
              0.7777777777777778,
              "#fb9f3a"
             ],
             [
              0.8888888888888888,
              "#fdca26"
             ],
             [
              1,
              "#f0f921"
             ]
            ],
            "type": "histogram2dcontour"
           }
          ],
          "mesh3d": [
           {
            "colorbar": {
             "outlinewidth": 0,
             "ticks": ""
            },
            "type": "mesh3d"
           }
          ],
          "parcoords": [
           {
            "line": {
             "colorbar": {
              "outlinewidth": 0,
              "ticks": ""
             }
            },
            "type": "parcoords"
           }
          ],
          "pie": [
           {
            "automargin": true,
            "type": "pie"
           }
          ],
          "scatter": [
           {
            "fillpattern": {
             "fillmode": "overlay",
             "size": 10,
             "solidity": 0.2
            },
            "type": "scatter"
           }
          ],
          "scatter3d": [
           {
            "line": {
             "colorbar": {
              "outlinewidth": 0,
              "ticks": ""
             }
            },
            "marker": {
             "colorbar": {
              "outlinewidth": 0,
              "ticks": ""
             }
            },
            "type": "scatter3d"
           }
          ],
          "scattercarpet": [
           {
            "marker": {
             "colorbar": {
              "outlinewidth": 0,
              "ticks": ""
             }
            },
            "type": "scattercarpet"
           }
          ],
          "scattergeo": [
           {
            "marker": {
             "colorbar": {
              "outlinewidth": 0,
              "ticks": ""
             }
            },
            "type": "scattergeo"
           }
          ],
          "scattergl": [
           {
            "marker": {
             "colorbar": {
              "outlinewidth": 0,
              "ticks": ""
             }
            },
            "type": "scattergl"
           }
          ],
          "scattermapbox": [
           {
            "marker": {
             "colorbar": {
              "outlinewidth": 0,
              "ticks": ""
             }
            },
            "type": "scattermapbox"
           }
          ],
          "scatterpolar": [
           {
            "marker": {
             "colorbar": {
              "outlinewidth": 0,
              "ticks": ""
             }
            },
            "type": "scatterpolar"
           }
          ],
          "scatterpolargl": [
           {
            "marker": {
             "colorbar": {
              "outlinewidth": 0,
              "ticks": ""
             }
            },
            "type": "scatterpolargl"
           }
          ],
          "scatterternary": [
           {
            "marker": {
             "colorbar": {
              "outlinewidth": 0,
              "ticks": ""
             }
            },
            "type": "scatterternary"
           }
          ],
          "surface": [
           {
            "colorbar": {
             "outlinewidth": 0,
             "ticks": ""
            },
            "colorscale": [
             [
              0,
              "#0d0887"
             ],
             [
              0.1111111111111111,
              "#46039f"
             ],
             [
              0.2222222222222222,
              "#7201a8"
             ],
             [
              0.3333333333333333,
              "#9c179e"
             ],
             [
              0.4444444444444444,
              "#bd3786"
             ],
             [
              0.5555555555555556,
              "#d8576b"
             ],
             [
              0.6666666666666666,
              "#ed7953"
             ],
             [
              0.7777777777777778,
              "#fb9f3a"
             ],
             [
              0.8888888888888888,
              "#fdca26"
             ],
             [
              1,
              "#f0f921"
             ]
            ],
            "type": "surface"
           }
          ],
          "table": [
           {
            "cells": {
             "fill": {
              "color": "#EBF0F8"
             },
             "line": {
              "color": "white"
             }
            },
            "header": {
             "fill": {
              "color": "#C8D4E3"
             },
             "line": {
              "color": "white"
             }
            },
            "type": "table"
           }
          ]
         },
         "layout": {
          "annotationdefaults": {
           "arrowcolor": "#2a3f5f",
           "arrowhead": 0,
           "arrowwidth": 1
          },
          "autotypenumbers": "strict",
          "coloraxis": {
           "colorbar": {
            "outlinewidth": 0,
            "ticks": ""
           }
          },
          "colorscale": {
           "diverging": [
            [
             0,
             "#8e0152"
            ],
            [
             0.1,
             "#c51b7d"
            ],
            [
             0.2,
             "#de77ae"
            ],
            [
             0.3,
             "#f1b6da"
            ],
            [
             0.4,
             "#fde0ef"
            ],
            [
             0.5,
             "#f7f7f7"
            ],
            [
             0.6,
             "#e6f5d0"
            ],
            [
             0.7,
             "#b8e186"
            ],
            [
             0.8,
             "#7fbc41"
            ],
            [
             0.9,
             "#4d9221"
            ],
            [
             1,
             "#276419"
            ]
           ],
           "sequential": [
            [
             0,
             "#0d0887"
            ],
            [
             0.1111111111111111,
             "#46039f"
            ],
            [
             0.2222222222222222,
             "#7201a8"
            ],
            [
             0.3333333333333333,
             "#9c179e"
            ],
            [
             0.4444444444444444,
             "#bd3786"
            ],
            [
             0.5555555555555556,
             "#d8576b"
            ],
            [
             0.6666666666666666,
             "#ed7953"
            ],
            [
             0.7777777777777778,
             "#fb9f3a"
            ],
            [
             0.8888888888888888,
             "#fdca26"
            ],
            [
             1,
             "#f0f921"
            ]
           ],
           "sequentialminus": [
            [
             0,
             "#0d0887"
            ],
            [
             0.1111111111111111,
             "#46039f"
            ],
            [
             0.2222222222222222,
             "#7201a8"
            ],
            [
             0.3333333333333333,
             "#9c179e"
            ],
            [
             0.4444444444444444,
             "#bd3786"
            ],
            [
             0.5555555555555556,
             "#d8576b"
            ],
            [
             0.6666666666666666,
             "#ed7953"
            ],
            [
             0.7777777777777778,
             "#fb9f3a"
            ],
            [
             0.8888888888888888,
             "#fdca26"
            ],
            [
             1,
             "#f0f921"
            ]
           ]
          },
          "colorway": [
           "#636efa",
           "#EF553B",
           "#00cc96",
           "#ab63fa",
           "#FFA15A",
           "#19d3f3",
           "#FF6692",
           "#B6E880",
           "#FF97FF",
           "#FECB52"
          ],
          "font": {
           "color": "#2a3f5f"
          },
          "geo": {
           "bgcolor": "white",
           "lakecolor": "white",
           "landcolor": "#E5ECF6",
           "showlakes": true,
           "showland": true,
           "subunitcolor": "white"
          },
          "hoverlabel": {
           "align": "left"
          },
          "hovermode": "closest",
          "mapbox": {
           "style": "light"
          },
          "paper_bgcolor": "white",
          "plot_bgcolor": "#E5ECF6",
          "polar": {
           "angularaxis": {
            "gridcolor": "white",
            "linecolor": "white",
            "ticks": ""
           },
           "bgcolor": "#E5ECF6",
           "radialaxis": {
            "gridcolor": "white",
            "linecolor": "white",
            "ticks": ""
           }
          },
          "scene": {
           "xaxis": {
            "backgroundcolor": "#E5ECF6",
            "gridcolor": "white",
            "gridwidth": 2,
            "linecolor": "white",
            "showbackground": true,
            "ticks": "",
            "zerolinecolor": "white"
           },
           "yaxis": {
            "backgroundcolor": "#E5ECF6",
            "gridcolor": "white",
            "gridwidth": 2,
            "linecolor": "white",
            "showbackground": true,
            "ticks": "",
            "zerolinecolor": "white"
           },
           "zaxis": {
            "backgroundcolor": "#E5ECF6",
            "gridcolor": "white",
            "gridwidth": 2,
            "linecolor": "white",
            "showbackground": true,
            "ticks": "",
            "zerolinecolor": "white"
           }
          },
          "shapedefaults": {
           "line": {
            "color": "#2a3f5f"
           }
          },
          "ternary": {
           "aaxis": {
            "gridcolor": "white",
            "linecolor": "white",
            "ticks": ""
           },
           "baxis": {
            "gridcolor": "white",
            "linecolor": "white",
            "ticks": ""
           },
           "bgcolor": "#E5ECF6",
           "caxis": {
            "gridcolor": "white",
            "linecolor": "white",
            "ticks": ""
           }
          },
          "title": {
           "x": 0.05
          },
          "xaxis": {
           "automargin": true,
           "gridcolor": "white",
           "linecolor": "white",
           "ticks": "",
           "title": {
            "standoff": 15
           },
           "zerolinecolor": "white",
           "zerolinewidth": 2
          },
          "yaxis": {
           "automargin": true,
           "gridcolor": "white",
           "linecolor": "white",
           "ticks": "",
           "title": {
            "standoff": 15
           },
           "zerolinecolor": "white",
           "zerolinewidth": 2
          }
         }
        },
        "title": {
         "text": "Z-scores for Twitter Original Graphs from twitter.csv"
        },
        "xaxis": {
         "showticklabels": true,
         "tickvals": [
          "motif_1",
          "motif_2",
          "motif_3",
          "motif_4",
          "motif_5",
          "motif_6",
          "motif_7",
          "motif_8",
          "motif_9",
          "motif_10",
          "motif_11",
          "motif_12",
          "motif_13"
         ],
         "title": {}
        },
        "yaxis": {
         "title": {
          "text": "significance_profile"
         }
        }
       }
      }
     },
     "metadata": {},
     "output_type": "display_data"
    }
   ],
   "source": [
    "# Plot only the original graphs of Twitter\n",
    "gru.plot_line_chart_with_images(\n",
    "    motif_twitter[~motif_twitter[\"graph_name\"].str.contains(\"sample\")],\n",
    "    f\"Z-scores for Twitter Original Graphs from {file_name}\",\n",
    "    \"motif\",\n",
    "    \"significance_profile\",\n",
    "    IMAGES_PATH\n",
    ")"
   ]
  },
  {
   "cell_type": "code",
   "execution_count": 7,
   "metadata": {},
   "outputs": [
    {
     "data": {
      "text/html": [
       "<div>\n",
       "<style scoped>\n",
       "    .dataframe tbody tr th:only-of-type {\n",
       "        vertical-align: middle;\n",
       "    }\n",
       "\n",
       "    .dataframe tbody tr th {\n",
       "        vertical-align: top;\n",
       "    }\n",
       "\n",
       "    .dataframe thead th {\n",
       "        text-align: right;\n",
       "    }\n",
       "</style>\n",
       "<table border=\"1\" class=\"dataframe\">\n",
       "  <thead>\n",
       "    <tr style=\"text-align: right;\">\n",
       "      <th></th>\n",
       "      <th>graph_name</th>\n",
       "      <th>nodes</th>\n",
       "      <th>edges</th>\n",
       "      <th>max_degree</th>\n",
       "      <th>avg_degree</th>\n",
       "    </tr>\n",
       "  </thead>\n",
       "  <tbody>\n",
       "    <tr>\n",
       "      <th>1456</th>\n",
       "      <td>105398724</td>\n",
       "      <td>21.0</td>\n",
       "      <td>166.0</td>\n",
       "      <td>14.5</td>\n",
       "      <td>15.809524</td>\n",
       "    </tr>\n",
       "    <tr>\n",
       "      <th>1365</th>\n",
       "      <td>311227912</td>\n",
       "      <td>35.0</td>\n",
       "      <td>276.0</td>\n",
       "      <td>24.5</td>\n",
       "      <td>15.771429</td>\n",
       "    </tr>\n",
       "    <tr>\n",
       "      <th>1443</th>\n",
       "      <td>64496469</td>\n",
       "      <td>41.0</td>\n",
       "      <td>400.0</td>\n",
       "      <td>23.5</td>\n",
       "      <td>19.512195</td>\n",
       "    </tr>\n",
       "    <tr>\n",
       "      <th>1404</th>\n",
       "      <td>39070445</td>\n",
       "      <td>67.0</td>\n",
       "      <td>654.0</td>\n",
       "      <td>37.5</td>\n",
       "      <td>19.522388</td>\n",
       "    </tr>\n",
       "    <tr>\n",
       "      <th>1417</th>\n",
       "      <td>98633794</td>\n",
       "      <td>141.0</td>\n",
       "      <td>2354.0</td>\n",
       "      <td>64.5</td>\n",
       "      <td>33.390071</td>\n",
       "    </tr>\n",
       "    <tr>\n",
       "      <th>1482</th>\n",
       "      <td>111045742</td>\n",
       "      <td>149.0</td>\n",
       "      <td>3380.0</td>\n",
       "      <td>65.5</td>\n",
       "      <td>45.369128</td>\n",
       "    </tr>\n",
       "    <tr>\n",
       "      <th>13</th>\n",
       "      <td>86775971</td>\n",
       "      <td>154.0</td>\n",
       "      <td>5811.0</td>\n",
       "      <td>96.5</td>\n",
       "      <td>75.467532</td>\n",
       "    </tr>\n",
       "    <tr>\n",
       "      <th>1469</th>\n",
       "      <td>33511585</td>\n",
       "      <td>159.0</td>\n",
       "      <td>3200.0</td>\n",
       "      <td>67.5</td>\n",
       "      <td>40.251572</td>\n",
       "    </tr>\n",
       "    <tr>\n",
       "      <th>1430</th>\n",
       "      <td>11027262</td>\n",
       "      <td>183.0</td>\n",
       "      <td>3499.0</td>\n",
       "      <td>78.5</td>\n",
       "      <td>38.240437</td>\n",
       "    </tr>\n",
       "    <tr>\n",
       "      <th>0</th>\n",
       "      <td>256497288</td>\n",
       "      <td>213.0</td>\n",
       "      <td>17930.0</td>\n",
       "      <td>177.5</td>\n",
       "      <td>168.356808</td>\n",
       "    </tr>\n",
       "    <tr>\n",
       "      <th>26</th>\n",
       "      <td>14338082</td>\n",
       "      <td>215.0</td>\n",
       "      <td>3237.0</td>\n",
       "      <td>135.5</td>\n",
       "      <td>30.111628</td>\n",
       "    </tr>\n",
       "    <tr>\n",
       "      <th>52</th>\n",
       "      <td>14203895</td>\n",
       "      <td>215.0</td>\n",
       "      <td>3640.0</td>\n",
       "      <td>85.0</td>\n",
       "      <td>33.860465</td>\n",
       "    </tr>\n",
       "    <tr>\n",
       "      <th>39</th>\n",
       "      <td>7861312</td>\n",
       "      <td>220.0</td>\n",
       "      <td>4740.0</td>\n",
       "      <td>78.5</td>\n",
       "      <td>43.090909</td>\n",
       "    </tr>\n",
       "    <tr>\n",
       "      <th>1378</th>\n",
       "      <td>100318079</td>\n",
       "      <td>220.0</td>\n",
       "      <td>8354.0</td>\n",
       "      <td>110.0</td>\n",
       "      <td>75.945455</td>\n",
       "    </tr>\n",
       "    <tr>\n",
       "      <th>1391</th>\n",
       "      <td>20060293</td>\n",
       "      <td>243.0</td>\n",
       "      <td>7542.0</td>\n",
       "      <td>120.5</td>\n",
       "      <td>62.074074</td>\n",
       "    </tr>\n",
       "  </tbody>\n",
       "</table>\n",
       "</div>"
      ],
      "text/plain": [
       "     graph_name  nodes    edges  max_degree  avg_degree\n",
       "1456  105398724   21.0    166.0        14.5   15.809524\n",
       "1365  311227912   35.0    276.0        24.5   15.771429\n",
       "1443   64496469   41.0    400.0        23.5   19.512195\n",
       "1404   39070445   67.0    654.0        37.5   19.522388\n",
       "1417   98633794  141.0   2354.0        64.5   33.390071\n",
       "1482  111045742  149.0   3380.0        65.5   45.369128\n",
       "13     86775971  154.0   5811.0        96.5   75.467532\n",
       "1469   33511585  159.0   3200.0        67.5   40.251572\n",
       "1430   11027262  183.0   3499.0        78.5   38.240437\n",
       "0     256497288  213.0  17930.0       177.5  168.356808\n",
       "26     14338082  215.0   3237.0       135.5   30.111628\n",
       "52     14203895  215.0   3640.0        85.0   33.860465\n",
       "39      7861312  220.0   4740.0        78.5   43.090909\n",
       "1378  100318079  220.0   8354.0       110.0   75.945455\n",
       "1391   20060293  243.0   7542.0       120.5   62.074074"
      ]
     },
     "execution_count": 7,
     "metadata": {},
     "output_type": "execute_result"
    }
   ],
   "source": [
    "motif_twitter.query(\n",
    "    \"graph_name.str.contains('sample') == False and motif == 'motif_1'\"\n",
    ")[[\"graph_name\", \"nodes\", \"edges\", \"max_degree\", \"avg_degree\"]].sort_values(\"nodes\")"
   ]
  },
  {
   "cell_type": "markdown",
   "metadata": {},
   "source": [
    "## Twitter Samples"
   ]
  },
  {
   "cell_type": "code",
   "execution_count": 8,
   "metadata": {},
   "outputs": [
    {
     "data": {
      "application/vnd.plotly.v1+json": {
       "config": {
        "plotlyServerURL": "https://plot.ly"
       },
       "data": [
        {
         "mode": "lines+markers",
         "name": "86775971",
         "type": "scatter",
         "x": [
          "motif_1",
          "motif_2",
          "motif_3",
          "motif_4",
          "motif_5",
          "motif_6",
          "motif_7",
          "motif_8",
          "motif_9",
          "motif_10",
          "motif_11",
          "motif_12",
          "motif_13"
         ],
         "y": [
          -0.01127272102,
          0.002505407334,
          -0.03255079145,
          0.05855116005,
          0.04374423934,
          0.2103715769,
          -0.003768012758,
          -0.01841829973,
          0.09237081043,
          0.08282543017,
          -0.004250372455,
          0.1648520883,
          0.951981602
         ]
        },
        {
         "mode": "lines+markers",
         "name": "86775971_sample_rn_40",
         "type": "scatter",
         "x": [
          "motif_1",
          "motif_2",
          "motif_3",
          "motif_4",
          "motif_5",
          "motif_6",
          "motif_7",
          "motif_8",
          "motif_9",
          "motif_10",
          "motif_11",
          "motif_12",
          "motif_13"
         ],
         "y": [
          -0.0168042409197823,
          -0.0134145147517361,
          -0.0358259007096131,
          0.038360920050729,
          0.0489419578923535,
          0.2746076010698953,
          -0.0081021379865054,
          -0.0194960164698038,
          0.0737758468772487,
          0.0598164282521982,
          -0.0069105611341072,
          0.1016779875779044,
          0.9482221122406198
         ]
        },
        {
         "mode": "lines+markers",
         "name": "86775971_sample_rpn_40",
         "type": "scatter",
         "x": [
          "motif_1",
          "motif_2",
          "motif_3",
          "motif_4",
          "motif_5",
          "motif_6",
          "motif_7",
          "motif_8",
          "motif_9",
          "motif_10",
          "motif_11",
          "motif_12",
          "motif_13"
         ],
         "y": [
          -0.0015240947370713,
          0.0118946252399789,
          -0.0364406811311013,
          0.0883001803644417,
          0.0823943065447354,
          0.2636789595653332,
          0.0066181134628329,
          -0.0319207167348794,
          0.153761363457167,
          0.1885845163170698,
          -0.0036623713560461,
          0.2255218142205576,
          0.8962549997298704
         ]
        },
        {
         "mode": "lines+markers",
         "name": "86775971_sample_rj_40",
         "type": "scatter",
         "x": [
          "motif_1",
          "motif_2",
          "motif_3",
          "motif_4",
          "motif_5",
          "motif_6",
          "motif_7",
          "motif_8",
          "motif_9",
          "motif_10",
          "motif_11",
          "motif_12",
          "motif_13"
         ],
         "y": [
          -0.0148173075883042,
          -0.0051699078248897,
          -0.0244471083817751,
          0.0293162405213702,
          0.0285122030105264,
          0.2029858581471326,
          -0.009253872741278,
          -0.0132718730850328,
          0.0406326270884134,
          0.0798183262288677,
          -0.0077991112449379,
          0.1189048917012714,
          0.966331961742679
         ]
        },
        {
         "mode": "lines+markers",
         "name": "86775971_sample_bsf_40",
         "type": "scatter",
         "x": [
          "motif_1",
          "motif_2",
          "motif_3",
          "motif_4",
          "motif_5",
          "motif_6",
          "motif_7",
          "motif_8",
          "motif_9",
          "motif_10",
          "motif_11",
          "motif_12",
          "motif_13"
         ],
         "y": [
          -0.0150044927721842,
          0.0002612335163429,
          -0.0293116574193461,
          0.0547715450454311,
          0.0402312609823565,
          0.2949971205041798,
          -0.0088180142977458,
          -0.0204960786780342,
          0.0764384142132959,
          0.0807968656107783,
          -0.0087981257643593,
          0.1742302858253208,
          0.9295006375938316
         ]
        },
        {
         "mode": "lines+markers",
         "name": "86775971_sample_sff_40",
         "type": "scatter",
         "x": [
          "motif_1",
          "motif_2",
          "motif_3",
          "motif_4",
          "motif_5",
          "motif_6",
          "motif_7",
          "motif_8",
          "motif_9",
          "motif_10",
          "motif_11",
          "motif_12",
          "motif_13"
         ],
         "y": [
          -0.0037350495718255,
          0.0060422572827412,
          -0.0178015841263204,
          0.0503035466602721,
          0.0213012715285502,
          0.1590472444562309,
          0.0008150228564092,
          -0.0102380346273305,
          0.1031007374761881,
          0.0619627885060159,
          0.0001077387749437,
          0.1566788118059431,
          0.965520343996094
         ]
        }
       ],
       "layout": {
        "images": [
         {
          "sizex": 0.5,
          "sizey": 0.5,
          "source": "data:image/png;base64,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",
          "x": "motif_1",
          "xanchor": "center",
          "xref": "x",
          "y": -0.07,
          "yanchor": "top",
          "yref": "paper"
         },
         {
          "sizex": 0.5,
          "sizey": 0.5,
          "source": "data:image/png;base64,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",
          "x": "motif_2",
          "xanchor": "center",
          "xref": "x",
          "y": -0.07,
          "yanchor": "top",
          "yref": "paper"
         },
         {
          "sizex": 0.5,
          "sizey": 0.5,
          "source": "data:image/png;base64,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",
          "x": "motif_3",
          "xanchor": "center",
          "xref": "x",
          "y": -0.07,
          "yanchor": "top",
          "yref": "paper"
         },
         {
          "sizex": 0.5,
          "sizey": 0.5,
          "source": "data:image/png;base64,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",
          "x": "motif_4",
          "xanchor": "center",
          "xref": "x",
          "y": -0.07,
          "yanchor": "top",
          "yref": "paper"
         },
         {
          "sizex": 0.5,
          "sizey": 0.5,
          "source": "data:image/png;base64,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",
          "x": "motif_5",
          "xanchor": "center",
          "xref": "x",
          "y": -0.07,
          "yanchor": "top",
          "yref": "paper"
         },
         {
          "sizex": 0.5,
          "sizey": 0.5,
          "source": "data:image/png;base64,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",
          "x": "motif_6",
          "xanchor": "center",
          "xref": "x",
          "y": -0.07,
          "yanchor": "top",
          "yref": "paper"
         },
         {
          "sizex": 0.5,
          "sizey": 0.5,
          "source": "data:image/png;base64,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",
          "x": "motif_7",
          "xanchor": "center",
          "xref": "x",
          "y": -0.07,
          "yanchor": "top",
          "yref": "paper"
         },
         {
          "sizex": 0.5,
          "sizey": 0.5,
          "source": "data:image/png;base64,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",
          "x": "motif_8",
          "xanchor": "center",
          "xref": "x",
          "y": -0.07,
          "yanchor": "top",
          "yref": "paper"
         },
         {
          "sizex": 0.5,
          "sizey": 0.5,
          "source": "data:image/png;base64,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",
          "x": "motif_9",
          "xanchor": "center",
          "xref": "x",
          "y": -0.07,
          "yanchor": "top",
          "yref": "paper"
         },
         {
          "sizex": 0.5,
          "sizey": 0.5,
          "source": "data:image/png;base64,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",
          "x": "motif_10",
          "xanchor": "center",
          "xref": "x",
          "y": -0.07,
          "yanchor": "top",
          "yref": "paper"
         },
         {
          "sizex": 0.5,
          "sizey": 0.5,
          "source": "data:image/png;base64,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",
          "x": "motif_11",
          "xanchor": "center",
          "xref": "x",
          "y": -0.07,
          "yanchor": "top",
          "yref": "paper"
         },
         {
          "sizex": 0.5,
          "sizey": 0.5,
          "source": "data:image/png;base64,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",
          "x": "motif_12",
          "xanchor": "center",
          "xref": "x",
          "y": -0.07,
          "yanchor": "top",
          "yref": "paper"
         },
         {
          "sizex": 0.5,
          "sizey": 0.5,
          "source": "data:image/png;base64,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",
          "x": "motif_13",
          "xanchor": "center",
          "xref": "x",
          "y": -0.07,
          "yanchor": "top",
          "yref": "paper"
         }
        ],
        "template": {
         "data": {
          "bar": [
           {
            "error_x": {
             "color": "#2a3f5f"
            },
            "error_y": {
             "color": "#2a3f5f"
            },
            "marker": {
             "line": {
              "color": "#E5ECF6",
              "width": 0.5
             },
             "pattern": {
              "fillmode": "overlay",
              "size": 10,
              "solidity": 0.2
             }
            },
            "type": "bar"
           }
          ],
          "barpolar": [
           {
            "marker": {
             "line": {
              "color": "#E5ECF6",
              "width": 0.5
             },
             "pattern": {
              "fillmode": "overlay",
              "size": 10,
              "solidity": 0.2
             }
            },
            "type": "barpolar"
           }
          ],
          "carpet": [
           {
            "aaxis": {
             "endlinecolor": "#2a3f5f",
             "gridcolor": "white",
             "linecolor": "white",
             "minorgridcolor": "white",
             "startlinecolor": "#2a3f5f"
            },
            "baxis": {
             "endlinecolor": "#2a3f5f",
             "gridcolor": "white",
             "linecolor": "white",
             "minorgridcolor": "white",
             "startlinecolor": "#2a3f5f"
            },
            "type": "carpet"
           }
          ],
          "choropleth": [
           {
            "colorbar": {
             "outlinewidth": 0,
             "ticks": ""
            },
            "type": "choropleth"
           }
          ],
          "contour": [
           {
            "colorbar": {
             "outlinewidth": 0,
             "ticks": ""
            },
            "colorscale": [
             [
              0,
              "#0d0887"
             ],
             [
              0.1111111111111111,
              "#46039f"
             ],
             [
              0.2222222222222222,
              "#7201a8"
             ],
             [
              0.3333333333333333,
              "#9c179e"
             ],
             [
              0.4444444444444444,
              "#bd3786"
             ],
             [
              0.5555555555555556,
              "#d8576b"
             ],
             [
              0.6666666666666666,
              "#ed7953"
             ],
             [
              0.7777777777777778,
              "#fb9f3a"
             ],
             [
              0.8888888888888888,
              "#fdca26"
             ],
             [
              1,
              "#f0f921"
             ]
            ],
            "type": "contour"
           }
          ],
          "contourcarpet": [
           {
            "colorbar": {
             "outlinewidth": 0,
             "ticks": ""
            },
            "type": "contourcarpet"
           }
          ],
          "heatmap": [
           {
            "colorbar": {
             "outlinewidth": 0,
             "ticks": ""
            },
            "colorscale": [
             [
              0,
              "#0d0887"
             ],
             [
              0.1111111111111111,
              "#46039f"
             ],
             [
              0.2222222222222222,
              "#7201a8"
             ],
             [
              0.3333333333333333,
              "#9c179e"
             ],
             [
              0.4444444444444444,
              "#bd3786"
             ],
             [
              0.5555555555555556,
              "#d8576b"
             ],
             [
              0.6666666666666666,
              "#ed7953"
             ],
             [
              0.7777777777777778,
              "#fb9f3a"
             ],
             [
              0.8888888888888888,
              "#fdca26"
             ],
             [
              1,
              "#f0f921"
             ]
            ],
            "type": "heatmap"
           }
          ],
          "heatmapgl": [
           {
            "colorbar": {
             "outlinewidth": 0,
             "ticks": ""
            },
            "colorscale": [
             [
              0,
              "#0d0887"
             ],
             [
              0.1111111111111111,
              "#46039f"
             ],
             [
              0.2222222222222222,
              "#7201a8"
             ],
             [
              0.3333333333333333,
              "#9c179e"
             ],
             [
              0.4444444444444444,
              "#bd3786"
             ],
             [
              0.5555555555555556,
              "#d8576b"
             ],
             [
              0.6666666666666666,
              "#ed7953"
             ],
             [
              0.7777777777777778,
              "#fb9f3a"
             ],
             [
              0.8888888888888888,
              "#fdca26"
             ],
             [
              1,
              "#f0f921"
             ]
            ],
            "type": "heatmapgl"
           }
          ],
          "histogram": [
           {
            "marker": {
             "pattern": {
              "fillmode": "overlay",
              "size": 10,
              "solidity": 0.2
             }
            },
            "type": "histogram"
           }
          ],
          "histogram2d": [
           {
            "colorbar": {
             "outlinewidth": 0,
             "ticks": ""
            },
            "colorscale": [
             [
              0,
              "#0d0887"
             ],
             [
              0.1111111111111111,
              "#46039f"
             ],
             [
              0.2222222222222222,
              "#7201a8"
             ],
             [
              0.3333333333333333,
              "#9c179e"
             ],
             [
              0.4444444444444444,
              "#bd3786"
             ],
             [
              0.5555555555555556,
              "#d8576b"
             ],
             [
              0.6666666666666666,
              "#ed7953"
             ],
             [
              0.7777777777777778,
              "#fb9f3a"
             ],
             [
              0.8888888888888888,
              "#fdca26"
             ],
             [
              1,
              "#f0f921"
             ]
            ],
            "type": "histogram2d"
           }
          ],
          "histogram2dcontour": [
           {
            "colorbar": {
             "outlinewidth": 0,
             "ticks": ""
            },
            "colorscale": [
             [
              0,
              "#0d0887"
             ],
             [
              0.1111111111111111,
              "#46039f"
             ],
             [
              0.2222222222222222,
              "#7201a8"
             ],
             [
              0.3333333333333333,
              "#9c179e"
             ],
             [
              0.4444444444444444,
              "#bd3786"
             ],
             [
              0.5555555555555556,
              "#d8576b"
             ],
             [
              0.6666666666666666,
              "#ed7953"
             ],
             [
              0.7777777777777778,
              "#fb9f3a"
             ],
             [
              0.8888888888888888,
              "#fdca26"
             ],
             [
              1,
              "#f0f921"
             ]
            ],
            "type": "histogram2dcontour"
           }
          ],
          "mesh3d": [
           {
            "colorbar": {
             "outlinewidth": 0,
             "ticks": ""
            },
            "type": "mesh3d"
           }
          ],
          "parcoords": [
           {
            "line": {
             "colorbar": {
              "outlinewidth": 0,
              "ticks": ""
             }
            },
            "type": "parcoords"
           }
          ],
          "pie": [
           {
            "automargin": true,
            "type": "pie"
           }
          ],
          "scatter": [
           {
            "fillpattern": {
             "fillmode": "overlay",
             "size": 10,
             "solidity": 0.2
            },
            "type": "scatter"
           }
          ],
          "scatter3d": [
           {
            "line": {
             "colorbar": {
              "outlinewidth": 0,
              "ticks": ""
             }
            },
            "marker": {
             "colorbar": {
              "outlinewidth": 0,
              "ticks": ""
             }
            },
            "type": "scatter3d"
           }
          ],
          "scattercarpet": [
           {
            "marker": {
             "colorbar": {
              "outlinewidth": 0,
              "ticks": ""
             }
            },
            "type": "scattercarpet"
           }
          ],
          "scattergeo": [
           {
            "marker": {
             "colorbar": {
              "outlinewidth": 0,
              "ticks": ""
             }
            },
            "type": "scattergeo"
           }
          ],
          "scattergl": [
           {
            "marker": {
             "colorbar": {
              "outlinewidth": 0,
              "ticks": ""
             }
            },
            "type": "scattergl"
           }
          ],
          "scattermapbox": [
           {
            "marker": {
             "colorbar": {
              "outlinewidth": 0,
              "ticks": ""
             }
            },
            "type": "scattermapbox"
           }
          ],
          "scatterpolar": [
           {
            "marker": {
             "colorbar": {
              "outlinewidth": 0,
              "ticks": ""
             }
            },
            "type": "scatterpolar"
           }
          ],
          "scatterpolargl": [
           {
            "marker": {
             "colorbar": {
              "outlinewidth": 0,
              "ticks": ""
             }
            },
            "type": "scatterpolargl"
           }
          ],
          "scatterternary": [
           {
            "marker": {
             "colorbar": {
              "outlinewidth": 0,
              "ticks": ""
             }
            },
            "type": "scatterternary"
           }
          ],
          "surface": [
           {
            "colorbar": {
             "outlinewidth": 0,
             "ticks": ""
            },
            "colorscale": [
             [
              0,
              "#0d0887"
             ],
             [
              0.1111111111111111,
              "#46039f"
             ],
             [
              0.2222222222222222,
              "#7201a8"
             ],
             [
              0.3333333333333333,
              "#9c179e"
             ],
             [
              0.4444444444444444,
              "#bd3786"
             ],
             [
              0.5555555555555556,
              "#d8576b"
             ],
             [
              0.6666666666666666,
              "#ed7953"
             ],
             [
              0.7777777777777778,
              "#fb9f3a"
             ],
             [
              0.8888888888888888,
              "#fdca26"
             ],
             [
              1,
              "#f0f921"
             ]
            ],
            "type": "surface"
           }
          ],
          "table": [
           {
            "cells": {
             "fill": {
              "color": "#EBF0F8"
             },
             "line": {
              "color": "white"
             }
            },
            "header": {
             "fill": {
              "color": "#C8D4E3"
             },
             "line": {
              "color": "white"
             }
            },
            "type": "table"
           }
          ]
         },
         "layout": {
          "annotationdefaults": {
           "arrowcolor": "#2a3f5f",
           "arrowhead": 0,
           "arrowwidth": 1
          },
          "autotypenumbers": "strict",
          "coloraxis": {
           "colorbar": {
            "outlinewidth": 0,
            "ticks": ""
           }
          },
          "colorscale": {
           "diverging": [
            [
             0,
             "#8e0152"
            ],
            [
             0.1,
             "#c51b7d"
            ],
            [
             0.2,
             "#de77ae"
            ],
            [
             0.3,
             "#f1b6da"
            ],
            [
             0.4,
             "#fde0ef"
            ],
            [
             0.5,
             "#f7f7f7"
            ],
            [
             0.6,
             "#e6f5d0"
            ],
            [
             0.7,
             "#b8e186"
            ],
            [
             0.8,
             "#7fbc41"
            ],
            [
             0.9,
             "#4d9221"
            ],
            [
             1,
             "#276419"
            ]
           ],
           "sequential": [
            [
             0,
             "#0d0887"
            ],
            [
             0.1111111111111111,
             "#46039f"
            ],
            [
             0.2222222222222222,
             "#7201a8"
            ],
            [
             0.3333333333333333,
             "#9c179e"
            ],
            [
             0.4444444444444444,
             "#bd3786"
            ],
            [
             0.5555555555555556,
             "#d8576b"
            ],
            [
             0.6666666666666666,
             "#ed7953"
            ],
            [
             0.7777777777777778,
             "#fb9f3a"
            ],
            [
             0.8888888888888888,
             "#fdca26"
            ],
            [
             1,
             "#f0f921"
            ]
           ],
           "sequentialminus": [
            [
             0,
             "#0d0887"
            ],
            [
             0.1111111111111111,
             "#46039f"
            ],
            [
             0.2222222222222222,
             "#7201a8"
            ],
            [
             0.3333333333333333,
             "#9c179e"
            ],
            [
             0.4444444444444444,
             "#bd3786"
            ],
            [
             0.5555555555555556,
             "#d8576b"
            ],
            [
             0.6666666666666666,
             "#ed7953"
            ],
            [
             0.7777777777777778,
             "#fb9f3a"
            ],
            [
             0.8888888888888888,
             "#fdca26"
            ],
            [
             1,
             "#f0f921"
            ]
           ]
          },
          "colorway": [
           "#636efa",
           "#EF553B",
           "#00cc96",
           "#ab63fa",
           "#FFA15A",
           "#19d3f3",
           "#FF6692",
           "#B6E880",
           "#FF97FF",
           "#FECB52"
          ],
          "font": {
           "color": "#2a3f5f"
          },
          "geo": {
           "bgcolor": "white",
           "lakecolor": "white",
           "landcolor": "#E5ECF6",
           "showlakes": true,
           "showland": true,
           "subunitcolor": "white"
          },
          "hoverlabel": {
           "align": "left"
          },
          "hovermode": "closest",
          "mapbox": {
           "style": "light"
          },
          "paper_bgcolor": "white",
          "plot_bgcolor": "#E5ECF6",
          "polar": {
           "angularaxis": {
            "gridcolor": "white",
            "linecolor": "white",
            "ticks": ""
           },
           "bgcolor": "#E5ECF6",
           "radialaxis": {
            "gridcolor": "white",
            "linecolor": "white",
            "ticks": ""
           }
          },
          "scene": {
           "xaxis": {
            "backgroundcolor": "#E5ECF6",
            "gridcolor": "white",
            "gridwidth": 2,
            "linecolor": "white",
            "showbackground": true,
            "ticks": "",
            "zerolinecolor": "white"
           },
           "yaxis": {
            "backgroundcolor": "#E5ECF6",
            "gridcolor": "white",
            "gridwidth": 2,
            "linecolor": "white",
            "showbackground": true,
            "ticks": "",
            "zerolinecolor": "white"
           },
           "zaxis": {
            "backgroundcolor": "#E5ECF6",
            "gridcolor": "white",
            "gridwidth": 2,
            "linecolor": "white",
            "showbackground": true,
            "ticks": "",
            "zerolinecolor": "white"
           }
          },
          "shapedefaults": {
           "line": {
            "color": "#2a3f5f"
           }
          },
          "ternary": {
           "aaxis": {
            "gridcolor": "white",
            "linecolor": "white",
            "ticks": ""
           },
           "baxis": {
            "gridcolor": "white",
            "linecolor": "white",
            "ticks": ""
           },
           "bgcolor": "#E5ECF6",
           "caxis": {
            "gridcolor": "white",
            "linecolor": "white",
            "ticks": ""
           }
          },
          "title": {
           "x": 0.05
          },
          "xaxis": {
           "automargin": true,
           "gridcolor": "white",
           "linecolor": "white",
           "ticks": "",
           "title": {
            "standoff": 15
           },
           "zerolinecolor": "white",
           "zerolinewidth": 2
          },
          "yaxis": {
           "automargin": true,
           "gridcolor": "white",
           "linecolor": "white",
           "ticks": "",
           "title": {
            "standoff": 15
           },
           "zerolinecolor": "white",
           "zerolinewidth": 2
          }
         }
        },
        "title": {
         "text": "Z-scores for Twitter Generated Samples of 86775971"
        },
        "xaxis": {
         "showticklabels": true,
         "tickvals": [
          "motif_1",
          "motif_2",
          "motif_3",
          "motif_4",
          "motif_5",
          "motif_6",
          "motif_7",
          "motif_8",
          "motif_9",
          "motif_10",
          "motif_11",
          "motif_12",
          "motif_13"
         ],
         "title": {}
        },
        "yaxis": {
         "title": {
          "text": "significance_profile"
         }
        }
       }
      }
     },
     "metadata": {},
     "output_type": "display_data"
    },
    {
     "name": "stdout",
     "output_type": "stream",
     "text": [
      "                  graph_name    motif  nodes   edges\n",
      "13                  86775971  motif_1  154.0  5811.0\n",
      "858    86775971_sample_rn_40  motif_1   61.0   742.0\n",
      "923   86775971_sample_rpn_40  motif_1   48.0   772.0\n",
      "949    86775971_sample_rj_40  motif_1   60.0  1568.0\n",
      "1014  86775971_sample_bsf_40  motif_1   61.0  1606.0\n",
      "1274  86775971_sample_sff_40  motif_1   61.0  2099.0\n"
     ]
    },
    {
     "data": {
      "application/vnd.plotly.v1+json": {
       "config": {
        "plotlyServerURL": "https://plot.ly"
       },
       "data": [
        {
         "mode": "lines+markers",
         "name": "86775971",
         "type": "scatter",
         "x": [
          "motif_1",
          "motif_2",
          "motif_3",
          "motif_4",
          "motif_5",
          "motif_6",
          "motif_7",
          "motif_8",
          "motif_9",
          "motif_10",
          "motif_11",
          "motif_12",
          "motif_13"
         ],
         "y": [
          -0.01127272102,
          0.002505407334,
          -0.03255079145,
          0.05855116005,
          0.04374423934,
          0.2103715769,
          -0.003768012758,
          -0.01841829973,
          0.09237081043,
          0.08282543017,
          -0.004250372455,
          0.1648520883,
          0.951981602
         ]
        },
        {
         "mode": "lines+markers",
         "name": "86775971_sample_rj_30",
         "type": "scatter",
         "x": [
          "motif_1",
          "motif_2",
          "motif_3",
          "motif_4",
          "motif_5",
          "motif_6",
          "motif_7",
          "motif_8",
          "motif_9",
          "motif_10",
          "motif_11",
          "motif_12",
          "motif_13"
         ],
         "y": [
          -0.0135029757137713,
          -0.0003969832368469,
          -0.0315312562295212,
          0.0552481319685499,
          0.0448385050869141,
          0.1855756109631925,
          -0.0124594736155631,
          -0.0167296223933522,
          0.1155034655355832,
          0.074241550477012,
          -0.0131314596981843,
          0.1848316365361091,
          0.9516821899712018
         ]
        },
        {
         "mode": "lines+markers",
         "name": "86775971_sample_rn_30",
         "type": "scatter",
         "x": [
          "motif_1",
          "motif_2",
          "motif_3",
          "motif_4",
          "motif_5",
          "motif_6",
          "motif_7",
          "motif_8",
          "motif_9",
          "motif_10",
          "motif_11",
          "motif_12",
          "motif_13"
         ],
         "y": [
          -0.0224646798939415,
          0.0209599828672111,
          -0.0580091007483614,
          0.0939508081749328,
          0.0436848096823012,
          0.3702306534825534,
          0.0120488685337932,
          -0.0281133027792842,
          0.1777874269441743,
          0.2302501987085908,
          0.0023359904537015,
          0.1946592856613522,
          0.8511335719013481
         ]
        },
        {
         "mode": "lines+markers",
         "name": "86775971_sample_rpn_30",
         "type": "scatter",
         "x": [
          "motif_1",
          "motif_2",
          "motif_3",
          "motif_4",
          "motif_5",
          "motif_6",
          "motif_7",
          "motif_8",
          "motif_9",
          "motif_10",
          "motif_11",
          "motif_12",
          "motif_13"
         ],
         "y": [
          -0.0271303230485487,
          -0.0118667954904255,
          -0.0370548719934401,
          0.0903487562214099,
          0.0581975731861698,
          0.2490348324720889,
          -0.0060649365627049,
          -0.0187931398214126,
          0.1356922956493513,
          0.0902946457752675,
          -0.0167704814043428,
          0.237142513169788,
          0.9169016031311964
         ]
        },
        {
         "mode": "lines+markers",
         "name": "86775971_sample_bsf_30",
         "type": "scatter",
         "x": [
          "motif_1",
          "motif_2",
          "motif_3",
          "motif_4",
          "motif_5",
          "motif_6",
          "motif_7",
          "motif_8",
          "motif_9",
          "motif_10",
          "motif_11",
          "motif_12",
          "motif_13"
         ],
         "y": [
          -0.0010296644720315,
          0.0040178322801452,
          -0.0212891052565002,
          0.0419598180525866,
          0.0499125300216359,
          0.1558953618257132,
          0.0032481568541243,
          -0.01244901020399,
          0.0755012219585282,
          0.1481624880505649,
          -0.0033321150990477,
          0.1522886904279326,
          0.9591419530004012
         ]
        },
        {
         "mode": "lines+markers",
         "name": "86775971_sample_sff_30",
         "type": "scatter",
         "x": [
          "motif_1",
          "motif_2",
          "motif_3",
          "motif_4",
          "motif_5",
          "motif_6",
          "motif_7",
          "motif_8",
          "motif_9",
          "motif_10",
          "motif_11",
          "motif_12",
          "motif_13"
         ],
         "y": [
          -0.0095030962443771,
          -0.0022495750846718,
          -0.033841388134932,
          0.0395546715318934,
          0.028438411018078,
          0.22592212806906,
          -0.0113471004644862,
          -0.0186544139225744,
          0.0778066116949584,
          0.0662161358714596,
          -0.0102264905653305,
          0.1048021497602069,
          0.9609068668636624
         ]
        }
       ],
       "layout": {
        "images": [
         {
          "sizex": 0.5,
          "sizey": 0.5,
          "source": "data:image/png;base64,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",
          "x": "motif_1",
          "xanchor": "center",
          "xref": "x",
          "y": -0.07,
          "yanchor": "top",
          "yref": "paper"
         },
         {
          "sizex": 0.5,
          "sizey": 0.5,
          "source": "data:image/png;base64,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",
          "x": "motif_2",
          "xanchor": "center",
          "xref": "x",
          "y": -0.07,
          "yanchor": "top",
          "yref": "paper"
         },
         {
          "sizex": 0.5,
          "sizey": 0.5,
          "source": "data:image/png;base64,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",
          "x": "motif_3",
          "xanchor": "center",
          "xref": "x",
          "y": -0.07,
          "yanchor": "top",
          "yref": "paper"
         },
         {
          "sizex": 0.5,
          "sizey": 0.5,
          "source": "data:image/png;base64,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",
          "x": "motif_4",
          "xanchor": "center",
          "xref": "x",
          "y": -0.07,
          "yanchor": "top",
          "yref": "paper"
         },
         {
          "sizex": 0.5,
          "sizey": 0.5,
          "source": "data:image/png;base64,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",
          "x": "motif_5",
          "xanchor": "center",
          "xref": "x",
          "y": -0.07,
          "yanchor": "top",
          "yref": "paper"
         },
         {
          "sizex": 0.5,
          "sizey": 0.5,
          "source": "data:image/png;base64,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",
          "x": "motif_6",
          "xanchor": "center",
          "xref": "x",
          "y": -0.07,
          "yanchor": "top",
          "yref": "paper"
         },
         {
          "sizex": 0.5,
          "sizey": 0.5,
          "source": "data:image/png;base64,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",
          "x": "motif_7",
          "xanchor": "center",
          "xref": "x",
          "y": -0.07,
          "yanchor": "top",
          "yref": "paper"
         },
         {
          "sizex": 0.5,
          "sizey": 0.5,
          "source": "data:image/png;base64,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",
          "x": "motif_8",
          "xanchor": "center",
          "xref": "x",
          "y": -0.07,
          "yanchor": "top",
          "yref": "paper"
         },
         {
          "sizex": 0.5,
          "sizey": 0.5,
          "source": "data:image/png;base64,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",
          "x": "motif_9",
          "xanchor": "center",
          "xref": "x",
          "y": -0.07,
          "yanchor": "top",
          "yref": "paper"
         },
         {
          "sizex": 0.5,
          "sizey": 0.5,
          "source": "data:image/png;base64,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",
          "x": "motif_10",
          "xanchor": "center",
          "xref": "x",
          "y": -0.07,
          "yanchor": "top",
          "yref": "paper"
         },
         {
          "sizex": 0.5,
          "sizey": 0.5,
          "source": "data:image/png;base64,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",
          "x": "motif_11",
          "xanchor": "center",
          "xref": "x",
          "y": -0.07,
          "yanchor": "top",
          "yref": "paper"
         },
         {
          "sizex": 0.5,
          "sizey": 0.5,
          "source": "data:image/png;base64,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",
          "x": "motif_12",
          "xanchor": "center",
          "xref": "x",
          "y": -0.07,
          "yanchor": "top",
          "yref": "paper"
         },
         {
          "sizex": 0.5,
          "sizey": 0.5,
          "source": "data:image/png;base64,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",
          "x": "motif_13",
          "xanchor": "center",
          "xref": "x",
          "y": -0.07,
          "yanchor": "top",
          "yref": "paper"
         }
        ],
        "template": {
         "data": {
          "bar": [
           {
            "error_x": {
             "color": "#2a3f5f"
            },
            "error_y": {
             "color": "#2a3f5f"
            },
            "marker": {
             "line": {
              "color": "#E5ECF6",
              "width": 0.5
             },
             "pattern": {
              "fillmode": "overlay",
              "size": 10,
              "solidity": 0.2
             }
            },
            "type": "bar"
           }
          ],
          "barpolar": [
           {
            "marker": {
             "line": {
              "color": "#E5ECF6",
              "width": 0.5
             },
             "pattern": {
              "fillmode": "overlay",
              "size": 10,
              "solidity": 0.2
             }
            },
            "type": "barpolar"
           }
          ],
          "carpet": [
           {
            "aaxis": {
             "endlinecolor": "#2a3f5f",
             "gridcolor": "white",
             "linecolor": "white",
             "minorgridcolor": "white",
             "startlinecolor": "#2a3f5f"
            },
            "baxis": {
             "endlinecolor": "#2a3f5f",
             "gridcolor": "white",
             "linecolor": "white",
             "minorgridcolor": "white",
             "startlinecolor": "#2a3f5f"
            },
            "type": "carpet"
           }
          ],
          "choropleth": [
           {
            "colorbar": {
             "outlinewidth": 0,
             "ticks": ""
            },
            "type": "choropleth"
           }
          ],
          "contour": [
           {
            "colorbar": {
             "outlinewidth": 0,
             "ticks": ""
            },
            "colorscale": [
             [
              0,
              "#0d0887"
             ],
             [
              0.1111111111111111,
              "#46039f"
             ],
             [
              0.2222222222222222,
              "#7201a8"
             ],
             [
              0.3333333333333333,
              "#9c179e"
             ],
             [
              0.4444444444444444,
              "#bd3786"
             ],
             [
              0.5555555555555556,
              "#d8576b"
             ],
             [
              0.6666666666666666,
              "#ed7953"
             ],
             [
              0.7777777777777778,
              "#fb9f3a"
             ],
             [
              0.8888888888888888,
              "#fdca26"
             ],
             [
              1,
              "#f0f921"
             ]
            ],
            "type": "contour"
           }
          ],
          "contourcarpet": [
           {
            "colorbar": {
             "outlinewidth": 0,
             "ticks": ""
            },
            "type": "contourcarpet"
           }
          ],
          "heatmap": [
           {
            "colorbar": {
             "outlinewidth": 0,
             "ticks": ""
            },
            "colorscale": [
             [
              0,
              "#0d0887"
             ],
             [
              0.1111111111111111,
              "#46039f"
             ],
             [
              0.2222222222222222,
              "#7201a8"
             ],
             [
              0.3333333333333333,
              "#9c179e"
             ],
             [
              0.4444444444444444,
              "#bd3786"
             ],
             [
              0.5555555555555556,
              "#d8576b"
             ],
             [
              0.6666666666666666,
              "#ed7953"
             ],
             [
              0.7777777777777778,
              "#fb9f3a"
             ],
             [
              0.8888888888888888,
              "#fdca26"
             ],
             [
              1,
              "#f0f921"
             ]
            ],
            "type": "heatmap"
           }
          ],
          "heatmapgl": [
           {
            "colorbar": {
             "outlinewidth": 0,
             "ticks": ""
            },
            "colorscale": [
             [
              0,
              "#0d0887"
             ],
             [
              0.1111111111111111,
              "#46039f"
             ],
             [
              0.2222222222222222,
              "#7201a8"
             ],
             [
              0.3333333333333333,
              "#9c179e"
             ],
             [
              0.4444444444444444,
              "#bd3786"
             ],
             [
              0.5555555555555556,
              "#d8576b"
             ],
             [
              0.6666666666666666,
              "#ed7953"
             ],
             [
              0.7777777777777778,
              "#fb9f3a"
             ],
             [
              0.8888888888888888,
              "#fdca26"
             ],
             [
              1,
              "#f0f921"
             ]
            ],
            "type": "heatmapgl"
           }
          ],
          "histogram": [
           {
            "marker": {
             "pattern": {
              "fillmode": "overlay",
              "size": 10,
              "solidity": 0.2
             }
            },
            "type": "histogram"
           }
          ],
          "histogram2d": [
           {
            "colorbar": {
             "outlinewidth": 0,
             "ticks": ""
            },
            "colorscale": [
             [
              0,
              "#0d0887"
             ],
             [
              0.1111111111111111,
              "#46039f"
             ],
             [
              0.2222222222222222,
              "#7201a8"
             ],
             [
              0.3333333333333333,
              "#9c179e"
             ],
             [
              0.4444444444444444,
              "#bd3786"
             ],
             [
              0.5555555555555556,
              "#d8576b"
             ],
             [
              0.6666666666666666,
              "#ed7953"
             ],
             [
              0.7777777777777778,
              "#fb9f3a"
             ],
             [
              0.8888888888888888,
              "#fdca26"
             ],
             [
              1,
              "#f0f921"
             ]
            ],
            "type": "histogram2d"
           }
          ],
          "histogram2dcontour": [
           {
            "colorbar": {
             "outlinewidth": 0,
             "ticks": ""
            },
            "colorscale": [
             [
              0,
              "#0d0887"
             ],
             [
              0.1111111111111111,
              "#46039f"
             ],
             [
              0.2222222222222222,
              "#7201a8"
             ],
             [
              0.3333333333333333,
              "#9c179e"
             ],
             [
              0.4444444444444444,
              "#bd3786"
             ],
             [
              0.5555555555555556,
              "#d8576b"
             ],
             [
              0.6666666666666666,
              "#ed7953"
             ],
             [
              0.7777777777777778,
              "#fb9f3a"
             ],
             [
              0.8888888888888888,
              "#fdca26"
             ],
             [
              1,
              "#f0f921"
             ]
            ],
            "type": "histogram2dcontour"
           }
          ],
          "mesh3d": [
           {
            "colorbar": {
             "outlinewidth": 0,
             "ticks": ""
            },
            "type": "mesh3d"
           }
          ],
          "parcoords": [
           {
            "line": {
             "colorbar": {
              "outlinewidth": 0,
              "ticks": ""
             }
            },
            "type": "parcoords"
           }
          ],
          "pie": [
           {
            "automargin": true,
            "type": "pie"
           }
          ],
          "scatter": [
           {
            "fillpattern": {
             "fillmode": "overlay",
             "size": 10,
             "solidity": 0.2
            },
            "type": "scatter"
           }
          ],
          "scatter3d": [
           {
            "line": {
             "colorbar": {
              "outlinewidth": 0,
              "ticks": ""
             }
            },
            "marker": {
             "colorbar": {
              "outlinewidth": 0,
              "ticks": ""
             }
            },
            "type": "scatter3d"
           }
          ],
          "scattercarpet": [
           {
            "marker": {
             "colorbar": {
              "outlinewidth": 0,
              "ticks": ""
             }
            },
            "type": "scattercarpet"
           }
          ],
          "scattergeo": [
           {
            "marker": {
             "colorbar": {
              "outlinewidth": 0,
              "ticks": ""
             }
            },
            "type": "scattergeo"
           }
          ],
          "scattergl": [
           {
            "marker": {
             "colorbar": {
              "outlinewidth": 0,
              "ticks": ""
             }
            },
            "type": "scattergl"
           }
          ],
          "scattermapbox": [
           {
            "marker": {
             "colorbar": {
              "outlinewidth": 0,
              "ticks": ""
             }
            },
            "type": "scattermapbox"
           }
          ],
          "scatterpolar": [
           {
            "marker": {
             "colorbar": {
              "outlinewidth": 0,
              "ticks": ""
             }
            },
            "type": "scatterpolar"
           }
          ],
          "scatterpolargl": [
           {
            "marker": {
             "colorbar": {
              "outlinewidth": 0,
              "ticks": ""
             }
            },
            "type": "scatterpolargl"
           }
          ],
          "scatterternary": [
           {
            "marker": {
             "colorbar": {
              "outlinewidth": 0,
              "ticks": ""
             }
            },
            "type": "scatterternary"
           }
          ],
          "surface": [
           {
            "colorbar": {
             "outlinewidth": 0,
             "ticks": ""
            },
            "colorscale": [
             [
              0,
              "#0d0887"
             ],
             [
              0.1111111111111111,
              "#46039f"
             ],
             [
              0.2222222222222222,
              "#7201a8"
             ],
             [
              0.3333333333333333,
              "#9c179e"
             ],
             [
              0.4444444444444444,
              "#bd3786"
             ],
             [
              0.5555555555555556,
              "#d8576b"
             ],
             [
              0.6666666666666666,
              "#ed7953"
             ],
             [
              0.7777777777777778,
              "#fb9f3a"
             ],
             [
              0.8888888888888888,
              "#fdca26"
             ],
             [
              1,
              "#f0f921"
             ]
            ],
            "type": "surface"
           }
          ],
          "table": [
           {
            "cells": {
             "fill": {
              "color": "#EBF0F8"
             },
             "line": {
              "color": "white"
             }
            },
            "header": {
             "fill": {
              "color": "#C8D4E3"
             },
             "line": {
              "color": "white"
             }
            },
            "type": "table"
           }
          ]
         },
         "layout": {
          "annotationdefaults": {
           "arrowcolor": "#2a3f5f",
           "arrowhead": 0,
           "arrowwidth": 1
          },
          "autotypenumbers": "strict",
          "coloraxis": {
           "colorbar": {
            "outlinewidth": 0,
            "ticks": ""
           }
          },
          "colorscale": {
           "diverging": [
            [
             0,
             "#8e0152"
            ],
            [
             0.1,
             "#c51b7d"
            ],
            [
             0.2,
             "#de77ae"
            ],
            [
             0.3,
             "#f1b6da"
            ],
            [
             0.4,
             "#fde0ef"
            ],
            [
             0.5,
             "#f7f7f7"
            ],
            [
             0.6,
             "#e6f5d0"
            ],
            [
             0.7,
             "#b8e186"
            ],
            [
             0.8,
             "#7fbc41"
            ],
            [
             0.9,
             "#4d9221"
            ],
            [
             1,
             "#276419"
            ]
           ],
           "sequential": [
            [
             0,
             "#0d0887"
            ],
            [
             0.1111111111111111,
             "#46039f"
            ],
            [
             0.2222222222222222,
             "#7201a8"
            ],
            [
             0.3333333333333333,
             "#9c179e"
            ],
            [
             0.4444444444444444,
             "#bd3786"
            ],
            [
             0.5555555555555556,
             "#d8576b"
            ],
            [
             0.6666666666666666,
             "#ed7953"
            ],
            [
             0.7777777777777778,
             "#fb9f3a"
            ],
            [
             0.8888888888888888,
             "#fdca26"
            ],
            [
             1,
             "#f0f921"
            ]
           ],
           "sequentialminus": [
            [
             0,
             "#0d0887"
            ],
            [
             0.1111111111111111,
             "#46039f"
            ],
            [
             0.2222222222222222,
             "#7201a8"
            ],
            [
             0.3333333333333333,
             "#9c179e"
            ],
            [
             0.4444444444444444,
             "#bd3786"
            ],
            [
             0.5555555555555556,
             "#d8576b"
            ],
            [
             0.6666666666666666,
             "#ed7953"
            ],
            [
             0.7777777777777778,
             "#fb9f3a"
            ],
            [
             0.8888888888888888,
             "#fdca26"
            ],
            [
             1,
             "#f0f921"
            ]
           ]
          },
          "colorway": [
           "#636efa",
           "#EF553B",
           "#00cc96",
           "#ab63fa",
           "#FFA15A",
           "#19d3f3",
           "#FF6692",
           "#B6E880",
           "#FF97FF",
           "#FECB52"
          ],
          "font": {
           "color": "#2a3f5f"
          },
          "geo": {
           "bgcolor": "white",
           "lakecolor": "white",
           "landcolor": "#E5ECF6",
           "showlakes": true,
           "showland": true,
           "subunitcolor": "white"
          },
          "hoverlabel": {
           "align": "left"
          },
          "hovermode": "closest",
          "mapbox": {
           "style": "light"
          },
          "paper_bgcolor": "white",
          "plot_bgcolor": "#E5ECF6",
          "polar": {
           "angularaxis": {
            "gridcolor": "white",
            "linecolor": "white",
            "ticks": ""
           },
           "bgcolor": "#E5ECF6",
           "radialaxis": {
            "gridcolor": "white",
            "linecolor": "white",
            "ticks": ""
           }
          },
          "scene": {
           "xaxis": {
            "backgroundcolor": "#E5ECF6",
            "gridcolor": "white",
            "gridwidth": 2,
            "linecolor": "white",
            "showbackground": true,
            "ticks": "",
            "zerolinecolor": "white"
           },
           "yaxis": {
            "backgroundcolor": "#E5ECF6",
            "gridcolor": "white",
            "gridwidth": 2,
            "linecolor": "white",
            "showbackground": true,
            "ticks": "",
            "zerolinecolor": "white"
           },
           "zaxis": {
            "backgroundcolor": "#E5ECF6",
            "gridcolor": "white",
            "gridwidth": 2,
            "linecolor": "white",
            "showbackground": true,
            "ticks": "",
            "zerolinecolor": "white"
           }
          },
          "shapedefaults": {
           "line": {
            "color": "#2a3f5f"
           }
          },
          "ternary": {
           "aaxis": {
            "gridcolor": "white",
            "linecolor": "white",
            "ticks": ""
           },
           "baxis": {
            "gridcolor": "white",
            "linecolor": "white",
            "ticks": ""
           },
           "bgcolor": "#E5ECF6",
           "caxis": {
            "gridcolor": "white",
            "linecolor": "white",
            "ticks": ""
           }
          },
          "title": {
           "x": 0.05
          },
          "xaxis": {
           "automargin": true,
           "gridcolor": "white",
           "linecolor": "white",
           "ticks": "",
           "title": {
            "standoff": 15
           },
           "zerolinecolor": "white",
           "zerolinewidth": 2
          },
          "yaxis": {
           "automargin": true,
           "gridcolor": "white",
           "linecolor": "white",
           "ticks": "",
           "title": {
            "standoff": 15
           },
           "zerolinecolor": "white",
           "zerolinewidth": 2
          }
         }
        },
        "title": {
         "text": "Z-scores for Twitter Generated Samples of 86775971"
        },
        "xaxis": {
         "showticklabels": true,
         "tickvals": [
          "motif_1",
          "motif_2",
          "motif_3",
          "motif_4",
          "motif_5",
          "motif_6",
          "motif_7",
          "motif_8",
          "motif_9",
          "motif_10",
          "motif_11",
          "motif_12",
          "motif_13"
         ],
         "title": {}
        },
        "yaxis": {
         "title": {
          "text": "significance_profile"
         }
        }
       }
      }
     },
     "metadata": {},
     "output_type": "display_data"
    },
    {
     "name": "stdout",
     "output_type": "stream",
     "text": [
      "                  graph_name    motif  nodes   edges\n",
      "13                  86775971  motif_1  154.0  5811.0\n",
      "273    86775971_sample_rj_30  motif_1   46.0   894.0\n",
      "507    86775971_sample_rn_30  motif_1   46.0   472.0\n",
      "533   86775971_sample_rpn_30  motif_1   42.0   585.0\n",
      "819   86775971_sample_bsf_30  motif_1   46.0  1065.0\n",
      "1222  86775971_sample_sff_30  motif_1   46.0  1071.0\n"
     ]
    },
    {
     "data": {
      "application/vnd.plotly.v1+json": {
       "config": {
        "plotlyServerURL": "https://plot.ly"
       },
       "data": [
        {
         "mode": "lines+markers",
         "name": "86775971",
         "type": "scatter",
         "x": [
          "motif_1",
          "motif_2",
          "motif_3",
          "motif_4",
          "motif_5",
          "motif_6",
          "motif_7",
          "motif_8",
          "motif_9",
          "motif_10",
          "motif_11",
          "motif_12",
          "motif_13"
         ],
         "y": [
          -0.01127272102,
          0.002505407334,
          -0.03255079145,
          0.05855116005,
          0.04374423934,
          0.2103715769,
          -0.003768012758,
          -0.01841829973,
          0.09237081043,
          0.08282543017,
          -0.004250372455,
          0.1648520883,
          0.951981602
         ]
        },
        {
         "mode": "lines+markers",
         "name": "86775971_sample_rj_20",
         "type": "scatter",
         "x": [
          "motif_1",
          "motif_2",
          "motif_3",
          "motif_4",
          "motif_5",
          "motif_6",
          "motif_7",
          "motif_8",
          "motif_9",
          "motif_10",
          "motif_11",
          "motif_12",
          "motif_13"
         ],
         "y": [
          -0.0118920341039164,
          -0.0060075014458266,
          -0.0391631201288857,
          0.0344829643317159,
          0.0392717431137943,
          0.2030216459523108,
          -0.0061396913693922,
          -0.0198656973638455,
          0.0630796851454874,
          0.1624009613467253,
          -0.0073531150420421,
          0.1820602590229911,
          0.9435857879540888
         ]
        },
        {
         "mode": "lines+markers",
         "name": "86775971_sample_bsf_20",
         "type": "scatter",
         "x": [
          "motif_1",
          "motif_2",
          "motif_3",
          "motif_4",
          "motif_5",
          "motif_6",
          "motif_7",
          "motif_8",
          "motif_9",
          "motif_10",
          "motif_11",
          "motif_12",
          "motif_13"
         ],
         "y": [
          -0.0230964765612548,
          0.0085094801045083,
          -0.0293022573769496,
          0.0455605252288288,
          0.0130711609429237,
          0.2474982035525261,
          -0.0093354108759506,
          -0.0193200829784513,
          0.0333838055327758,
          0.131560581608101,
          -0.014313061362522,
          0.1622830453976007,
          0.9431912905692328
         ]
        },
        {
         "mode": "lines+markers",
         "name": "86775971_sample_rpn_20",
         "type": "scatter",
         "x": [
          "motif_1",
          "motif_2",
          "motif_3",
          "motif_4",
          "motif_5",
          "motif_6",
          "motif_7",
          "motif_8",
          "motif_9",
          "motif_10",
          "motif_11",
          "motif_12",
          "motif_13"
         ],
         "y": [
          0.0110069126751254,
          0.0198407037364173,
          -0.0210046494483902,
          0.0618329690141526,
          0.0689751145591021,
          0.1452005508472017,
          0.0118676230691873,
          -0.0162816164716667,
          0.1624205390126246,
          0.2172684830542092,
          -0.0045207685705555,
          0.2714306253007835,
          0.9064728005652264
         ]
        },
        {
         "mode": "lines+markers",
         "name": "86775971_sample_rn_20",
         "type": "scatter",
         "x": [
          "motif_1",
          "motif_2",
          "motif_3",
          "motif_4",
          "motif_5",
          "motif_6",
          "motif_7",
          "motif_8",
          "motif_9",
          "motif_10",
          "motif_11",
          "motif_12",
          "motif_13"
         ],
         "y": [
          0.0058681827472092,
          0.0208765142402327,
          -0.032213908989608,
          0.0955750960500331,
          0.0792781259174585,
          0.2404494309318346,
          0.0026977856723014,
          -0.0247354796283698,
          0.1322641657389114,
          0.140897073198352,
          -0.0004672618196205,
          0.1854918730883359,
          0.9235172334573692
         ]
        },
        {
         "mode": "lines+markers",
         "name": "86775971_sample_sff_20",
         "type": "scatter",
         "x": [
          "motif_1",
          "motif_2",
          "motif_3",
          "motif_4",
          "motif_5",
          "motif_6",
          "motif_7",
          "motif_8",
          "motif_9",
          "motif_10",
          "motif_11",
          "motif_12",
          "motif_13"
         ],
         "y": [
          -0.0277163783557954,
          0.0042393588009083,
          -0.0389566930888409,
          0.0799409139292171,
          0.0236304818223164,
          0.4074716254887873,
          -0.0112496041824244,
          -0.0162668533008589,
          0.0872383327509441,
          0.1031904334377518,
          -0.0075974972839458,
          0.1934840237739139,
          0.876681461829995
         ]
        }
       ],
       "layout": {
        "images": [
         {
          "sizex": 0.5,
          "sizey": 0.5,
          "source": "data:image/png;base64,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",
          "x": "motif_1",
          "xanchor": "center",
          "xref": "x",
          "y": -0.07,
          "yanchor": "top",
          "yref": "paper"
         },
         {
          "sizex": 0.5,
          "sizey": 0.5,
          "source": "data:image/png;base64,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",
          "x": "motif_2",
          "xanchor": "center",
          "xref": "x",
          "y": -0.07,
          "yanchor": "top",
          "yref": "paper"
         },
         {
          "sizex": 0.5,
          "sizey": 0.5,
          "source": "data:image/png;base64,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",
          "x": "motif_3",
          "xanchor": "center",
          "xref": "x",
          "y": -0.07,
          "yanchor": "top",
          "yref": "paper"
         },
         {
          "sizex": 0.5,
          "sizey": 0.5,
          "source": "data:image/png;base64,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",
          "x": "motif_4",
          "xanchor": "center",
          "xref": "x",
          "y": -0.07,
          "yanchor": "top",
          "yref": "paper"
         },
         {
          "sizex": 0.5,
          "sizey": 0.5,
          "source": "data:image/png;base64,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",
          "x": "motif_5",
          "xanchor": "center",
          "xref": "x",
          "y": -0.07,
          "yanchor": "top",
          "yref": "paper"
         },
         {
          "sizex": 0.5,
          "sizey": 0.5,
          "source": "data:image/png;base64,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",
          "x": "motif_6",
          "xanchor": "center",
          "xref": "x",
          "y": -0.07,
          "yanchor": "top",
          "yref": "paper"
         },
         {
          "sizex": 0.5,
          "sizey": 0.5,
          "source": "data:image/png;base64,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",
          "x": "motif_7",
          "xanchor": "center",
          "xref": "x",
          "y": -0.07,
          "yanchor": "top",
          "yref": "paper"
         },
         {
          "sizex": 0.5,
          "sizey": 0.5,
          "source": "data:image/png;base64,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",
          "x": "motif_8",
          "xanchor": "center",
          "xref": "x",
          "y": -0.07,
          "yanchor": "top",
          "yref": "paper"
         },
         {
          "sizex": 0.5,
          "sizey": 0.5,
          "source": "data:image/png;base64,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",
          "x": "motif_9",
          "xanchor": "center",
          "xref": "x",
          "y": -0.07,
          "yanchor": "top",
          "yref": "paper"
         },
         {
          "sizex": 0.5,
          "sizey": 0.5,
          "source": "data:image/png;base64,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",
          "x": "motif_10",
          "xanchor": "center",
          "xref": "x",
          "y": -0.07,
          "yanchor": "top",
          "yref": "paper"
         },
         {
          "sizex": 0.5,
          "sizey": 0.5,
          "source": "data:image/png;base64,iVBORw0KGgoAAAANSUhEUgAAAPoAAAD6CAMAAAC/MqoPAAACXlBMVEVHcExzc3Nzc3Nzc3Nzc3Nzc3Nzc3Nzc3Nzc3Nzc3Nzc3Nzc3Nzc3Nzc3Nzc3Nzc3Nzc3Nzc3Nzc3OMUv9zc3OMUv9zc3Nzc3Nzc3Nzc3Nzc3Nzc3OMUv9zc3Nzc3OMUv9zc3Nzc3Nzc3Nzc3Nzc3OMUv+MUv+MUv9zc3Nzc3Nzc3Nzc3OMUv+MUv+MUv9zc3OMUv+MUv9zc3OMUv+MUv+MUv+MUv+MUv9zc3Nzc3Nzc3Nzc3OMUv+MUv+MUv+MUv+MUv+MUv+MUv+MUv+MUv+MUv+MUv+MUv+MUv+MUv+MUv+MUv+MUv+MUv+MUv+MUv+MUv9zc3Nzc3OMUv+MUv+MUv+MUv+MUv+MUv+MUv+MUv+MUv+MUv+MUv+MUv+MUv+MUv+MUv9zc3OMUv+MUv+MUv+MUv+MUv+MUv+MUv+MUv+MUv+MUv+MUv+MUv+MUv+MUv+MUv+MUv6MUv+MUv+MUv+MUv+MUv9zc3Nzc3Nzc3SMUv+MUv+MUv+MUv+MUv+MUv+MUv+MUv9zc3Nzc3Nzc3OMUv+MUv+MUv+MUv+MUv+MUv+MUv+MUv+MUv+MUv+MUv+MUv+MUv+MUv+MUv9zc3Nzc3Nzc3Nzc3Nzc3Nzc3N1cXxzc3Rzc3Nzc3Rzc3Nzc3Nzc3Rzc3Nzc3Nzc3Rzc3Rzc3R0cnd1cX14bJF3boh2b4V9Za15a5N1cIF/Y7aMUv+MUv+MUv+MUv+MUv+MUv+MUv+BYcCGWeCMU/2MUv+MUv+MUv+MUv+MUv+MUv+MUv+MUv+AYryCX8qLVPeBYMKGWt6IV+iMUv9zc3NBCLVTAAAAynRSTlMAKtXhEAfyeEAgWDfIHoBgqKD8DzAJFZhwwO/P+fCwuN9QA/jqAfHYaA3QkAJ4/UgdOIgszur66F+fr7gvcDwM3aiIgMiYMDUZST9MawSg4va/uho7fiBYBmBsaCiR38Ww848VFvUlMkAiSxON5uW31dDunM274It/ytEeekRHs6rsvT9FYipVESYKZ1Cir4LA18uTw1xPbzoiOETv6cXT5+Kt2LHBgZLiXl5HqbHAp2JWXFtyT2Vrms6Ov6zGm5fTpqil4JKp0v//1+uvcQAADGBJREFUeJztnfdj1EYWxwXeBDsUY9a+s41bILYDNhs7BoMdMMZ0F8qBabEDphkSagglwWdKGukXwiXXc72XXO+9af+rk7Q7I42k0c6M5mlWe/r8FBH5zfvuvpmvdjQaaVpCQkJCQkJCQkJCQkJCQkJCQnrf6W379287vS+tOpNIWT++Wneweny96oyiYfu5Qd3D4Llp1XmB89otr+4ct3pU5wbKzXcyNOW6nnnngOr8wNgx2UAXbtIweUJ1jjBsXxMs3GTNdtVZQrDzVGHlun5qWHWe8vkkoJcTRf+66kxls4FNuEFmg+pc5bK/l1m63jugOluZdDGMcDZrulTnK4+a1YX1OlldozpjWXTe5lOu65tUpyyLg7zKdf2g6pzlUPMMv/TB0ij5VfzKdb0kHC7dJiJ9bSnMYAyJKNf1IdV5h6f1vJj0C62qMw9Nt5hyXe9WnXloBOtd1zerzjw07aLSt6jOPCw3RZXrmR2qcw/JiLB0fUR17iEZFZc+qjr3kAiPcvEf53aJS9+qOveQXBSXflF17iG5JC79kurcQ3JHXPod1bmHhHNqyslR1bmHJERff1d17iHZKi497iP8e+LS4+7r/8dXc9vFpcf9pmur0MycSVvsp2k2iUqP/20IgfsPOeJ/FyJdYBEJjYYSmI3+nJj0ZtV5S2BWTPqs6rxlIPS1l8KXrmkDItJLZP3gMX7l8Xe2HD2Mi6dsMiWzbpL7NvMq1RnLg/OS7rbqfCXCt47oQWksqcjDs3psd4mtER7Yw6p8zzbVucrmwPtsyi/fVJ2pfNJM9n6rpPp5noUv/rOg8Mx47Ocn/Ficzf70v8HKf//blytUpwnA/KzB8p/8iy68/WdfMU7pK1edqXQWZC2++uPn/YWvHf1e7ozs3nWqc5XL57OIr41cWevRfWXkUDU+I9tyI6U6X3k8VIZ1zTMOh/9wdHAqp3pq8MGQtU6sMuukr2Q6/Tysqewh/I816bTDyhZlSfZ+qCBP+Sx8GCt6hHZOVdZNy0clUPeLsZwF1HPqPNKz2frY1/18rGXJfOpJLT7SDfrjbXYLsJBP00/yV27W/br41v0jWMXDn6KeVEGVbtT9oxFmKxOXsVEoD5Cezca06n2NzUNlgHCj6CPLViYsxqZ5bd1FLEd6FmPTvLb+MXlYHVW6EmEyNs1r68u/sKjRcRhVujJhMjbNx9YXG/1/JTpYFE2yUmEyNhNv937F+NfyXD9oiiZZqbAZm+Zr63OXWf+jtqkqltbGZmyaw9Y/fgz/yeMRJQkCo7FpDluvexz/yWMroskSBEZj0xy23rFsLv6jJyNJEgRWYzPosMfyJ/BfLV8YSZoQsBqb5rB145fKU/jP4jiyWzAbm8FSdKoxms9Zgv/wiSjylA+zsZngU83f5rj68wYXO5iNzSCFzzWPVsTc4NiNzQBPwq+0DmNucOzGZoLOrbKO4m1wHMZmgn6z5qeiYm1wHMZmUtHo+NK1WBscj7FZpKoas2W1+HDOchwgZgbHZWy+PBlXg+MxNn/ianBcxkYhpgbHZ2z+xNPgOI2NgsPg5sjLDRhOY6PRhMM8JSszaLiNjcLC2BlceGNDxM7gwhsbIm4GJ8PYEDEzOBnGhnAYXIeE1ICRY2wI2+CWFL/BSTI2RIwMTpaxIeJjcPKMDREbg5NnbIi4GJxMY0M4DE5KFwJCprEhHAYnZeCEQa6xIV6Jg8FJNjaEXUtFa3CyjQ1R/AYn39gQRW9w8o0N4TC42sJnRw+EsSFsg5PblSRhD0afkR57GdAAKgeHsQFYEGz0kAB/L0VscFDGhiheg4MzNoTD4CT7R0jgjA3hMDigD1cMSGND2I9JFJXBQRobpigNLhrrKUqDi+j7KEKDgzY2hMPgiuTBN3hjQ9gGB+UjnMAbG2JFZB8yG1EYGyKqrsVIJMaGKCqDi9ZyisrgIv4eisjgou59Kg3uRku2/jh+lj46Y0PYj/3afpI6Xp9tuQHccCr3oMZSpD06Y0P4fNgoKdiG0WeeX+MQpbEhvF0MPS8C++BrXb6VltxhpMaG8Ays6EngOtBmcatWxauxGner+LmZetBmcUeznrBVdIHhqjX8OGwZaKuo4C1nUXVZ6RphHkUHsAWPt1VYpMLYEKSvYLurKvyXIbCfulVhbAjyQ3c8DguJ/ay1EmNDEF0Nd8JK0DbxkLJUjbEhnAOs83FYQCpwk2p/QzmXruD/BN67BrfzouNzV8Bin0SAm7QHGEdvM0it6++PYDtMsxXrasox0iBgbd1vQzzT2Cr66q0BALjkKqxundt/b54nEVhb99kG0TC28n50sBe28b2onf5yp8HlgbV1n12yXl3n3EcIdJB17svWsu5VdybQOxa590YrqycOQVf51BJN1X/dlQqsrRfaEQ920ih4Szrw7fgqgpsHHedUtm0S2Dpwdwvejg+2bc3P2DGN4Ov5aumNg9u6/063OeGLItjzNEXsv0cAbevO53AIVkKPrxh7/z0SaFun9Ldod4Qr924vnY1iI0Jvd2vsiHy7z4oOb91DlN2hjemaMXzkNvaySiXbGqcq3eOtXXhjNemNh0LGPz1ztx29v2D3C1dGzN3cq4n2mhTufVheR6RibrdaM3Llhd35hJ9vvztzWihwZ/dQu/u9BXuOHb6n2aXWWKV4Y9uKKkcy2r3DxzyvFGof6uZ9nUrrzz26czRM/hBVem0RbOCdqkV1/4NJyqtB21/nEn8m4E1cU//4htFSXZGsYTLMzqz77/9nip7x/c8yB5v+Iz2MyZp/f7mo9jGu/tHvKG9UQVxlfL/zkcLvG7y/D1YMH/vuF0w4c4QhTucHBeMYXHgNXBAz0xdYMv6gs1CcdDNLHF1vK5pXyM6eYsu4ucCbjs9eYovDWEIRwNA981wK7KWHHrDG0fXegajUBbG/lz3jB0GXeFvZ4xgDfVdU+ui8wfFOSF3fSg/0NE8cXV8dxXvCq18OMNI05cKLxtO0QDzFY3Gx4KgZlnJzpnsv7Xq5k3FMxtA6ac0znIF0/TCY5hz5n4m0974c5k540P/VkBu4A9EiSQPfbjnu938Fvit9g1+gtOcFc6KR5GH/JPW7nSfwXenn/canzQKB/CNJw95O2a/ohb4rfbO3mZNtIoH8IkmEmIlxF73Qd6W37fC0MikUyC+SRMg5ULLoBb8rfdLTCqdDYmCv5cm5V6LoZwUTvuxu44BgoKArJBm4JoAdRc915ekg476U57yQs7kA/CrhanLmFRd963nRjN2XdLzXRTbdsNK1FHm/pz4/394tnHAzGf9NypweA7BjvImr6Pus6dAh4YQb3iSirxcOpB8Dl+4pevMHjXiZ6hNE8GHxQFu+ORecb5FLxcyi3yKeMdlFnxUPdI1y5xOUPu2aeMY7Cem/EA/UoEJ6tlx8cNJ/SUg/Ih5If0mF9G+HSJicVRyPm/SXQiQ8TkifiZv074RI+FeE9LfEA/Uq6evfDSH9E0L62+KB1qqQXpYS/N1m8rYsX7+sQHpTSrssnvEwIT3E1VzzF+dA86V+UnltuKu59YT0LvFAuzRoqpcSwsusifld4hl3EdHHxLsOdVpfFpXk4uum3GIO4V/Z+tQYGX+TaKAM6AyV8Zu1z1vsJjuYbzO6cZfpQdFAW2CV+xa7hfDvF/eUWlr0mngVqHL/YrdYJZjwlOd+q+iIOeEOJBPX+kRi5fWEYMKbPK3w37+yaIdUrhHVXua65So4h3zQ2wzHqgIHZyCVV9CK3eKMUMJHfdoRitTsE0gitGLPIdRH9/u1IxAp0wMrHa8DXem3vqBHQPkx33YEIkFfyaEbT1X+a1L5L0Zo3xW3Xew+ASjbwrrx1Ehb6n5id+EcSahWfJsvTtt6WiB5VHc0BSxD3sZ5/f0naqSagFXBXjLsq27BmOW6nP1zwCKQLp4KAl5RwQZPJw3un9s8i+mpAN9iZeUvzAnvKdA/JxiX5mTGge+wstI6w1jz194oFOq5q0yf4EgUstj4NdP64LvPFY7U+VeGTzCCsZ2daYZKvc62unH2/eAwDdc3AovhZOP1Aj+5/8ZsRmO/CViXlfn7AUgZYpx9N0D42rd4FrTSP8f7jI+RRM0wbdbm1Hu8NXpgxifWnV3PguQthZ277ngz3jLTJRLr5OhV51rpwXPD4Cuhw9E5cG7QkXDv1dGTIaJtPHm2p3tgeqLrXtinRCPi0L2uiemB7p6zO4psLE5ISEhISEhISEhISEhISEgI4n854vfn5qe/cAAAAABJRU5ErkJggg==",
          "x": "motif_11",
          "xanchor": "center",
          "xref": "x",
          "y": -0.07,
          "yanchor": "top",
          "yref": "paper"
         },
         {
          "sizex": 0.5,
          "sizey": 0.5,
          "source": "data:image/png;base64,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",
          "x": "motif_12",
          "xanchor": "center",
          "xref": "x",
          "y": -0.07,
          "yanchor": "top",
          "yref": "paper"
         },
         {
          "sizex": 0.5,
          "sizey": 0.5,
          "source": "data:image/png;base64,iVBORw0KGgoAAAANSUhEUgAAAPoAAAD6CAMAAAC/MqoPAAACSVBMVEVHcExzc3Nzc3Nzc3Nzc3Nzc3Nzc3Nzc3Nzc3Nzc3Nzc3Nzc3Nzc3Nzc3Nzc3Nzc3Nzc3Nzc3Nzc3Nzc3Nzc3Nzc3OMUv9zc3Nzc3Nzc3OMUv9zc3Nzc3Nzc3Nzc3Nzc3Nzc3Nzc3OMUv9zc3Nzc3Nzc3Nzc3OMUv+MUv9zc3Nzc3Nzc3OMUv+MUv+MUv+MUv+MUv9zc3Nzc3Nzc3OMUv+MUv9zc3OMUv+MUv+MUv+MUv+MUv+MUv+MUv+MUv+MUv+MUv+MUv+MUv+MUv+MUv+MUv9zc3Nzc3OMUv+MUv+MUv+MUv+MUv+MUv+MUv+MUv+MUv+MUv+MUv+MUv+MUv+MUv+MUv+MUv+MUv+MUv+MUv+MUv+MUv+MUv+MUv+MUv+MUv+MUv+MUv+MUv+MUv9zc3Nzc3Nzc3OMUv+MUv+MUv+MUv+MUv+MUv+MUv+MUv+MUv+MUv+MUv+MUv+MUv+MUv+MUv+MUv+MUv+MUv+MUv+MUv+MUv+MUv+MUv+MUv+MUv+MUv9zc3Nzc3Nzc3Nzc3Nzc3Nzc3Nzc3Nzc3Nzc3Nzc3Nzc3Rzc3Rzc3Rzc3SMUv+MUv+MUv+MUv+MUv+MUv+MUv+MUv+MUv+MUv+MUv+MUv+MUv+MUv+MUv+MUv91cXxzc3RzcnVzc3R0cnd1cX14bJF9Za13boh2b4V5apd/Y7aMUv+MUv+MUv+MUv+MUv+MUv+BYcCGWeCMU/2MUv+MUv+MUv+MUv+MUv+MUv+MUv+MUv+AYryKVfSBYMKGWt5zc3OMUv9zcjLBAAAAw3RSTlMA1SoQ4CBAMICgYHDvz7AD6mhQDcD4D0jf8AkeiJC4/PKf+RU3B6i4AXiYyPHYAnj9X7+vHThYLM7q+uiIL3A8DN2ogMiY0I8wNRlJP0xrBgTfoOL2Gjt+IFhgbGgokcWw8xUW9T9/RSUyQCJLE43m5bfV0O6czbvgix56REezquy9T286YjjTusvn2LHRwYAqVXIRJgpnUKKvgsDXy5PDRO+T4pLiXmteR6unYlZcW09la5rOjr+sxpuX06aozpKp//9uyakSAAANbElEQVR4nO2d92PTRhvHDY6d4RDKcuPQUGJWaJNgMhoII4MNCaFhhFECYQdaNmXkDZTut+ttS3dL6btX3733a/1lryX7TnfSnSydbkh59fkpjuXnnkd67r6n090pFouIiIiIiIiIiIiIiIiIiIiISO8/t/3Age3n9qdVeyKVDaNrNIQ1oxtUeySHHRf7NRv9FydU+yWc9+/a4y5yt1u1b0K581mOFrmm5T47qNo/Yewcy9ID18mOnVDtoxh2rHUOXGftDtVeimDXqfKRa9qpQdV+8udbh1qOJf0Hqj3lzUZ3gRfIbVTtK18O9LgOXevpVe0tTzpdtHAmaztV+8uPhjXl40VZ06DaY1603fMWuaYNqHaZF4e8Rq5ph1T7zIeGZ72H3j89Un6V98g1bVooXLqFJfR102EEYz1L5Jq2XrXf/mm+xBb65WbVnvumiy1yTetS7blvGPNd0zap9tw3rayhb1btuV/usEau5Xaq9t0nQ8yha0OqfffJbvbQd6v23SfMrVz427kR9tC3qPbdJ1fYQ7+i2nefXGUP/apq333yEnvoL6n23Sceh6ZQjqn23Sc+6vrnqn33yRb20MPewn/BHnrYdf3/uDe3gz30sD90bWYamdNpCf0wzQBr6OF/DMHw/KFI+J9CpLNskWenwWj0l2yhr1DtNwem2EKfUu03D5gu+3S46LFYL0vo02T+4HHvkYdf2Yp0u5w8ZZKbNvMmPT9mXqXaY34MeIv8nmp/OeJtHtGj6TGlooSX2WN7p9kc4d59biPft121r7w5+JW7yK/dUe0pf9Ku5P3utKrngObyz99yo6EfnyCSOP3TfztH/sffn06o9lIAyaZ8Pl/7C8JqJ0DrL79fOKQpqdpTzqxuzxf5wYfXyYGv2/2j0iHtq1V7y4/4mfo8JDE8dGOdLe4bQ8OV5jH1Z+KqfeZCZVMepUb/3+CfjvWPF6Me73+03pgnVoMd1hT+Sv9yex6nyvyuIZ1GpKzKcmD7y/K95Uf8lfq8lWrawdW2Q+tfCWveJ5pqbdHk8/Nph88nHFwbyrxPdhBC0S8l7Qf2BDHoCJnYxVdTAilA+w31B/WrQ5T3c0mZDqCkcMLhJ7Vz5frPTtIhinyeksBMPwoc9GTXqSH/qMbxR9QWIlg4pW4eE3YUq6xbCEdLX4k7/YYlCIqwW2Xd8rNKuTGwgnicqXp1gSUmirBbZX3Bq1UZ5KPcCJiBubu1UK+XW1N3FvlHtgZieaH+bwUfKLUkeNQVM1tvls9aI6JdQPtxZwv/TRbrQZ1M7/2RrK5LGQ3T7Bn2kIgdFELbOGO28UWqrjos0oYxBwbyGGy3iIFAWX/jMfiTObK95ck8JA7YjhG7ZlDW5yNna55sfznyBJK9jeBPYpMFm8ZGpI48Idtffiw0he1xJDjSociJeRz+aMFC2R5zow4GsahwTwNTmnQoWh0WwZ+FqGXHMS/fkzORhowo7LPAt4VGcOaTSLKEEqTS6jkeh59IB8MvdemD2V8SuNAxBwZQbKqx6Czg52VeyAXO5j/slRLuwuAtz1bjo/WshQxU2Ix/wHsz0tHgu+J9XbgFbiYqbAZzsegsgPNS6u+EWuBMhVoE/lUML0McdUhk8NMSYoFDLttM+M9URT5TTRlejVdn8hUp+NGeNGHBf2W1NRVhwX8THVaB4+G3/7OnBB7dsXAKHJ9OOLGlDDqclAm78QsHvPojC0MncPwqaegEjl/THDaBW8LR35AJ3FMcs9Qy2hFwEGE7698aPsYVcExhW87DXIgEjveNdngEjn/vMzQCx79JDovA8RQ2AHI2l/CyKQBT2J7mlp1IHXqKl03+IMK2lJ9Vc3ZCgAWOs7ABzDkpgRU4USPIwRc4ccMqgRe4FHdhAyAClyp/tHyWLBYnwKbALQ6iwIkQNsDsp4MscGKEDbA0yAInSNgAARY40Y9Ggytwy4QJGwARuGViSmBkpTBhAyACt1JMCWwgwkZZ5OAfc5lEoAQOETZxhQRS4MQKGyCQAidY2AABFDg4BVTwnB9E4AKy8G1ZhWhhA5gCVxEMgTOFrULw06F55kkOhMAhwvaM6LKeCZbASRE2QKAETo6wAQIlcG/KETZAgATOrH1yJrOqFLgz9fnabXCyJyJskhYgmst+TYGLb6vN158RXHC8uFBjFoh9JcERsSyzCxxwSmzB4JyX5jjIFDaAXeDABEWxeQcWJpWW0ksVNoBN4MBKYOrmJ1yApRoZv1SqsAGsAgfXzdQKLRZWNGNhqnn+pQgbwBS4N/WPcBVZhdBSsYWpSK2TukpjId7COK8d5AZculNFbGslgesKlDvqHk9cQBemyhc2AH7SndcJc8Nca61E2ACYwMFKKGxE1ABZmGpuKSJR2ACowKHLYQVi7qtgSoxMYQMgAmf+KXjvGljOd+FfYlsXCssJjggu0mxgkNoW0/ca6+iQsB2mXorRm0IEDiBW1kkb4unCVtpVb5bglEsY1bq4/95KmyNiZZ2wDWJB2Mxd9drFFg73qexIogInqeLZdsl6DdtVT2gji+7LVr/6NasnogcMrHujvYXvqid0lk8KK6r2LYsrYmW93I54YgeNnLekE74dX5nN5IS2cyrL1nEsXXB1c96OT2zZMZKwQzLC5/Ol6IULl3XyTrfFwKsk7Hkax/bfwxAt6+g6HIytottXiLn/Ho74/jSxvsndES5p3146L+M5gL26ZRqlb/eZaLTnvYi0G+5LN+yBn6zCXlGjZFvjeI21vTUTb09Dum/Yp/1zk/dbwfsL9r54Y0jfzR3fKrVO4d6HSbzF1bdbbRi68eLeksPXW+9PnmMy3Na1vtX63oJ9xw8/iJmplqlWvLFtohpxJvbg8HHbK4Va13d5fZ1K869scRfJjv0MZHoqABt4x1Mg738ylqW8WOQDT8Gfd3gT1/i/flgoaX5A5jAVxE7P+x//d5zu8cPvuDY28We6GZ21//kmUPsYV/78D5Q3qgBuuny/85Hy7xt8uF9sMN7Y/7Csw7kjLuy0fV3WToHL74uOxz0Tl914/HVbOTvpFW7saFpLYF4hO3XKnccryrzp+MJVd3ZcppAEXFTPElcda+nwI7d2NK2nV1Z0Thzoce/xI6cu3hb3dgoNfae0AKl85OGdkJq2hW7oOS92NG2NQ+2pPM1J/xwNpSkdLxrP0Qx5SR6DK7RWM6GPmNdz6N8n9ZHudlp/uc1lmwyhVdKGZz0a0rTDZEvgvS++Yy/dJtLe+3LYs8P95FdDbvRsiGJpG7il8P0wBj5u2Ub6luFaaRtJhtK2F8yxWUrA593+B0lNS6THeQzXSrtEap82MRgiWMJecuTz3i6OmLInPdO10jbZiznZwmLIZmkb4q3/8WFsJMaa9EzXSmvZaStljMmQxRKa7HkOI4X4GCie9IzXShuzleJRISFoX97yRi8Ow8P42CuW9FOMDl+zlnGQ0RDSQ4o3YX7yeepqGQBGkt5TzxMhZ+3Ke+zImVwGwz+VeLJX8OrN4SOvMOmbL7F6bO3See0XmXQVDdTgyV7HbeAujj/vqS2Nt3cxO7wCt/9xltmS0cYLSXaAJembjLNa/t3WNLIfY9Y3MBvSjseEJTvAmvS6efY01Y5ixgfZDW22Jfvit2dw5m18qpie9JvZPe7CQn+e3dCtmCXZZdAUu8Xu8S4s9F+zG8rOLe8pf5JZdo9/g4V+hN2Q9o6K0N/x4TA+qjjqw9K7KkJ/14fDo1jokz4svaci9Pd8OPwhFvon7IZ6vqci9CofoX+Lhf4pu6F1cYdJVaKoiDPet+l8ykvXr1m7mhIodJOvsXs8iIXuozend4ktXc2O12dy5XXLC81T/npzG7DQO9kNjdC6mtwgdpNH2D3GH53sYa86xXtAyv0VD8j3hMx32dr4Htz+AKuhHBihIt5f+Yd2T7jT9WNGKyOWEg6xGtoMTQhJevo9IfP9i/XxeDrLaGgVcoH4J73DAMgqRofHbc9bWVtM7ObXkvS+r7tlfiI2AHKU0eEBWynen18ZtOJW8KT3vYUClu3WARDGMeRD9mI8zCpAOG+xgie9z6YOW/ZgG+07z+TwMUI5TJZW2O2gSe8vcmzJBWG0j6mOHiCVw2Ap102wYyZ9xm/ocB7oVlKz0c0Q+XFiOQyWrBJZBCY9twdPlLceDnh2mHitYgxysfcExeUa43LxevCUoankib3lfcRZRbEUu+fNTssGmqFYvKqukU+XprHOYRrydo/9779QLTU4zAq2k3M/61YYU566s38lTycx6PSSQcS5GbLxUkmp9dNgu20yPRWHSWgy+Ztrh/fR66fBUZdTc3KjXlcXCKJ50mXO3/qonKkXbro6g0MywnLHb13ND77/QnlLbX93cQbL5I5cJlxk6u2yc8INpr5yNpO93Sc2Fq/03c46e/wP12K053cO87Jy/zwoMgw2LnzuEPi6T9xd8iL08/jQ5TIS2QzSRm1OfdHn0dTBSYKt6yPPi3CbD7tGCIt/Nk8yTV0/ufsmOle6/+Kgl8RRQFvvxX7E4Z6bu0/6sNZ38kJ3V+/E0c4HfleJSmL4QefRid6u7gs7+1S7EhEREREREREREREREREREeGe/wFqJpOgOoReEwAAAABJRU5ErkJggg==",
          "x": "motif_13",
          "xanchor": "center",
          "xref": "x",
          "y": -0.07,
          "yanchor": "top",
          "yref": "paper"
         }
        ],
        "template": {
         "data": {
          "bar": [
           {
            "error_x": {
             "color": "#2a3f5f"
            },
            "error_y": {
             "color": "#2a3f5f"
            },
            "marker": {
             "line": {
              "color": "#E5ECF6",
              "width": 0.5
             },
             "pattern": {
              "fillmode": "overlay",
              "size": 10,
              "solidity": 0.2
             }
            },
            "type": "bar"
           }
          ],
          "barpolar": [
           {
            "marker": {
             "line": {
              "color": "#E5ECF6",
              "width": 0.5
             },
             "pattern": {
              "fillmode": "overlay",
              "size": 10,
              "solidity": 0.2
             }
            },
            "type": "barpolar"
           }
          ],
          "carpet": [
           {
            "aaxis": {
             "endlinecolor": "#2a3f5f",
             "gridcolor": "white",
             "linecolor": "white",
             "minorgridcolor": "white",
             "startlinecolor": "#2a3f5f"
            },
            "baxis": {
             "endlinecolor": "#2a3f5f",
             "gridcolor": "white",
             "linecolor": "white",
             "minorgridcolor": "white",
             "startlinecolor": "#2a3f5f"
            },
            "type": "carpet"
           }
          ],
          "choropleth": [
           {
            "colorbar": {
             "outlinewidth": 0,
             "ticks": ""
            },
            "type": "choropleth"
           }
          ],
          "contour": [
           {
            "colorbar": {
             "outlinewidth": 0,
             "ticks": ""
            },
            "colorscale": [
             [
              0,
              "#0d0887"
             ],
             [
              0.1111111111111111,
              "#46039f"
             ],
             [
              0.2222222222222222,
              "#7201a8"
             ],
             [
              0.3333333333333333,
              "#9c179e"
             ],
             [
              0.4444444444444444,
              "#bd3786"
             ],
             [
              0.5555555555555556,
              "#d8576b"
             ],
             [
              0.6666666666666666,
              "#ed7953"
             ],
             [
              0.7777777777777778,
              "#fb9f3a"
             ],
             [
              0.8888888888888888,
              "#fdca26"
             ],
             [
              1,
              "#f0f921"
             ]
            ],
            "type": "contour"
           }
          ],
          "contourcarpet": [
           {
            "colorbar": {
             "outlinewidth": 0,
             "ticks": ""
            },
            "type": "contourcarpet"
           }
          ],
          "heatmap": [
           {
            "colorbar": {
             "outlinewidth": 0,
             "ticks": ""
            },
            "colorscale": [
             [
              0,
              "#0d0887"
             ],
             [
              0.1111111111111111,
              "#46039f"
             ],
             [
              0.2222222222222222,
              "#7201a8"
             ],
             [
              0.3333333333333333,
              "#9c179e"
             ],
             [
              0.4444444444444444,
              "#bd3786"
             ],
             [
              0.5555555555555556,
              "#d8576b"
             ],
             [
              0.6666666666666666,
              "#ed7953"
             ],
             [
              0.7777777777777778,
              "#fb9f3a"
             ],
             [
              0.8888888888888888,
              "#fdca26"
             ],
             [
              1,
              "#f0f921"
             ]
            ],
            "type": "heatmap"
           }
          ],
          "heatmapgl": [
           {
            "colorbar": {
             "outlinewidth": 0,
             "ticks": ""
            },
            "colorscale": [
             [
              0,
              "#0d0887"
             ],
             [
              0.1111111111111111,
              "#46039f"
             ],
             [
              0.2222222222222222,
              "#7201a8"
             ],
             [
              0.3333333333333333,
              "#9c179e"
             ],
             [
              0.4444444444444444,
              "#bd3786"
             ],
             [
              0.5555555555555556,
              "#d8576b"
             ],
             [
              0.6666666666666666,
              "#ed7953"
             ],
             [
              0.7777777777777778,
              "#fb9f3a"
             ],
             [
              0.8888888888888888,
              "#fdca26"
             ],
             [
              1,
              "#f0f921"
             ]
            ],
            "type": "heatmapgl"
           }
          ],
          "histogram": [
           {
            "marker": {
             "pattern": {
              "fillmode": "overlay",
              "size": 10,
              "solidity": 0.2
             }
            },
            "type": "histogram"
           }
          ],
          "histogram2d": [
           {
            "colorbar": {
             "outlinewidth": 0,
             "ticks": ""
            },
            "colorscale": [
             [
              0,
              "#0d0887"
             ],
             [
              0.1111111111111111,
              "#46039f"
             ],
             [
              0.2222222222222222,
              "#7201a8"
             ],
             [
              0.3333333333333333,
              "#9c179e"
             ],
             [
              0.4444444444444444,
              "#bd3786"
             ],
             [
              0.5555555555555556,
              "#d8576b"
             ],
             [
              0.6666666666666666,
              "#ed7953"
             ],
             [
              0.7777777777777778,
              "#fb9f3a"
             ],
             [
              0.8888888888888888,
              "#fdca26"
             ],
             [
              1,
              "#f0f921"
             ]
            ],
            "type": "histogram2d"
           }
          ],
          "histogram2dcontour": [
           {
            "colorbar": {
             "outlinewidth": 0,
             "ticks": ""
            },
            "colorscale": [
             [
              0,
              "#0d0887"
             ],
             [
              0.1111111111111111,
              "#46039f"
             ],
             [
              0.2222222222222222,
              "#7201a8"
             ],
             [
              0.3333333333333333,
              "#9c179e"
             ],
             [
              0.4444444444444444,
              "#bd3786"
             ],
             [
              0.5555555555555556,
              "#d8576b"
             ],
             [
              0.6666666666666666,
              "#ed7953"
             ],
             [
              0.7777777777777778,
              "#fb9f3a"
             ],
             [
              0.8888888888888888,
              "#fdca26"
             ],
             [
              1,
              "#f0f921"
             ]
            ],
            "type": "histogram2dcontour"
           }
          ],
          "mesh3d": [
           {
            "colorbar": {
             "outlinewidth": 0,
             "ticks": ""
            },
            "type": "mesh3d"
           }
          ],
          "parcoords": [
           {
            "line": {
             "colorbar": {
              "outlinewidth": 0,
              "ticks": ""
             }
            },
            "type": "parcoords"
           }
          ],
          "pie": [
           {
            "automargin": true,
            "type": "pie"
           }
          ],
          "scatter": [
           {
            "fillpattern": {
             "fillmode": "overlay",
             "size": 10,
             "solidity": 0.2
            },
            "type": "scatter"
           }
          ],
          "scatter3d": [
           {
            "line": {
             "colorbar": {
              "outlinewidth": 0,
              "ticks": ""
             }
            },
            "marker": {
             "colorbar": {
              "outlinewidth": 0,
              "ticks": ""
             }
            },
            "type": "scatter3d"
           }
          ],
          "scattercarpet": [
           {
            "marker": {
             "colorbar": {
              "outlinewidth": 0,
              "ticks": ""
             }
            },
            "type": "scattercarpet"
           }
          ],
          "scattergeo": [
           {
            "marker": {
             "colorbar": {
              "outlinewidth": 0,
              "ticks": ""
             }
            },
            "type": "scattergeo"
           }
          ],
          "scattergl": [
           {
            "marker": {
             "colorbar": {
              "outlinewidth": 0,
              "ticks": ""
             }
            },
            "type": "scattergl"
           }
          ],
          "scattermapbox": [
           {
            "marker": {
             "colorbar": {
              "outlinewidth": 0,
              "ticks": ""
             }
            },
            "type": "scattermapbox"
           }
          ],
          "scatterpolar": [
           {
            "marker": {
             "colorbar": {
              "outlinewidth": 0,
              "ticks": ""
             }
            },
            "type": "scatterpolar"
           }
          ],
          "scatterpolargl": [
           {
            "marker": {
             "colorbar": {
              "outlinewidth": 0,
              "ticks": ""
             }
            },
            "type": "scatterpolargl"
           }
          ],
          "scatterternary": [
           {
            "marker": {
             "colorbar": {
              "outlinewidth": 0,
              "ticks": ""
             }
            },
            "type": "scatterternary"
           }
          ],
          "surface": [
           {
            "colorbar": {
             "outlinewidth": 0,
             "ticks": ""
            },
            "colorscale": [
             [
              0,
              "#0d0887"
             ],
             [
              0.1111111111111111,
              "#46039f"
             ],
             [
              0.2222222222222222,
              "#7201a8"
             ],
             [
              0.3333333333333333,
              "#9c179e"
             ],
             [
              0.4444444444444444,
              "#bd3786"
             ],
             [
              0.5555555555555556,
              "#d8576b"
             ],
             [
              0.6666666666666666,
              "#ed7953"
             ],
             [
              0.7777777777777778,
              "#fb9f3a"
             ],
             [
              0.8888888888888888,
              "#fdca26"
             ],
             [
              1,
              "#f0f921"
             ]
            ],
            "type": "surface"
           }
          ],
          "table": [
           {
            "cells": {
             "fill": {
              "color": "#EBF0F8"
             },
             "line": {
              "color": "white"
             }
            },
            "header": {
             "fill": {
              "color": "#C8D4E3"
             },
             "line": {
              "color": "white"
             }
            },
            "type": "table"
           }
          ]
         },
         "layout": {
          "annotationdefaults": {
           "arrowcolor": "#2a3f5f",
           "arrowhead": 0,
           "arrowwidth": 1
          },
          "autotypenumbers": "strict",
          "coloraxis": {
           "colorbar": {
            "outlinewidth": 0,
            "ticks": ""
           }
          },
          "colorscale": {
           "diverging": [
            [
             0,
             "#8e0152"
            ],
            [
             0.1,
             "#c51b7d"
            ],
            [
             0.2,
             "#de77ae"
            ],
            [
             0.3,
             "#f1b6da"
            ],
            [
             0.4,
             "#fde0ef"
            ],
            [
             0.5,
             "#f7f7f7"
            ],
            [
             0.6,
             "#e6f5d0"
            ],
            [
             0.7,
             "#b8e186"
            ],
            [
             0.8,
             "#7fbc41"
            ],
            [
             0.9,
             "#4d9221"
            ],
            [
             1,
             "#276419"
            ]
           ],
           "sequential": [
            [
             0,
             "#0d0887"
            ],
            [
             0.1111111111111111,
             "#46039f"
            ],
            [
             0.2222222222222222,
             "#7201a8"
            ],
            [
             0.3333333333333333,
             "#9c179e"
            ],
            [
             0.4444444444444444,
             "#bd3786"
            ],
            [
             0.5555555555555556,
             "#d8576b"
            ],
            [
             0.6666666666666666,
             "#ed7953"
            ],
            [
             0.7777777777777778,
             "#fb9f3a"
            ],
            [
             0.8888888888888888,
             "#fdca26"
            ],
            [
             1,
             "#f0f921"
            ]
           ],
           "sequentialminus": [
            [
             0,
             "#0d0887"
            ],
            [
             0.1111111111111111,
             "#46039f"
            ],
            [
             0.2222222222222222,
             "#7201a8"
            ],
            [
             0.3333333333333333,
             "#9c179e"
            ],
            [
             0.4444444444444444,
             "#bd3786"
            ],
            [
             0.5555555555555556,
             "#d8576b"
            ],
            [
             0.6666666666666666,
             "#ed7953"
            ],
            [
             0.7777777777777778,
             "#fb9f3a"
            ],
            [
             0.8888888888888888,
             "#fdca26"
            ],
            [
             1,
             "#f0f921"
            ]
           ]
          },
          "colorway": [
           "#636efa",
           "#EF553B",
           "#00cc96",
           "#ab63fa",
           "#FFA15A",
           "#19d3f3",
           "#FF6692",
           "#B6E880",
           "#FF97FF",
           "#FECB52"
          ],
          "font": {
           "color": "#2a3f5f"
          },
          "geo": {
           "bgcolor": "white",
           "lakecolor": "white",
           "landcolor": "#E5ECF6",
           "showlakes": true,
           "showland": true,
           "subunitcolor": "white"
          },
          "hoverlabel": {
           "align": "left"
          },
          "hovermode": "closest",
          "mapbox": {
           "style": "light"
          },
          "paper_bgcolor": "white",
          "plot_bgcolor": "#E5ECF6",
          "polar": {
           "angularaxis": {
            "gridcolor": "white",
            "linecolor": "white",
            "ticks": ""
           },
           "bgcolor": "#E5ECF6",
           "radialaxis": {
            "gridcolor": "white",
            "linecolor": "white",
            "ticks": ""
           }
          },
          "scene": {
           "xaxis": {
            "backgroundcolor": "#E5ECF6",
            "gridcolor": "white",
            "gridwidth": 2,
            "linecolor": "white",
            "showbackground": true,
            "ticks": "",
            "zerolinecolor": "white"
           },
           "yaxis": {
            "backgroundcolor": "#E5ECF6",
            "gridcolor": "white",
            "gridwidth": 2,
            "linecolor": "white",
            "showbackground": true,
            "ticks": "",
            "zerolinecolor": "white"
           },
           "zaxis": {
            "backgroundcolor": "#E5ECF6",
            "gridcolor": "white",
            "gridwidth": 2,
            "linecolor": "white",
            "showbackground": true,
            "ticks": "",
            "zerolinecolor": "white"
           }
          },
          "shapedefaults": {
           "line": {
            "color": "#2a3f5f"
           }
          },
          "ternary": {
           "aaxis": {
            "gridcolor": "white",
            "linecolor": "white",
            "ticks": ""
           },
           "baxis": {
            "gridcolor": "white",
            "linecolor": "white",
            "ticks": ""
           },
           "bgcolor": "#E5ECF6",
           "caxis": {
            "gridcolor": "white",
            "linecolor": "white",
            "ticks": ""
           }
          },
          "title": {
           "x": 0.05
          },
          "xaxis": {
           "automargin": true,
           "gridcolor": "white",
           "linecolor": "white",
           "ticks": "",
           "title": {
            "standoff": 15
           },
           "zerolinecolor": "white",
           "zerolinewidth": 2
          },
          "yaxis": {
           "automargin": true,
           "gridcolor": "white",
           "linecolor": "white",
           "ticks": "",
           "title": {
            "standoff": 15
           },
           "zerolinecolor": "white",
           "zerolinewidth": 2
          }
         }
        },
        "title": {
         "text": "Z-scores for Twitter Generated Samples of 86775971"
        },
        "xaxis": {
         "showticklabels": true,
         "tickvals": [
          "motif_1",
          "motif_2",
          "motif_3",
          "motif_4",
          "motif_5",
          "motif_6",
          "motif_7",
          "motif_8",
          "motif_9",
          "motif_10",
          "motif_11",
          "motif_12",
          "motif_13"
         ],
         "title": {}
        },
        "yaxis": {
         "title": {
          "text": "significance_profile"
         }
        }
       }
      }
     },
     "metadata": {},
     "output_type": "display_data"
    },
    {
     "name": "stdout",
     "output_type": "stream",
     "text": [
      "                  graph_name    motif  nodes   edges\n",
      "13                  86775971  motif_1  154.0  5811.0\n",
      "624    86775971_sample_rj_20  motif_1   29.0   450.0\n",
      "650   86775971_sample_bsf_20  motif_1   30.0   459.0\n",
      "754   86775971_sample_rpn_20  motif_1   23.0   198.0\n",
      "884    86775971_sample_rn_20  motif_1   27.0   196.0\n",
      "1313  86775971_sample_sff_20  motif_1   30.0   384.0\n"
     ]
    },
    {
     "data": {
      "application/vnd.plotly.v1+json": {
       "config": {
        "plotlyServerURL": "https://plot.ly"
       },
       "data": [
        {
         "mode": "lines+markers",
         "name": "86775971",
         "type": "scatter",
         "x": [
          "motif_1",
          "motif_2",
          "motif_3",
          "motif_4",
          "motif_5",
          "motif_6",
          "motif_7",
          "motif_8",
          "motif_9",
          "motif_10",
          "motif_11",
          "motif_12",
          "motif_13"
         ],
         "y": [
          -0.01127272102,
          0.002505407334,
          -0.03255079145,
          0.05855116005,
          0.04374423934,
          0.2103715769,
          -0.003768012758,
          -0.01841829973,
          0.09237081043,
          0.08282543017,
          -0.004250372455,
          0.1648520883,
          0.951981602
         ]
        },
        {
         "mode": "lines+markers",
         "name": "86775971_sample_bsf_10",
         "type": "scatter",
         "x": [
          "motif_1",
          "motif_2",
          "motif_3",
          "motif_4",
          "motif_5",
          "motif_6",
          "motif_7",
          "motif_8",
          "motif_9",
          "motif_10",
          "motif_11",
          "motif_12",
          "motif_13"
         ],
         "y": [
          -0.0501861879477388,
          -0.0113284736777699,
          -0.0570430838896154,
          0.1042078071574815,
          0.1981980706968691,
          0.3996493960500261,
          -0.0494277046748814,
          -0.0929229177682306,
          0.1459497181303343,
          0.2492591181760294,
          0.1304181996491891,
          0.7259644953654092,
          0.3817003622699256
         ]
        },
        {
         "mode": "lines+markers",
         "name": "86775971_sample_rj_10",
         "type": "scatter",
         "x": [
          "motif_1",
          "motif_2",
          "motif_3",
          "motif_4",
          "motif_5",
          "motif_6",
          "motif_7",
          "motif_8",
          "motif_9",
          "motif_10",
          "motif_11",
          "motif_12",
          "motif_13"
         ],
         "y": [
          -0.1103252423201273,
          -0.1513245303852892,
          -0.1301121971611907,
          -0.0009852919599389,
          0.0418315733800521,
          0.856078588001088,
          -0.076512588293185,
          -0.0797400455536618,
          0.1072126818374183,
          -0.0481154218912228,
          -0.0368779975885449,
          0.302783281277726,
          0.3071133947985966
         ]
        },
        {
         "mode": "lines+markers",
         "name": "86775971_sample_rpn_10",
         "type": "scatter",
         "x": [
          "motif_1",
          "motif_2",
          "motif_3",
          "motif_4",
          "motif_5",
          "motif_6",
          "motif_7",
          "motif_8",
          "motif_9",
          "motif_10",
          "motif_11",
          "motif_12",
          "motif_13"
         ],
         "y": [
          0.0173282659019229,
          0.0134140235975957,
          -0.061735830448859,
          0.1437724135769698,
          0.0775981365327836,
          0.2034469258495776,
          -0.0230587923468519,
          -0.0256497207927511,
          0.2214554260251885,
          0.0466883562266633,
          0.021400408895344,
          0.3857380417526194,
          0.8520341039614397
         ]
        },
        {
         "mode": "lines+markers",
         "name": "86775971_sample_rn_10",
         "type": "scatter",
         "x": [
          "motif_1",
          "motif_2",
          "motif_3",
          "motif_4",
          "motif_5",
          "motif_6",
          "motif_7",
          "motif_8",
          "motif_9",
          "motif_10",
          "motif_11",
          "motif_12",
          "motif_13"
         ],
         "y": [
          -0.0498571914993831,
          -0.0674489156589998,
          -0.0673443442470712,
          0.0253741785385449,
          -0.0113797185641821,
          0.599525215305627,
          -0.032151631625961,
          -0.0282963590212586,
          -0.0221974902789269,
          -0.0169562228936091,
          -0.0280855175379593,
          0.1227002614446999,
          0.780875796102198
         ]
        },
        {
         "mode": "lines+markers",
         "name": "86775971_sample_sff_10",
         "type": "scatter",
         "x": [
          "motif_1",
          "motif_2",
          "motif_3",
          "motif_4",
          "motif_5",
          "motif_6",
          "motif_7",
          "motif_8",
          "motif_9",
          "motif_10",
          "motif_11",
          "motif_12",
          "motif_13"
         ],
         "y": [
          -0.0076771872438558,
          0.0457936797705287,
          -0.0367650057700285,
          0.0797739062667673,
          0.0353599354245925,
          0.3007499423779255,
          -0.0034104231799491,
          -0.0140256334689606,
          0.1164672967182717,
          0.1449134628198976,
          -0.0076112441936273,
          0.1234816546073147,
          0.9210586640875206
         ]
        }
       ],
       "layout": {
        "images": [
         {
          "sizex": 0.5,
          "sizey": 0.5,
          "source": "data:image/png;base64,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",
          "x": "motif_1",
          "xanchor": "center",
          "xref": "x",
          "y": -0.07,
          "yanchor": "top",
          "yref": "paper"
         },
         {
          "sizex": 0.5,
          "sizey": 0.5,
          "source": "data:image/png;base64,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",
          "x": "motif_2",
          "xanchor": "center",
          "xref": "x",
          "y": -0.07,
          "yanchor": "top",
          "yref": "paper"
         },
         {
          "sizex": 0.5,
          "sizey": 0.5,
          "source": "data:image/png;base64,iVBORw0KGgoAAAANSUhEUgAAAPoAAAD6CAMAAAC/MqoPAAABrVBMVEVHcExycnJ0dHRzc3NycnKAgIBzc3N2dnaAQP9zc3OMU/+5AP9ycnJxcXGAQP9xcXGIVf9mZmaNUv9ubm6MUf+MUf+LUf+LUv+MUf9ycnJzc3Nzc3OLUf+LVP9zc3OMUP+MUf+MUf+MUf+OVf+NSf+LTf+MUv+LUv+LUv9xcXGMUf+LUP+LUf9ycnKNUf+MUf+LUv+LUf+LU/+LUv9zc3OLUf+LUP9ycnJ0dHSLUf+MUv+MUf+KU/+MUf+MUv9ycnKJTv+LUv+MUf+LUf+MUf9ycnKNUv+MUv9ycnKLUf+MUP9zcXOLUf9zc3OJUv+MUf9ycnKKUP+MUv9zc3NycnJycnKOUv+LUf9xcXGMUf+LUv90dHSLUv9ycnJycnJycnKLUf+LUf9ycnJycnKLUv+LUf9ycnKLUf+MUf+NUv9zc3NxcXFycnJ0dHSMUv90dHSMUv9iYmJzc3NycnKLUf9ycnJzc3OLUP+ZTf9ycnJycnJ6a5lycnJzc3NycnOAgICMT/9ycnJzc3OKUf9+Y7SHV+V7aZuJU/WEXNNzc3OLUf9ycnJ+YbmMUv9zc3PjKb/QAAAAjXRSTlMAvkBo6gLVDQT5KAGISAgoDwpgHuvxsP379rjawBcUWdCQ4hILHce79GPSbPmwH9xEcC6sRUpAoSw57tQl31P8NIDEtaCoV36lZU/PjZAc57Qj1+cxmBXaG8yGdfdTzt5CkX1gmHpZdZdN4z3HN5lLqASswF/ulVwKa4GRwiL0Bir6NUhL2cz7xbvlltyNsmsdAAAJIklEQVR4nO2d918TSRjG1x6JYijBKEQiARGDEUFAQsBQhINDECwoomLB3suBnndnue5t/uZLz86W7M67O/uGnfn+BPjx/TwPOzvPtDCSJBAIBAKBQCAQCAQCgUDAPb72aDieTMbD0XYfthYXiW5MtskK2iZb27E1uYFvtKlb1rD6qt/rD99Xv6T1nWfpnafNrw0bGc8yvIatjxnhV5WMZ3kVxtbIhlSbmXNZXu7FVsmC0zq9m5bVemydzjNjxXiWGLZSp3lo1bksr2NrdZaekHXroR5stU7SG7TuXJaDSWy9zrFpOI7RZ3gTW7FjmOa5mklsxU4xS+tclr9ha3aGWgtDGTVLtdiqHWGM3rksj2GrdoLAAsT6ghd6OtBDl+XT2Lrt4x+BWT/lx1ZumwGYc1kewFZum0mo9fvYym0zArU+gq3cLh1Q57K81VdsRuHW+7G124Rinq7mIbZ2m7yAW7+Drd0mnXDrE9jabTIOtz6Ord0mFfccKjOMrd0mgAlrkTZs7Tbh+Klz/K43wa03YWu3yR249Tls7TaJwa3PYGu3yTe49SFs7TaJHoQ6X93yi7IRqPUWbOW2Aa5KyvI0tnLb1ECtL2Irtw+wxW/99i5J9TDrrdi6HcC3DHEewZbtCK0Q64+xVTsDYKVmq6/QFKmxdGxMSXcNtmanOE1r3QN7jUUop65eae5ZAlS9/IkAtl4nSTZad944j63WWYYSVp0ntvpkVUPc4tm5SBxbqfME+qw47/Pmp2Bipvne7aFUI3j6u8nSdOdnbIlMePlPOp1+8vOIsfERL0zWNNR9aE7nOPdgw2D+fn0KWyQLGi68Txc59FrqndMMcJZWPHQOvMzTk2klZ7I/m595NF4I+sT4/XqPjWEK3LuVJrlR+ie/3+fzb/2Dgfoc+XgpreYnbFFucHZwr8Z4On0RWxZzdt38pOM7w25sZYzZc+OJvvFMF4+tjS0P3hsZz3AEWx1LblYwnk5/xZbHEsPGnuMmtjyG/FLRuSLYvcdX0mqzyrqXg/31l7LPnR+fnlNZv4itjyUXii6fPXgtHVY3eE8He11+wjJ4OfP1fs277vFgv7zvzYdcfu/are3nPB3sZXaU3/rbxa88HewljuwsWd+xrfiVl4O9zJWS82e7BotfejnYSxwoB9tz6S4PwV6iHGznJekeF8FeoBxsXxokaTsXwZ5HEWz7Mt82FL/Ziy2MPYpg25P59nXpxfd8sCuDLfeDUrA3ICtjjjLYcj8orcfXIStjDRFsOboK3w7iCmMPEWw5fsuP55q9/qqTwZZnz/dMjzfodeeqYOMJVbBxxB51sPFDaYkqvXsXthZ3UQTbGWwtLqMNNl7QCzY+EMEmgo0nRLCJYOMIEWwi2DiC42Dbx2+wlY+SiGDjBRFsItg4QgQb38G2H1uLy5SD7SS2FJcRwSaCjSNEsIlg4wkRbCLYOEIEmwg2jmjgN9jKf4lCBBsviGATwcYTIti4DrbD2FJcRhFsB7C1uIsINhFsPCGCTQQbR4hgE8HGESLYRLDxxHlug+1Myfk5foPtArYWlxHBJoKNI7gKNr/P5yv/LfMtEGykYBCB2Tvjy8HCH+5fiPTFaqo92D7H+iILBcHB5fE7jwOQKrWtEyHNhQ2nxr5Xb7Alx05pBIcmpmivew1MG13K9HdzdQbb0ISB4MbpAEWZ8ErQoE6W/36tvmDrr3SjTHAlbLXOmrbhEPz1597qCrbAnPbdJBhes1THt25+jfIfb6sp2JInTAUfXLfQ5YdbTOtkOD7K3pFVRiu9nSUmomZ1wua/wRyhDTdcWaHVpLEXiZi88B3WbxqMuePMjBnLgpc7KtXZPGa5kBzqcclcRXoo7nc/tmlcx2/ptrkiwV73HBrRa+k9L9JnXIjyPtWRgHGpuueXHfepJdBGp9jwprwBix1GiSajSmezJ+SfsP8gt9EIzohQSr9OLeWvMEO9fqUdhRuOnjLznIf+fvM2/RH9GHUhuVHvksm6H4oznFtsnV+luPy1yJheIfpLozMc1dY5oLjyg+2f0LwPENytl3CTgELyqmac0KW8zusaS+fhVYjiSW2hRYqAVKB67OXGnpvYsnQuHQUJDi06VEg+TrztZ8n7be6ydN5+HKZY8476AF1GDmUn30XeXXeFpXNA956nUT2HmwUWkltKJcjGnv7CeDHD0gxTjwFVIWB7z3R0xaQ8QDb222fZOq8FdXJZ1C3e4OJYCxR+iV2HCOdvWC/dDYAFR1S/Q3AheTr7/11u7Bmm4YrJEV0HvFB2IO9yY8/SBFdMjmpS8ELLmsa+89M25lyxvqaiIUVYX4MXksuX2bjILRuC1wjrj21U2m4u1Hl+tCH4MWF9ykalQXOh1WWdvO78nY1K28yFVpd18or7VhuVTpoLrS7r5FO30+Bvqi+mrHbr5PZJv41KEsZjt9PD9xPWh+CFFtRDOXesU61CkwwR1j/DC2Wnbqoxzdv921nzlWKzRE2SsH4VXuhF9v+7P5J9AVccIAr5oSsVxbUK1+cv0JUKWU6o1irgs4F4oYLLs9Y4WLB644Ryz6nMSKmEy43+X6hi9RbxIrSQYs1D3dM/YGodvK50VV0JutRFbLeq1iVfsrTeCxTcoqm0ASt0naxCNnq2G0/XYYq1x0F8sLn/rKoM2eiZbjzBFpFP+bSVQGkR0dZR9vRMrftBj11vc9gHqaRe085S3oK5xNK5JH0DCL6u89AlKUW/6/ZKV1Kp0XexNC5BBiMHU/qVqDdtg/MGmvKNnumWW5Z56jmMzqZ4jk3aJt9vUEiSru27eOMXNn6V0PZ0+s09SzxBVWiFvTcz5qgEJyqcnOuhOUjUZ/OTBk5Addyt8kk/ioQ7UeEAnntsUmwWvqtcasPqiZpO0+O27hDttCh4dcqs1NCCeRXZuKtE4JElwQsWznZaORUerKIz4dZOhbdY+yDEulmdYzWMzVBSY5rK61ZLLVZ8fxpnqqBrJ/HPVFxgm9CemjJmwNA83QeIXMP4I1py5xplrdQjvfFNS73e0dCqoL1er5NKPEpBivXPEaGZ6ItV/BwBPh2xJqLHO3HUeKhtii8ar8mRDFft4yZpDyfziuNRwwG7QCAQCAQCgUAgEAgEAkHV8T9/qZUHvxRx7wAAAABJRU5ErkJggg==",
          "x": "motif_3",
          "xanchor": "center",
          "xref": "x",
          "y": -0.07,
          "yanchor": "top",
          "yref": "paper"
         },
         {
          "sizex": 0.5,
          "sizey": 0.5,
          "source": "data:image/png;base64,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",
          "x": "motif_4",
          "xanchor": "center",
          "xref": "x",
          "y": -0.07,
          "yanchor": "top",
          "yref": "paper"
         },
         {
          "sizex": 0.5,
          "sizey": 0.5,
          "source": "data:image/png;base64,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",
          "x": "motif_5",
          "xanchor": "center",
          "xref": "x",
          "y": -0.07,
          "yanchor": "top",
          "yref": "paper"
         },
         {
          "sizex": 0.5,
          "sizey": 0.5,
          "source": "data:image/png;base64,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",
          "x": "motif_6",
          "xanchor": "center",
          "xref": "x",
          "y": -0.07,
          "yanchor": "top",
          "yref": "paper"
         },
         {
          "sizex": 0.5,
          "sizey": 0.5,
          "source": "data:image/png;base64,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",
          "x": "motif_7",
          "xanchor": "center",
          "xref": "x",
          "y": -0.07,
          "yanchor": "top",
          "yref": "paper"
         },
         {
          "sizex": 0.5,
          "sizey": 0.5,
          "source": "data:image/png;base64,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",
          "x": "motif_8",
          "xanchor": "center",
          "xref": "x",
          "y": -0.07,
          "yanchor": "top",
          "yref": "paper"
         },
         {
          "sizex": 0.5,
          "sizey": 0.5,
          "source": "data:image/png;base64,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",
          "x": "motif_9",
          "xanchor": "center",
          "xref": "x",
          "y": -0.07,
          "yanchor": "top",
          "yref": "paper"
         },
         {
          "sizex": 0.5,
          "sizey": 0.5,
          "source": "data:image/png;base64,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",
          "x": "motif_10",
          "xanchor": "center",
          "xref": "x",
          "y": -0.07,
          "yanchor": "top",
          "yref": "paper"
         },
         {
          "sizex": 0.5,
          "sizey": 0.5,
          "source": "data:image/png;base64,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",
          "x": "motif_11",
          "xanchor": "center",
          "xref": "x",
          "y": -0.07,
          "yanchor": "top",
          "yref": "paper"
         },
         {
          "sizex": 0.5,
          "sizey": 0.5,
          "source": "data:image/png;base64,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",
          "x": "motif_12",
          "xanchor": "center",
          "xref": "x",
          "y": -0.07,
          "yanchor": "top",
          "yref": "paper"
         },
         {
          "sizex": 0.5,
          "sizey": 0.5,
          "source": "data:image/png;base64,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",
          "x": "motif_13",
          "xanchor": "center",
          "xref": "x",
          "y": -0.07,
          "yanchor": "top",
          "yref": "paper"
         }
        ],
        "template": {
         "data": {
          "bar": [
           {
            "error_x": {
             "color": "#2a3f5f"
            },
            "error_y": {
             "color": "#2a3f5f"
            },
            "marker": {
             "line": {
              "color": "#E5ECF6",
              "width": 0.5
             },
             "pattern": {
              "fillmode": "overlay",
              "size": 10,
              "solidity": 0.2
             }
            },
            "type": "bar"
           }
          ],
          "barpolar": [
           {
            "marker": {
             "line": {
              "color": "#E5ECF6",
              "width": 0.5
             },
             "pattern": {
              "fillmode": "overlay",
              "size": 10,
              "solidity": 0.2
             }
            },
            "type": "barpolar"
           }
          ],
          "carpet": [
           {
            "aaxis": {
             "endlinecolor": "#2a3f5f",
             "gridcolor": "white",
             "linecolor": "white",
             "minorgridcolor": "white",
             "startlinecolor": "#2a3f5f"
            },
            "baxis": {
             "endlinecolor": "#2a3f5f",
             "gridcolor": "white",
             "linecolor": "white",
             "minorgridcolor": "white",
             "startlinecolor": "#2a3f5f"
            },
            "type": "carpet"
           }
          ],
          "choropleth": [
           {
            "colorbar": {
             "outlinewidth": 0,
             "ticks": ""
            },
            "type": "choropleth"
           }
          ],
          "contour": [
           {
            "colorbar": {
             "outlinewidth": 0,
             "ticks": ""
            },
            "colorscale": [
             [
              0,
              "#0d0887"
             ],
             [
              0.1111111111111111,
              "#46039f"
             ],
             [
              0.2222222222222222,
              "#7201a8"
             ],
             [
              0.3333333333333333,
              "#9c179e"
             ],
             [
              0.4444444444444444,
              "#bd3786"
             ],
             [
              0.5555555555555556,
              "#d8576b"
             ],
             [
              0.6666666666666666,
              "#ed7953"
             ],
             [
              0.7777777777777778,
              "#fb9f3a"
             ],
             [
              0.8888888888888888,
              "#fdca26"
             ],
             [
              1,
              "#f0f921"
             ]
            ],
            "type": "contour"
           }
          ],
          "contourcarpet": [
           {
            "colorbar": {
             "outlinewidth": 0,
             "ticks": ""
            },
            "type": "contourcarpet"
           }
          ],
          "heatmap": [
           {
            "colorbar": {
             "outlinewidth": 0,
             "ticks": ""
            },
            "colorscale": [
             [
              0,
              "#0d0887"
             ],
             [
              0.1111111111111111,
              "#46039f"
             ],
             [
              0.2222222222222222,
              "#7201a8"
             ],
             [
              0.3333333333333333,
              "#9c179e"
             ],
             [
              0.4444444444444444,
              "#bd3786"
             ],
             [
              0.5555555555555556,
              "#d8576b"
             ],
             [
              0.6666666666666666,
              "#ed7953"
             ],
             [
              0.7777777777777778,
              "#fb9f3a"
             ],
             [
              0.8888888888888888,
              "#fdca26"
             ],
             [
              1,
              "#f0f921"
             ]
            ],
            "type": "heatmap"
           }
          ],
          "heatmapgl": [
           {
            "colorbar": {
             "outlinewidth": 0,
             "ticks": ""
            },
            "colorscale": [
             [
              0,
              "#0d0887"
             ],
             [
              0.1111111111111111,
              "#46039f"
             ],
             [
              0.2222222222222222,
              "#7201a8"
             ],
             [
              0.3333333333333333,
              "#9c179e"
             ],
             [
              0.4444444444444444,
              "#bd3786"
             ],
             [
              0.5555555555555556,
              "#d8576b"
             ],
             [
              0.6666666666666666,
              "#ed7953"
             ],
             [
              0.7777777777777778,
              "#fb9f3a"
             ],
             [
              0.8888888888888888,
              "#fdca26"
             ],
             [
              1,
              "#f0f921"
             ]
            ],
            "type": "heatmapgl"
           }
          ],
          "histogram": [
           {
            "marker": {
             "pattern": {
              "fillmode": "overlay",
              "size": 10,
              "solidity": 0.2
             }
            },
            "type": "histogram"
           }
          ],
          "histogram2d": [
           {
            "colorbar": {
             "outlinewidth": 0,
             "ticks": ""
            },
            "colorscale": [
             [
              0,
              "#0d0887"
             ],
             [
              0.1111111111111111,
              "#46039f"
             ],
             [
              0.2222222222222222,
              "#7201a8"
             ],
             [
              0.3333333333333333,
              "#9c179e"
             ],
             [
              0.4444444444444444,
              "#bd3786"
             ],
             [
              0.5555555555555556,
              "#d8576b"
             ],
             [
              0.6666666666666666,
              "#ed7953"
             ],
             [
              0.7777777777777778,
              "#fb9f3a"
             ],
             [
              0.8888888888888888,
              "#fdca26"
             ],
             [
              1,
              "#f0f921"
             ]
            ],
            "type": "histogram2d"
           }
          ],
          "histogram2dcontour": [
           {
            "colorbar": {
             "outlinewidth": 0,
             "ticks": ""
            },
            "colorscale": [
             [
              0,
              "#0d0887"
             ],
             [
              0.1111111111111111,
              "#46039f"
             ],
             [
              0.2222222222222222,
              "#7201a8"
             ],
             [
              0.3333333333333333,
              "#9c179e"
             ],
             [
              0.4444444444444444,
              "#bd3786"
             ],
             [
              0.5555555555555556,
              "#d8576b"
             ],
             [
              0.6666666666666666,
              "#ed7953"
             ],
             [
              0.7777777777777778,
              "#fb9f3a"
             ],
             [
              0.8888888888888888,
              "#fdca26"
             ],
             [
              1,
              "#f0f921"
             ]
            ],
            "type": "histogram2dcontour"
           }
          ],
          "mesh3d": [
           {
            "colorbar": {
             "outlinewidth": 0,
             "ticks": ""
            },
            "type": "mesh3d"
           }
          ],
          "parcoords": [
           {
            "line": {
             "colorbar": {
              "outlinewidth": 0,
              "ticks": ""
             }
            },
            "type": "parcoords"
           }
          ],
          "pie": [
           {
            "automargin": true,
            "type": "pie"
           }
          ],
          "scatter": [
           {
            "fillpattern": {
             "fillmode": "overlay",
             "size": 10,
             "solidity": 0.2
            },
            "type": "scatter"
           }
          ],
          "scatter3d": [
           {
            "line": {
             "colorbar": {
              "outlinewidth": 0,
              "ticks": ""
             }
            },
            "marker": {
             "colorbar": {
              "outlinewidth": 0,
              "ticks": ""
             }
            },
            "type": "scatter3d"
           }
          ],
          "scattercarpet": [
           {
            "marker": {
             "colorbar": {
              "outlinewidth": 0,
              "ticks": ""
             }
            },
            "type": "scattercarpet"
           }
          ],
          "scattergeo": [
           {
            "marker": {
             "colorbar": {
              "outlinewidth": 0,
              "ticks": ""
             }
            },
            "type": "scattergeo"
           }
          ],
          "scattergl": [
           {
            "marker": {
             "colorbar": {
              "outlinewidth": 0,
              "ticks": ""
             }
            },
            "type": "scattergl"
           }
          ],
          "scattermapbox": [
           {
            "marker": {
             "colorbar": {
              "outlinewidth": 0,
              "ticks": ""
             }
            },
            "type": "scattermapbox"
           }
          ],
          "scatterpolar": [
           {
            "marker": {
             "colorbar": {
              "outlinewidth": 0,
              "ticks": ""
             }
            },
            "type": "scatterpolar"
           }
          ],
          "scatterpolargl": [
           {
            "marker": {
             "colorbar": {
              "outlinewidth": 0,
              "ticks": ""
             }
            },
            "type": "scatterpolargl"
           }
          ],
          "scatterternary": [
           {
            "marker": {
             "colorbar": {
              "outlinewidth": 0,
              "ticks": ""
             }
            },
            "type": "scatterternary"
           }
          ],
          "surface": [
           {
            "colorbar": {
             "outlinewidth": 0,
             "ticks": ""
            },
            "colorscale": [
             [
              0,
              "#0d0887"
             ],
             [
              0.1111111111111111,
              "#46039f"
             ],
             [
              0.2222222222222222,
              "#7201a8"
             ],
             [
              0.3333333333333333,
              "#9c179e"
             ],
             [
              0.4444444444444444,
              "#bd3786"
             ],
             [
              0.5555555555555556,
              "#d8576b"
             ],
             [
              0.6666666666666666,
              "#ed7953"
             ],
             [
              0.7777777777777778,
              "#fb9f3a"
             ],
             [
              0.8888888888888888,
              "#fdca26"
             ],
             [
              1,
              "#f0f921"
             ]
            ],
            "type": "surface"
           }
          ],
          "table": [
           {
            "cells": {
             "fill": {
              "color": "#EBF0F8"
             },
             "line": {
              "color": "white"
             }
            },
            "header": {
             "fill": {
              "color": "#C8D4E3"
             },
             "line": {
              "color": "white"
             }
            },
            "type": "table"
           }
          ]
         },
         "layout": {
          "annotationdefaults": {
           "arrowcolor": "#2a3f5f",
           "arrowhead": 0,
           "arrowwidth": 1
          },
          "autotypenumbers": "strict",
          "coloraxis": {
           "colorbar": {
            "outlinewidth": 0,
            "ticks": ""
           }
          },
          "colorscale": {
           "diverging": [
            [
             0,
             "#8e0152"
            ],
            [
             0.1,
             "#c51b7d"
            ],
            [
             0.2,
             "#de77ae"
            ],
            [
             0.3,
             "#f1b6da"
            ],
            [
             0.4,
             "#fde0ef"
            ],
            [
             0.5,
             "#f7f7f7"
            ],
            [
             0.6,
             "#e6f5d0"
            ],
            [
             0.7,
             "#b8e186"
            ],
            [
             0.8,
             "#7fbc41"
            ],
            [
             0.9,
             "#4d9221"
            ],
            [
             1,
             "#276419"
            ]
           ],
           "sequential": [
            [
             0,
             "#0d0887"
            ],
            [
             0.1111111111111111,
             "#46039f"
            ],
            [
             0.2222222222222222,
             "#7201a8"
            ],
            [
             0.3333333333333333,
             "#9c179e"
            ],
            [
             0.4444444444444444,
             "#bd3786"
            ],
            [
             0.5555555555555556,
             "#d8576b"
            ],
            [
             0.6666666666666666,
             "#ed7953"
            ],
            [
             0.7777777777777778,
             "#fb9f3a"
            ],
            [
             0.8888888888888888,
             "#fdca26"
            ],
            [
             1,
             "#f0f921"
            ]
           ],
           "sequentialminus": [
            [
             0,
             "#0d0887"
            ],
            [
             0.1111111111111111,
             "#46039f"
            ],
            [
             0.2222222222222222,
             "#7201a8"
            ],
            [
             0.3333333333333333,
             "#9c179e"
            ],
            [
             0.4444444444444444,
             "#bd3786"
            ],
            [
             0.5555555555555556,
             "#d8576b"
            ],
            [
             0.6666666666666666,
             "#ed7953"
            ],
            [
             0.7777777777777778,
             "#fb9f3a"
            ],
            [
             0.8888888888888888,
             "#fdca26"
            ],
            [
             1,
             "#f0f921"
            ]
           ]
          },
          "colorway": [
           "#636efa",
           "#EF553B",
           "#00cc96",
           "#ab63fa",
           "#FFA15A",
           "#19d3f3",
           "#FF6692",
           "#B6E880",
           "#FF97FF",
           "#FECB52"
          ],
          "font": {
           "color": "#2a3f5f"
          },
          "geo": {
           "bgcolor": "white",
           "lakecolor": "white",
           "landcolor": "#E5ECF6",
           "showlakes": true,
           "showland": true,
           "subunitcolor": "white"
          },
          "hoverlabel": {
           "align": "left"
          },
          "hovermode": "closest",
          "mapbox": {
           "style": "light"
          },
          "paper_bgcolor": "white",
          "plot_bgcolor": "#E5ECF6",
          "polar": {
           "angularaxis": {
            "gridcolor": "white",
            "linecolor": "white",
            "ticks": ""
           },
           "bgcolor": "#E5ECF6",
           "radialaxis": {
            "gridcolor": "white",
            "linecolor": "white",
            "ticks": ""
           }
          },
          "scene": {
           "xaxis": {
            "backgroundcolor": "#E5ECF6",
            "gridcolor": "white",
            "gridwidth": 2,
            "linecolor": "white",
            "showbackground": true,
            "ticks": "",
            "zerolinecolor": "white"
           },
           "yaxis": {
            "backgroundcolor": "#E5ECF6",
            "gridcolor": "white",
            "gridwidth": 2,
            "linecolor": "white",
            "showbackground": true,
            "ticks": "",
            "zerolinecolor": "white"
           },
           "zaxis": {
            "backgroundcolor": "#E5ECF6",
            "gridcolor": "white",
            "gridwidth": 2,
            "linecolor": "white",
            "showbackground": true,
            "ticks": "",
            "zerolinecolor": "white"
           }
          },
          "shapedefaults": {
           "line": {
            "color": "#2a3f5f"
           }
          },
          "ternary": {
           "aaxis": {
            "gridcolor": "white",
            "linecolor": "white",
            "ticks": ""
           },
           "baxis": {
            "gridcolor": "white",
            "linecolor": "white",
            "ticks": ""
           },
           "bgcolor": "#E5ECF6",
           "caxis": {
            "gridcolor": "white",
            "linecolor": "white",
            "ticks": ""
           }
          },
          "title": {
           "x": 0.05
          },
          "xaxis": {
           "automargin": true,
           "gridcolor": "white",
           "linecolor": "white",
           "ticks": "",
           "title": {
            "standoff": 15
           },
           "zerolinecolor": "white",
           "zerolinewidth": 2
          },
          "yaxis": {
           "automargin": true,
           "gridcolor": "white",
           "linecolor": "white",
           "ticks": "",
           "title": {
            "standoff": 15
           },
           "zerolinecolor": "white",
           "zerolinewidth": 2
          }
         }
        },
        "title": {
         "text": "Z-scores for Twitter Generated Samples of 86775971"
        },
        "xaxis": {
         "showticklabels": true,
         "tickvals": [
          "motif_1",
          "motif_2",
          "motif_3",
          "motif_4",
          "motif_5",
          "motif_6",
          "motif_7",
          "motif_8",
          "motif_9",
          "motif_10",
          "motif_11",
          "motif_12",
          "motif_13"
         ],
         "title": {}
        },
        "yaxis": {
         "title": {
          "text": "significance_profile"
         }
        }
       }
      }
     },
     "metadata": {},
     "output_type": "display_data"
    },
    {
     "name": "stdout",
     "output_type": "stream",
     "text": [
      "                  graph_name    motif  nodes   edges\n",
      "13                  86775971  motif_1  154.0  5811.0\n",
      "299   86775971_sample_bsf_10  motif_1   15.0    55.0\n",
      "403    86775971_sample_rj_10  motif_1   15.0    55.0\n",
      "572   86775971_sample_rpn_10  motif_1   14.0    67.0\n",
      "1001   86775971_sample_rn_10  motif_1   14.0    51.0\n",
      "1144  86775971_sample_sff_10  motif_1   15.0    99.0\n"
     ]
    }
   ],
   "source": [
    "sample_percents = [\"40\", \"30\", \"20\", \"10\"]\n",
    "\n",
    "selected_graph = \"86775971\"\n",
    "\n",
    "for sp in sample_percents:\n",
    "    # Query data\n",
    "    query_df = motif_twitter.query(\n",
    "        \"graph_name == @selected_graph or (graph_name.str.startswith(@selected_graph) and graph_name.str.endswith(@sp))\",\n",
    "    )\n",
    "\n",
    "    gru.plot_line_chart_with_images(\n",
    "        query_df,\n",
    "        f\"Z-scores for Twitter Generated Samples of {selected_graph}\",\n",
    "        \"motif\",\n",
    "        \"significance_profile\",\n",
    "        IMAGES_PATH\n",
    "    )\n",
    "\n",
    "    print(\n",
    "        query_df[[\"graph_name\", \"motif\", \"nodes\", \"edges\"]].query(\"motif == 'motif_1'\")\n",
    "    )"
   ]
  },
  {
   "cell_type": "code",
   "execution_count": 9,
   "metadata": {},
   "outputs": [
    {
     "ename": "TypeError",
     "evalue": "plot_line_chart_with_images() missing 1 required positional argument: 'image_directory'",
     "output_type": "error",
     "traceback": [
      "\u001b[0;31m---------------------------------------------------------------------------\u001b[0m",
      "\u001b[0;31mTypeError\u001b[0m                                 Traceback (most recent call last)",
      "Cell \u001b[0;32mIn[9], line 11\u001b[0m\n\u001b[1;32m      5\u001b[0m \u001b[38;5;28;01mfor\u001b[39;00m sp \u001b[38;5;129;01min\u001b[39;00m sample_percents:\n\u001b[1;32m      6\u001b[0m     \u001b[38;5;66;03m# Query data\u001b[39;00m\n\u001b[1;32m      7\u001b[0m     query_df \u001b[38;5;241m=\u001b[39m motif_twitter\u001b[38;5;241m.\u001b[39mquery(\n\u001b[1;32m      8\u001b[0m         \u001b[38;5;124m\"\u001b[39m\u001b[38;5;124mgraph_name == @selected_graph or (graph_name.str.startswith(@selected_graph) and graph_name.str.endswith(@sp))\u001b[39m\u001b[38;5;124m\"\u001b[39m,\n\u001b[1;32m      9\u001b[0m     )\n\u001b[0;32m---> 11\u001b[0m     \u001b[43mgru\u001b[49m\u001b[38;5;241;43m.\u001b[39;49m\u001b[43mplot_line_chart_with_images\u001b[49m\u001b[43m(\u001b[49m\n\u001b[1;32m     12\u001b[0m \u001b[43m        \u001b[49m\u001b[43mquery_df\u001b[49m\u001b[43m,\u001b[49m\n\u001b[1;32m     13\u001b[0m \u001b[43m        \u001b[49m\u001b[38;5;124;43mf\u001b[39;49m\u001b[38;5;124;43m\"\u001b[39;49m\u001b[38;5;124;43mZ-scores for Twitter Generated Samples of \u001b[39;49m\u001b[38;5;132;43;01m{\u001b[39;49;00m\u001b[43mselected_graph\u001b[49m\u001b[38;5;132;43;01m}\u001b[39;49;00m\u001b[38;5;124;43m\"\u001b[39;49m\u001b[43m,\u001b[49m\n\u001b[1;32m     14\u001b[0m \u001b[43m        \u001b[49m\u001b[38;5;124;43m\"\u001b[39;49m\u001b[38;5;124;43mmotif\u001b[39;49m\u001b[38;5;124;43m\"\u001b[39;49m\u001b[43m,\u001b[49m\n\u001b[1;32m     15\u001b[0m \u001b[43m        \u001b[49m\u001b[38;5;124;43m\"\u001b[39;49m\u001b[38;5;124;43msignificance_profile\u001b[39;49m\u001b[38;5;124;43m\"\u001b[39;49m\u001b[43m,\u001b[49m\n\u001b[1;32m     16\u001b[0m \u001b[43m    \u001b[49m\u001b[43m)\u001b[49m\n\u001b[1;32m     18\u001b[0m     \u001b[38;5;28mprint\u001b[39m(\n\u001b[1;32m     19\u001b[0m         query_df[[\u001b[38;5;124m\"\u001b[39m\u001b[38;5;124mgraph_name\u001b[39m\u001b[38;5;124m\"\u001b[39m, \u001b[38;5;124m\"\u001b[39m\u001b[38;5;124mmotif\u001b[39m\u001b[38;5;124m\"\u001b[39m, \u001b[38;5;124m\"\u001b[39m\u001b[38;5;124mnodes\u001b[39m\u001b[38;5;124m\"\u001b[39m, \u001b[38;5;124m\"\u001b[39m\u001b[38;5;124medges\u001b[39m\u001b[38;5;124m\"\u001b[39m]]\u001b[38;5;241m.\u001b[39mquery(\u001b[38;5;124m\"\u001b[39m\u001b[38;5;124mmotif == \u001b[39m\u001b[38;5;124m'\u001b[39m\u001b[38;5;124mmotif_1\u001b[39m\u001b[38;5;124m'\u001b[39m\u001b[38;5;124m\"\u001b[39m)\n\u001b[1;32m     20\u001b[0m     )\n",
      "\u001b[0;31mTypeError\u001b[0m: plot_line_chart_with_images() missing 1 required positional argument: 'image_directory'"
     ]
    }
   ],
   "source": [
    "sample_percents = [\"40\", \"30\", \"20\", \"10\"]\n",
    "\n",
    "selected_graph = \"14203895\"\n",
    "\n",
    "for sp in sample_percents:\n",
    "    # Query data\n",
    "    query_df = motif_twitter.query(\n",
    "        \"graph_name == @selected_graph or (graph_name.str.startswith(@selected_graph) and graph_name.str.endswith(@sp))\",\n",
    "    )\n",
    "\n",
    "    gru.plot_line_chart_with_images(\n",
    "        query_df,\n",
    "        f\"Z-scores for Twitter Generated Samples of {selected_graph}\",\n",
    "        \"motif\",\n",
    "        \"significance_profile\",\n",
    "    )\n",
    "\n",
    "    print(\n",
    "        query_df[[\"graph_name\", \"motif\", \"nodes\", \"edges\"]].query(\"motif == 'motif_1'\")\n",
    "    )"
   ]
  },
  {
   "cell_type": "code",
   "execution_count": null,
   "metadata": {},
   "outputs": [],
   "source": [
    "twitter_combined = gru.read_directed_graph_from_edge_list(\n",
    "    \"../../data/twitter/twitter_combined.edges\"\n",
    ")\n",
    "gru.plot_degree_distribution(twitter_combined)\n",
    "gru.plot_degree_distribution_scatter(twitter_combined)"
   ]
  },
  {
   "cell_type": "code",
   "execution_count": null,
   "metadata": {},
   "outputs": [],
   "source": [
    "twitter_ego = gru.read_directed_graph_from_edge_list(\n",
    "    \"../../data/twitter/14203895.edges\"\n",
    ")\n",
    "gru.plot_degree_distribution(twitter_ego)\n",
    "gru.plot_degree_distribution_scatter(twitter_ego)"
   ]
  },
  {
   "cell_type": "code",
   "execution_count": null,
   "metadata": {},
   "outputs": [],
   "source": [
    "twitter_ssf_10 = gru.read_directed_graph_from_edge_list(\n",
    "    \"../../data/twitter_samples/14203895_sample_sff_10.edges\"\n",
    ")\n",
    "gru.plot_degree_distribution(twitter_ssf_10)\n",
    "gru.plot_degree_distribution_scatter(twitter_ssf_10)"
   ]
  }
 ],
 "metadata": {
  "kernelspec": {
   "display_name": "venv",
   "language": "python",
   "name": "python3"
  },
  "language_info": {
   "codemirror_mode": {
    "name": "ipython",
    "version": 3
   },
   "file_extension": ".py",
   "mimetype": "text/x-python",
   "name": "python",
   "nbconvert_exporter": "python",
   "pygments_lexer": "ipython3",
   "version": "3.12.4"
  }
 },
 "nbformat": 4,
 "nbformat_minor": 2
}
